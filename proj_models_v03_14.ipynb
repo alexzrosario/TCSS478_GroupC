{
 "cells": [
  {
   "cell_type": "markdown",
   "id": "3c00396d-803b-4a54-acd5-673bf015edcd",
   "metadata": {
    "tags": []
   },
   "source": [
    "### Group C\n",
    "### Alex, Andy, Dylan, Jeff, Logan\n"
   ]
  },
  {
   "cell_type": "markdown",
   "id": "73412a23-8798-40cd-94ee-e6e8a0a156fe",
   "metadata": {},
   "source": [
    "#### This notebook contains models trained on dataset 1: \n",
    "#### Lasso, KNN, Random Forest, SVM\n",
    "#### Two ensemble methods, Ensemble A is tested on dataset 2 in another notebook.\n",
    "\n",
    "#### We used k fold cross validation and feature selected genes in each fold based on correlation and ttest. Our models classify AML vs non-AML. The class label AML == 1, non-AML == 0, is decided from the 'Disease' column of the info matrix."
   ]
  },
  {
   "cell_type": "code",
   "execution_count": 1,
   "id": "55c620b8-7ffb-4702-81ca-e41171401c56",
   "metadata": {
    "tags": []
   },
   "outputs": [
    {
     "name": "stderr",
     "output_type": "stream",
     "text": [
      "Bioconductor version '3.14' is out-of-date; the current release version '3.16'\n",
      "  is available with R version '4.2'; see https://bioconductor.org/install\n",
      "\n",
      "'getOption(\"repos\")' replaces Bioconductor standard repositories, see\n",
      "'help(\"repositories\", package = \"BiocManager\")' for details.\n",
      "Replacement repositories:\n",
      "    CRAN: https://cran.r-project.org\n",
      "\n",
      "Warning message:\n",
      "“unable to access index for repository https://bioconductor.org/packages/3.14/bioc/src/contrib:\n",
      "  cannot open URL 'https://bioconductor.org/packages/3.14/bioc/src/contrib/PACKAGES'”\n",
      "Warning message:\n",
      "“unable to access index for repository https://bioconductor.org/packages/3.14/data/annotation/src/contrib:\n",
      "  cannot open URL 'https://bioconductor.org/packages/3.14/data/annotation/src/contrib/PACKAGES'”\n"
     ]
    }
   ],
   "source": [
    "# if (!require(\"BiocManager\", quietly = TRUE))\n",
    "#     install.packages(\"BiocManager\")\n",
    "# BiocManager::install(version = \"3.14\",c(\"GEOquery\",\"e1071\", \"class\", \"glmnet\",\"randomForest\"))"
   ]
  },
  {
   "cell_type": "code",
   "execution_count": 1,
   "id": "5bcfdc70-125f-4ce4-b657-28c1be6efd2f",
   "metadata": {},
   "outputs": [
    {
     "name": "stderr",
     "output_type": "stream",
     "text": [
      "Updating HTML index of packages in '.Library'\n",
      "\n",
      "Making 'packages.html' ...\n",
      " done\n",
      "\n"
     ]
    }
   ],
   "source": [
    "install.packages(c(\"e1071\", \"class\", \"glmnet\",\"randomForest\"))"
   ]
  },
  {
   "cell_type": "code",
   "execution_count": 2,
   "id": "260744bc-ba3f-47bd-a8a1-824c23e836ea",
   "metadata": {},
   "outputs": [],
   "source": [
    "load (\"AML_datasets.RData\")\n",
    "rm (data.2, data.3, info.2, info.3)"
   ]
  },
  {
   "cell_type": "code",
   "execution_count": 4,
   "id": "8bbd9da2-8136-48fb-810b-cf32a005f589",
   "metadata": {},
   "outputs": [
    {
     "name": "stderr",
     "output_type": "stream",
     "text": [
      "randomForest 4.7-1.1\n",
      "\n",
      "Type rfNews() to see new features/changes/bug fixes.\n",
      "\n",
      "Loading required package: Matrix\n",
      "\n",
      "Loaded glmnet 4.1-6\n",
      "\n"
     ]
    }
   ],
   "source": [
    "# library(GEOquery)\n",
    "library(e1071) #svm\n",
    "library(randomForest)\n",
    "library(glmnet) #lasso\n",
    "library(class) #knn"
   ]
  },
  {
   "cell_type": "code",
   "execution_count": 5,
   "id": "89f06418-956e-42ad-b746-6b3f1ba53f19",
   "metadata": {},
   "outputs": [
    {
     "data": {
      "text/html": [
       "<style>\n",
       ".list-inline {list-style: none; margin:0; padding: 0}\n",
       ".list-inline>li {display: inline-block}\n",
       ".list-inline>li:not(:last-child)::after {content: \"\\00b7\"; padding: 0 .5ex}\n",
       "</style>\n",
       "<ol class=list-inline><li>12708</li><li>2500</li></ol>\n"
      ],
      "text/latex": [
       "\\begin{enumerate*}\n",
       "\\item 12708\n",
       "\\item 2500\n",
       "\\end{enumerate*}\n"
      ],
      "text/markdown": [
       "1. 12708\n",
       "2. 2500\n",
       "\n",
       "\n"
      ],
      "text/plain": [
       "[1] 12708  2500"
      ]
     },
     "metadata": {},
     "output_type": "display_data"
    },
    {
     "data": {
      "text/html": [
       "<table class=\"dataframe\">\n",
       "<caption>A matrix: 3 × 2 of type dbl</caption>\n",
       "<thead>\n",
       "\t<tr><th></th><th scope=col>AHW_ALL_BA_025919_13_A_PZ.CEL</th><th scope=col>AHW_ALL_BA_032751_71_A_PZ.CEL</th></tr>\n",
       "</thead>\n",
       "<tbody>\n",
       "\t<tr><th scope=row>PAX8</th><td>9.221573</td><td>8.524435</td></tr>\n",
       "\t<tr><th scope=row>CCL5</th><td>7.990144</td><td>6.648112</td></tr>\n",
       "\t<tr><th scope=row>MMP14</th><td>8.391732</td><td>8.183514</td></tr>\n",
       "</tbody>\n",
       "</table>\n"
      ],
      "text/latex": [
       "A matrix: 3 × 2 of type dbl\n",
       "\\begin{tabular}{r|ll}\n",
       "  & AHW\\_ALL\\_BA\\_025919\\_13\\_A\\_PZ.CEL & AHW\\_ALL\\_BA\\_032751\\_71\\_A\\_PZ.CEL\\\\\n",
       "\\hline\n",
       "\tPAX8 & 9.221573 & 8.524435\\\\\n",
       "\tCCL5 & 7.990144 & 6.648112\\\\\n",
       "\tMMP14 & 8.391732 & 8.183514\\\\\n",
       "\\end{tabular}\n"
      ],
      "text/markdown": [
       "\n",
       "A matrix: 3 × 2 of type dbl\n",
       "\n",
       "| <!--/--> | AHW_ALL_BA_025919_13_A_PZ.CEL | AHW_ALL_BA_032751_71_A_PZ.CEL |\n",
       "|---|---|---|\n",
       "| PAX8 | 9.221573 | 8.524435 |\n",
       "| CCL5 | 7.990144 | 6.648112 |\n",
       "| MMP14 | 8.391732 | 8.183514 |\n",
       "\n"
      ],
      "text/plain": [
       "      AHW_ALL_BA_025919_13_A_PZ.CEL AHW_ALL_BA_032751_71_A_PZ.CEL\n",
       "PAX8  9.221573                      8.524435                     \n",
       "CCL5  7.990144                      6.648112                     \n",
       "MMP14 8.391732                      8.183514                     "
      ]
     },
     "metadata": {},
     "output_type": "display_data"
    }
   ],
   "source": [
    "dim(data.1)\n",
    "data.1[1:3,1:2]"
   ]
  },
  {
   "cell_type": "code",
   "execution_count": 6,
   "id": "18b5b04f-0a6a-4a77-8696-696d440cf91e",
   "metadata": {},
   "outputs": [],
   "source": [
    "# k fold indexes\n",
    "set.seed(234)\n",
    "data.inds <- 1:2500\n",
    "shuffled.inds <- sample(data.inds)\n",
    "fold1.ind <- shuffled.inds[1:500]\n",
    "fold2.ind <- shuffled.inds[501:1000]\n",
    "fold3.ind <- shuffled.inds[1001:1500]\n",
    "fold4.ind <- shuffled.inds[1501:2000]\n",
    "fold5.ind <- shuffled.inds[2001:2500]"
   ]
  },
  {
   "cell_type": "markdown",
   "id": "049cc720-b1f3-41b8-be33-b78288228fd0",
   "metadata": {},
   "source": [
    "### Please run a fold as needed for your model"
   ]
  },
  {
   "cell_type": "code",
   "execution_count": 7,
   "id": "a2760f1a-c140-420f-8825-1d0903efe95e",
   "metadata": {
    "tags": []
   },
   "outputs": [],
   "source": [
    "#Fold 1\n",
    "my.data1 <- cbind(data.1[,-fold1.ind],data.1[,fold1.ind])\n",
    "my.info1 <- rbind(info.1[-fold1.ind,],info.1[fold1.ind,])\n",
    "aml.prognosis1 <- rep(0, length(my.info1$Disease))\n",
    "aml.prognosis1[which (my.info1$Disease == \"AML\")] <- 1\n",
    "    #Fold 1 Correlation Feature Selection\n",
    "cor.vec.f1 <- apply (my.data1[,1:2000], 1, function (x){cor(x, aml.prognosis1[1:2000])})\n",
    "#hist (cor.vec.f1)\n",
    "cor.ind.f1 <- c(which(cor.vec.f1 > 0.4), which(cor.vec.f1 < -0.4))\n",
    "cor.ind2.f1 <- c(which(cor.vec.f1 > 0.65), which(cor.vec.f1 < -0.6))\n",
    "\n",
    "    #Fold 1 Ttest Feature Selection\n",
    "zero.ind.f1 <- which(aml.prognosis1[1:2000] == 0)\n",
    "one.ind.f1 <- which(aml.prognosis1[1:2000] == 1)\n",
    "ttest.vec.f1 <- apply (my.data1, 1, function (x){(t.test(x[one.ind.f1] , x[zero.ind.f1]))$p.value})\n",
    "gene.ind2.fold1 <- order (ttest.vec.f1)[1:100]"
   ]
  },
  {
   "cell_type": "markdown",
   "id": "b5343b52-f42e-43e1-ac33-08de07bf19e3",
   "metadata": {},
   "source": [
    "#### Looking at some gene selections from fold 1"
   ]
  },
  {
   "cell_type": "code",
   "execution_count": 8,
   "id": "fbcf79f4-127a-4649-9b2b-bcca62ee4e95",
   "metadata": {},
   "outputs": [
    {
     "data": {
      "text/html": [
       "<style>\n",
       ".list-inline {list-style: none; margin:0; padding: 0}\n",
       ".list-inline>li {display: inline-block}\n",
       ".list-inline>li:not(:last-child)::after {content: \"\\00b7\"; padding: 0 .5ex}\n",
       "</style>\n",
       "<ol class=list-inline><li>'CREG1'</li><li>'ERLIN1'</li><li>'CD79A'</li><li>'POU2AF1'</li><li>'LEF1'</li><li>'PAX5'</li><li>'CFD'</li><li>'FAM46A'</li><li>'ATP8B4'</li><li>'PLAGL1'</li><li>'CD22'</li><li>'TCL1A'</li><li>'SERPINB1'</li><li>'QSOX1'</li><li>'CD19'</li></ol>\n"
      ],
      "text/latex": [
       "\\begin{enumerate*}\n",
       "\\item 'CREG1'\n",
       "\\item 'ERLIN1'\n",
       "\\item 'CD79A'\n",
       "\\item 'POU2AF1'\n",
       "\\item 'LEF1'\n",
       "\\item 'PAX5'\n",
       "\\item 'CFD'\n",
       "\\item 'FAM46A'\n",
       "\\item 'ATP8B4'\n",
       "\\item 'PLAGL1'\n",
       "\\item 'CD22'\n",
       "\\item 'TCL1A'\n",
       "\\item 'SERPINB1'\n",
       "\\item 'QSOX1'\n",
       "\\item 'CD19'\n",
       "\\end{enumerate*}\n"
      ],
      "text/markdown": [
       "1. 'CREG1'\n",
       "2. 'ERLIN1'\n",
       "3. 'CD79A'\n",
       "4. 'POU2AF1'\n",
       "5. 'LEF1'\n",
       "6. 'PAX5'\n",
       "7. 'CFD'\n",
       "8. 'FAM46A'\n",
       "9. 'ATP8B4'\n",
       "10. 'PLAGL1'\n",
       "11. 'CD22'\n",
       "12. 'TCL1A'\n",
       "13. 'SERPINB1'\n",
       "14. 'QSOX1'\n",
       "15. 'CD19'\n",
       "\n",
       "\n"
      ],
      "text/plain": [
       " [1] \"CREG1\"    \"ERLIN1\"   \"CD79A\"    \"POU2AF1\"  \"LEF1\"     \"PAX5\"    \n",
       " [7] \"CFD\"      \"FAM46A\"   \"ATP8B4\"   \"PLAGL1\"   \"CD22\"     \"TCL1A\"   \n",
       "[13] \"SERPINB1\" \"QSOX1\"    \"CD19\"    "
      ]
     },
     "metadata": {},
     "output_type": "display_data"
    },
    {
     "data": {
      "text/html": [
       "23"
      ],
      "text/latex": [
       "23"
      ],
      "text/markdown": [
       "23"
      ],
      "text/plain": [
       "[1] 23"
      ]
     },
     "metadata": {},
     "output_type": "display_data"
    },
    {
     "data": {
      "text/html": [
       "<style>\n",
       ".list-inline {list-style: none; margin:0; padding: 0}\n",
       ".list-inline>li {display: inline-block}\n",
       ".list-inline>li:not(:last-child)::after {content: \"\\00b7\"; padding: 0 .5ex}\n",
       "</style>\n",
       "<ol class=list-inline><li>'CTSA'</li><li>'ACTA2'</li><li>'CREG1'</li><li>'QSOX1'</li><li>'ERLIN1'</li><li>'FAH'</li><li>'LTBR'</li><li>'CEBPA'</li><li>'HOMER3'</li><li>'KIT'</li><li>'CFD'</li><li>'TMED9'</li><li>'RNASE2'</li><li>'IL18'</li><li>'TFEC'</li><li>'PLAGL1'</li><li>'FUT4'</li><li>'SPART'</li><li>'SERPINB1'</li><li>'AZU1'</li><li>'IGF2BP2'</li><li>'ATP8B4'</li><li>'FAM46A'</li></ol>\n"
      ],
      "text/latex": [
       "\\begin{enumerate*}\n",
       "\\item 'CTSA'\n",
       "\\item 'ACTA2'\n",
       "\\item 'CREG1'\n",
       "\\item 'QSOX1'\n",
       "\\item 'ERLIN1'\n",
       "\\item 'FAH'\n",
       "\\item 'LTBR'\n",
       "\\item 'CEBPA'\n",
       "\\item 'HOMER3'\n",
       "\\item 'KIT'\n",
       "\\item 'CFD'\n",
       "\\item 'TMED9'\n",
       "\\item 'RNASE2'\n",
       "\\item 'IL18'\n",
       "\\item 'TFEC'\n",
       "\\item 'PLAGL1'\n",
       "\\item 'FUT4'\n",
       "\\item 'SPART'\n",
       "\\item 'SERPINB1'\n",
       "\\item 'AZU1'\n",
       "\\item 'IGF2BP2'\n",
       "\\item 'ATP8B4'\n",
       "\\item 'FAM46A'\n",
       "\\end{enumerate*}\n"
      ],
      "text/markdown": [
       "1. 'CTSA'\n",
       "2. 'ACTA2'\n",
       "3. 'CREG1'\n",
       "4. 'QSOX1'\n",
       "5. 'ERLIN1'\n",
       "6. 'FAH'\n",
       "7. 'LTBR'\n",
       "8. 'CEBPA'\n",
       "9. 'HOMER3'\n",
       "10. 'KIT'\n",
       "11. 'CFD'\n",
       "12. 'TMED9'\n",
       "13. 'RNASE2'\n",
       "14. 'IL18'\n",
       "15. 'TFEC'\n",
       "16. 'PLAGL1'\n",
       "17. 'FUT4'\n",
       "18. 'SPART'\n",
       "19. 'SERPINB1'\n",
       "20. 'AZU1'\n",
       "21. 'IGF2BP2'\n",
       "22. 'ATP8B4'\n",
       "23. 'FAM46A'\n",
       "\n",
       "\n"
      ],
      "text/plain": [
       " [1] \"CTSA\"     \"ACTA2\"    \"CREG1\"    \"QSOX1\"    \"ERLIN1\"   \"FAH\"     \n",
       " [7] \"LTBR\"     \"CEBPA\"    \"HOMER3\"   \"KIT\"      \"CFD\"      \"TMED9\"   \n",
       "[13] \"RNASE2\"   \"IL18\"     \"TFEC\"     \"PLAGL1\"   \"FUT4\"     \"SPART\"   \n",
       "[19] \"SERPINB1\" \"AZU1\"     \"IGF2BP2\"  \"ATP8B4\"   \"FAM46A\"  "
      ]
     },
     "metadata": {},
     "output_type": "display_data"
    },
    {
     "data": {
      "text/html": [
       "14"
      ],
      "text/latex": [
       "14"
      ],
      "text/markdown": [
       "14"
      ],
      "text/plain": [
       "[1] 14"
      ]
     },
     "metadata": {},
     "output_type": "display_data"
    },
    {
     "data": {
      "text/html": [
       "<style>\n",
       ".list-inline {list-style: none; margin:0; padding: 0}\n",
       ".list-inline>li {display: inline-block}\n",
       ".list-inline>li:not(:last-child)::after {content: \"\\00b7\"; padding: 0 .5ex}\n",
       "</style>\n",
       "<ol class=list-inline><li>'ZHX2'</li><li>'CD22'</li><li>'ISG20'</li><li>'CD79A'</li><li>'POU2AF1'</li><li>'CD79B'</li><li>'SNTB2'</li><li>'CD19'</li><li>'KCTD7'</li><li>'VPREB3'</li><li>'BACH2'</li><li>'LEF1'</li><li>'PAX5'</li><li>'TCL1A'</li></ol>\n"
      ],
      "text/latex": [
       "\\begin{enumerate*}\n",
       "\\item 'ZHX2'\n",
       "\\item 'CD22'\n",
       "\\item 'ISG20'\n",
       "\\item 'CD79A'\n",
       "\\item 'POU2AF1'\n",
       "\\item 'CD79B'\n",
       "\\item 'SNTB2'\n",
       "\\item 'CD19'\n",
       "\\item 'KCTD7'\n",
       "\\item 'VPREB3'\n",
       "\\item 'BACH2'\n",
       "\\item 'LEF1'\n",
       "\\item 'PAX5'\n",
       "\\item 'TCL1A'\n",
       "\\end{enumerate*}\n"
      ],
      "text/markdown": [
       "1. 'ZHX2'\n",
       "2. 'CD22'\n",
       "3. 'ISG20'\n",
       "4. 'CD79A'\n",
       "5. 'POU2AF1'\n",
       "6. 'CD79B'\n",
       "7. 'SNTB2'\n",
       "8. 'CD19'\n",
       "9. 'KCTD7'\n",
       "10. 'VPREB3'\n",
       "11. 'BACH2'\n",
       "12. 'LEF1'\n",
       "13. 'PAX5'\n",
       "14. 'TCL1A'\n",
       "\n",
       "\n"
      ],
      "text/plain": [
       " [1] \"ZHX2\"    \"CD22\"    \"ISG20\"   \"CD79A\"   \"POU2AF1\" \"CD79B\"   \"SNTB2\"  \n",
       " [8] \"CD19\"    \"KCTD7\"   \"VPREB3\"  \"BACH2\"   \"LEF1\"    \"PAX5\"    \"TCL1A\"  "
      ]
     },
     "metadata": {},
     "output_type": "display_data"
    },
    {
     "data": {
      "text/html": [
       "47"
      ],
      "text/latex": [
       "47"
      ],
      "text/markdown": [
       "47"
      ],
      "text/plain": [
       "[1] 47"
      ]
     },
     "metadata": {},
     "output_type": "display_data"
    },
    {
     "data": {
      "text/html": [
       "49"
      ],
      "text/latex": [
       "49"
      ],
      "text/markdown": [
       "49"
      ],
      "text/plain": [
       "[1] 49"
      ]
     },
     "metadata": {},
     "output_type": "display_data"
    }
   ],
   "source": [
    "#top 37 pvalue genes\n",
    "top37.ind.f1.cor <- order (ttest.vec.f1)[1:37]\n",
    "#top 100 ttest genes of fold1\n",
    "top100.ind.f1.tt <- gene.ind2.fold1\n",
    "gene.signature.fold1 <- row.names(my.data1[top100.ind.f1.tt,])\n",
    "gene.signature.fold1[1:15]\n",
    "#write.table(gene.signature.fold1,file='fold1.100.ttest.csv', row.names=FALSE, col.names=FALSE)\n",
    "\n",
    "#cor.ind2.f1 <- c(which(cor.vec.f1 > 0.65), which(cor.vec.f1 < -0.6)) # 37 genes\n",
    "length(which(cor.vec.f1 > 0.65)) # 23 genes\n",
    "row.names(my.data1[which(cor.vec.f1 > 0.65),])\n",
    "length(which(cor.vec.f1 < -0.6)) # 14 genes\n",
    "row.names(my.data1[which(cor.vec.f1 < -0.6),])\n",
    "\n",
    "# find correlation indexes balanced + / - correlation, with length close to 100\n",
    "length(which(cor.vec.f1 > 0.61)) # 47 genes\n",
    "length(which(cor.vec.f1 < -0.53)) # 49 genes\n",
    "top96.ind.cor.f1 <- c(which(cor.vec.f1 > 0.61), which(cor.vec.f1 < -0.53)) #96 genes"
   ]
  },
  {
   "cell_type": "code",
   "execution_count": 6,
   "id": "946f0adc-4408-4bb9-8393-645b60c01e1d",
   "metadata": {},
   "outputs": [],
   "source": [
    "\n"
   ]
  },
  {
   "cell_type": "code",
   "execution_count": 9,
   "id": "8c2db51d-341e-449c-ac99-7529c4d73489",
   "metadata": {},
   "outputs": [
    {
     "data": {
      "text/html": [
       "<style>\n",
       ".list-inline {list-style: none; margin:0; padding: 0}\n",
       ".list-inline>li {display: inline-block}\n",
       ".list-inline>li:not(:last-child)::after {content: \"\\00b7\"; padding: 0 .5ex}\n",
       "</style>\n",
       "<ol class=list-inline><li>'EIF4G2'</li><li>'EEF2'</li><li>'MMP14'</li><li>'EIF3A'</li><li>'MATR3'</li><li>'AP2B1'</li><li>'C1D'</li><li>'SNRNP200'</li><li>'GDI2'</li><li>'RTCB'</li><li>'SLC25A3'</li><li>'CAPNS1'</li><li>'CFL1'</li><li>'RPL4P2'</li><li>'PTPRF'</li></ol>\n"
      ],
      "text/latex": [
       "\\begin{enumerate*}\n",
       "\\item 'EIF4G2'\n",
       "\\item 'EEF2'\n",
       "\\item 'MMP14'\n",
       "\\item 'EIF3A'\n",
       "\\item 'MATR3'\n",
       "\\item 'AP2B1'\n",
       "\\item 'C1D'\n",
       "\\item 'SNRNP200'\n",
       "\\item 'GDI2'\n",
       "\\item 'RTCB'\n",
       "\\item 'SLC25A3'\n",
       "\\item 'CAPNS1'\n",
       "\\item 'CFL1'\n",
       "\\item 'RPL4P2'\n",
       "\\item 'PTPRF'\n",
       "\\end{enumerate*}\n"
      ],
      "text/markdown": [
       "1. 'EIF4G2'\n",
       "2. 'EEF2'\n",
       "3. 'MMP14'\n",
       "4. 'EIF3A'\n",
       "5. 'MATR3'\n",
       "6. 'AP2B1'\n",
       "7. 'C1D'\n",
       "8. 'SNRNP200'\n",
       "9. 'GDI2'\n",
       "10. 'RTCB'\n",
       "11. 'SLC25A3'\n",
       "12. 'CAPNS1'\n",
       "13. 'CFL1'\n",
       "14. 'RPL4P2'\n",
       "15. 'PTPRF'\n",
       "\n",
       "\n"
      ],
      "text/plain": [
       " [1] \"EIF4G2\"   \"EEF2\"     \"MMP14\"    \"EIF3A\"    \"MATR3\"    \"AP2B1\"   \n",
       " [7] \"C1D\"      \"SNRNP200\" \"GDI2\"     \"RTCB\"     \"SLC25A3\"  \"CAPNS1\"  \n",
       "[13] \"CFL1\"     \"RPL4P2\"   \"PTPRF\"   "
      ]
     },
     "metadata": {},
     "output_type": "display_data"
    }
   ],
   "source": [
    "#split the top 100 pvalue genes randomly into 2 sets fold 1\n",
    "#used by random Forest ensemble\n",
    "data.inds <- 1:100\n",
    "shuffled.inds <- sample(data.inds)\n",
    "fold1.group1.50.tt <- shuffled.inds[1:50]\n",
    "fold1.group2.50.tt <- shuffled.inds[51:100]\n",
    "rand50.best1 <- row.names(my.data1[fold1.group1.50.tt,])\n",
    "rand50.best1[1:15]\n",
    "#write.table(rand50.best1, file = 'rand50.of100.best.genes.csv')"
   ]
  },
  {
   "cell_type": "code",
   "execution_count": null,
   "id": "42f5ba83-2931-4a46-9c49-51837b76fe96",
   "metadata": {},
   "outputs": [],
   "source": []
  },
  {
   "cell_type": "code",
   "execution_count": null,
   "id": "ffe7a5f2-b8d8-4b89-b31c-efb686d72c00",
   "metadata": {},
   "outputs": [],
   "source": []
  },
  {
   "cell_type": "code",
   "execution_count": 10,
   "id": "d716bf61-08ee-448e-b206-987cbc0a342e",
   "metadata": {},
   "outputs": [],
   "source": [
    "#Fold 2\n",
    "my.data2 <- cbind(data.1[,-fold2.ind],data.1[,fold2.ind])\n",
    "my.info2 <- rbind(info.1[-fold2.ind,],info.1[fold2.ind,])\n",
    "aml.prognosis2 <- rep(0, length(my.info2$Disease))\n",
    "aml.prognosis2[which (my.info2$Disease == \"AML\")] <- 1\n",
    "#Fold 2 Ttest Feature Selection\n",
    "zero.ind.f2 <- which(aml.prognosis2[1:2000] == 0)\n",
    "one.ind.f2 <- which(aml.prognosis2[1:2000] == 1)\n",
    "ttest.vec.f2 <- apply (my.data2, 1, function (x){(t.test(x[one.ind.f2] , x[zero.ind.f2]))$p.value})\n",
    "gene.ind2.fold2 <- order (ttest.vec.f2)[1:100]"
   ]
  },
  {
   "cell_type": "code",
   "execution_count": 8,
   "id": "1e0ff19f-d1b4-42ae-8f14-19ad281a61b1",
   "metadata": {},
   "outputs": [],
   "source": [
    "#gene.signature.fold2 <- row.names(my.data1[gene.ind2.fold2,])\n",
    "#write.csv(gene.signature.fold2,file= 'fold2.csv', na='')"
   ]
  },
  {
   "cell_type": "code",
   "execution_count": null,
   "id": "11573c8d-fe72-4b85-aaf5-2e700eb1fad4",
   "metadata": {},
   "outputs": [],
   "source": []
  },
  {
   "cell_type": "code",
   "execution_count": 11,
   "id": "4e790303-10f1-474d-8577-4ab69e92ddd5",
   "metadata": {},
   "outputs": [],
   "source": [
    "#Fold 3\n",
    "my.data3 <- cbind(data.1[,-fold3.ind],data.1[,fold3.ind])\n",
    "my.info3 <- rbind(info.1[-fold3.ind,],info.1[fold3.ind,])\n",
    "aml.prognosis3 <- rep(0, length(my.info3$Disease))\n",
    "aml.prognosis3[which (my.info3$Disease == \"AML\")] <- 1\n",
    "#Fold 3 Ttest Feature Selection\n",
    "zero.ind.f3 <- which(aml.prognosis3[1:2000] == 0)\n",
    "one.ind.f3 <- which(aml.prognosis3[1:2000] == 1)\n",
    "ttest.vec.f3 <- apply (my.data3, 1, function (x){(t.test(x[one.ind.f3] , x[zero.ind.f3]))$p.value})\n",
    "gene.ind2.fold3 <- order (ttest.vec.f3)[1:100]"
   ]
  },
  {
   "cell_type": "code",
   "execution_count": 12,
   "id": "6aaed640-3206-4d3d-92e0-7938d990576d",
   "metadata": {
    "tags": []
   },
   "outputs": [
    {
     "data": {
      "text/html": [
       "33"
      ],
      "text/latex": [
       "33"
      ],
      "text/markdown": [
       "33"
      ],
      "text/plain": [
       "[1] 33"
      ]
     },
     "metadata": {},
     "output_type": "display_data"
    },
    {
     "data": {
      "text/html": [
       "18"
      ],
      "text/latex": [
       "18"
      ],
      "text/markdown": [
       "18"
      ],
      "text/plain": [
       "[1] 18"
      ]
     },
     "metadata": {},
     "output_type": "display_data"
    },
    {
     "data": {
      "text/html": [
       "15"
      ],
      "text/latex": [
       "15"
      ],
      "text/markdown": [
       "15"
      ],
      "text/plain": [
       "[1] 15"
      ]
     },
     "metadata": {},
     "output_type": "display_data"
    },
    {
     "data": {
      "image/png": "[encoded data removed]",
      "text/plain": [
       "Plot with title “Histogram of cor.vec.f3”"
      ]
     },
     "metadata": {
      "image/png": {
       "height": 420,
       "width": 420
      }
     },
     "output_type": "display_data"
    }
   ],
   "source": [
    "#Fold 3 Correlation Feature Selection\n",
    "cor.vec.f3 <- apply (my.data3[,1:2000], 1, function (x){cor(x, aml.prognosis3[1:2000])})\n",
    "hist (cor.vec.f3)\n",
    "cor.ind.f3 <- c(which(cor.vec.f3 > 0.66), which(cor.vec.f3 < -0.59))\n",
    "length(cor.ind.f3)\n",
    "length(which(cor.vec.f3 > 0.66))\n",
    "length(which(cor.vec.f3 < -0.59))"
   ]
  },
  {
   "cell_type": "code",
   "execution_count": null,
   "id": "4ab82852-4e61-4eab-8db5-4901f25d1dce",
   "metadata": {},
   "outputs": [],
   "source": []
  },
  {
   "cell_type": "code",
   "execution_count": 11,
   "id": "859f2619-e2d2-4350-8e86-80a8c224e0f0",
   "metadata": {},
   "outputs": [],
   "source": [
    "# #Fold 4\n",
    "# my.data4 <- cbind(data.1[,-fold4.ind],data.1[,fold4.ind])\n",
    "# my.info4 <- rbind(info.1[-fold4.ind,],info.1[fold4.ind,])\n",
    "# aml.prognosis4 <- rep(0, length(my.info4$Disease))\n",
    "# aml.prognosis4[which (my.info4$Disease == \"AML\")] <- 1\n",
    "# #Fold 4 Ttest Feature Selection\n",
    "# zero.ind.f4 <- which(aml.prognosis4[1:2000] == 0)\n",
    "# one.ind.f4 <- which(aml.prognosis4[1:2000] == 1)\n",
    "# ttest.vec.f4 <- apply (my.data4, 1, function (x){(t.test(x[one.ind.f4] , x[zero.ind.f4]))$p.value})\n",
    "# gene.ind2.fold4 <- order (ttest.vec.f4)[1:100]"
   ]
  },
  {
   "cell_type": "code",
   "execution_count": 12,
   "id": "5ddab12f-27f5-49bd-a299-52bd70cb23fb",
   "metadata": {},
   "outputs": [],
   "source": [
    "# #Fold 5\n",
    "# my.data5 <- cbind(data.1[,-fold5.ind],data.1[,fold5.ind])\n",
    "# my.info5 <- rbind(info.1[-fold5.ind,],info.1[fold5.ind,])\n",
    "# aml.prognosis5 <- rep(0, length(my.info5$Disease))\n",
    "# aml.prognosis5[which (my.info5$Disease == \"AML\")] <- 1\n",
    "# #Fold 5 Ttest Feature Selection\n",
    "# zero.ind.f5 <- which(aml.prognosis5[1:2000] == 0)\n",
    "# one.ind.f5 <- which(aml.prognosis5[1:2000] == 1)\n",
    "# ttest.vec.f5 <- apply (my.data5, 1, function (x){(t.test(x[one.ind.f5] , x[zero.ind.f5]))$p.value})\n",
    "# gene.ind2.fold5 <- order (ttest.vec.f5)[1:100]"
   ]
  },
  {
   "cell_type": "markdown",
   "id": "a7c63429-bd81-4587-99ea-5f2189004c06",
   "metadata": {},
   "source": [
    "#### Ensemble method, majority count of 3 binary vectors"
   ]
  },
  {
   "cell_type": "code",
   "execution_count": 13,
   "id": "c444cacf-ae71-41e0-91b8-efea16b7bb8a",
   "metadata": {},
   "outputs": [],
   "source": [
    "#Ensemble of 3, majority count for binary classification (0,1)\n",
    "maj.count <- function(a,b,c){\n",
    "  vec <- NULL\n",
    "  for (i in 1:length(a)) {\n",
    "    temp <- a[i] + b[i] + c[i]\n",
    "    vote <- 0\n",
    "    if(temp >= 2){\n",
    "      vote <- 1\n",
    "    }\n",
    "    vec <- c(vec,vote)\n",
    "  }\n",
    "  return(vec)\n",
    "}"
   ]
  },
  {
   "cell_type": "markdown",
   "id": "e43b52da-831d-44e5-8f3a-dda7d1901d6b",
   "metadata": {},
   "source": [
    "### Ensemble A model 1   random forest random 50 genes from top 100\n",
    "#### error rate on dataset 1 fold 1 test set: ~ 0.07"
   ]
  },
  {
   "cell_type": "code",
   "execution_count": 14,
   "id": "ad5366d5-afe6-4f49-a739-faa8320787aa",
   "metadata": {},
   "outputs": [
    {
     "data": {
      "text/html": [
       "0.068"
      ],
      "text/latex": [
       "0.068"
      ],
      "text/markdown": [
       "0.068"
      ],
      "text/plain": [
       "[1] 0.068"
      ]
     },
     "metadata": {},
     "output_type": "display_data"
    },
    {
     "data": {
      "text/html": [
       "500"
      ],
      "text/latex": [
       "500"
      ],
      "text/markdown": [
       "500"
      ],
      "text/plain": [
       "[1] 500"
      ]
     },
     "metadata": {},
     "output_type": "display_data"
    },
    {
     "data": {
      "text/html": [
       "<style>\n",
       ".list-inline {list-style: none; margin:0; padding: 0}\n",
       ".list-inline>li {display: inline-block}\n",
       ".list-inline>li:not(:last-child)::after {content: \"\\00b7\"; padding: 0 .5ex}\n",
       "</style>\n",
       "<ol class=list-inline><li>1</li><li>0</li><li>0</li><li>1</li><li>0</li></ol>\n"
      ],
      "text/latex": [
       "\\begin{enumerate*}\n",
       "\\item 1\n",
       "\\item 0\n",
       "\\item 0\n",
       "\\item 1\n",
       "\\item 0\n",
       "\\end{enumerate*}\n"
      ],
      "text/markdown": [
       "1. 1\n",
       "2. 0\n",
       "3. 0\n",
       "4. 1\n",
       "5. 0\n",
       "\n",
       "\n"
      ],
      "text/plain": [
       "[1] 1 0 0 1 0"
      ]
     },
     "metadata": {},
     "output_type": "display_data"
    }
   ],
   "source": [
    "#random Forest fold1 50 of top 100 pvalue genes\n",
    "\n",
    "ret.randForest.tt.f1 <- randomForest (x=t(my.data1[fold1.group1.50.tt,1:2000]), y= as.factor(aml.prognosis1[1:2000]))\n",
    "pred.rf.50.tt <- predict(ret.randForest.tt.f1, t(my.data1[fold1.group1.50.tt,2001:2500]))\n",
    "t1 <- table(pred.rf.50.tt, aml.prognosis1[2001:2500])\n",
    "error_rate <- (sum(t1) - sum(diag(t1)))  /  sum(t1)\n",
    "error_rate\n",
    "length(pred.rf.50.tt)\n",
    "\n",
    "#format predictions for use in ensemble method\n",
    "pred.rf.50.tt <- as.numeric(as.character(pred.rf.50.tt))\n",
    "pred.rf.50.tt[1:5]"
   ]
  },
  {
   "cell_type": "code",
   "execution_count": 15,
   "id": "65efa994-1c75-49df-9370-35aeb647044e",
   "metadata": {},
   "outputs": [],
   "source": [
    "#saveRDS(ret.randForest.tt.f1, file = 'model.rF.1.RData')"
   ]
  },
  {
   "cell_type": "markdown",
   "id": "faa6f6cf-28a0-4cea-9f7d-acadb179937e",
   "metadata": {},
   "source": [
    "#### Ensemble A model 2, SVM linear, fold1 ttest 100 genes error rate 0.058"
   ]
  },
  {
   "cell_type": "code",
   "execution_count": 15,
   "id": "b69a83dc-5f58-4676-acb5-21f348ad0d75",
   "metadata": {},
   "outputs": [
    {
     "data": {
      "text/html": [
       "<style>\n",
       ".list-inline {list-style: none; margin:0; padding: 0}\n",
       ".list-inline>li {display: inline-block}\n",
       ".list-inline>li:not(:last-child)::after {content: \"\\00b7\"; padding: 0 .5ex}\n",
       "</style>\n",
       "<ol class=list-inline><li>1</li><li>0</li><li>0</li><li>1</li><li>0</li><li>0</li><li>1</li><li>0</li><li>0</li><li>0</li></ol>\n"
      ],
      "text/latex": [
       "\\begin{enumerate*}\n",
       "\\item 1\n",
       "\\item 0\n",
       "\\item 0\n",
       "\\item 1\n",
       "\\item 0\n",
       "\\item 0\n",
       "\\item 1\n",
       "\\item 0\n",
       "\\item 0\n",
       "\\item 0\n",
       "\\end{enumerate*}\n"
      ],
      "text/markdown": [
       "1. 1\n",
       "2. 0\n",
       "3. 0\n",
       "4. 1\n",
       "5. 0\n",
       "6. 0\n",
       "7. 1\n",
       "8. 0\n",
       "9. 0\n",
       "10. 0\n",
       "\n",
       "\n"
      ],
      "text/plain": [
       " [1] 1 0 0 1 0 0 1 0 0 0"
      ]
     },
     "metadata": {},
     "output_type": "display_data"
    },
    {
     "data": {
      "text/plain": [
       "            \n",
       "pred.svm.lin   0   1\n",
       "           0 273  15\n",
       "           1  14 198"
      ]
     },
     "metadata": {},
     "output_type": "display_data"
    },
    {
     "data": {
      "text/html": [
       "0.058"
      ],
      "text/latex": [
       "0.058"
      ],
      "text/markdown": [
       "0.058"
      ],
      "text/plain": [
       "[1] 0.058"
      ]
     },
     "metadata": {},
     "output_type": "display_data"
    }
   ],
   "source": [
    "# predict fold1 test set\n",
    "model.svm.lin <- svm(aml.prognosis1[1:2000] ~., data = t(my.data1[gene.ind2.fold1,1:2000]), kernel = \"linear\")\n",
    "pred.svm.lin <- predict(model.svm.lin, t(my.data1[gene.ind2.fold1,2001:2500]))\n",
    "pred.svm.lin <- as.numeric(round(pred.svm.lin))\n",
    "pred.svm.lin[1:10]\n",
    "t1 <- table(pred.svm.lin, aml.prognosis1[2001:2500])\n",
    "t1\n",
    "error_rate <- (sum(t1) - sum(diag(t1)))  /  sum(t1)\n",
    "error_rate"
   ]
  },
  {
   "cell_type": "code",
   "execution_count": 17,
   "id": "81149421-87d4-4620-bf98-bfe7f93e048d",
   "metadata": {},
   "outputs": [],
   "source": [
    "#this is fold1 svm radial on top 100 pvalue genes\n",
    "#saveRDS(svm_model, file = 'model.svm.rad.1.RData')"
   ]
  },
  {
   "cell_type": "markdown",
   "id": "d5a5c189-bcf0-417c-bb9a-779908d5a432",
   "metadata": {},
   "source": [
    "#### Ensemble A model 3, SVM Radial, fold 1 ttest 100 genes error rate 0.022"
   ]
  },
  {
   "cell_type": "code",
   "execution_count": 16,
   "id": "a002c95a-7004-42f9-96ab-86c20d4773fd",
   "metadata": {},
   "outputs": [
    {
     "data": {
      "text/plain": [
       "            \n",
       "pred.svm.rad   0   1\n",
       "           0 282   6\n",
       "           1   5 207"
      ]
     },
     "metadata": {},
     "output_type": "display_data"
    },
    {
     "data": {
      "text/html": [
       "0.022"
      ],
      "text/latex": [
       "0.022"
      ],
      "text/markdown": [
       "0.022"
      ],
      "text/plain": [
       "[1] 0.022"
      ]
     },
     "metadata": {},
     "output_type": "display_data"
    }
   ],
   "source": [
    "model.svm.rad <- svm(aml.prognosis1[1:2000] ~., data = t(my.data1[gene.ind2.fold1,1:2000]), kernel = \"radial\")\n",
    "pred.svm.rad <- predict(model.svm.rad, t(my.data1[gene.ind2.fold1,2001:2500]))\n",
    "pred.svm.rad <- as.numeric(round(pred.svm.rad))\n",
    "t1 <- table(pred.svm.rad, aml.prognosis1[2001:2500])\n",
    "t1\n",
    "error_rate <- (sum(t1) - sum(diag(t1)))  /  sum(t1)\n",
    "error_rate"
   ]
  },
  {
   "cell_type": "code",
   "execution_count": 19,
   "id": "f6259eec-f2ce-4616-96c2-98ab2b741b91",
   "metadata": {},
   "outputs": [],
   "source": [
    "#saveRDS(svm_model_linear, file = 'model.svm.lin.1.RData')"
   ]
  },
  {
   "cell_type": "markdown",
   "id": "2bd86c73-b76a-4eae-8eae-c673a942870b",
   "metadata": {},
   "source": [
    "#### Ensemble A, trained on DS 1, tested DS 1, error rate ~ 0.03"
   ]
  },
  {
   "cell_type": "code",
   "execution_count": 17,
   "id": "b9589550-bfea-4b86-a876-3ced46e968eb",
   "metadata": {},
   "outputs": [
    {
     "data": {
      "text/html": [
       "0.026"
      ],
      "text/latex": [
       "0.026"
      ],
      "text/markdown": [
       "0.026"
      ],
      "text/plain": [
       "[1] 0.026"
      ]
     },
     "metadata": {},
     "output_type": "display_data"
    }
   ],
   "source": [
    "ret.ensemble.a <- maj.count(pred.rf.50.tt, pred.svm.lin, pred.svm.rad)\n",
    "t2 <- table(ret.ensemble.a, aml.prognosis1[2001:2500])\n",
    "error_rate <- (sum(t2) - sum(diag(t2)))  /  sum(t2)\n",
    "error_rate"
   ]
  },
  {
   "cell_type": "markdown",
   "id": "f6a01844-57ec-4881-b1c8-d5919458fe3e",
   "metadata": {},
   "source": [
    "### Ensemble B, 3 methods trained and tested within data set 1\n",
    "### knn (100 genes), lasso (37 genes), random Forest (100 genes)\n",
    "### ensemble B model 1, knn feature selected with ttest fold1 "
   ]
  },
  {
   "cell_type": "code",
   "execution_count": 18,
   "id": "719646cb-7bda-4e5e-8e4e-6368b6b58ede",
   "metadata": {},
   "outputs": [
    {
     "data": {
      "text/html": [
       "0.02"
      ],
      "text/latex": [
       "0.02"
      ],
      "text/markdown": [
       "0.02"
      ],
      "text/plain": [
       "[1] 0.02"
      ]
     },
     "metadata": {},
     "output_type": "display_data"
    },
    {
     "data": {
      "text/plain": [
       "             \n",
       "ret.knn.tt.f1   0   1\n",
       "            0 283   6\n",
       "            1   4 207"
      ]
     },
     "metadata": {},
     "output_type": "display_data"
    }
   ],
   "source": [
    "# knn feature selected with ttest fold1 \n",
    "library(class)\n",
    "ret.knn.tt.f1 <- knn(train =t(my.data1[gene.ind2.fold1,1:2000]), test=t(my.data1[gene.ind2.fold1,2001:2500]),cl=aml.prognosis1[1:2000], k=5)\n",
    "#gene.signature.knn <- row.names(my.data1[gene.ind2.fold1,])\n",
    "ret.knn.tt.f1 <- as.numeric(as.character(ret.knn.tt.f1))\n",
    "t1 <- table (ret.knn.tt.f1, aml.prognosis1[2001:2500])\n",
    "error_rate <- (sum(t1) - sum(diag(t1)))  /  sum(t1) \n",
    "error_rate\n",
    "t1"
   ]
  },
  {
   "cell_type": "markdown",
   "id": "3e301f28-e2da-44b5-9b53-cbaf1c7930f2",
   "metadata": {},
   "source": [
    "#### Ensemble B model 2, Lasso 37 genes correlation selected in fold1 "
   ]
  },
  {
   "cell_type": "code",
   "execution_count": 19,
   "id": "7001b095-cca8-46cc-8471-5a308da72e26",
   "metadata": {},
   "outputs": [
    {
     "data": {
      "text/html": [
       "0.056"
      ],
      "text/latex": [
       "0.056"
      ],
      "text/markdown": [
       "0.056"
      ],
      "text/plain": [
       "[1] 0.056"
      ]
     },
     "metadata": {},
     "output_type": "display_data"
    },
    {
     "data": {
      "text/plain": [
       "              \n",
       "pred.lasso.cor   0   1\n",
       "             0 274  15\n",
       "             1  13 198"
      ]
     },
     "metadata": {},
     "output_type": "display_data"
    }
   ],
   "source": [
    "#feature-selected correlation 37genes fold1\n",
    "library(glmnet)\n",
    "model.lasso.1 <- cv.glmnet(t(my.data1[cor.ind2.f1 ,1:2000]),aml.prognosis1[1:2000] )\n",
    "pred.lasso.cor <- predict(model.lasso.1, t(my.data1[cor.ind2.f1,2001:2500]))\n",
    "pred.lasso.cor <- round(pred.lasso.cor)\n",
    "t2 <- table(pred.lasso.cor, aml.prognosis1[2001:2500])\n",
    "error_rate <- (sum(t2) - sum(diag(t2)))  /  sum(t2)\n",
    "error_rate\n",
    "t2"
   ]
  },
  {
   "cell_type": "markdown",
   "id": "4ce1e583-ce73-4706-b3b3-44276a0a4b45",
   "metadata": {},
   "source": [
    "#### Ensemble B model 3, random forest feature selected ttest fold 1"
   ]
  },
  {
   "cell_type": "code",
   "execution_count": 20,
   "id": "a7ebd06b-1b9d-46be-b9b4-a0cdae9ca2c1",
   "metadata": {},
   "outputs": [
    {
     "data": {
      "text/html": [
       "0.032"
      ],
      "text/latex": [
       "0.032"
      ],
      "text/markdown": [
       "0.032"
      ],
      "text/plain": [
       "[1] 0.032"
      ]
     },
     "metadata": {},
     "output_type": "display_data"
    },
    {
     "data": {
      "text/plain": [
       "       \n",
       "pred.rf   0   1\n",
       "      0 280   9\n",
       "      1   7 204"
      ]
     },
     "metadata": {},
     "output_type": "display_data"
    }
   ],
   "source": [
    "#random Forest fold1 \n",
    "library(randomForest)\n",
    "ret.randForest.tt.f1 <- randomForest (x=t(my.data1[gene.ind2.fold1,1:2000]), y= as.factor(aml.prognosis1[1:2000]))\n",
    "pred.rf <- predict(ret.randForest.tt.f1, t(my.data1[gene.ind2.fold1,2001:2500]))\n",
    "t1 <- table(pred.rf, aml.prognosis1[2001:2500])\n",
    "error_rate <- (sum(t1) - sum(diag(t1)))  /  sum(t1)\n",
    "error_rate\n",
    "t1\n",
    "\n",
    "#format predictions for use in ensemble method\n",
    "pred.rf <- as.numeric(as.character(pred.rf))"
   ]
  },
  {
   "cell_type": "markdown",
   "id": "2d8abd8f-eab7-4868-ab96-b2641fceb5bc",
   "metadata": {},
   "source": [
    "### Ensemble B error rate: 0.03"
   ]
  },
  {
   "cell_type": "code",
   "execution_count": 21,
   "id": "2a4ca933-a505-4b2a-bd80-9d280283f3ef",
   "metadata": {},
   "outputs": [
    {
     "data": {
      "text/html": [
       "500"
      ],
      "text/latex": [
       "500"
      ],
      "text/markdown": [
       "500"
      ],
      "text/plain": [
       "[1] 500"
      ]
     },
     "metadata": {},
     "output_type": "display_data"
    },
    {
     "data": {
      "text/html": [
       "<style>\n",
       ".list-inline {list-style: none; margin:0; padding: 0}\n",
       ".list-inline>li {display: inline-block}\n",
       ".list-inline>li:not(:last-child)::after {content: \"\\00b7\"; padding: 0 .5ex}\n",
       "</style>\n",
       "<ol class=list-inline><li>1</li><li>0</li><li>0</li><li>1</li><li>0</li><li>0</li><li>1</li><li>0</li><li>0</li><li>0</li><li>1</li><li>0</li><li>0</li><li>0</li><li>0</li></ol>\n"
      ],
      "text/latex": [
       "\\begin{enumerate*}\n",
       "\\item 1\n",
       "\\item 0\n",
       "\\item 0\n",
       "\\item 1\n",
       "\\item 0\n",
       "\\item 0\n",
       "\\item 1\n",
       "\\item 0\n",
       "\\item 0\n",
       "\\item 0\n",
       "\\item 1\n",
       "\\item 0\n",
       "\\item 0\n",
       "\\item 0\n",
       "\\item 0\n",
       "\\end{enumerate*}\n"
      ],
      "text/markdown": [
       "1. 1\n",
       "2. 0\n",
       "3. 0\n",
       "4. 1\n",
       "5. 0\n",
       "6. 0\n",
       "7. 1\n",
       "8. 0\n",
       "9. 0\n",
       "10. 0\n",
       "11. 1\n",
       "12. 0\n",
       "13. 0\n",
       "14. 0\n",
       "15. 0\n",
       "\n",
       "\n"
      ],
      "text/plain": [
       " [1] 1 0 0 1 0 0 1 0 0 0 1 0 0 0 0"
      ]
     },
     "metadata": {},
     "output_type": "display_data"
    },
    {
     "data": {
      "text/html": [
       "<style>\n",
       ".list-inline {list-style: none; margin:0; padding: 0}\n",
       ".list-inline>li {display: inline-block}\n",
       ".list-inline>li:not(:last-child)::after {content: \"\\00b7\"; padding: 0 .5ex}\n",
       "</style>\n",
       "<ol class=list-inline><li>1</li><li>0</li><li>0</li><li>1</li><li>0</li><li>0</li><li>1</li><li>0</li><li>0</li><li>0</li><li>0</li><li>0</li><li>0</li><li>0</li><li>0</li></ol>\n"
      ],
      "text/latex": [
       "\\begin{enumerate*}\n",
       "\\item 1\n",
       "\\item 0\n",
       "\\item 0\n",
       "\\item 1\n",
       "\\item 0\n",
       "\\item 0\n",
       "\\item 1\n",
       "\\item 0\n",
       "\\item 0\n",
       "\\item 0\n",
       "\\item 0\n",
       "\\item 0\n",
       "\\item 0\n",
       "\\item 0\n",
       "\\item 0\n",
       "\\end{enumerate*}\n"
      ],
      "text/markdown": [
       "1. 1\n",
       "2. 0\n",
       "3. 0\n",
       "4. 1\n",
       "5. 0\n",
       "6. 0\n",
       "7. 1\n",
       "8. 0\n",
       "9. 0\n",
       "10. 0\n",
       "11. 0\n",
       "12. 0\n",
       "13. 0\n",
       "14. 0\n",
       "15. 0\n",
       "\n",
       "\n"
      ],
      "text/plain": [
       " [1] 1 0 0 1 0 0 1 0 0 0 0 0 0 0 0"
      ]
     },
     "metadata": {},
     "output_type": "display_data"
    },
    {
     "data": {
      "text/html": [
       "<style>\n",
       ".list-inline {list-style: none; margin:0; padding: 0}\n",
       ".list-inline>li {display: inline-block}\n",
       ".list-inline>li:not(:last-child)::after {content: \"\\00b7\"; padding: 0 .5ex}\n",
       "</style>\n",
       "<ol class=list-inline><li>1</li><li>0</li><li>0</li><li>1</li><li>0</li><li>0</li><li>1</li><li>0</li><li>0</li><li>0</li><li>0</li><li>0</li><li>0</li><li>0</li><li>0</li></ol>\n"
      ],
      "text/latex": [
       "\\begin{enumerate*}\n",
       "\\item 1\n",
       "\\item 0\n",
       "\\item 0\n",
       "\\item 1\n",
       "\\item 0\n",
       "\\item 0\n",
       "\\item 1\n",
       "\\item 0\n",
       "\\item 0\n",
       "\\item 0\n",
       "\\item 0\n",
       "\\item 0\n",
       "\\item 0\n",
       "\\item 0\n",
       "\\item 0\n",
       "\\end{enumerate*}\n"
      ],
      "text/markdown": [
       "1. 1\n",
       "2. 0\n",
       "3. 0\n",
       "4. 1\n",
       "5. 0\n",
       "6. 0\n",
       "7. 1\n",
       "8. 0\n",
       "9. 0\n",
       "10. 0\n",
       "11. 0\n",
       "12. 0\n",
       "13. 0\n",
       "14. 0\n",
       "15. 0\n",
       "\n",
       "\n"
      ],
      "text/plain": [
       " [1] 1 0 0 1 0 0 1 0 0 0 0 0 0 0 0"
      ]
     },
     "metadata": {},
     "output_type": "display_data"
    },
    {
     "data": {
      "text/html": [
       "<style>\n",
       ".list-inline {list-style: none; margin:0; padding: 0}\n",
       ".list-inline>li {display: inline-block}\n",
       ".list-inline>li:not(:last-child)::after {content: \"\\00b7\"; padding: 0 .5ex}\n",
       "</style>\n",
       "<ol class=list-inline><li>1</li><li>0</li><li>0</li><li>1</li><li>0</li><li>0</li><li>1</li><li>0</li><li>0</li><li>0</li><li>0</li><li>0</li><li>0</li><li>0</li><li>0</li></ol>\n"
      ],
      "text/latex": [
       "\\begin{enumerate*}\n",
       "\\item 1\n",
       "\\item 0\n",
       "\\item 0\n",
       "\\item 1\n",
       "\\item 0\n",
       "\\item 0\n",
       "\\item 1\n",
       "\\item 0\n",
       "\\item 0\n",
       "\\item 0\n",
       "\\item 0\n",
       "\\item 0\n",
       "\\item 0\n",
       "\\item 0\n",
       "\\item 0\n",
       "\\end{enumerate*}\n"
      ],
      "text/markdown": [
       "1. 1\n",
       "2. 0\n",
       "3. 0\n",
       "4. 1\n",
       "5. 0\n",
       "6. 0\n",
       "7. 1\n",
       "8. 0\n",
       "9. 0\n",
       "10. 0\n",
       "11. 0\n",
       "12. 0\n",
       "13. 0\n",
       "14. 0\n",
       "15. 0\n",
       "\n",
       "\n"
      ],
      "text/plain": [
       " [1] 1 0 0 1 0 0 1 0 0 0 0 0 0 0 0"
      ]
     },
     "metadata": {},
     "output_type": "display_data"
    }
   ],
   "source": [
    "# results1 <- round(as.numeric(as.character(ret.knn.tt.f1)))\n",
    "# results2 <- round(as.numeric(as.character(pred.lasso.cor)))\n",
    "# results3 <- round(as.numeric(as.character(pred.rf)))\n",
    "ret.ensemble <- maj.count(ret.knn.tt.f1, pred.lasso.cor, pred.rf)\n",
    "length(ret.ensemble)\n",
    "ret.knn.tt.f1[1:15]\n",
    "pred.lasso.cor[1:15]\n",
    "pred.rf[1:15]\n",
    "ret.ensemble[1:15]"
   ]
  },
  {
   "cell_type": "markdown",
   "id": "2bc7eb6e-01c8-4681-ba38-e9f260c986a1",
   "metadata": {},
   "source": [
    "#### shown above, 3 model predictions and the result ensemble prediction: last row.\n",
    "#### below, Ensemble B error rate 0.03"
   ]
  },
  {
   "cell_type": "code",
   "execution_count": 22,
   "id": "8fa8a988-8f45-40f4-aef8-fcfa1486c0cf",
   "metadata": {},
   "outputs": [
    {
     "data": {
      "text/html": [
       "0.03"
      ],
      "text/latex": [
       "0.03"
      ],
      "text/markdown": [
       "0.03"
      ],
      "text/plain": [
       "[1] 0.03"
      ]
     },
     "metadata": {},
     "output_type": "display_data"
    }
   ],
   "source": [
    "t2 <- table(ret.ensemble, aml.prognosis1[2001:2500])\n",
    "error_rate <- (sum(t2) - sum(diag(t2)))  /  sum(t2)\n",
    "error_rate"
   ]
  },
  {
   "cell_type": "markdown",
   "id": "718e0194-81e1-4ec6-bc8a-2be70fd46325",
   "metadata": {},
   "source": [
    "#### A few other models to compare"
   ]
  },
  {
   "cell_type": "code",
   "execution_count": 23,
   "id": "9b7dc438-9278-41bf-bc13-21065ea64a41",
   "metadata": {
    "tags": []
   },
   "outputs": [
    {
     "data": {
      "text/html": [
       "0.018"
      ],
      "text/latex": [
       "0.018"
      ],
      "text/markdown": [
       "0.018"
      ],
      "text/plain": [
       "[1] 0.018"
      ]
     },
     "metadata": {},
     "output_type": "display_data"
    },
    {
     "data": {
      "text/plain": [
       "   \n",
       "      0   1\n",
       "  0 284   6\n",
       "  1   3 207"
      ]
     },
     "metadata": {},
     "output_type": "display_data"
    }
   ],
   "source": [
    "#non-feature-selected fold1\n",
    "\n",
    "ret.lasso <- cv.glmnet(t(my.data1[ ,1:2000]),aml.prognosis1[1:2000] )\n",
    "pred.lasso <- predict(ret.lasso, t(my.data1[,2001:2500]))\n",
    "t2 <- table(round(pred.lasso), aml.prognosis1[2001:2500])\n",
    "error_rate <- (sum(t2) - sum(diag(t2)))  /  sum(t2)\n",
    "error_rate\n",
    "t2"
   ]
  },
  {
   "cell_type": "code",
   "execution_count": 41,
   "id": "f0ed03bd-3e73-4bbf-9b3b-f7c5cb8fdfe8",
   "metadata": {
    "tags": []
   },
   "outputs": [
    {
     "data": {
      "text/html": [
       "0.054"
      ],
      "text/latex": [
       "0.054"
      ],
      "text/markdown": [
       "0.054"
      ],
      "text/plain": [
       "[1] 0.054"
      ]
     },
     "metadata": {},
     "output_type": "display_data"
    },
    {
     "data": {
      "text/plain": [
       "   \n",
       "      0   1\n",
       "  0 274  14\n",
       "  1  13 199"
      ]
     },
     "metadata": {},
     "output_type": "display_data"
    }
   ],
   "source": [
    "#lasso\n",
    "#feature-selected correlation fold3 33 genes\n",
    "library(glmnet)\n",
    "ret.lasso.cor <- cv.glmnet(t(my.data1[cor.ind.f3 ,1:2000]),aml.prognosis1[1:2000] )\n",
    "pred.lasso.cor <- predict(ret.lasso.cor, t(my.data1[cor.ind.f3,2001:2500]))\n",
    "t2 <- table(round(pred.lasso.cor), aml.prognosis1[2001:2500])\n",
    "error_rate <- (sum(t2) - sum(diag(t2)))  /  sum(t2)\n",
    "error_rate\n",
    "t2"
   ]
  },
  {
   "cell_type": "markdown",
   "id": "257832c3-c02f-41f4-a927-19fecd3c9ec1",
   "metadata": {},
   "source": [
    "### randomForest feature selected with ttest fold 2"
   ]
  },
  {
   "cell_type": "code",
   "execution_count": 42,
   "id": "f17c2388-648e-4736-8669-c2eb082e41ee",
   "metadata": {
    "tags": []
   },
   "outputs": [
    {
     "data": {
      "text/html": [
       "0.028"
      ],
      "text/latex": [
       "0.028"
      ],
      "text/markdown": [
       "0.028"
      ],
      "text/plain": [
       "[1] 0.028"
      ]
     },
     "metadata": {},
     "output_type": "display_data"
    },
    {
     "data": {
      "text/plain": [
       "       \n",
       "pred.rf   0   1\n",
       "      0 299   3\n",
       "      1  11 187"
      ]
     },
     "metadata": {},
     "output_type": "display_data"
    }
   ],
   "source": [
    "#fold 2, 100 ttest genes\n",
    "ret.randForest <- randomForest (x=t(my.data2[gene.ind2.fold2,1:2000]), y= as.factor(aml.prognosis2[1:2000]))\n",
    "pred.rf <- predict(ret.randForest, t(my.data2[gene.ind2.fold2,2001:2500]))\n",
    "t1 <- table(pred.rf, aml.prognosis2[2001:2500])\n",
    "error_rate <- (sum(t1) - sum(diag(t1)))  /  sum(t1)\n",
    "error_rate\n",
    "t1"
   ]
  },
  {
   "cell_type": "markdown",
   "id": "07e415f7-0d49-4f49-a584-3e2e300d81fa",
   "metadata": {},
   "source": [
    "### Comparison of folds"
   ]
  },
  {
   "cell_type": "code",
   "execution_count": 43,
   "id": "4f1d599d-6d07-402b-8bc5-730d6cde624d",
   "metadata": {},
   "outputs": [
    {
     "data": {
      "text/html": [
       "93"
      ],
      "text/latex": [
       "93"
      ],
      "text/markdown": [
       "93"
      ],
      "text/plain": [
       "[1] 93"
      ]
     },
     "metadata": {},
     "output_type": "display_data"
    }
   ],
   "source": [
    "# Commmon indexes in ttests from fold1 and fold2\n",
    "ttfold1_and_ttfold2 <- intersect(gene.ind2.fold1,gene.ind2.fold2)\n",
    "length(ttfold1_and_ttfold2)"
   ]
  },
  {
   "cell_type": "code",
   "execution_count": 44,
   "id": "ca59a58d-6191-49ad-803f-edf41dd13c41",
   "metadata": {},
   "outputs": [
    {
     "data": {
      "text/html": [
       "92"
      ],
      "text/latex": [
       "92"
      ],
      "text/markdown": [
       "92"
      ],
      "text/plain": [
       "[1] 92"
      ]
     },
     "metadata": {},
     "output_type": "display_data"
    }
   ],
   "source": [
    "# Commmon indexes in ttests from fold1 and fold3\n",
    "ttfold1_and_ttfold3 <- intersect(gene.ind2.fold1,gene.ind2.fold3)\n",
    "length(ttfold1_and_ttfold3)"
   ]
  },
  {
   "cell_type": "code",
   "execution_count": 45,
   "id": "85890844-ad71-4e78-8669-38c8643b2bdc",
   "metadata": {},
   "outputs": [
    {
     "data": {
      "text/html": [
       "92"
      ],
      "text/latex": [
       "92"
      ],
      "text/markdown": [
       "92"
      ],
      "text/plain": [
       "[1] 92"
      ]
     },
     "metadata": {},
     "output_type": "display_data"
    }
   ],
   "source": [
    "# Commmon indexes in ttests from fold3 and fold2\n",
    "ttfold3_and_ttfold2 <- intersect(gene.ind2.fold3,gene.ind2.fold2)\n",
    "length(ttfold3_and_ttfold2)"
   ]
  },
  {
   "cell_type": "code",
   "execution_count": 46,
   "id": "639b990f-e1a4-41bc-999a-12997cd54872",
   "metadata": {
    "tags": []
   },
   "outputs": [
    {
     "data": {
      "text/html": [
       "32"
      ],
      "text/latex": [
       "32"
      ],
      "text/markdown": [
       "32"
      ],
      "text/plain": [
       "[1] 32"
      ]
     },
     "metadata": {},
     "output_type": "display_data"
    }
   ],
   "source": [
    "#only 1 of the 33 genes selected by correlation fold 3 is not 'in' top 37 cor-selected genes of fold1\n",
    "length(cor.ind.f3)\n",
    "length(cor.ind2.f1)\n",
    "length(intersect(cor.ind2.f1,cor.ind.f3))"
   ]
  },
  {
   "cell_type": "code",
   "execution_count": 47,
   "id": "a08567b2-954a-43e9-8da2-e330ee923a64",
   "metadata": {},
   "outputs": [
    {
     "data": {
      "text/html": [
       "0.3944"
      ],
      "text/latex": [
       "0.3944"
      ],
      "text/markdown": [
       "0.3944"
      ],
      "text/plain": [
       "[1] 0.3944"
      ]
     },
     "metadata": {},
     "output_type": "display_data"
    }
   ],
   "source": [
    "#### AML proportion overall\n",
    "aml.prognosis <- rep(0, length(info.1$Disease))\n",
    "aml.prognosis[which (info.1$Disease == \"AML\")] <- 1\n",
    "sum(aml.prognosis) / 2500"
   ]
  },
  {
   "cell_type": "code",
   "execution_count": 48,
   "id": "299599e6-b3d4-4d33-84f4-8c0f7627661a",
   "metadata": {},
   "outputs": [
    {
     "data": {
      "text/html": [
       "0.3865"
      ],
      "text/latex": [
       "0.3865"
      ],
      "text/markdown": [
       "0.3865"
      ],
      "text/plain": [
       "[1] 0.3865"
      ]
     },
     "metadata": {},
     "output_type": "display_data"
    },
    {
     "data": {
      "text/html": [
       "0.398"
      ],
      "text/latex": [
       "0.398"
      ],
      "text/markdown": [
       "0.398"
      ],
      "text/plain": [
       "[1] 0.398"
      ]
     },
     "metadata": {},
     "output_type": "display_data"
    },
    {
     "data": {
      "text/html": [
       "0.3975"
      ],
      "text/latex": [
       "0.3975"
      ],
      "text/markdown": [
       "0.3975"
      ],
      "text/plain": [
       "[1] 0.3975"
      ]
     },
     "metadata": {},
     "output_type": "display_data"
    }
   ],
   "source": [
    "#AML proportion in folds 1,2,3\n",
    "sum(aml.prognosis1[1:2000])/2000\n",
    "sum(aml.prognosis2[1:2000])/2000\n",
    "sum(aml.prognosis3[1:2000])/2000"
   ]
  },
  {
   "cell_type": "code",
   "execution_count": null,
   "id": "37b1935e-fc87-4aea-949e-3730f423113e",
   "metadata": {},
   "outputs": [],
   "source": []
  },
  {
   "cell_type": "code",
   "execution_count": null,
   "id": "7ea86ae4-c708-4615-8f83-6e049411d950",
   "metadata": {},
   "outputs": [],
   "source": []
  },
  {
   "cell_type": "code",
   "execution_count": 12,
   "id": "c1a034c7-359a-4006-bd34-651527d9ce07",
   "metadata": {},
   "outputs": [
    {
     "data": {
      "text/html": [
       "23"
      ],
      "text/latex": [
       "23"
      ],
      "text/markdown": [
       "23"
      ],
      "text/plain": [
       "[1] 23"
      ]
     },
     "metadata": {},
     "output_type": "display_data"
    },
    {
     "data": {
      "text/html": [
       "14"
      ],
      "text/latex": [
       "14"
      ],
      "text/markdown": [
       "14"
      ],
      "text/plain": [
       "[1] 14"
      ]
     },
     "metadata": {},
     "output_type": "display_data"
    },
    {
     "data": {
      "text/html": [
       "47"
      ],
      "text/latex": [
       "47"
      ],
      "text/markdown": [
       "47"
      ],
      "text/plain": [
       "[1] 47"
      ]
     },
     "metadata": {},
     "output_type": "display_data"
    },
    {
     "data": {
      "text/html": [
       "49"
      ],
      "text/latex": [
       "49"
      ],
      "text/markdown": [
       "49"
      ],
      "text/plain": [
       "[1] 49"
      ]
     },
     "metadata": {},
     "output_type": "display_data"
    }
   ],
   "source": [
    "#top 37 pvalue genes\n",
    "top37.ind.f1.tt <- order (ttest.vec.f1)[1:37]\n",
    "top100.ind.f1.tt <- gene.ind2.fold1\n",
    "\n",
    "#cor.ind2.f1 <- c(which(cor.vec.f1 > 0.65), which(cor.vec.f1 < -0.6)) # 37 genes\n",
    "length(which(cor.vec.f1 > 0.65)) # 23 genes\n",
    "length(which(cor.vec.f1 < -0.6)) # 14 genes\n",
    "\n",
    "# find correlation indexes balanced + / - correlation, with length close to 100\n",
    "length(which(cor.vec.f1 > 0.61)) # 47 genes\n",
    "length(which(cor.vec.f1 < -0.53)) # 49 genes\n",
    "top96.ind.cor.f1 <- c(which(cor.vec.f1 > 0.61), which(cor.vec.f1 < -0.53)) #96 genes"
   ]
  },
  {
   "cell_type": "markdown",
   "id": "15c3ac4a-c275-427f-a04e-d6e4340b4b41",
   "metadata": {},
   "source": [
    "#### Feature Selection Correlation vs Ttest, common genes in top 37 and top 96 lists \n",
    "##### 30 / 37 genes intersect\n",
    "##### 75 / 96 genes intersect"
   ]
  },
  {
   "cell_type": "code",
   "execution_count": 15,
   "id": "958a05c9-0f64-4092-ad14-2893ad52d57d",
   "metadata": {},
   "outputs": [
    {
     "data": {
      "text/html": [
       "30"
      ],
      "text/latex": [
       "30"
      ],
      "text/markdown": [
       "30"
      ],
      "text/plain": [
       "[1] 30"
      ]
     },
     "metadata": {},
     "output_type": "display_data"
    },
    {
     "data": {
      "text/html": [
       "75"
      ],
      "text/latex": [
       "75"
      ],
      "text/markdown": [
       "75"
      ],
      "text/plain": [
       "[1] 75"
      ]
     },
     "metadata": {},
     "output_type": "display_data"
    }
   ],
   "source": [
    "# how manu of top 37 genes intersect? cor vs ttest\n",
    "length(intersect(top37.ind.f1.tt, cor.ind2.f1))\n",
    "\n",
    "#intersection of top 96 genes cor vs ttest\n",
    "length(intersect(top100.ind.f1.tt, top96.ind.cor.f1))"
   ]
  },
  {
   "cell_type": "code",
   "execution_count": null,
   "id": "47b2f5aa-3332-450e-913d-eadbca4a44ba",
   "metadata": {},
   "outputs": [],
   "source": []
  },
  {
   "cell_type": "code",
   "execution_count": null,
   "id": "ebd7e48c-c3b2-40b6-b89c-9e3cea08408c",
   "metadata": {},
   "outputs": [],
   "source": []
  },
  {
   "cell_type": "code",
   "execution_count": null,
   "id": "dcfaff5d-4bcc-4dad-9d5a-8696d27f58e8",
   "metadata": {},
   "outputs": [],
   "source": []
  },
  {
   "cell_type": "code",
   "execution_count": null,
   "id": "7c99a88c-6f06-4688-81bd-0b6f9982a2b7",
   "metadata": {},
   "outputs": [],
   "source": []
  },
  {
   "cell_type": "code",
   "execution_count": null,
   "id": "3373097a-3eaf-4512-8357-a31eed0ee8ae",
   "metadata": {},
   "outputs": [],
   "source": []
  },
  {
   "cell_type": "code",
   "execution_count": null,
   "id": "68a6818f-2ad5-47e7-adf5-9165e3ef2d85",
   "metadata": {},
   "outputs": [],
   "source": []
  },
  {
   "cell_type": "code",
   "execution_count": null,
   "id": "49a0aa57-b4d0-4436-8247-3fdd36f6abef",
   "metadata": {},
   "outputs": [],
   "source": []
  },
  {
   "cell_type": "code",
   "execution_count": null,
   "id": "3cfe95ab-46b8-4000-9f3e-ba51ac8bb25c",
   "metadata": {},
   "outputs": [],
   "source": []
  },
  {
   "cell_type": "code",
   "execution_count": null,
   "id": "6c964799-f2e8-4781-a5b7-09d05ae15411",
   "metadata": {},
   "outputs": [],
   "source": []
  },
  {
   "cell_type": "code",
   "execution_count": null,
   "id": "2da2d984-b7c2-4fb2-a111-d87ed2fa1da2",
   "metadata": {},
   "outputs": [],
   "source": []
  },
  {
   "cell_type": "code",
   "execution_count": null,
   "id": "4a207256-28ee-4976-bbfc-7980f1119959",
   "metadata": {},
   "outputs": [],
   "source": []
  },
  {
   "cell_type": "code",
   "execution_count": null,
   "id": "d4450849-8ea0-43c7-ae7e-0077616fe1a4",
   "metadata": {},
   "outputs": [],
   "source": []
  },
  {
   "cell_type": "code",
   "execution_count": null,
   "id": "a9aa434f-ba08-4bdf-8a36-09ad19d429f4",
   "metadata": {},
   "outputs": [],
   "source": []
  },
  {
   "cell_type": "code",
   "execution_count": null,
   "id": "c805ff5c-ba44-48fb-9cda-c7dc102d1baf",
   "metadata": {},
   "outputs": [],
   "source": []
  },
  {
   "cell_type": "code",
   "execution_count": null,
   "id": "230cbacf-9484-4c7e-912a-a12fb3be5ba9",
   "metadata": {},
   "outputs": [],
   "source": []
  }
 ],
 "metadata": {
  "kernelspec": {
   "display_name": "R",
   "language": "R",
   "name": "ir"
  },
  "language_info": {
   "codemirror_mode": "r",
   "file_extension": ".r",
   "mimetype": "text/x-r-source",
   "name": "R",
   "pygments_lexer": "r",
   "version": "4.1.1"
  }
 },
 "nbformat": 4,
 "nbformat_minor": 5
}
