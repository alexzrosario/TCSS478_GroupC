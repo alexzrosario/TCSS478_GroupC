{
 "cells": [
  {
   "cell_type": "code",
   "execution_count": 1,
   "id": "2ecd9c31-0d74-4b24-a7f8-00ec2241202e",
   "metadata": {
    "collapsed": true,
    "jupyter": {
     "outputs_hidden": true
    },
    "tags": []
   },
   "outputs": [
    {
     "name": "stderr",
     "output_type": "stream",
     "text": [
      "Updating HTML index of packages in '.Library'\n",
      "\n",
      "Making 'packages.html' ...\n",
      " done\n",
      "\n",
      "'getOption(\"repos\")' replaces Bioconductor standard repositories, see\n",
      "'help(\"repositories\", package = \"BiocManager\")' for details.\n",
      "Replacement repositories:\n",
      "    CRAN: https://cran.r-project.org\n",
      "\n",
      "Bioconductor version 3.14 (BiocManager 1.30.20), R 4.1.1 (2021-08-10)\n",
      "\n",
      "Installing package(s) 'BiocVersion'\n",
      "\n",
      "Updating HTML index of packages in '.Library'\n",
      "\n",
      "Making 'packages.html' ...\n",
      " done\n",
      "\n",
      "Old packages: 'arkhe', 'brew', 'broom', 'cachem', 'caret', 'class', 'classInt',\n",
      "  'cli', 'codetools', 'colorspace', 'conflicted', 'covr', 'credentials',\n",
      "  'curl', 'data.table', 'dbplyr', 'devtools', 'dplyr', 'DT', 'dtplyr', 'e1071',\n",
      "  'evaluate', 'expm', 'fansi', 'fastmap', 'FNN', 'fontawesome', 'forcats',\n",
      "  'forecast', 'fracdiff', 'fs', 'future', 'gargle', 'gert', 'ggplot2',\n",
      "  'ggrepel', 'gh', 'git2r', 'gitcreds', 'gower', 'gstat', 'gtools', 'haven',\n",
      "  'highr', 'htmlwidgets', 'httpuv', 'httr', 'IRdisplay', 'IRkernel', 'isoband',\n",
      "  'janitor', 'keras', 'knitr', 'lava', 'lhs', 'lmtest', 'lubridate',\n",
      "  'markdown', 'MASS', 'Matrix', 'mgcv', 'modeldata', 'nlme', 'nloptr', 'nnet',\n",
      "  'parallelly', 'parsnip', 'pbdZMQ', 'pkgbuild', 'plyr', 'png', 'progressr',\n",
      "  'proxy', 'purrr', 'quantmod', 'randomForest', 'raster', 'Rcpp',\n",
      "  'RcppArmadillo', 'RcppTOML', 'RCurl', 'readr', 'readxl', 'recipes',\n",
      "  'remotes', 'renv', 'repr', 'reticulate', 'rex', 'rmarkdown', 'RODBC',\n",
      "  'roxygen2', 'rpart', 'RSQLite', 'rversions', 's2', 'sass', 'sessioninfo',\n",
      "  'skimr', 'sourcetools', 'sp', 'spatial', 'spatialreg', 'spData', 'spdep',\n",
      "  'spiderbar', 'stringi', 'survival', 'tensorflow', 'terra', 'tidyr',\n",
      "  'tidyverse', 'timechange', 'timeDate', 'tinytex', 'tseries', 'TTR', 'units',\n",
      "  'urca', 'usethis', 'utf8', 'vctrs', 'visdat', 'vroom', 'whisker', 'wk',\n",
      "  'workflows', 'xfun', 'xts', 'yaml', 'zip', 'zoo'\n",
      "\n",
      "'getOption(\"repos\")' replaces Bioconductor standard repositories, see\n",
      "'help(\"repositories\", package = \"BiocManager\")' for details.\n",
      "Replacement repositories:\n",
      "    CRAN: https://cran.r-project.org\n",
      "\n",
      "Bioconductor version 3.14 (BiocManager 1.30.20), R 4.1.1 (2021-08-10)\n",
      "\n",
      "Installing package(s) 'GEOquery', 'e1071'\n",
      "\n",
      "also installing the dependencies ‘BiocGenerics’, ‘R.oo’, ‘R.methodsS3’, ‘Biobase’, ‘R.utils’, ‘limma’\n",
      "\n",
      "\n",
      "Updating HTML index of packages in '.Library'\n",
      "\n",
      "Making 'packages.html' ...\n",
      " done\n",
      "\n",
      "Old packages: 'arkhe', 'brew', 'broom', 'cachem', 'caret', 'class', 'classInt',\n",
      "  'cli', 'codetools', 'colorspace', 'conflicted', 'covr', 'credentials',\n",
      "  'curl', 'data.table', 'dbplyr', 'devtools', 'dplyr', 'DT', 'dtplyr',\n",
      "  'evaluate', 'expm', 'fansi', 'fastmap', 'FNN', 'fontawesome', 'forcats',\n",
      "  'forecast', 'fracdiff', 'fs', 'future', 'gargle', 'gert', 'ggplot2',\n",
      "  'ggrepel', 'gh', 'git2r', 'gitcreds', 'gower', 'gstat', 'gtools', 'haven',\n",
      "  'highr', 'htmlwidgets', 'httpuv', 'httr', 'IRdisplay', 'IRkernel', 'isoband',\n",
      "  'janitor', 'keras', 'knitr', 'lava', 'lhs', 'lmtest', 'lubridate',\n",
      "  'markdown', 'MASS', 'Matrix', 'mgcv', 'modeldata', 'nlme', 'nloptr', 'nnet',\n",
      "  'parallelly', 'parsnip', 'pbdZMQ', 'pkgbuild', 'plyr', 'png', 'progressr',\n",
      "  'proxy', 'purrr', 'quantmod', 'randomForest', 'raster', 'Rcpp',\n",
      "  'RcppArmadillo', 'RcppTOML', 'RCurl', 'readr', 'readxl', 'recipes',\n",
      "  'remotes', 'renv', 'repr', 'reticulate', 'rex', 'rmarkdown', 'RODBC',\n",
      "  'roxygen2', 'rpart', 'RSQLite', 'rversions', 's2', 'sass', 'sessioninfo',\n",
      "  'skimr', 'sourcetools', 'sp', 'spatial', 'spatialreg', 'spData', 'spdep',\n",
      "  'spiderbar', 'stringi', 'survival', 'tensorflow', 'terra', 'tidyr',\n",
      "  'tidyverse', 'timechange', 'timeDate', 'tinytex', 'tseries', 'TTR', 'units',\n",
      "  'urca', 'usethis', 'utf8', 'vctrs', 'visdat', 'vroom', 'whisker', 'wk',\n",
      "  'workflows', 'xfun', 'xts', 'yaml', 'zip', 'zoo'\n",
      "\n",
      "Loading required package: Biobase\n",
      "\n",
      "Loading required package: BiocGenerics\n",
      "\n",
      "\n",
      "Attaching package: ‘BiocGenerics’\n",
      "\n",
      "\n",
      "The following objects are masked from ‘package:stats’:\n",
      "\n",
      "    IQR, mad, sd, var, xtabs\n",
      "\n",
      "\n",
      "The following objects are masked from ‘package:base’:\n",
      "\n",
      "    anyDuplicated, append, as.data.frame, basename, cbind, colnames,\n",
      "    dirname, do.call, duplicated, eval, evalq, Filter, Find, get, grep,\n",
      "    grepl, intersect, is.unsorted, lapply, Map, mapply, match, mget,\n",
      "    order, paste, pmax, pmax.int, pmin, pmin.int, Position, rank,\n",
      "    rbind, Reduce, rownames, sapply, setdiff, sort, table, tapply,\n",
      "    union, unique, unsplit, which.max, which.min\n",
      "\n",
      "\n",
      "Welcome to Bioconductor\n",
      "\n",
      "    Vignettes contain introductory material; view with\n",
      "    'browseVignettes()'. To cite Bioconductor, see\n",
      "    'citation(\"Biobase\")', and for packages 'citation(\"pkgname\")'.\n",
      "\n",
      "\n",
      "Setting options('download.file.method.GEOquery'='auto')\n",
      "\n",
      "Setting options('GEOquery.inmemory.gpl'=FALSE)\n",
      "\n",
      "Loading required package: ggplot2\n",
      "\n",
      "Loading required package: lattice\n",
      "\n"
     ]
    },
    {
     "data": {
      "text/html": [
       "<style>\n",
       ".list-inline {list-style: none; margin:0; padding: 0}\n",
       ".list-inline>li {display: inline-block}\n",
       ".list-inline>li:not(:last-child)::after {content: \"\\00b7\"; padding: 0 .5ex}\n",
       "</style>\n",
       "<ol class=list-inline><li>ALL</li><li>CLL</li><li>AML</li><li>CML</li><li>healthy</li><li>MDS</li><li>Infection</li><li>AMKL</li><li>DS transient myeloproliferative disorder</li><li>Diabetes Type I</li><li>Diabetes Type II</li><li>clinically isolated syndrome</li></ol>\n",
       "\n",
       "<details>\n",
       "\t<summary style=display:list-item;cursor:pointer>\n",
       "\t\t<strong>Levels</strong>:\n",
       "\t</summary>\n",
       "\t<style>\n",
       "\t.list-inline {list-style: none; margin:0; padding: 0}\n",
       "\t.list-inline>li {display: inline-block}\n",
       "\t.list-inline>li:not(:last-child)::after {content: \"\\00b7\"; padding: 0 .5ex}\n",
       "\t</style>\n",
       "\t<ol class=list-inline><li>'ALL'</li><li>'AMKL'</li><li>'AML'</li><li>'clinically isolated syndrome'</li><li>'CLL'</li><li>'CML'</li><li>'Diabetes Type I'</li><li>'Diabetes Type II'</li><li>'DS transient myeloproliferative disorder'</li><li>'healthy'</li><li>'Infection'</li><li>'MDS'</li><li>'Breast cancer'</li><li>'Chronic Allograft Nephropathy'</li><li>'COPD'</li><li>'Dengue fever'</li><li>'endarterectomy operation'</li><li>'Hypersensitivity Pnemonitis'</li><li>'immunosuppression'</li><li>'JDM'</li><li>'JIA'</li><li>'MS'</li><li>'periodontitis'</li><li>'RSV Infection'</li><li>'Sarcoidosis'</li><li>'schizophrenia'</li><li>'Sepsis'</li><li>'SLE'</li><li>'transplant rejection'</li><li>'unknown cancer'</li><li>'Alport\\'s/Famil Hered neph'</li><li>'Cystinosis'</li><li>'Diabetes Type 1'</li><li>'Diabetes Type 2'</li><li>'FSGS-Focal sclerosing GN'</li><li>'Glom-sclerosis,chr&amp;unspecified'</li><li>'GN-membranous glom.nephritis'</li><li>'GN-other chronicGlom.nephritis'</li><li>'HRV infection'</li><li>'Hypertension, nephrosclerosis'</li><li>'influenca vaccination'</li><li>'Lupus (SLE)'</li><li>'Lyme disease'</li><li>'MPGN-membranoproliferative?typ'</li><li>'Nephritis'</li><li>'Nephropathy, IgA (Bergers)'</li><li>'Plasmodium vivax challenge'</li><li>'Polycystic'</li><li>'RSV infection'</li><li>'T.ALL'</li><li>'TB.vaccination'</li><li>'Thin basement membrane dz'</li><li>'Unknown'</li><li>'Wegener\\'s Granulomatosis'</li></ol>\n",
       "</details>"
      ],
      "text/latex": [
       "\\begin{enumerate*}\n",
       "\\item ALL\n",
       "\\item CLL\n",
       "\\item AML\n",
       "\\item CML\n",
       "\\item healthy\n",
       "\\item MDS\n",
       "\\item Infection\n",
       "\\item AMKL\n",
       "\\item DS transient myeloproliferative disorder\n",
       "\\item Diabetes Type I\n",
       "\\item Diabetes Type II\n",
       "\\item clinically isolated syndrome\n",
       "\\end{enumerate*}\n",
       "\n",
       "\\emph{Levels}: \\begin{enumerate*}\n",
       "\\item 'ALL'\n",
       "\\item 'AMKL'\n",
       "\\item 'AML'\n",
       "\\item 'clinically isolated syndrome'\n",
       "\\item 'CLL'\n",
       "\\item 'CML'\n",
       "\\item 'Diabetes Type I'\n",
       "\\item 'Diabetes Type II'\n",
       "\\item 'DS transient myeloproliferative disorder'\n",
       "\\item 'healthy'\n",
       "\\item 'Infection'\n",
       "\\item 'MDS'\n",
       "\\item 'Breast cancer'\n",
       "\\item 'Chronic Allograft Nephropathy'\n",
       "\\item 'COPD'\n",
       "\\item 'Dengue fever'\n",
       "\\item 'endarterectomy operation'\n",
       "\\item 'Hypersensitivity Pnemonitis'\n",
       "\\item 'immunosuppression'\n",
       "\\item 'JDM'\n",
       "\\item 'JIA'\n",
       "\\item 'MS'\n",
       "\\item 'periodontitis'\n",
       "\\item 'RSV Infection'\n",
       "\\item 'Sarcoidosis'\n",
       "\\item 'schizophrenia'\n",
       "\\item 'Sepsis'\n",
       "\\item 'SLE'\n",
       "\\item 'transplant rejection'\n",
       "\\item 'unknown cancer'\n",
       "\\item 'Alport\\textbackslash{}'s/Famil Hered neph'\n",
       "\\item 'Cystinosis'\n",
       "\\item 'Diabetes Type 1'\n",
       "\\item 'Diabetes Type 2'\n",
       "\\item 'FSGS-Focal sclerosing GN'\n",
       "\\item 'Glom-sclerosis,chr\\&unspecified'\n",
       "\\item 'GN-membranous glom.nephritis'\n",
       "\\item 'GN-other chronicGlom.nephritis'\n",
       "\\item 'HRV infection'\n",
       "\\item 'Hypertension, nephrosclerosis'\n",
       "\\item 'influenca vaccination'\n",
       "\\item 'Lupus (SLE)'\n",
       "\\item 'Lyme disease'\n",
       "\\item 'MPGN-membranoproliferative?typ'\n",
       "\\item 'Nephritis'\n",
       "\\item 'Nephropathy, IgA (Bergers)'\n",
       "\\item 'Plasmodium vivax challenge'\n",
       "\\item 'Polycystic'\n",
       "\\item 'RSV infection'\n",
       "\\item 'T.ALL'\n",
       "\\item 'TB.vaccination'\n",
       "\\item 'Thin basement membrane dz'\n",
       "\\item 'Unknown'\n",
       "\\item 'Wegener\\textbackslash{}'s Granulomatosis'\n",
       "\\end{enumerate*}\n"
      ],
      "text/markdown": [
       "1. ALL\n",
       "2. CLL\n",
       "3. AML\n",
       "4. CML\n",
       "5. healthy\n",
       "6. MDS\n",
       "7. Infection\n",
       "8. AMKL\n",
       "9. DS transient myeloproliferative disorder\n",
       "10. Diabetes Type I\n",
       "11. Diabetes Type II\n",
       "12. clinically isolated syndrome\n",
       "\n",
       "\n",
       "\n",
       "**Levels**: 1. 'ALL'\n",
       "2. 'AMKL'\n",
       "3. 'AML'\n",
       "4. 'clinically isolated syndrome'\n",
       "5. 'CLL'\n",
       "6. 'CML'\n",
       "7. 'Diabetes Type I'\n",
       "8. 'Diabetes Type II'\n",
       "9. 'DS transient myeloproliferative disorder'\n",
       "10. 'healthy'\n",
       "11. 'Infection'\n",
       "12. 'MDS'\n",
       "13. 'Breast cancer'\n",
       "14. 'Chronic Allograft Nephropathy'\n",
       "15. 'COPD'\n",
       "16. 'Dengue fever'\n",
       "17. 'endarterectomy operation'\n",
       "18. 'Hypersensitivity Pnemonitis'\n",
       "19. 'immunosuppression'\n",
       "20. 'JDM'\n",
       "21. 'JIA'\n",
       "22. 'MS'\n",
       "23. 'periodontitis'\n",
       "24. 'RSV Infection'\n",
       "25. 'Sarcoidosis'\n",
       "26. 'schizophrenia'\n",
       "27. 'Sepsis'\n",
       "28. 'SLE'\n",
       "29. 'transplant rejection'\n",
       "30. 'unknown cancer'\n",
       "31. 'Alport\\'s/Famil Hered neph'\n",
       "32. 'Cystinosis'\n",
       "33. 'Diabetes Type 1'\n",
       "34. 'Diabetes Type 2'\n",
       "35. 'FSGS-Focal sclerosing GN'\n",
       "36. 'Glom-sclerosis,chr&amp;unspecified'\n",
       "37. 'GN-membranous glom.nephritis'\n",
       "38. 'GN-other chronicGlom.nephritis'\n",
       "39. 'HRV infection'\n",
       "40. 'Hypertension, nephrosclerosis'\n",
       "41. 'influenca vaccination'\n",
       "42. 'Lupus (SLE)'\n",
       "43. 'Lyme disease'\n",
       "44. 'MPGN-membranoproliferative?typ'\n",
       "45. 'Nephritis'\n",
       "46. 'Nephropathy, IgA (Bergers)'\n",
       "47. 'Plasmodium vivax challenge'\n",
       "48. 'Polycystic'\n",
       "49. 'RSV infection'\n",
       "50. 'T.ALL'\n",
       "51. 'TB.vaccination'\n",
       "52. 'Thin basement membrane dz'\n",
       "53. 'Unknown'\n",
       "54. 'Wegener\\'s Granulomatosis'\n",
       "\n",
       "\n"
      ],
      "text/plain": [
       " [1] ALL                                     \n",
       " [2] CLL                                     \n",
       " [3] AML                                     \n",
       " [4] CML                                     \n",
       " [5] healthy                                 \n",
       " [6] MDS                                     \n",
       " [7] Infection                               \n",
       " [8] AMKL                                    \n",
       " [9] DS transient myeloproliferative disorder\n",
       "[10] Diabetes Type I                         \n",
       "[11] Diabetes Type II                        \n",
       "[12] clinically isolated syndrome            \n",
       "54 Levels: ALL AMKL AML clinically isolated syndrome CLL ... Wegener's Granulomatosis"
      ]
     },
     "metadata": {},
     "output_type": "display_data"
    },
    {
     "name": "stdout",
     "output_type": "stream",
     "text": [
      " Factor w/ 54 levels \"ALL\",\"AMKL\",\"AML\",..: 1 5 3 6 10 12 11 2 9 7 ...\n"
     ]
    },
    {
     "data": {
      "text/html": [
       "<style>\n",
       ".list-inline {list-style: none; margin:0; padding: 0}\n",
       ".list-inline>li {display: inline-block}\n",
       ".list-inline>li:not(:last-child)::after {content: \"\\00b7\"; padding: 0 .5ex}\n",
       "</style>\n",
       "<ol class=list-inline><li>2079</li><li>1314</li><li>1710</li><li>290</li><li>1298</li><li>1976</li><li>2244</li><li>1334</li><li>1343</li><li>79</li><li>238</li><li>43</li><li>874</li><li>1512</li><li>1089</li><li>601</li><li>277</li><li>1732</li><li>493</li><li>152</li></ol>\n"
      ],
      "text/latex": [
       "\\begin{enumerate*}\n",
       "\\item 2079\n",
       "\\item 1314\n",
       "\\item 1710\n",
       "\\item 290\n",
       "\\item 1298\n",
       "\\item 1976\n",
       "\\item 2244\n",
       "\\item 1334\n",
       "\\item 1343\n",
       "\\item 79\n",
       "\\item 238\n",
       "\\item 43\n",
       "\\item 874\n",
       "\\item 1512\n",
       "\\item 1089\n",
       "\\item 601\n",
       "\\item 277\n",
       "\\item 1732\n",
       "\\item 493\n",
       "\\item 152\n",
       "\\end{enumerate*}\n"
      ],
      "text/markdown": [
       "1. 2079\n",
       "2. 1314\n",
       "3. 1710\n",
       "4. 290\n",
       "5. 1298\n",
       "6. 1976\n",
       "7. 2244\n",
       "8. 1334\n",
       "9. 1343\n",
       "10. 79\n",
       "11. 238\n",
       "12. 43\n",
       "13. 874\n",
       "14. 1512\n",
       "15. 1089\n",
       "16. 601\n",
       "17. 277\n",
       "18. 1732\n",
       "19. 493\n",
       "20. 152\n",
       "\n",
       "\n"
      ],
      "text/plain": [
       " [1] 2079 1314 1710  290 1298 1976 2244 1334 1343   79  238   43  874 1512 1089\n",
       "[16]  601  277 1732  493  152"
      ]
     },
     "metadata": {},
     "output_type": "display_data"
    }
   ],
   "source": [
    "if (!require(\"BiocManager\", quietly = TRUE))\n",
    "    install.packages(\"BiocManager\")\n",
    "BiocManager::install(version = \"3.14\")\n",
    "\n",
    "BiocManager::install(c(\"GEOquery\", \"e1071\"))\n",
    "library(GEOquery)\n",
    "library(e1071)\n",
    "library(caret)\n",
    "\n",
    "load (\"AML_datasets.RData\")\n",
    "\n",
    "rm (data.2, data.3, info.2, info.3)\n",
    "\n",
    "un.diseases <- unique(info.1$Disease)\n",
    "un.diseases\n",
    "\n",
    "str(un.diseases)\n",
    "\n",
    "aml.ind <- which (info.1$Disease == \"AML\")\n",
    "\n",
    "non.aml.ind <- which(info.1$Disease != \"AML\")\n",
    "\n",
    "aml.prognosis <- rep(0, length(info.1$Disease))\n",
    "aml.prognosis[aml.ind] <- 1\n",
    "\n",
    "set.seed(234)\n",
    "data.inds <- 1:2500\n",
    "shuffled.inds <- sample(data.inds)\n",
    "shuffled.inds[1:20]\n",
    "\n",
    "fold1.ind <- shuffled.inds[1:500]\n",
    "fold2.ind <- shuffled.inds[501:1000]\n",
    "fold3.ind <- shuffled.inds[1001:1500]\n",
    "fold4.ind <- shuffled.inds[1501:2000]\n",
    "fold5.ind <- shuffled.inds[2001:2500]"
   ]
  },
  {
   "cell_type": "markdown",
   "id": "275179ba-8966-463b-8565-737c9d0e2cc4",
   "metadata": {},
   "source": [
    "### Fold 1"
   ]
  },
  {
   "cell_type": "code",
   "execution_count": 2,
   "id": "3ee95f78-11b3-426e-a8d0-7296a93612bf",
   "metadata": {
    "collapsed": true,
    "jupyter": {
     "outputs_hidden": true
    },
    "tags": []
   },
   "outputs": [
    {
     "data": {
      "text/html": [
       "<style>\n",
       ".list-inline {list-style: none; margin:0; padding: 0}\n",
       ".list-inline>li {display: inline-block}\n",
       ".list-inline>li:not(:last-child)::after {content: \"\\00b7\"; padding: 0 .5ex}\n",
       "</style>\n",
       "<ol class=list-inline><li>12708</li><li>2500</li></ol>\n"
      ],
      "text/latex": [
       "\\begin{enumerate*}\n",
       "\\item 12708\n",
       "\\item 2500\n",
       "\\end{enumerate*}\n"
      ],
      "text/markdown": [
       "1. 12708\n",
       "2. 2500\n",
       "\n",
       "\n"
      ],
      "text/plain": [
       "[1] 12708  2500"
      ]
     },
     "metadata": {},
     "output_type": "display_data"
    },
    {
     "data": {
      "text/html": [
       "<style>\n",
       ".list-inline {list-style: none; margin:0; padding: 0}\n",
       ".list-inline>li {display: inline-block}\n",
       ".list-inline>li:not(:last-child)::after {content: \"\\00b7\"; padding: 0 .5ex}\n",
       "</style>\n",
       "<ol class=list-inline><li>2500</li><li>8</li></ol>\n"
      ],
      "text/latex": [
       "\\begin{enumerate*}\n",
       "\\item 2500\n",
       "\\item 8\n",
       "\\end{enumerate*}\n"
      ],
      "text/markdown": [
       "1. 2500\n",
       "2. 8\n",
       "\n",
       "\n"
      ],
      "text/plain": [
       "[1] 2500    8"
      ]
     },
     "metadata": {},
     "output_type": "display_data"
    },
    {
     "data": {
      "text/html": [
       "986"
      ],
      "text/latex": [
       "986"
      ],
      "text/markdown": [
       "986"
      ],
      "text/plain": [
       "[1] 986"
      ]
     },
     "metadata": {},
     "output_type": "display_data"
    },
    {
     "data": {
      "text/html": [
       "2500"
      ],
      "text/latex": [
       "2500"
      ],
      "text/markdown": [
       "2500"
      ],
      "text/plain": [
       "[1] 2500"
      ]
     },
     "metadata": {},
     "output_type": "display_data"
    },
    {
     "data": {
      "text/html": [
       "2449"
      ],
      "text/latex": [
       "2449"
      ],
      "text/markdown": [
       "2449"
      ],
      "text/plain": [
       "[1] 2449"
      ]
     },
     "metadata": {},
     "output_type": "display_data"
    },
    {
     "data": {
      "text/html": [
       "<style>\n",
       ".dl-inline {width: auto; margin:0; padding: 0}\n",
       ".dl-inline>dt, .dl-inline>dd {float: none; width: auto; display: inline-block}\n",
       ".dl-inline>dt::after {content: \":\\0020\"; padding-right: .5ex}\n",
       ".dl-inline>dt:not(:first-of-type) {padding-left: .5ex}\n",
       "</style><dl class=dl-inline><dt>0%</dt><dd>-0.784753835238906</dd><dt>10%</dt><dd>-0.280795451742236</dd><dt>25%</dt><dd>-0.196402448653759</dd><dt>50%</dt><dd>-0.0640469973950075</dd><dt>75%</dt><dd>0.148841272123968</dd><dt>90%</dt><dd>0.320709216232615</dd><dt>100%</dt><dd>0.742648493836033</dd></dl>\n"
      ],
      "text/latex": [
       "\\begin{description*}\n",
       "\\item[0\\textbackslash{}\\%] -0.784753835238906\n",
       "\\item[10\\textbackslash{}\\%] -0.280795451742236\n",
       "\\item[25\\textbackslash{}\\%] -0.196402448653759\n",
       "\\item[50\\textbackslash{}\\%] -0.0640469973950075\n",
       "\\item[75\\textbackslash{}\\%] 0.148841272123968\n",
       "\\item[90\\textbackslash{}\\%] 0.320709216232615\n",
       "\\item[100\\textbackslash{}\\%] 0.742648493836033\n",
       "\\end{description*}\n"
      ],
      "text/markdown": [
       "0%\n",
       ":   -0.78475383523890610%\n",
       ":   -0.28079545174223625%\n",
       ":   -0.19640244865375950%\n",
       ":   -0.064046997395007575%\n",
       ":   0.14884127212396890%\n",
       ":   0.320709216232615100%\n",
       ":   0.742648493836033\n",
       "\n"
      ],
      "text/plain": [
       "        0%        10%        25%        50%        75%        90%       100% \n",
       "-0.7847538 -0.2807955 -0.1964024 -0.0640470  0.1488413  0.3207092  0.7426485 "
      ]
     },
     "metadata": {},
     "output_type": "display_data"
    },
    {
     "data": {
      "text/html": [
       "11378"
      ],
      "text/latex": [
       "11378"
      ],
      "text/markdown": [
       "11378"
      ],
      "text/plain": [
       "[1] 11378"
      ]
     },
     "metadata": {},
     "output_type": "display_data"
    },
    {
     "data": {
      "text/html": [
       "10936"
      ],
      "text/latex": [
       "10936"
      ],
      "text/markdown": [
       "10936"
      ],
      "text/plain": [
       "[1] 10936"
      ]
     },
     "metadata": {},
     "output_type": "display_data"
    },
    {
     "data": {
      "text/html": [
       "10020"
      ],
      "text/latex": [
       "10020"
      ],
      "text/markdown": [
       "10020"
      ],
      "text/plain": [
       "[1] 10020"
      ]
     },
     "metadata": {},
     "output_type": "display_data"
    },
    {
     "data": {
      "text/html": [
       "9456"
      ],
      "text/latex": [
       "9456"
      ],
      "text/markdown": [
       "9456"
      ],
      "text/plain": [
       "[1] 9456"
      ]
     },
     "metadata": {},
     "output_type": "display_data"
    },
    {
     "data": {
      "text/html": [
       "9220"
      ],
      "text/latex": [
       "9220"
      ],
      "text/markdown": [
       "9220"
      ],
      "text/plain": [
       "[1] 9220"
      ]
     },
     "metadata": {},
     "output_type": "display_data"
    },
    {
     "data": {
      "text/html": [
       "8575"
      ],
      "text/latex": [
       "8575"
      ],
      "text/markdown": [
       "8575"
      ],
      "text/plain": [
       "[1] 8575"
      ]
     },
     "metadata": {},
     "output_type": "display_data"
    },
    {
     "name": "stdout",
     "output_type": "stream",
     "text": [
      "Accuracy of linear SVM model: 407 1143 2853 3017 12146 12390 3098 12269 11334 5604 2544 12624 7634 565 3844 9988 11900 7012 3047 9338 1360 3621 3416 2027 113 5945 3034 2855 11054 2177 1497 4066 305 1578 1522 9239 8029 2614 6606 1413 3733 1856 8517 9129 4806 1488 5530 193 1804 568 389 5277 7587 2835 400 1106 12169 10476 9387 9639 7103 7545 4249 3628 4895 4512 10837 7078 6958 539 9789 2303 3035 1754 1342 11460 7171 5866 3257 11941 3764 9877 302 735 279 2304 5749 1780 10511 9096 283 10774 2123 12643 553 2586 243 5354 399 7055 \n"
     ]
    },
    {
     "data": {
      "image/png": "[encoded data removed]",
      "text/plain": [
       "Plot with title “Histogram of cor.vec”"
      ]
     },
     "metadata": {
      "image/png": {
       "height": 420,
       "width": 420
      }
     },
     "output_type": "display_data"
    }
   ],
   "source": [
    "rm.fold <- fold1.ind\n",
    "my.data <- cbind(data.1[,-rm.fold],data.1[,rm.fold])\n",
    "dim(my.data)\n",
    "my.info <- rbind(info.1[-rm.fold,],info.1[rm.fold,])\n",
    "dim(my.info)\n",
    "\n",
    "aml.prognosis <- rep(0, length(my.info$Disease))\n",
    "aml.prognosis[which (my.info$Disease == \"AML\")] <- 1\n",
    "sum(aml.prognosis)\n",
    "length(aml.prognosis)\n",
    "\n",
    "### Feature Selection with Correlation, Fold 1\n",
    "\n",
    "cor.vec <- apply (my.data[,1:2000], 1, function (x){cor(x, aml.prognosis[1:2000])})\n",
    "hist (cor.vec)\n",
    "\n",
    "gene.ind <- c(which(cor.vec > 0.3), which(cor.vec < -0.3))\n",
    "length (gene.ind) # just to see how many genes get selected\n",
    "\n",
    "quantile (cor.vec, probs=c(0, 0.1, 0.25, 0.5, 0.75, 0.9, 1))\n",
    "\n",
    "\n",
    "### Feature Selection with T-test, Fold 1\n",
    "\n",
    "zero.ind <- which(aml.prognosis[1:2000] == 0)\n",
    "one.ind <- which(aml.prognosis[1:2000] == 1)\n",
    "ttest.vec <- apply (my.data, 1, function (x){(t.test(x[one.ind] , x[zero.ind]))$p.value})\n",
    "\n",
    "sum (ttest.vec < 0.05)\n",
    "sum (ttest.vec < 0.01)\n",
    "sum (ttest.vec < 0.0001)\n",
    "adj.ttest.vec <- p.adjust (ttest.vec, method=\"bonferroni\")\n",
    "sum (adj.ttest.vec < 0.05)\n",
    "sum (adj.ttest.vec < 0.01)\n",
    "sum (adj.ttest.vec < 0.0001)\n",
    "\n",
    "ret.order <- order (ttest.vec)\n",
    "gene.ind2.fold1 <- ret.order[1:100]\n",
    "\n",
    "cat(\"Accuracy of linear SVM model:\", gene.ind2.fold1, \"\\n\")"
   ]
  },
  {
   "cell_type": "markdown",
   "id": "eb873216-f5d3-4b86-89e2-cd0011f4911b",
   "metadata": {
    "tags": []
   },
   "source": [
    "### Fold 2"
   ]
  },
  {
   "cell_type": "code",
   "execution_count": 3,
   "id": "99c7204d-e8c7-4a74-a6e6-43338aa53a16",
   "metadata": {
    "collapsed": true,
    "jupyter": {
     "outputs_hidden": true
    },
    "tags": []
   },
   "outputs": [
    {
     "data": {
      "text/html": [
       "<style>\n",
       ".list-inline {list-style: none; margin:0; padding: 0}\n",
       ".list-inline>li {display: inline-block}\n",
       ".list-inline>li:not(:last-child)::after {content: \"\\00b7\"; padding: 0 .5ex}\n",
       "</style>\n",
       "<ol class=list-inline><li>12708</li><li>2500</li></ol>\n"
      ],
      "text/latex": [
       "\\begin{enumerate*}\n",
       "\\item 12708\n",
       "\\item 2500\n",
       "\\end{enumerate*}\n"
      ],
      "text/markdown": [
       "1. 12708\n",
       "2. 2500\n",
       "\n",
       "\n"
      ],
      "text/plain": [
       "[1] 12708  2500"
      ]
     },
     "metadata": {},
     "output_type": "display_data"
    },
    {
     "data": {
      "text/html": [
       "<style>\n",
       ".list-inline {list-style: none; margin:0; padding: 0}\n",
       ".list-inline>li {display: inline-block}\n",
       ".list-inline>li:not(:last-child)::after {content: \"\\00b7\"; padding: 0 .5ex}\n",
       "</style>\n",
       "<ol class=list-inline><li>2500</li><li>8</li></ol>\n"
      ],
      "text/latex": [
       "\\begin{enumerate*}\n",
       "\\item 2500\n",
       "\\item 8\n",
       "\\end{enumerate*}\n"
      ],
      "text/markdown": [
       "1. 2500\n",
       "2. 8\n",
       "\n",
       "\n"
      ],
      "text/plain": [
       "[1] 2500    8"
      ]
     },
     "metadata": {},
     "output_type": "display_data"
    },
    {
     "data": {
      "text/html": [
       "986"
      ],
      "text/latex": [
       "986"
      ],
      "text/markdown": [
       "986"
      ],
      "text/plain": [
       "[1] 986"
      ]
     },
     "metadata": {},
     "output_type": "display_data"
    },
    {
     "data": {
      "text/html": [
       "2500"
      ],
      "text/latex": [
       "2500"
      ],
      "text/markdown": [
       "2500"
      ],
      "text/plain": [
       "[1] 2500"
      ]
     },
     "metadata": {},
     "output_type": "display_data"
    },
    {
     "data": {
      "text/html": [
       "2435"
      ],
      "text/latex": [
       "2435"
      ],
      "text/markdown": [
       "2435"
      ],
      "text/plain": [
       "[1] 2435"
      ]
     },
     "metadata": {},
     "output_type": "display_data"
    },
    {
     "data": {
      "text/html": [
       "<style>\n",
       ".dl-inline {width: auto; margin:0; padding: 0}\n",
       ".dl-inline>dt, .dl-inline>dd {float: none; width: auto; display: inline-block}\n",
       ".dl-inline>dt::after {content: \":\\0020\"; padding-right: .5ex}\n",
       ".dl-inline>dt:not(:first-of-type) {padding-left: .5ex}\n",
       "</style><dl class=dl-inline><dt>0%</dt><dd>-0.777077865051546</dd><dt>10%</dt><dd>-0.279836547179594</dd><dt>25%</dt><dd>-0.196082165300548</dd><dt>50%</dt><dd>-0.0643676359949342</dd><dt>75%</dt><dd>0.150324015486889</dd><dt>90%</dt><dd>0.319650934451393</dd><dt>100%</dt><dd>0.737648840590825</dd></dl>\n"
      ],
      "text/latex": [
       "\\begin{description*}\n",
       "\\item[0\\textbackslash{}\\%] -0.777077865051546\n",
       "\\item[10\\textbackslash{}\\%] -0.279836547179594\n",
       "\\item[25\\textbackslash{}\\%] -0.196082165300548\n",
       "\\item[50\\textbackslash{}\\%] -0.0643676359949342\n",
       "\\item[75\\textbackslash{}\\%] 0.150324015486889\n",
       "\\item[90\\textbackslash{}\\%] 0.319650934451393\n",
       "\\item[100\\textbackslash{}\\%] 0.737648840590825\n",
       "\\end{description*}\n"
      ],
      "text/markdown": [
       "0%\n",
       ":   -0.77707786505154610%\n",
       ":   -0.27983654717959425%\n",
       ":   -0.19608216530054850%\n",
       ":   -0.064367635994934275%\n",
       ":   0.15032401548688990%\n",
       ":   0.319650934451393100%\n",
       ":   0.737648840590825\n",
       "\n"
      ],
      "text/plain": [
       "         0%         10%         25%         50%         75%         90% \n",
       "-0.77707787 -0.27983655 -0.19608217 -0.06436764  0.15032402  0.31965093 \n",
       "       100% \n",
       " 0.73764884 "
      ]
     },
     "metadata": {},
     "output_type": "display_data"
    },
    {
     "data": {
      "text/html": [
       "1459"
      ],
      "text/latex": [
       "1459"
      ],
      "text/markdown": [
       "1459"
      ],
      "text/plain": [
       "[1] 1459"
      ]
     },
     "metadata": {},
     "output_type": "display_data"
    },
    {
     "data": {
      "text/html": [
       "976"
      ],
      "text/latex": [
       "976"
      ],
      "text/markdown": [
       "976"
      ],
      "text/plain": [
       "[1] 976"
      ]
     },
     "metadata": {},
     "output_type": "display_data"
    },
    {
     "data": {
      "text/html": [
       "2435"
      ],
      "text/latex": [
       "2435"
      ],
      "text/markdown": [
       "2435"
      ],
      "text/plain": [
       "[1] 2435"
      ]
     },
     "metadata": {},
     "output_type": "display_data"
    },
    {
     "data": {
      "text/html": [
       "11385"
      ],
      "text/latex": [
       "11385"
      ],
      "text/markdown": [
       "11385"
      ],
      "text/plain": [
       "[1] 11385"
      ]
     },
     "metadata": {},
     "output_type": "display_data"
    },
    {
     "data": {
      "text/html": [
       "10950"
      ],
      "text/latex": [
       "10950"
      ],
      "text/markdown": [
       "10950"
      ],
      "text/plain": [
       "[1] 10950"
      ]
     },
     "metadata": {},
     "output_type": "display_data"
    },
    {
     "data": {
      "text/html": [
       "10021"
      ],
      "text/latex": [
       "10021"
      ],
      "text/markdown": [
       "10021"
      ],
      "text/plain": [
       "[1] 10021"
      ]
     },
     "metadata": {},
     "output_type": "display_data"
    },
    {
     "data": {
      "text/html": [
       "9527"
      ],
      "text/latex": [
       "9527"
      ],
      "text/markdown": [
       "9527"
      ],
      "text/plain": [
       "[1] 9527"
      ]
     },
     "metadata": {},
     "output_type": "display_data"
    },
    {
     "data": {
      "text/html": [
       "9280"
      ],
      "text/latex": [
       "9280"
      ],
      "text/markdown": [
       "9280"
      ],
      "text/plain": [
       "[1] 9280"
      ]
     },
     "metadata": {},
     "output_type": "display_data"
    },
    {
     "data": {
      "text/html": [
       "8586"
      ],
      "text/latex": [
       "8586"
      ],
      "text/markdown": [
       "8586"
      ],
      "text/plain": [
       "[1] 8586"
      ]
     },
     "metadata": {},
     "output_type": "display_data"
    },
    {
     "data": {
      "image/png": "[encoded data removed]",
      "text/plain": [
       "Plot with title “Histogram of cor.vec”"
      ]
     },
     "metadata": {
      "image/png": {
       "height": 420,
       "width": 420
      }
     },
     "output_type": "display_data"
    }
   ],
   "source": [
    "rm.fold <- fold2.ind\n",
    "my.data <- cbind(data.1[,-rm.fold],data.1[,rm.fold])\n",
    "dim(my.data)\n",
    "my.info <- rbind(info.1[-rm.fold,],info.1[rm.fold,])\n",
    "dim(my.info)\n",
    "\n",
    "aml.prognosis <- rep(0, length(my.info$Disease))\n",
    "aml.prognosis[which (my.info$Disease == \"AML\")] <- 1\n",
    "sum(aml.prognosis)\n",
    "length(aml.prognosis)\n",
    "\n",
    "### Feature Selection with Correlation, Fold 2\n",
    "\n",
    "cor.vec <- apply (my.data[,1:2000], 1, function (x){cor(x, aml.prognosis[1:2000])})\n",
    "hist (cor.vec)\n",
    "\n",
    "gene.ind <- c(which(cor.vec > 0.3), which(cor.vec < -0.3))\n",
    "length (gene.ind) # just to see how many genes get selected\n",
    "\n",
    "quantile (cor.vec, probs=c(0, 0.1, 0.25, 0.5, 0.75, 0.9, 1))\n",
    "\n",
    "#from nki_02_25\n",
    "sum (cor.vec > 0.3)\n",
    "sum (cor.vec < -0.3)\n",
    "gene.ind <- c(which(cor.vec > 0.3), which(cor.vec < -0.3))\n",
    "length (gene.ind)\n",
    "\n",
    "### Feature Selection with T-test, Fold 2\n",
    "\n",
    "zero.ind <- which(aml.prognosis[1:2000] == 0)\n",
    "one.ind <- which(aml.prognosis[1:2000] == 1)\n",
    "ttest.vec <- apply (my.data, 1, function (x){(t.test(x[one.ind] , x[zero.ind]))$p.value})\n",
    "\n",
    "sum (ttest.vec < 0.05)\n",
    "sum (ttest.vec < 0.01)\n",
    "sum (ttest.vec < 0.0001)\n",
    "adj.ttest.vec <- p.adjust (ttest.vec, method=\"bonferroni\")\n",
    "sum (adj.ttest.vec < 0.05)\n",
    "sum (adj.ttest.vec < 0.01)\n",
    "sum (adj.ttest.vec < 0.0001)\n",
    "\n",
    "ret.order <- order (ttest.vec)\n",
    "#100 genes with lowest pvalues\n",
    "gene.ind2.fold2 <- ret.order[1:100]\n"
   ]
  },
  {
   "cell_type": "markdown",
   "id": "0a8f57a0-6913-47f0-8d30-36af06307cc1",
   "metadata": {
    "tags": []
   },
   "source": [
    "### Fold 3"
   ]
  },
  {
   "cell_type": "code",
   "execution_count": 4,
   "id": "d357b4cf-cf35-4325-b53a-66ea1c145459",
   "metadata": {
    "collapsed": true,
    "jupyter": {
     "outputs_hidden": true
    },
    "tags": []
   },
   "outputs": [
    {
     "data": {
      "text/html": [
       "<style>\n",
       ".list-inline {list-style: none; margin:0; padding: 0}\n",
       ".list-inline>li {display: inline-block}\n",
       ".list-inline>li:not(:last-child)::after {content: \"\\00b7\"; padding: 0 .5ex}\n",
       "</style>\n",
       "<ol class=list-inline><li>12708</li><li>2500</li></ol>\n"
      ],
      "text/latex": [
       "\\begin{enumerate*}\n",
       "\\item 12708\n",
       "\\item 2500\n",
       "\\end{enumerate*}\n"
      ],
      "text/markdown": [
       "1. 12708\n",
       "2. 2500\n",
       "\n",
       "\n"
      ],
      "text/plain": [
       "[1] 12708  2500"
      ]
     },
     "metadata": {},
     "output_type": "display_data"
    },
    {
     "data": {
      "text/html": [
       "<style>\n",
       ".list-inline {list-style: none; margin:0; padding: 0}\n",
       ".list-inline>li {display: inline-block}\n",
       ".list-inline>li:not(:last-child)::after {content: \"\\00b7\"; padding: 0 .5ex}\n",
       "</style>\n",
       "<ol class=list-inline><li>2500</li><li>8</li></ol>\n"
      ],
      "text/latex": [
       "\\begin{enumerate*}\n",
       "\\item 2500\n",
       "\\item 8\n",
       "\\end{enumerate*}\n"
      ],
      "text/markdown": [
       "1. 2500\n",
       "2. 8\n",
       "\n",
       "\n"
      ],
      "text/plain": [
       "[1] 2500    8"
      ]
     },
     "metadata": {},
     "output_type": "display_data"
    },
    {
     "data": {
      "text/html": [
       "986"
      ],
      "text/latex": [
       "986"
      ],
      "text/markdown": [
       "986"
      ],
      "text/plain": [
       "[1] 986"
      ]
     },
     "metadata": {},
     "output_type": "display_data"
    },
    {
     "data": {
      "text/html": [
       "2500"
      ],
      "text/latex": [
       "2500"
      ],
      "text/markdown": [
       "2500"
      ],
      "text/plain": [
       "[1] 2500"
      ]
     },
     "metadata": {},
     "output_type": "display_data"
    },
    {
     "data": {
      "text/html": [
       "2634"
      ],
      "text/latex": [
       "2634"
      ],
      "text/markdown": [
       "2634"
      ],
      "text/plain": [
       "[1] 2634"
      ]
     },
     "metadata": {},
     "output_type": "display_data"
    },
    {
     "data": {
      "text/html": [
       "<style>\n",
       ".dl-inline {width: auto; margin:0; padding: 0}\n",
       ".dl-inline>dt, .dl-inline>dd {float: none; width: auto; display: inline-block}\n",
       ".dl-inline>dt::after {content: \":\\0020\"; padding-right: .5ex}\n",
       ".dl-inline>dt:not(:first-of-type) {padding-left: .5ex}\n",
       "</style><dl class=dl-inline><dt>0%</dt><dd>-0.775708315335778</dd><dt>10%</dt><dd>-0.290430692062862</dd><dt>25%</dt><dd>-0.208051753716577</dd><dt>50%</dt><dd>-0.0659704665167109</dd><dt>75%</dt><dd>0.154703339961006</dd><dt>90%</dt><dd>0.32481922456415</dd><dt>100%</dt><dd>0.737263534811324</dd></dl>\n"
      ],
      "text/latex": [
       "\\begin{description*}\n",
       "\\item[0\\textbackslash{}\\%] -0.775708315335778\n",
       "\\item[10\\textbackslash{}\\%] -0.290430692062862\n",
       "\\item[25\\textbackslash{}\\%] -0.208051753716577\n",
       "\\item[50\\textbackslash{}\\%] -0.0659704665167109\n",
       "\\item[75\\textbackslash{}\\%] 0.154703339961006\n",
       "\\item[90\\textbackslash{}\\%] 0.32481922456415\n",
       "\\item[100\\textbackslash{}\\%] 0.737263534811324\n",
       "\\end{description*}\n"
      ],
      "text/markdown": [
       "0%\n",
       ":   -0.77570831533577810%\n",
       ":   -0.29043069206286225%\n",
       ":   -0.20805175371657750%\n",
       ":   -0.065970466516710975%\n",
       ":   0.15470333996100690%\n",
       ":   0.32481922456415100%\n",
       ":   0.737263534811324\n",
       "\n"
      ],
      "text/plain": [
       "         0%         10%         25%         50%         75%         90% \n",
       "-0.77570832 -0.29043069 -0.20805175 -0.06597047  0.15470334  0.32481922 \n",
       "       100% \n",
       " 0.73726353 "
      ]
     },
     "metadata": {},
     "output_type": "display_data"
    },
    {
     "data": {
      "text/html": [
       "1510"
      ],
      "text/latex": [
       "1510"
      ],
      "text/markdown": [
       "1510"
      ],
      "text/plain": [
       "[1] 1510"
      ]
     },
     "metadata": {},
     "output_type": "display_data"
    },
    {
     "data": {
      "text/html": [
       "1124"
      ],
      "text/latex": [
       "1124"
      ],
      "text/markdown": [
       "1124"
      ],
      "text/plain": [
       "[1] 1124"
      ]
     },
     "metadata": {},
     "output_type": "display_data"
    },
    {
     "data": {
      "text/html": [
       "2634"
      ],
      "text/latex": [
       "2634"
      ],
      "text/markdown": [
       "2634"
      ],
      "text/plain": [
       "[1] 2634"
      ]
     },
     "metadata": {},
     "output_type": "display_data"
    },
    {
     "data": {
      "text/html": [
       "11435"
      ],
      "text/latex": [
       "11435"
      ],
      "text/markdown": [
       "11435"
      ],
      "text/plain": [
       "[1] 11435"
      ]
     },
     "metadata": {},
     "output_type": "display_data"
    },
    {
     "data": {
      "text/html": [
       "10993"
      ],
      "text/latex": [
       "10993"
      ],
      "text/markdown": [
       "10993"
      ],
      "text/plain": [
       "[1] 10993"
      ]
     },
     "metadata": {},
     "output_type": "display_data"
    },
    {
     "data": {
      "text/html": [
       "10126"
      ],
      "text/latex": [
       "10126"
      ],
      "text/markdown": [
       "10126"
      ],
      "text/plain": [
       "[1] 10126"
      ]
     },
     "metadata": {},
     "output_type": "display_data"
    },
    {
     "data": {
      "text/html": [
       "9656"
      ],
      "text/latex": [
       "9656"
      ],
      "text/markdown": [
       "9656"
      ],
      "text/plain": [
       "[1] 9656"
      ]
     },
     "metadata": {},
     "output_type": "display_data"
    },
    {
     "data": {
      "text/html": [
       "9428"
      ],
      "text/latex": [
       "9428"
      ],
      "text/markdown": [
       "9428"
      ],
      "text/plain": [
       "[1] 9428"
      ]
     },
     "metadata": {},
     "output_type": "display_data"
    },
    {
     "data": {
      "text/html": [
       "8765"
      ],
      "text/latex": [
       "8765"
      ],
      "text/markdown": [
       "8765"
      ],
      "text/plain": [
       "[1] 8765"
      ]
     },
     "metadata": {},
     "output_type": "display_data"
    },
    {
     "data": {
      "image/png": "[encoded data removed]",
      "text/plain": [
       "Plot with title “Histogram of cor.vec”"
      ]
     },
     "metadata": {
      "image/png": {
       "height": 420,
       "width": 420
      }
     },
     "output_type": "display_data"
    }
   ],
   "source": [
    "rm.fold <- fold3.ind\n",
    "my.data <- cbind(data.1[,-rm.fold],data.1[,rm.fold])\n",
    "dim(my.data)\n",
    "my.info <- rbind(info.1[-rm.fold,],info.1[rm.fold,])\n",
    "dim(my.info)\n",
    "\n",
    "aml.prognosis <- rep(0, length(my.info$Disease))\n",
    "aml.prognosis[which (my.info$Disease == \"AML\")] <- 1\n",
    "sum(aml.prognosis)\n",
    "length(aml.prognosis)\n",
    "\n",
    "### Feature Selection with Correlation, Fold 3\n",
    "\n",
    "cor.vec <- apply (my.data[,1:2000], 1, function (x){cor(x, aml.prognosis[1:2000])})\n",
    "hist (cor.vec)\n",
    "\n",
    "gene.ind <- c(which(cor.vec > 0.3), which(cor.vec < -0.3))\n",
    "length (gene.ind) # just to see how many genes get selected\n",
    "\n",
    "quantile (cor.vec, probs=c(0, 0.1, 0.25, 0.5, 0.75, 0.9, 1))\n",
    "\n",
    "#from nki_02_25\n",
    "sum (cor.vec > 0.3)\n",
    "sum (cor.vec < -0.3)\n",
    "gene.ind <- c(which(cor.vec > 0.3), which(cor.vec < -0.3))\n",
    "length (gene.ind)\n",
    "\n",
    "### Feature Selection with T-test, Fold 3\n",
    "\n",
    "zero.ind <- which(aml.prognosis[1:2000] == 0)\n",
    "one.ind <- which(aml.prognosis[1:2000] == 1)\n",
    "ttest.vec <- apply (my.data, 1, function (x){(t.test(x[one.ind] , x[zero.ind]))$p.value})\n",
    "\n",
    "sum (ttest.vec < 0.05)\n",
    "sum (ttest.vec < 0.01)\n",
    "sum (ttest.vec < 0.0001)\n",
    "adj.ttest.vec <- p.adjust (ttest.vec, method=\"bonferroni\")\n",
    "sum (adj.ttest.vec < 0.05)\n",
    "sum (adj.ttest.vec < 0.01)\n",
    "sum (adj.ttest.vec < 0.0001)\n",
    "\n",
    "ret.order <- order (ttest.vec)\n",
    "#100 genes with lowest pvalues\n",
    "gene.ind2.fold3 <- ret.order[1:100]\n"
   ]
  },
  {
   "cell_type": "markdown",
   "id": "0e9648e6-d90e-46d7-a78b-39cddd190c26",
   "metadata": {
    "tags": []
   },
   "source": [
    "### Fold 4"
   ]
  },
  {
   "cell_type": "code",
   "execution_count": 5,
   "id": "ce0c1376-98db-47ee-9421-d9bec67abcbc",
   "metadata": {
    "collapsed": true,
    "jupyter": {
     "outputs_hidden": true
    },
    "tags": []
   },
   "outputs": [
    {
     "data": {
      "text/html": [
       "<style>\n",
       ".list-inline {list-style: none; margin:0; padding: 0}\n",
       ".list-inline>li {display: inline-block}\n",
       ".list-inline>li:not(:last-child)::after {content: \"\\00b7\"; padding: 0 .5ex}\n",
       "</style>\n",
       "<ol class=list-inline><li>12708</li><li>2500</li></ol>\n"
      ],
      "text/latex": [
       "\\begin{enumerate*}\n",
       "\\item 12708\n",
       "\\item 2500\n",
       "\\end{enumerate*}\n"
      ],
      "text/markdown": [
       "1. 12708\n",
       "2. 2500\n",
       "\n",
       "\n"
      ],
      "text/plain": [
       "[1] 12708  2500"
      ]
     },
     "metadata": {},
     "output_type": "display_data"
    },
    {
     "data": {
      "text/html": [
       "<style>\n",
       ".list-inline {list-style: none; margin:0; padding: 0}\n",
       ".list-inline>li {display: inline-block}\n",
       ".list-inline>li:not(:last-child)::after {content: \"\\00b7\"; padding: 0 .5ex}\n",
       "</style>\n",
       "<ol class=list-inline><li>2500</li><li>8</li></ol>\n"
      ],
      "text/latex": [
       "\\begin{enumerate*}\n",
       "\\item 2500\n",
       "\\item 8\n",
       "\\end{enumerate*}\n"
      ],
      "text/markdown": [
       "1. 2500\n",
       "2. 8\n",
       "\n",
       "\n"
      ],
      "text/plain": [
       "[1] 2500    8"
      ]
     },
     "metadata": {},
     "output_type": "display_data"
    },
    {
     "data": {
      "text/html": [
       "986"
      ],
      "text/latex": [
       "986"
      ],
      "text/markdown": [
       "986"
      ],
      "text/plain": [
       "[1] 986"
      ]
     },
     "metadata": {},
     "output_type": "display_data"
    },
    {
     "data": {
      "text/html": [
       "2500"
      ],
      "text/latex": [
       "2500"
      ],
      "text/markdown": [
       "2500"
      ],
      "text/plain": [
       "[1] 2500"
      ]
     },
     "metadata": {},
     "output_type": "display_data"
    },
    {
     "data": {
      "text/html": [
       "2508"
      ],
      "text/latex": [
       "2508"
      ],
      "text/markdown": [
       "2508"
      ],
      "text/plain": [
       "[1] 2508"
      ]
     },
     "metadata": {},
     "output_type": "display_data"
    },
    {
     "data": {
      "text/html": [
       "<style>\n",
       ".dl-inline {width: auto; margin:0; padding: 0}\n",
       ".dl-inline>dt, .dl-inline>dd {float: none; width: auto; display: inline-block}\n",
       ".dl-inline>dt::after {content: \":\\0020\"; padding-right: .5ex}\n",
       ".dl-inline>dt:not(:first-of-type) {padding-left: .5ex}\n",
       "</style><dl class=dl-inline><dt>0%</dt><dd>-0.77385609328608</dd><dt>10%</dt><dd>-0.284362206207521</dd><dt>25%</dt><dd>-0.201966548484921</dd><dt>50%</dt><dd>-0.0634306391028483</dd><dt>75%</dt><dd>0.150534242741758</dd><dt>90%</dt><dd>0.320442478123972</dd><dt>100%</dt><dd>0.735423710691677</dd></dl>\n"
      ],
      "text/latex": [
       "\\begin{description*}\n",
       "\\item[0\\textbackslash{}\\%] -0.77385609328608\n",
       "\\item[10\\textbackslash{}\\%] -0.284362206207521\n",
       "\\item[25\\textbackslash{}\\%] -0.201966548484921\n",
       "\\item[50\\textbackslash{}\\%] -0.0634306391028483\n",
       "\\item[75\\textbackslash{}\\%] 0.150534242741758\n",
       "\\item[90\\textbackslash{}\\%] 0.320442478123972\n",
       "\\item[100\\textbackslash{}\\%] 0.735423710691677\n",
       "\\end{description*}\n"
      ],
      "text/markdown": [
       "0%\n",
       ":   -0.7738560932860810%\n",
       ":   -0.28436220620752125%\n",
       ":   -0.20196654848492150%\n",
       ":   -0.063430639102848375%\n",
       ":   0.15053424274175890%\n",
       ":   0.320442478123972100%\n",
       ":   0.735423710691677\n",
       "\n"
      ],
      "text/plain": [
       "         0%         10%         25%         50%         75%         90% \n",
       "-0.77385609 -0.28436221 -0.20196655 -0.06343064  0.15053424  0.32044248 \n",
       "       100% \n",
       " 0.73542371 "
      ]
     },
     "metadata": {},
     "output_type": "display_data"
    },
    {
     "data": {
      "text/html": [
       "1464"
      ],
      "text/latex": [
       "1464"
      ],
      "text/markdown": [
       "1464"
      ],
      "text/plain": [
       "[1] 1464"
      ]
     },
     "metadata": {},
     "output_type": "display_data"
    },
    {
     "data": {
      "text/html": [
       "1044"
      ],
      "text/latex": [
       "1044"
      ],
      "text/markdown": [
       "1044"
      ],
      "text/plain": [
       "[1] 1044"
      ]
     },
     "metadata": {},
     "output_type": "display_data"
    },
    {
     "data": {
      "text/html": [
       "2508"
      ],
      "text/latex": [
       "2508"
      ],
      "text/markdown": [
       "2508"
      ],
      "text/plain": [
       "[1] 2508"
      ]
     },
     "metadata": {},
     "output_type": "display_data"
    },
    {
     "data": {
      "text/html": [
       "11396"
      ],
      "text/latex": [
       "11396"
      ],
      "text/markdown": [
       "11396"
      ],
      "text/plain": [
       "[1] 11396"
      ]
     },
     "metadata": {},
     "output_type": "display_data"
    },
    {
     "data": {
      "text/html": [
       "10977"
      ],
      "text/latex": [
       "10977"
      ],
      "text/markdown": [
       "10977"
      ],
      "text/plain": [
       "[1] 10977"
      ]
     },
     "metadata": {},
     "output_type": "display_data"
    },
    {
     "data": {
      "text/html": [
       "10063"
      ],
      "text/latex": [
       "10063"
      ],
      "text/markdown": [
       "10063"
      ],
      "text/plain": [
       "[1] 10063"
      ]
     },
     "metadata": {},
     "output_type": "display_data"
    },
    {
     "data": {
      "text/html": [
       "9546"
      ],
      "text/latex": [
       "9546"
      ],
      "text/markdown": [
       "9546"
      ],
      "text/plain": [
       "[1] 9546"
      ]
     },
     "metadata": {},
     "output_type": "display_data"
    },
    {
     "data": {
      "text/html": [
       "9300"
      ],
      "text/latex": [
       "9300"
      ],
      "text/markdown": [
       "9300"
      ],
      "text/plain": [
       "[1] 9300"
      ]
     },
     "metadata": {},
     "output_type": "display_data"
    },
    {
     "data": {
      "text/html": [
       "8656"
      ],
      "text/latex": [
       "8656"
      ],
      "text/markdown": [
       "8656"
      ],
      "text/plain": [
       "[1] 8656"
      ]
     },
     "metadata": {},
     "output_type": "display_data"
    },
    {
     "data": {
      "image/png": "[encoded data removed]",
      "text/plain": [
       "Plot with title “Histogram of cor.vec”"
      ]
     },
     "metadata": {
      "image/png": {
       "height": 420,
       "width": 420
      }
     },
     "output_type": "display_data"
    }
   ],
   "source": [
    "rm.fold <- fold4.ind\n",
    "my.data <- cbind(data.1[,-rm.fold],data.1[,rm.fold])\n",
    "dim(my.data)\n",
    "my.info <- rbind(info.1[-rm.fold,],info.1[rm.fold,])\n",
    "dim(my.info)\n",
    "\n",
    "aml.prognosis <- rep(0, length(my.info$Disease))\n",
    "aml.prognosis[which (my.info$Disease == \"AML\")] <- 1\n",
    "sum(aml.prognosis)\n",
    "length(aml.prognosis)\n",
    "\n",
    "### Feature Selection with Correlation, Fold 4\n",
    "\n",
    "cor.vec <- apply (my.data[,1:2000], 1, function (x){cor(x, aml.prognosis[1:2000])})\n",
    "hist (cor.vec)\n",
    "\n",
    "gene.ind <- c(which(cor.vec > 0.3), which(cor.vec < -0.3))\n",
    "length (gene.ind) # just to see how many genes get selected\n",
    "\n",
    "quantile (cor.vec, probs=c(0, 0.1, 0.25, 0.5, 0.75, 0.9, 1))\n",
    "\n",
    "#from nki_02_25\n",
    "sum (cor.vec > 0.3)\n",
    "sum (cor.vec < -0.3)\n",
    "gene.ind <- c(which(cor.vec > 0.3), which(cor.vec < -0.3))\n",
    "length (gene.ind)\n",
    "\n",
    "### Feature Selection with T-test, Fold 4\n",
    "\n",
    "zero.ind <- which(aml.prognosis[1:2000] == 0)\n",
    "one.ind <- which(aml.prognosis[1:2000] == 1)\n",
    "ttest.vec <- apply (my.data, 1, function (x){(t.test(x[one.ind] , x[zero.ind]))$p.value})\n",
    "\n",
    "sum (ttest.vec < 0.05)\n",
    "sum (ttest.vec < 0.01)\n",
    "sum (ttest.vec < 0.0001)\n",
    "adj.ttest.vec <- p.adjust (ttest.vec, method=\"bonferroni\")\n",
    "sum (adj.ttest.vec < 0.05)\n",
    "sum (adj.ttest.vec < 0.01)\n",
    "sum (adj.ttest.vec < 0.0001)\n",
    "\n",
    "ret.order <- order (ttest.vec)\n",
    "#100 genes with lowest pvalues\n",
    "gene.ind2.fold4 <- ret.order[1:100]\n"
   ]
  },
  {
   "cell_type": "markdown",
   "id": "209354e8-209a-4985-aabc-774ace80fbdf",
   "metadata": {
    "tags": []
   },
   "source": [
    "### Fold 5"
   ]
  },
  {
   "cell_type": "code",
   "execution_count": 6,
   "id": "4dbbe058-51cc-409f-b9bb-8c6a04ba8f7f",
   "metadata": {
    "collapsed": true,
    "jupyter": {
     "outputs_hidden": true
    },
    "tags": []
   },
   "outputs": [
    {
     "data": {
      "text/html": [
       "<style>\n",
       ".list-inline {list-style: none; margin:0; padding: 0}\n",
       ".list-inline>li {display: inline-block}\n",
       ".list-inline>li:not(:last-child)::after {content: \"\\00b7\"; padding: 0 .5ex}\n",
       "</style>\n",
       "<ol class=list-inline><li>12708</li><li>2500</li></ol>\n"
      ],
      "text/latex": [
       "\\begin{enumerate*}\n",
       "\\item 12708\n",
       "\\item 2500\n",
       "\\end{enumerate*}\n"
      ],
      "text/markdown": [
       "1. 12708\n",
       "2. 2500\n",
       "\n",
       "\n"
      ],
      "text/plain": [
       "[1] 12708  2500"
      ]
     },
     "metadata": {},
     "output_type": "display_data"
    },
    {
     "data": {
      "text/html": [
       "<style>\n",
       ".list-inline {list-style: none; margin:0; padding: 0}\n",
       ".list-inline>li {display: inline-block}\n",
       ".list-inline>li:not(:last-child)::after {content: \"\\00b7\"; padding: 0 .5ex}\n",
       "</style>\n",
       "<ol class=list-inline><li>2500</li><li>8</li></ol>\n"
      ],
      "text/latex": [
       "\\begin{enumerate*}\n",
       "\\item 2500\n",
       "\\item 8\n",
       "\\end{enumerate*}\n"
      ],
      "text/markdown": [
       "1. 2500\n",
       "2. 8\n",
       "\n",
       "\n"
      ],
      "text/plain": [
       "[1] 2500    8"
      ]
     },
     "metadata": {},
     "output_type": "display_data"
    },
    {
     "data": {
      "text/html": [
       "986"
      ],
      "text/latex": [
       "986"
      ],
      "text/markdown": [
       "986"
      ],
      "text/plain": [
       "[1] 986"
      ]
     },
     "metadata": {},
     "output_type": "display_data"
    },
    {
     "data": {
      "text/html": [
       "2500"
      ],
      "text/latex": [
       "2500"
      ],
      "text/markdown": [
       "2500"
      ],
      "text/plain": [
       "[1] 2500"
      ]
     },
     "metadata": {},
     "output_type": "display_data"
    },
    {
     "data": {
      "text/html": [
       "2435"
      ],
      "text/latex": [
       "2435"
      ],
      "text/markdown": [
       "2435"
      ],
      "text/plain": [
       "[1] 2435"
      ]
     },
     "metadata": {},
     "output_type": "display_data"
    },
    {
     "data": {
      "text/html": [
       "<style>\n",
       ".dl-inline {width: auto; margin:0; padding: 0}\n",
       ".dl-inline>dt, .dl-inline>dd {float: none; width: auto; display: inline-block}\n",
       ".dl-inline>dt::after {content: \":\\0020\"; padding-right: .5ex}\n",
       ".dl-inline>dt:not(:first-of-type) {padding-left: .5ex}\n",
       "</style><dl class=dl-inline><dt>0%</dt><dd>-0.777077865051546</dd><dt>10%</dt><dd>-0.279836547179594</dd><dt>25%</dt><dd>-0.196082165300548</dd><dt>50%</dt><dd>-0.0643676359949342</dd><dt>75%</dt><dd>0.150324015486889</dd><dt>90%</dt><dd>0.319650934451393</dd><dt>100%</dt><dd>0.737648840590825</dd></dl>\n"
      ],
      "text/latex": [
       "\\begin{description*}\n",
       "\\item[0\\textbackslash{}\\%] -0.777077865051546\n",
       "\\item[10\\textbackslash{}\\%] -0.279836547179594\n",
       "\\item[25\\textbackslash{}\\%] -0.196082165300548\n",
       "\\item[50\\textbackslash{}\\%] -0.0643676359949342\n",
       "\\item[75\\textbackslash{}\\%] 0.150324015486889\n",
       "\\item[90\\textbackslash{}\\%] 0.319650934451393\n",
       "\\item[100\\textbackslash{}\\%] 0.737648840590825\n",
       "\\end{description*}\n"
      ],
      "text/markdown": [
       "0%\n",
       ":   -0.77707786505154610%\n",
       ":   -0.27983654717959425%\n",
       ":   -0.19608216530054850%\n",
       ":   -0.064367635994934275%\n",
       ":   0.15032401548688990%\n",
       ":   0.319650934451393100%\n",
       ":   0.737648840590825\n",
       "\n"
      ],
      "text/plain": [
       "         0%         10%         25%         50%         75%         90% \n",
       "-0.77707787 -0.27983655 -0.19608217 -0.06436764  0.15032402  0.31965093 \n",
       "       100% \n",
       " 0.73764884 "
      ]
     },
     "metadata": {},
     "output_type": "display_data"
    },
    {
     "data": {
      "text/html": [
       "1459"
      ],
      "text/latex": [
       "1459"
      ],
      "text/markdown": [
       "1459"
      ],
      "text/plain": [
       "[1] 1459"
      ]
     },
     "metadata": {},
     "output_type": "display_data"
    },
    {
     "data": {
      "text/html": [
       "976"
      ],
      "text/latex": [
       "976"
      ],
      "text/markdown": [
       "976"
      ],
      "text/plain": [
       "[1] 976"
      ]
     },
     "metadata": {},
     "output_type": "display_data"
    },
    {
     "data": {
      "text/html": [
       "2435"
      ],
      "text/latex": [
       "2435"
      ],
      "text/markdown": [
       "2435"
      ],
      "text/plain": [
       "[1] 2435"
      ]
     },
     "metadata": {},
     "output_type": "display_data"
    },
    {
     "data": {
      "text/html": [
       "11385"
      ],
      "text/latex": [
       "11385"
      ],
      "text/markdown": [
       "11385"
      ],
      "text/plain": [
       "[1] 11385"
      ]
     },
     "metadata": {},
     "output_type": "display_data"
    },
    {
     "data": {
      "text/html": [
       "10950"
      ],
      "text/latex": [
       "10950"
      ],
      "text/markdown": [
       "10950"
      ],
      "text/plain": [
       "[1] 10950"
      ]
     },
     "metadata": {},
     "output_type": "display_data"
    },
    {
     "data": {
      "text/html": [
       "10021"
      ],
      "text/latex": [
       "10021"
      ],
      "text/markdown": [
       "10021"
      ],
      "text/plain": [
       "[1] 10021"
      ]
     },
     "metadata": {},
     "output_type": "display_data"
    },
    {
     "data": {
      "text/html": [
       "9527"
      ],
      "text/latex": [
       "9527"
      ],
      "text/markdown": [
       "9527"
      ],
      "text/plain": [
       "[1] 9527"
      ]
     },
     "metadata": {},
     "output_type": "display_data"
    },
    {
     "data": {
      "text/html": [
       "9280"
      ],
      "text/latex": [
       "9280"
      ],
      "text/markdown": [
       "9280"
      ],
      "text/plain": [
       "[1] 9280"
      ]
     },
     "metadata": {},
     "output_type": "display_data"
    },
    {
     "data": {
      "text/html": [
       "8586"
      ],
      "text/latex": [
       "8586"
      ],
      "text/markdown": [
       "8586"
      ],
      "text/plain": [
       "[1] 8586"
      ]
     },
     "metadata": {},
     "output_type": "display_data"
    },
    {
     "data": {
      "image/png": "[encoded data removed]",
      "text/plain": [
       "Plot with title “Histogram of cor.vec”"
      ]
     },
     "metadata": {
      "image/png": {
       "height": 420,
       "width": 420
      }
     },
     "output_type": "display_data"
    }
   ],
   "source": [
    "rm.fold <- fold2.ind\n",
    "my.data <- cbind(data.1[,-rm.fold],data.1[,rm.fold])\n",
    "dim(my.data)\n",
    "my.info <- rbind(info.1[-rm.fold,],info.1[rm.fold,])\n",
    "dim(my.info)\n",
    "\n",
    "aml.prognosis <- rep(0, length(my.info$Disease))\n",
    "aml.prognosis[which (my.info$Disease == \"AML\")] <- 1\n",
    "sum(aml.prognosis)\n",
    "length(aml.prognosis)\n",
    "\n",
    "### Feature Selection with Correlation, Fold 5\n",
    "\n",
    "cor.vec <- apply (my.data[,1:2000], 1, function (x){cor(x, aml.prognosis[1:2000])})\n",
    "hist (cor.vec)\n",
    "\n",
    "gene.ind <- c(which(cor.vec > 0.3), which(cor.vec < -0.3))\n",
    "length (gene.ind) # just to see how many genes get selected\n",
    "\n",
    "quantile (cor.vec, probs=c(0, 0.1, 0.25, 0.5, 0.75, 0.9, 1))\n",
    "\n",
    "#from nki_02_25\n",
    "sum (cor.vec > 0.3)\n",
    "sum (cor.vec < -0.3)\n",
    "gene.ind <- c(which(cor.vec > 0.3), which(cor.vec < -0.3))\n",
    "length (gene.ind)\n",
    "\n",
    "### Feature Selection with T-test, Fold 5\n",
    "\n",
    "zero.ind <- which(aml.prognosis[1:2000] == 0)\n",
    "one.ind <- which(aml.prognosis[1:2000] == 1)\n",
    "ttest.vec <- apply (my.data, 1, function (x){(t.test(x[one.ind] , x[zero.ind]))$p.value})\n",
    "\n",
    "sum (ttest.vec < 0.05)\n",
    "sum (ttest.vec < 0.01)\n",
    "sum (ttest.vec < 0.0001)\n",
    "adj.ttest.vec <- p.adjust (ttest.vec, method=\"bonferroni\")\n",
    "sum (adj.ttest.vec < 0.05)\n",
    "sum (adj.ttest.vec < 0.01)\n",
    "sum (adj.ttest.vec < 0.0001)\n",
    "\n",
    "ret.order <- order (ttest.vec)\n",
    "#100 genes with lowest pvalues\n",
    "gene.ind2.fold5 <- ret.order[1:100]\n"
   ]
  },
  {
   "cell_type": "markdown",
   "id": "7c0c024c-847d-4a6b-b7f4-abc1dd12f5ee",
   "metadata": {},
   "source": []
  },
  {
   "cell_type": "markdown",
   "id": "c68c110f-e869-4a28-83df-9633de101419",
   "metadata": {},
   "source": [
    "********************************************************************************************************************************************************************************************************************************************************************************************************************************************************************\n",
    "\n",
    "Project - SVM - Started - Here\n",
    "\n",
    "********************************************************************************************************************************************************************************************************************************************************************************************************************************************************************"
   ]
  },
  {
   "cell_type": "code",
   "execution_count": null,
   "id": "060b826b-eebf-43db-b3b5-8344c14b1279",
   "metadata": {},
   "outputs": [],
   "source": []
  },
  {
   "cell_type": "code",
   "execution_count": 7,
   "id": "6a13698b-f188-4cc5-84df-9e8120ecf275",
   "metadata": {},
   "outputs": [
    {
     "name": "stdout",
     "output_type": "stream",
     "text": [
      "Accuracy of linear SVM model with selected genes: 0.9488"
     ]
    }
   ],
   "source": [
    "# Linear SVM Fold 1 Disease with top 100 genes selected\n",
    "\n",
    "# Assume gene.ind2.fold1 contains the indices of the top 100 genes selected\n",
    "selected_genes <- gene.ind2.fold1[1:100]\n",
    "\n",
    "# Subset the data to include only selected genes\n",
    "data_t <- t(data.1)  \n",
    "data_selected <- data_t[, selected_genes]\n",
    "labels_selected <- as.factor(ifelse(info.1$Disease == \"AML\", \"AML\", \"NON-AML\"))\n",
    "\n",
    "# Split the data into training and test sets\n",
    "set.seed(123)\n",
    "train.idx <- fold1.ind[1:350]\n",
    "data.train <- data_selected[train.idx, ]\n",
    "labels.train <- labels_selected[train.idx]\n",
    "data.test <- data_selected[-train.idx, ]\n",
    "labels.test <- labels_selected[-train.idx]\n",
    "\n",
    "# Train the SVM model using the selected genes\n",
    "svm_model <- svm(labels.train ~ ., data = data.train, kernel = \"linear\")\n",
    "\n",
    "# Make predictions on the test set\n",
    "predictions <- predict(svm_model, data.test)\n",
    "\n",
    "# Calculate accuracy of the model\n",
    "accuracy <- sum(predictions == labels.test) / length(predictions)\n",
    "cat(\"Accuracy of linear SVM model with selected genes:\", round(accuracy, 4))\n"
   ]
  },
  {
   "cell_type": "code",
   "execution_count": null,
   "id": "59c7d24b-59e0-42cd-a450-eae4a71bf211",
   "metadata": {},
   "outputs": [],
   "source": []
  },
  {
   "cell_type": "code",
   "execution_count": 8,
   "id": "af218c12-6e38-476d-92ea-e3e5d81f5818",
   "metadata": {},
   "outputs": [
    {
     "name": "stdout",
     "output_type": "stream",
     "text": [
      "Accuracy of linear SVM model with selected genes: 0.9372"
     ]
    }
   ],
   "source": [
    "# Linear SVM Fold 2 Disease with top 100 genes selected\n",
    "\n",
    "# Assume gene.ind2.fold1 contains the indices of the top 100 genes selected\n",
    "selected_genes <- gene.ind2.fold2[1:100]\n",
    "\n",
    "# Subset the data to include only selected genes\n",
    "data_t <- t(data.1)  \n",
    "data_selected <- data_t[, selected_genes]\n",
    "labels_selected <- as.factor(ifelse(info.1$Disease == \"AML\", \"AML\", \"NON-AML\"))\n",
    "\n",
    "# Split the data into training and test sets\n",
    "set.seed(123)\n",
    "train.idx <- fold2.ind[1:350]\n",
    "data.train <- data_selected[train.idx, ]\n",
    "labels.train <- labels_selected[train.idx]\n",
    "data.test <- data_selected[-train.idx, ]\n",
    "labels.test <- labels_selected[-train.idx]\n",
    "\n",
    "# Train the SVM model using the selected genes\n",
    "svm_model <- svm(labels.train ~ ., data = data.train, kernel = \"linear\")\n",
    "\n",
    "# Make predictions on the test set\n",
    "predictions <- predict(svm_model, data.test)\n",
    "\n",
    "# Calculate accuracy of the model\n",
    "accuracy <- sum(predictions == labels.test) / length(predictions)\n",
    "cat(\"Accuracy of linear SVM model with selected genes:\", round(accuracy, 4))\n"
   ]
  },
  {
   "cell_type": "code",
   "execution_count": null,
   "id": "c9af290c-6214-4f0a-8ac1-9c33e93ea2b2",
   "metadata": {},
   "outputs": [],
   "source": []
  },
  {
   "cell_type": "code",
   "execution_count": 9,
   "id": "26aff36e-e71a-40e8-8b07-a8661af6038c",
   "metadata": {},
   "outputs": [
    {
     "name": "stdout",
     "output_type": "stream",
     "text": [
      "Accuracy of linear SVM model with selected genes: 0.9474"
     ]
    }
   ],
   "source": [
    "# Linear SVM Fold 3 Disease with top 100 genes selected\n",
    "\n",
    "# Assume gene.ind2.fold1 contains the indices of the top 100 genes selected\n",
    "selected_genes <- gene.ind2.fold3[1:100]\n",
    "\n",
    "# Subset the data to include only selected genes\n",
    "data_t <- t(data.1)  \n",
    "data_selected <- data_t[, selected_genes]\n",
    "labels_selected <- as.factor(ifelse(info.1$Disease == \"AML\", \"AML\", \"NON-AML\"))\n",
    "\n",
    "# Split the data into training and test sets\n",
    "set.seed(123)\n",
    "train.idx <- fold3.ind[1:350]\n",
    "data.train <- data_selected[train.idx, ]\n",
    "labels.train <- labels_selected[train.idx]\n",
    "data.test <- data_selected[-train.idx, ]\n",
    "labels.test <- labels_selected[-train.idx]\n",
    "\n",
    "# Train the SVM model using the selected genes\n",
    "svm_model <- svm(labels.train ~ ., data = data.train, kernel = \"linear\")\n",
    "\n",
    "# Make predictions on the test set\n",
    "predictions <- predict(svm_model, data.test)\n",
    "\n",
    "# Calculate accuracy of the model\n",
    "accuracy <- sum(predictions == labels.test) / length(predictions)\n",
    "cat(\"Accuracy of linear SVM model with selected genes:\", round(accuracy, 4))\n"
   ]
  },
  {
   "cell_type": "code",
   "execution_count": null,
   "id": "7ea86ae4-c708-4615-8f83-6e049411d950",
   "metadata": {},
   "outputs": [],
   "source": []
  },
  {
   "cell_type": "code",
   "execution_count": 10,
   "id": "9535c105-37fe-4a3b-9e75-3e183fb8ced1",
   "metadata": {},
   "outputs": [
    {
     "name": "stdout",
     "output_type": "stream",
     "text": [
      "Accuracy of linear SVM model with selected genes: 0.947"
     ]
    }
   ],
   "source": [
    "# Linear SVM Fold 4 Disease with top 100 genes selected\n",
    "\n",
    "# Assume gene.ind2.fold1 contains the indices of the top 100 genes selected\n",
    "selected_genes <- gene.ind2.fold4[1:100]\n",
    "\n",
    "# Subset the data to include only selected genes\n",
    "data_t <- t(data.1)  \n",
    "data_selected <- data_t[, selected_genes]\n",
    "labels_selected <- as.factor(ifelse(info.1$Disease == \"AML\", \"AML\", \"NON-AML\"))\n",
    "\n",
    "# Split the data into training and test sets\n",
    "set.seed(123)\n",
    "train.idx <- fold4.ind[1:350]\n",
    "data.train <- data_selected[train.idx, ]\n",
    "labels.train <- labels_selected[train.idx]\n",
    "data.test <- data_selected[-train.idx, ]\n",
    "labels.test <- labels_selected[-train.idx]\n",
    "\n",
    "# Train the SVM model using the selected genes\n",
    "svm_model <- svm(labels.train ~ ., data = data.train, kernel = \"linear\")\n",
    "\n",
    "# Make predictions on the test set\n",
    "predictions <- predict(svm_model, data.test)\n",
    "\n",
    "# Calculate accuracy of the model\n",
    "accuracy <- sum(predictions == labels.test) / length(predictions)\n",
    "cat(\"Accuracy of linear SVM model with selected genes:\", round(accuracy, 4))\n"
   ]
  },
  {
   "cell_type": "code",
   "execution_count": null,
   "id": "958a05c9-0f64-4092-ad14-2893ad52d57d",
   "metadata": {},
   "outputs": [],
   "source": []
  },
  {
   "cell_type": "code",
   "execution_count": 11,
   "id": "505b23a6-3a6d-46ae-b99c-cc00714fa9e3",
   "metadata": {},
   "outputs": [
    {
     "name": "stdout",
     "output_type": "stream",
     "text": [
      "Accuracy of linear SVM model with selected genes: 0.946"
     ]
    }
   ],
   "source": [
    "# Linear SVM Fold 5 Disease with top 100 genes selected\n",
    "\n",
    "# Assume gene.ind2.fold1 contains the indices of the top 100 genes selected\n",
    "selected_genes <- gene.ind2.fold5[1:100]\n",
    "\n",
    "# Subset the data to include only selected genes\n",
    "data_t <- t(data.1)  \n",
    "data_selected <- data_t[, selected_genes]\n",
    "labels_selected <- as.factor(ifelse(info.1$Disease == \"AML\", \"AML\", \"NON-AML\"))\n",
    "\n",
    "# Split the data into training and test sets\n",
    "set.seed(123)\n",
    "train.idx <- fold5.ind[1:350]\n",
    "data.train <- data_selected[train.idx, ]\n",
    "labels.train <- labels_selected[train.idx]\n",
    "data.test <- data_selected[-train.idx, ]\n",
    "labels.test <- labels_selected[-train.idx]\n",
    "\n",
    "# Train the SVM model using the selected genes\n",
    "svm_model <- svm(labels.train ~ ., data = data.train, kernel = \"linear\")\n",
    "\n",
    "# Make predictions on the test set\n",
    "predictions <- predict(svm_model, data.test)\n",
    "\n",
    "# Calculate accuracy of the model\n",
    "accuracy <- sum(predictions == labels.test) / length(predictions)\n",
    "cat(\"Accuracy of linear SVM model with selected genes:\", round(accuracy, 4))\n"
   ]
  },
  {
   "cell_type": "code",
   "execution_count": 28,
   "id": "8a799374-3215-4424-b97d-4a87a14219aa",
   "metadata": {},
   "outputs": [
    {
     "name": "stdout",
     "output_type": "stream",
     "text": [
      "Linear.SVM.model: 0.94528"
     ]
    }
   ],
   "source": [
    "Linear.SVM.model <- (0.9488+0.9372+0.9474+0.947+0.946)/5\n",
    "cat(\"Linear.SVM.model:\" , Linear.SVM.model)"
   ]
  },
  {
   "cell_type": "code",
   "execution_count": null,
   "id": "31c7582a-8823-4e83-b3cc-589b83e1019f",
   "metadata": {},
   "outputs": [],
   "source": []
  },
  {
   "cell_type": "code",
   "execution_count": 12,
   "id": "22fe8c6d-50d2-4d73-bab3-c530bc0f1689",
   "metadata": {},
   "outputs": [
    {
     "name": "stdout",
     "output_type": "stream",
     "text": [
      "Accuracy of radial SVM model with selected genes: 0.9619"
     ]
    }
   ],
   "source": [
    "# Radial SVM Fold 1 Disease with top 100 genes selected\n",
    "\n",
    "# Assume gene.ind2.fold1 contains the indices of the top 100 genes selected\n",
    "selected_genes <- gene.ind2.fold1[1:100]\n",
    "\n",
    "# Subset the data to include only selected genes\n",
    "data_t <- t(data.1)  \n",
    "data_selected <- data_t[, selected_genes]\n",
    "labels_selected <- as.factor(ifelse(info.1$Disease == \"AML\", \"AML\", \"NON-AML\"))\n",
    "\n",
    "# Split the data into training and test sets\n",
    "set.seed(123)\n",
    "train.idx <- fold1.ind[1:350]\n",
    "data.train <- data_selected[train.idx, ]\n",
    "labels.train <- labels_selected[train.idx]\n",
    "data.test <- data_selected[-train.idx, ]\n",
    "labels.test <- labels_selected[-train.idx]\n",
    "\n",
    "# Train the SVM model using the selected genes\n",
    "svm_model <- svm(labels.train ~ ., data = data.train, kernel = \"radial\")\n",
    "\n",
    "# Make predictions on the test set\n",
    "predictions <- predict(svm_model, data.test)\n",
    "\n",
    "# Calculate accuracy of the model\n",
    "accuracy <- sum(predictions == labels.test) / length(predictions)\n",
    "cat(\"Accuracy of radial SVM model with selected genes:\", round(accuracy, 4))\n"
   ]
  },
  {
   "cell_type": "code",
   "execution_count": null,
   "id": "ebd7e48c-c3b2-40b6-b89c-9e3cea08408c",
   "metadata": {},
   "outputs": [],
   "source": []
  },
  {
   "cell_type": "code",
   "execution_count": 13,
   "id": "a657b9fa-947b-4083-9bc5-cb4f3144aa11",
   "metadata": {},
   "outputs": [
    {
     "name": "stdout",
     "output_type": "stream",
     "text": [
      "Accuracy of radial SVM model with selected genes: 0.9586"
     ]
    }
   ],
   "source": [
    "# Radial SVM Fold 2 Disease with top 100 genes selected\n",
    "\n",
    "# Assume gene.ind2.fold1 contains the indices of the top 100 genes selected\n",
    "selected_genes <- gene.ind2.fold2[1:100]\n",
    "\n",
    "# Subset the data to include only selected genes\n",
    "data_t <- t(data.1)  \n",
    "data_selected <- data_t[, selected_genes]\n",
    "labels_selected <- as.factor(ifelse(info.1$Disease == \"AML\", \"AML\", \"NON-AML\"))\n",
    "\n",
    "# Split the data into training and test sets\n",
    "set.seed(123)\n",
    "train.idx <- fold2.ind[1:350]\n",
    "data.train <- data_selected[train.idx, ]\n",
    "labels.train <- labels_selected[train.idx]\n",
    "data.test <- data_selected[-train.idx, ]\n",
    "labels.test <- labels_selected[-train.idx]\n",
    "\n",
    "# Train the SVM model using the selected genes\n",
    "svm_model <- svm(labels.train ~ ., data = data.train, kernel = \"radial\")\n",
    "\n",
    "# Make predictions on the test set\n",
    "predictions <- predict(svm_model, data.test)\n",
    "\n",
    "# Calculate accuracy of the model\n",
    "accuracy <- sum(predictions == labels.test) / length(predictions)\n",
    "cat(\"Accuracy of radial SVM model with selected genes:\", round(accuracy, 4))\n"
   ]
  },
  {
   "cell_type": "code",
   "execution_count": null,
   "id": "dcfaff5d-4bcc-4dad-9d5a-8696d27f58e8",
   "metadata": {},
   "outputs": [],
   "source": []
  },
  {
   "cell_type": "code",
   "execution_count": 14,
   "id": "770b8eab-8033-4264-98b6-22cea417176d",
   "metadata": {},
   "outputs": [
    {
     "name": "stdout",
     "output_type": "stream",
     "text": [
      "Accuracy of radial SVM model with selected genes: 0.9619"
     ]
    }
   ],
   "source": [
    "# Radial SVM Fold 3 Disease with top 100 genes selected\n",
    "\n",
    "# Assume gene.ind2.fold1 contains the indices of the top 100 genes selected\n",
    "selected_genes <- gene.ind2.fold3[1:100]\n",
    "\n",
    "# Subset the data to include only selected genes\n",
    "data_t <- t(data.1)  \n",
    "data_selected <- data_t[, selected_genes]\n",
    "labels_selected <- as.factor(ifelse(info.1$Disease == \"AML\", \"AML\", \"NON-AML\"))\n",
    "\n",
    "# Split the data into training and test sets\n",
    "set.seed(123)\n",
    "train.idx <- fold3.ind[1:350]\n",
    "data.train <- data_selected[train.idx, ]\n",
    "labels.train <- labels_selected[train.idx]\n",
    "data.test <- data_selected[-train.idx, ]\n",
    "labels.test <- labels_selected[-train.idx]\n",
    "\n",
    "# Train the SVM model using the selected genes\n",
    "svm_model <- svm(labels.train ~ ., data = data.train, kernel = \"radial\")\n",
    "\n",
    "# Make predictions on the test set\n",
    "predictions <- predict(svm_model, data.test)\n",
    "\n",
    "# Calculate accuracy of the model\n",
    "accuracy <- sum(predictions == labels.test) / length(predictions)\n",
    "cat(\"Accuracy of radial SVM model with selected genes:\", round(accuracy, 4))\n"
   ]
  },
  {
   "cell_type": "code",
   "execution_count": null,
   "id": "7c99a88c-6f06-4688-81bd-0b6f9982a2b7",
   "metadata": {},
   "outputs": [],
   "source": []
  },
  {
   "cell_type": "code",
   "execution_count": 15,
   "id": "665c4fb0-e4b0-4426-9c52-74b9be1f88b2",
   "metadata": {},
   "outputs": [
    {
     "name": "stdout",
     "output_type": "stream",
     "text": [
      "Accuracy of radial SVM model with selected genes: 0.9474"
     ]
    }
   ],
   "source": [
    "# Radial SVM Fold 4 Disease with top 100 genes selected\n",
    "\n",
    "# Assume gene.ind2.fold1 contains the indices of the top 100 genes selected\n",
    "selected_genes <- gene.ind2.fold4[1:100]\n",
    "\n",
    "# Subset the data to include only selected genes\n",
    "data_t <- t(data.1)  \n",
    "data_selected <- data_t[, selected_genes]\n",
    "labels_selected <- as.factor(ifelse(info.1$Disease == \"AML\", \"AML\", \"NON-AML\"))\n",
    "\n",
    "# Split the data into training and test sets\n",
    "set.seed(123)\n",
    "train.idx <- fold4.ind[1:350]\n",
    "data.train <- data_selected[train.idx, ]\n",
    "labels.train <- labels_selected[train.idx]\n",
    "data.test <- data_selected[-train.idx, ]\n",
    "labels.test <- labels_selected[-train.idx]\n",
    "\n",
    "# Train the SVM model using the selected genes\n",
    "svm_model <- svm(labels.train ~ ., data = data.train, kernel = \"radial\")\n",
    "\n",
    "# Make predictions on the test set\n",
    "predictions <- predict(svm_model, data.test)\n",
    "\n",
    "# Calculate accuracy of the model\n",
    "accuracy <- sum(predictions == labels.test) / length(predictions)\n",
    "cat(\"Accuracy of radial SVM model with selected genes:\", round(accuracy, 4))\n"
   ]
  },
  {
   "cell_type": "code",
   "execution_count": null,
   "id": "3373097a-3eaf-4512-8357-a31eed0ee8ae",
   "metadata": {},
   "outputs": [],
   "source": []
  },
  {
   "cell_type": "code",
   "execution_count": 16,
   "id": "f492f5d8-d31b-46b4-a8e4-60d762f92e8c",
   "metadata": {},
   "outputs": [
    {
     "name": "stdout",
     "output_type": "stream",
     "text": [
      "Accuracy of radial SVM model with selected genes: 0.9558"
     ]
    }
   ],
   "source": [
    "# Radial SVM Fold 5 Disease with top 100 genes selected\n",
    "\n",
    "# Assume gene.ind2.fold1 contains the indices of the top 100 genes selected\n",
    "selected_genes <- gene.ind2.fold5[1:100]\n",
    "\n",
    "# Subset the data to include only selected genes\n",
    "data_t <- t(data.1)  \n",
    "data_selected <- data_t[, selected_genes]\n",
    "labels_selected <- as.factor(ifelse(info.1$Disease == \"AML\", \"AML\", \"NON-AML\"))\n",
    "\n",
    "# Split the data into training and test sets\n",
    "set.seed(123)\n",
    "train.idx <- fold5.ind[1:350]\n",
    "data.train <- data_selected[train.idx, ]\n",
    "labels.train <- labels_selected[train.idx]\n",
    "data.test <- data_selected[-train.idx, ]\n",
    "labels.test <- labels_selected[-train.idx]\n",
    "\n",
    "# Train the SVM model using the selected genes\n",
    "svm_model <- svm(labels.train ~ ., data = data.train, kernel = \"radial\")\n",
    "\n",
    "# Make predictions on the test set\n",
    "predictions <- predict(svm_model, data.test)\n",
    "\n",
    "# Calculate accuracy of the model\n",
    "accuracy <- sum(predictions == labels.test) / length(predictions)\n",
    "cat(\"Accuracy of radial SVM model with selected genes:\", round(accuracy, 4))\n"
   ]
  },
  {
   "cell_type": "code",
   "execution_count": 29,
   "id": "4962bfee-2161-4aed-b199-933bfeb7b452",
   "metadata": {},
   "outputs": [
    {
     "name": "stdout",
     "output_type": "stream",
     "text": [
      "Radial.SVM.model: 0.95712"
     ]
    }
   ],
   "source": [
    "Radial.SVM.model <- (0.9619+0.9586+0.9619+0.9474+0.9558)/5\n",
    "cat(\"Radial.SVM.model:\" , Radial.SVM.model)"
   ]
  },
  {
   "cell_type": "code",
   "execution_count": null,
   "id": "68a6818f-2ad5-47e7-adf5-9165e3ef2d85",
   "metadata": {},
   "outputs": [],
   "source": []
  },
  {
   "cell_type": "code",
   "execution_count": 17,
   "id": "7aa13b9f-500f-471c-93ca-d8a83a7d9088",
   "metadata": {},
   "outputs": [
    {
     "name": "stdout",
     "output_type": "stream",
     "text": [
      "Accuracy of polynomial SVM model with selected genes: 0.9395"
     ]
    }
   ],
   "source": [
    "# Polynomial SVM Fold 1 Disease with top 100 genes selected\n",
    "\n",
    "# Assume gene.ind2.fold1 contains the indices of the top 100 genes selected\n",
    "selected_genes <- gene.ind2.fold1[1:100]\n",
    "\n",
    "# Subset the data to include only selected genes\n",
    "data_t <- t(data.1)  \n",
    "data_selected <- data_t[, selected_genes]\n",
    "labels_selected <- as.factor(ifelse(info.1$Disease == \"AML\", \"AML\", \"NON-AML\"))\n",
    "\n",
    "# Split the data into training and test sets\n",
    "set.seed(123)\n",
    "train.idx <- fold1.ind[1:350]\n",
    "data.train <- data_selected[train.idx, ]\n",
    "labels.train <- labels_selected[train.idx]\n",
    "data.test <- data_selected[-train.idx, ]\n",
    "labels.test <- labels_selected[-train.idx]\n",
    "\n",
    "# Train the SVM model using the selected genes\n",
    "svm_model <- svm(labels.train ~ ., data = data.train, kernel = \"polynomial\")\n",
    "\n",
    "# Make predictions on the test set\n",
    "predictions <- predict(svm_model, data.test)\n",
    "\n",
    "# Calculate accuracy of the model\n",
    "accuracy <- sum(predictions == labels.test) / length(predictions)\n",
    "cat(\"Accuracy of polynomial SVM model with selected genes:\", round(accuracy, 4))\n"
   ]
  },
  {
   "cell_type": "code",
   "execution_count": null,
   "id": "49a0aa57-b4d0-4436-8247-3fdd36f6abef",
   "metadata": {},
   "outputs": [],
   "source": []
  },
  {
   "cell_type": "code",
   "execution_count": 18,
   "id": "37d115f6-7a20-4b6c-b666-102c73915e69",
   "metadata": {},
   "outputs": [
    {
     "name": "stdout",
     "output_type": "stream",
     "text": [
      "Accuracy of polynomial SVM model with selected genes: 0.9102"
     ]
    }
   ],
   "source": [
    "# Polynomial SVM Fold 2 Disease with top 100 genes selected\n",
    "\n",
    "# Assume gene.ind2.fold1 contains the indices of the top 100 genes selected\n",
    "selected_genes <- gene.ind2.fold2[1:100]\n",
    "\n",
    "# Subset the data to include only selected genes\n",
    "data_t <- t(data.1)  \n",
    "data_selected <- data_t[, selected_genes]\n",
    "labels_selected <- as.factor(ifelse(info.1$Disease == \"AML\", \"AML\", \"NON-AML\"))\n",
    "\n",
    "# Split the data into training and test sets\n",
    "set.seed(123)\n",
    "train.idx <- fold2.ind[1:350]\n",
    "data.train <- data_selected[train.idx, ]\n",
    "labels.train <- labels_selected[train.idx]\n",
    "data.test <- data_selected[-train.idx, ]\n",
    "labels.test <- labels_selected[-train.idx]\n",
    "\n",
    "# Train the SVM model using the selected genes\n",
    "svm_model <- svm(labels.train ~ ., data = data.train, kernel = \"polynomial\")\n",
    "\n",
    "# Make predictions on the test set\n",
    "predictions <- predict(svm_model, data.test)\n",
    "\n",
    "# Calculate accuracy of the model\n",
    "accuracy <- sum(predictions == labels.test) / length(predictions)\n",
    "cat(\"Accuracy of polynomial SVM model with selected genes:\", round(accuracy, 4))\n"
   ]
  },
  {
   "cell_type": "code",
   "execution_count": null,
   "id": "3cfe95ab-46b8-4000-9f3e-ba51ac8bb25c",
   "metadata": {},
   "outputs": [],
   "source": []
  },
  {
   "cell_type": "code",
   "execution_count": 19,
   "id": "8efbde26-dcdd-49e4-b1bd-bad451a93d52",
   "metadata": {},
   "outputs": [
    {
     "name": "stdout",
     "output_type": "stream",
     "text": [
      "Accuracy of polynomial SVM model with selected genes: 0.9447"
     ]
    }
   ],
   "source": [
    "# Polynomial SVM Fold 3 Disease with top 100 genes selected\n",
    "\n",
    "# Assume gene.ind2.fold1 contains the indices of the top 100 genes selected\n",
    "selected_genes <- gene.ind2.fold3[1:100]\n",
    "\n",
    "# Subset the data to include only selected genes\n",
    "data_t <- t(data.1)  \n",
    "data_selected <- data_t[, selected_genes]\n",
    "labels_selected <- as.factor(ifelse(info.1$Disease == \"AML\", \"AML\", \"NON-AML\"))\n",
    "\n",
    "# Split the data into training and test sets\n",
    "set.seed(123)\n",
    "train.idx <- fold3.ind[1:350]\n",
    "data.train <- data_selected[train.idx, ]\n",
    "labels.train <- labels_selected[train.idx]\n",
    "data.test <- data_selected[-train.idx, ]\n",
    "labels.test <- labels_selected[-train.idx]\n",
    "\n",
    "# Train the SVM model using the selected genes\n",
    "svm_model <- svm(labels.train ~ ., data = data.train, kernel = \"polynomial\")\n",
    "\n",
    "# Make predictions on the test set\n",
    "predictions <- predict(svm_model, data.test)\n",
    "\n",
    "# Calculate accuracy of the model\n",
    "accuracy <- sum(predictions == labels.test) / length(predictions)\n",
    "cat(\"Accuracy of polynomial SVM model with selected genes:\", round(accuracy, 4))\n"
   ]
  },
  {
   "cell_type": "code",
   "execution_count": null,
   "id": "6c964799-f2e8-4781-a5b7-09d05ae15411",
   "metadata": {},
   "outputs": [],
   "source": []
  },
  {
   "cell_type": "code",
   "execution_count": 20,
   "id": "48025030-6c63-427b-b068-2d7e3a7b1808",
   "metadata": {},
   "outputs": [
    {
     "name": "stdout",
     "output_type": "stream",
     "text": [
      "Accuracy of polynomial SVM model with selected genes: 0.9037"
     ]
    }
   ],
   "source": [
    "# Polynomial SVM Fold 4 Disease with top 100 genes selected\n",
    "\n",
    "# Assume gene.ind2.fold1 contains the indices of the top 100 genes selected\n",
    "selected_genes <- gene.ind2.fold4[1:100]\n",
    "\n",
    "# Subset the data to include only selected genes\n",
    "data_t <- t(data.1)  \n",
    "data_selected <- data_t[, selected_genes]\n",
    "labels_selected <- as.factor(ifelse(info.1$Disease == \"AML\", \"AML\", \"NON-AML\"))\n",
    "\n",
    "# Split the data into training and test sets\n",
    "set.seed(123)\n",
    "train.idx <- fold4.ind[1:350]\n",
    "data.train <- data_selected[train.idx, ]\n",
    "labels.train <- labels_selected[train.idx]\n",
    "data.test <- data_selected[-train.idx, ]\n",
    "labels.test <- labels_selected[-train.idx]\n",
    "\n",
    "# Train the SVM model using the selected genes\n",
    "svm_model <- svm(labels.train ~ ., data = data.train, kernel = \"polynomial\")\n",
    "\n",
    "# Make predictions on the test set\n",
    "predictions <- predict(svm_model, data.test)\n",
    "\n",
    "# Calculate accuracy of the model\n",
    "accuracy <- sum(predictions == labels.test) / length(predictions)\n",
    "cat(\"Accuracy of polynomial SVM model with selected genes:\", round(accuracy, 4))\n"
   ]
  },
  {
   "cell_type": "code",
   "execution_count": null,
   "id": "2da2d984-b7c2-4fb2-a111-d87ed2fa1da2",
   "metadata": {},
   "outputs": [],
   "source": []
  },
  {
   "cell_type": "code",
   "execution_count": 21,
   "id": "5b050ee1-3c76-4bd0-ae61-2606d8ef6b53",
   "metadata": {},
   "outputs": [
    {
     "name": "stdout",
     "output_type": "stream",
     "text": [
      "Accuracy of polynomial SVM model with selected genes: 0.9358"
     ]
    }
   ],
   "source": [
    "# Polynomial SVM Fold 5 Disease with top 100 genes selected\n",
    "\n",
    "# Assume gene.ind2.fold1 contains the indices of the top 100 genes selected\n",
    "selected_genes <- gene.ind2.fold5[1:100]\n",
    "\n",
    "# Subset the data to include only selected genes\n",
    "data_t <- t(data.1)  \n",
    "data_selected <- data_t[, selected_genes]\n",
    "labels_selected <- as.factor(ifelse(info.1$Disease == \"AML\", \"AML\", \"NON-AML\"))\n",
    "\n",
    "# Split the data into training and test sets\n",
    "set.seed(123)\n",
    "train.idx <- fold5.ind[1:350]\n",
    "data.train <- data_selected[train.idx, ]\n",
    "labels.train <- labels_selected[train.idx]\n",
    "data.test <- data_selected[-train.idx, ]\n",
    "labels.test <- labels_selected[-train.idx]\n",
    "\n",
    "# Train the SVM model using the selected genes\n",
    "svm_model <- svm(labels.train ~ ., data = data.train, kernel = \"polynomial\")\n",
    "\n",
    "# Make predictions on the test set\n",
    "predictions <- predict(svm_model, data.test)\n",
    "\n",
    "# Calculate accuracy of the model\n",
    "accuracy <- sum(predictions == labels.test) / length(predictions)\n",
    "cat(\"Accuracy of polynomial SVM model with selected genes:\", round(accuracy, 4))\n"
   ]
  },
  {
   "cell_type": "code",
   "execution_count": 30,
   "id": "6fedaf3f-3b7c-4a7c-983e-af58553c06be",
   "metadata": {},
   "outputs": [
    {
     "name": "stdout",
     "output_type": "stream",
     "text": [
      "Polynomial.SVM.model: 0.92678"
     ]
    }
   ],
   "source": [
    "Polynomial.SVM.model <- (0.9395+0.9102+0.9447+0.9037+0.9358)/5\n",
    "cat(\"Polynomial.SVM.model:\" , Polynomial.SVM.model)"
   ]
  },
  {
   "cell_type": "code",
   "execution_count": null,
   "id": "4a207256-28ee-4976-bbfc-7980f1119959",
   "metadata": {},
   "outputs": [],
   "source": []
  },
  {
   "cell_type": "code",
   "execution_count": 22,
   "id": "1c916f26-d42c-48cf-99ce-90637788d1f2",
   "metadata": {},
   "outputs": [
    {
     "name": "stdout",
     "output_type": "stream",
     "text": [
      "Accuracy of sigmoid SVM model with selected genes: 0.9437"
     ]
    }
   ],
   "source": [
    "# Sigmoid SVM Fold 1 Disease with top 100 genes selected\n",
    "\n",
    "# Assume gene.ind2.fold1 contains the indices of the top 100 genes selected\n",
    "selected_genes <- gene.ind2.fold1[1:100]\n",
    "\n",
    "# Subset the data to include only selected genes\n",
    "data_t <- t(data.1)  \n",
    "data_selected <- data_t[, selected_genes]\n",
    "labels_selected <- as.factor(ifelse(info.1$Disease == \"AML\", \"AML\", \"NON-AML\"))\n",
    "\n",
    "# Split the data into training and test sets\n",
    "set.seed(123)\n",
    "train.idx <- fold1.ind[1:350]\n",
    "data.train <- data_selected[train.idx, ]\n",
    "labels.train <- labels_selected[train.idx]\n",
    "data.test <- data_selected[-train.idx, ]\n",
    "labels.test <- labels_selected[-train.idx]\n",
    "\n",
    "# Train the SVM model using the selected genes\n",
    "svm_model <- svm(labels.train ~ ., data = data.train, kernel = \"sigmoid\")\n",
    "\n",
    "# Make predictions on the test set\n",
    "predictions <- predict(svm_model, data.test)\n",
    "\n",
    "# Calculate accuracy of the model\n",
    "accuracy <- sum(predictions == labels.test) / length(predictions)\n",
    "cat(\"Accuracy of sigmoid SVM model with selected genes:\", round(accuracy, 4))\n"
   ]
  },
  {
   "cell_type": "code",
   "execution_count": null,
   "id": "d4450849-8ea0-43c7-ae7e-0077616fe1a4",
   "metadata": {},
   "outputs": [],
   "source": []
  },
  {
   "cell_type": "code",
   "execution_count": 23,
   "id": "c4e7c205-696f-4953-a2f5-f7993c821ed9",
   "metadata": {},
   "outputs": [
    {
     "name": "stdout",
     "output_type": "stream",
     "text": [
      "Accuracy of sigmoid SVM model with selected genes: 0.9428"
     ]
    }
   ],
   "source": [
    "# Sigmoid SVM Fold 2 Disease with top 100 genes selected\n",
    "\n",
    "# Assume gene.ind2.fold1 contains the indices of the top 100 genes selected\n",
    "selected_genes <- gene.ind2.fold2[1:100]\n",
    "\n",
    "# Subset the data to include only selected genes\n",
    "data_t <- t(data.1)  \n",
    "data_selected <- data_t[, selected_genes]\n",
    "labels_selected <- as.factor(ifelse(info.1$Disease == \"AML\", \"AML\", \"NON-AML\"))\n",
    "\n",
    "# Split the data into training and test sets\n",
    "set.seed(123)\n",
    "train.idx <- fold2.ind[1:350]\n",
    "data.train <- data_selected[train.idx, ]\n",
    "labels.train <- labels_selected[train.idx]\n",
    "data.test <- data_selected[-train.idx, ]\n",
    "labels.test <- labels_selected[-train.idx]\n",
    "\n",
    "# Train the SVM model using the selected genes\n",
    "svm_model <- svm(labels.train ~ ., data = data.train, kernel = \"sigmoid\")\n",
    "\n",
    "# Make predictions on the test set\n",
    "predictions <- predict(svm_model, data.test)\n",
    "\n",
    "# Calculate accuracy of the model\n",
    "accuracy <- sum(predictions == labels.test) / length(predictions)\n",
    "cat(\"Accuracy of sigmoid SVM model with selected genes:\", round(accuracy, 4))\n"
   ]
  },
  {
   "cell_type": "code",
   "execution_count": null,
   "id": "a9aa434f-ba08-4bdf-8a36-09ad19d429f4",
   "metadata": {},
   "outputs": [],
   "source": []
  },
  {
   "cell_type": "code",
   "execution_count": 24,
   "id": "0d5b1361-6873-4eee-96d5-0ee2cfeed746",
   "metadata": {},
   "outputs": [
    {
     "name": "stdout",
     "output_type": "stream",
     "text": [
      "Accuracy of sigmoid SVM model with selected genes: 0.9423"
     ]
    }
   ],
   "source": [
    "# Sigmoid SVM Fold 3 Disease with top 100 genes selected\n",
    "\n",
    "# Assume gene.ind2.fold1 contains the indices of the top 100 genes selected\n",
    "selected_genes <- gene.ind2.fold3[1:100]\n",
    "\n",
    "# Subset the data to include only selected genes\n",
    "data_t <- t(data.1)  \n",
    "data_selected <- data_t[, selected_genes]\n",
    "labels_selected <- as.factor(ifelse(info.1$Disease == \"AML\", \"AML\", \"NON-AML\"))\n",
    "\n",
    "# Split the data into training and test sets\n",
    "set.seed(123)\n",
    "train.idx <- fold3.ind[1:350]\n",
    "data.train <- data_selected[train.idx, ]\n",
    "labels.train <- labels_selected[train.idx]\n",
    "data.test <- data_selected[-train.idx, ]\n",
    "labels.test <- labels_selected[-train.idx]\n",
    "\n",
    "# Train the SVM model using the selected genes\n",
    "svm_model <- svm(labels.train ~ ., data = data.train, kernel = \"sigmoid\")\n",
    "\n",
    "# Make predictions on the test set\n",
    "predictions <- predict(svm_model, data.test)\n",
    "\n",
    "# Calculate accuracy of the model\n",
    "accuracy <- sum(predictions == labels.test) / length(predictions)\n",
    "cat(\"Accuracy of sigmoid SVM model with selected genes:\", round(accuracy, 4))\n"
   ]
  },
  {
   "cell_type": "code",
   "execution_count": null,
   "id": "c805ff5c-ba44-48fb-9cda-c7dc102d1baf",
   "metadata": {},
   "outputs": [],
   "source": []
  },
  {
   "cell_type": "code",
   "execution_count": 25,
   "id": "7b34991a-06fb-404d-97d0-2e6e5e85e8e7",
   "metadata": {},
   "outputs": [
    {
     "name": "stdout",
     "output_type": "stream",
     "text": [
      "Accuracy of sigmoid SVM model with selected genes: 0.9428"
     ]
    }
   ],
   "source": [
    "# Sigmoid SVM Fold 4 Disease with top 100 genes selected\n",
    "\n",
    "# Assume gene.ind2.fold1 contains the indices of the top 100 genes selected\n",
    "selected_genes <- gene.ind2.fold4[1:100]\n",
    "\n",
    "# Subset the data to include only selected genes\n",
    "data_t <- t(data.1)  \n",
    "data_selected <- data_t[, selected_genes]\n",
    "labels_selected <- as.factor(ifelse(info.1$Disease == \"AML\", \"AML\", \"NON-AML\"))\n",
    "\n",
    "# Split the data into training and test sets\n",
    "set.seed(123)\n",
    "train.idx <- fold4.ind[1:350]\n",
    "data.train <- data_selected[train.idx, ]\n",
    "labels.train <- labels_selected[train.idx]\n",
    "data.test <- data_selected[-train.idx, ]\n",
    "labels.test <- labels_selected[-train.idx]\n",
    "\n",
    "# Train the SVM model using the selected genes\n",
    "svm_model <- svm(labels.train ~ ., data = data.train, kernel = \"sigmoid\")\n",
    "\n",
    "# Make predictions on the test set\n",
    "predictions <- predict(svm_model, data.test)\n",
    "\n",
    "# Calculate accuracy of the model\n",
    "accuracy <- sum(predictions == labels.test) / length(predictions)\n",
    "cat(\"Accuracy of sigmoid SVM model with selected genes:\", round(accuracy, 4))\n"
   ]
  },
  {
   "cell_type": "code",
   "execution_count": null,
   "id": "230cbacf-9484-4c7e-912a-a12fb3be5ba9",
   "metadata": {},
   "outputs": [],
   "source": []
  },
  {
   "cell_type": "code",
   "execution_count": 26,
   "id": "060b3cb0-4367-425e-92df-dfeaffb05d01",
   "metadata": {},
   "outputs": [
    {
     "name": "stdout",
     "output_type": "stream",
     "text": [
      "Accuracy of sigmoid SVM model with selected genes: 0.9423"
     ]
    }
   ],
   "source": [
    "# Sigmoid SVM Fold 5 Disease with top 100 genes selected\n",
    "\n",
    "# Assume gene.ind2.fold1 contains the indices of the top 100 genes selected\n",
    "selected_genes <- gene.ind2.fold5[1:100]\n",
    "\n",
    "# Subset the data to include only selected genes\n",
    "data_t <- t(data.1)  \n",
    "data_selected <- data_t[, selected_genes]\n",
    "labels_selected <- as.factor(ifelse(info.1$Disease == \"AML\", \"AML\", \"NON-AML\"))\n",
    "\n",
    "# Split the data into training and test sets\n",
    "set.seed(123)\n",
    "train.idx <- fold5.ind[1:350]\n",
    "data.train <- data_selected[train.idx, ]\n",
    "labels.train <- labels_selected[train.idx]\n",
    "data.test <- data_selected[-train.idx, ]\n",
    "labels.test <- labels_selected[-train.idx]\n",
    "\n",
    "# Train the SVM model using the selected genes\n",
    "svm_model <- svm(labels.train ~ ., data = data.train, kernel = \"sigmoid\")\n",
    "\n",
    "# Make predictions on the test set\n",
    "predictions <- predict(svm_model, data.test)\n",
    "\n",
    "# Calculate accuracy of the model\n",
    "accuracy <- sum(predictions == labels.test) / length(predictions)\n",
    "cat(\"Accuracy of sigmoid SVM model with selected genes:\", round(accuracy, 4))\n"
   ]
  },
  {
   "cell_type": "code",
   "execution_count": 31,
   "id": "ae38fee3-eb5a-45a3-b68a-49514b4b5709",
   "metadata": {},
   "outputs": [
    {
     "name": "stdout",
     "output_type": "stream",
     "text": [
      "Sigmoid.SVM.model: 0.94278"
     ]
    }
   ],
   "source": [
    "Sigmoid.SVM.model <- (0.9437+0.9428+0.9423+0.9428+0.9423)/5\n",
    "cat(\"Sigmoid.SVM.model:\" , Sigmoid.SVM.model)"
   ]
  },
  {
   "cell_type": "code",
   "execution_count": null,
   "id": "72fb7737-bf92-4acc-88db-5d14ce0c7462",
   "metadata": {},
   "outputs": [],
   "source": []
  },
  {
   "cell_type": "markdown",
   "id": "74ec9818-ed6c-486e-ae0a-46b4f3df7929",
   "metadata": {},
   "source": [
    "********************************************************************************************************************************************************************************************************************************************************************************************************************************************************************\n",
    "\n",
    "Project - SVM - Ends - Here\n",
    "\n",
    "********************************************************************************************************************************************************************************************************************************************************************************************************************************************************************"
   ]
  },
  {
   "cell_type": "code",
   "execution_count": null,
   "id": "71f1d582-9025-4b88-b5f6-4f152388f9fb",
   "metadata": {},
   "outputs": [],
   "source": []
  }
 ],
 "metadata": {
  "kernelspec": {
   "display_name": "R",
   "language": "R",
   "name": "ir"
  },
  "language_info": {
   "codemirror_mode": "r",
   "file_extension": ".r",
   "mimetype": "text/x-r-source",
   "name": "R",
   "pygments_lexer": "r",
   "version": "4.1.1"
  }
 },
 "nbformat": 4,
 "nbformat_minor": 5
}
