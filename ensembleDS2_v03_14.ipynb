{
 "cells": [
  {
   "cell_type": "markdown",
   "id": "45ba7c15-c64f-4265-9cdd-29095e33a841",
   "metadata": {},
   "source": [
    "## Group C\n",
    "## 3 models trained on dataset 1 tested on dataset 2\n",
    "## Ensemble of 3 models also tested"
   ]
  },
  {
   "cell_type": "markdown",
   "id": "249a896c-d9b0-478c-88ec-b281336fd593",
   "metadata": {},
   "source": [
    "#### This notebook reads files:\n",
    "##### AML_datasets.RData\n",
    "##### fold1.100.ttest.csv             \n",
    "##### rand50.of100.best.genes.csv\n",
    "##### model.rF.1.RData\n",
    "##### model.svm.rad.1.RData\n",
    "##### model.svm.lin.1.RData"
   ]
  },
  {
   "cell_type": "code",
   "execution_count": 1,
   "id": "0ded9022-a032-4d9b-b14a-d4c9de628a21",
   "metadata": {
    "tags": []
   },
   "outputs": [
    {
     "name": "stderr",
     "output_type": "stream",
     "text": [
      "Updating HTML index of packages in '.Library'\n",
      "\n",
      "Making 'packages.html' ...\n",
      " done\n",
      "\n",
      "randomForest 4.7-1.1\n",
      "\n",
      "Type rfNews() to see new features/changes/bug fixes.\n",
      "\n"
     ]
    }
   ],
   "source": [
    "install.packages(c(\"e1071\",\"randomForest\"))\n",
    "library(randomForest)\n",
    "library(e1071) #svm"
   ]
  },
  {
   "cell_type": "code",
   "execution_count": 2,
   "id": "8279079e-e027-4256-9a9e-2fd284b556d6",
   "metadata": {},
   "outputs": [
    {
     "data": {
      "text/html": [
       "<style>\n",
       ".list-inline {list-style: none; margin:0; padding: 0}\n",
       ".list-inline>li {display: inline-block}\n",
       ".list-inline>li:not(:last-child)::after {content: \"\\00b7\"; padding: 0 .5ex}\n",
       "</style>\n",
       "<ol class=list-inline><li>12708</li><li>3000</li></ol>\n"
      ],
      "text/latex": [
       "\\begin{enumerate*}\n",
       "\\item 12708\n",
       "\\item 3000\n",
       "\\end{enumerate*}\n"
      ],
      "text/markdown": [
       "1. 12708\n",
       "2. 3000\n",
       "\n",
       "\n"
      ],
      "text/plain": [
       "[1] 12708  3000"
      ]
     },
     "metadata": {},
     "output_type": "display_data"
    },
    {
     "data": {
      "text/html": [
       "<style>\n",
       ".list-inline {list-style: none; margin:0; padding: 0}\n",
       ".list-inline>li {display: inline-block}\n",
       ".list-inline>li:not(:last-child)::after {content: \"\\00b7\"; padding: 0 .5ex}\n",
       "</style>\n",
       "<ol class=list-inline><li>3000</li><li>8</li></ol>\n"
      ],
      "text/latex": [
       "\\begin{enumerate*}\n",
       "\\item 3000\n",
       "\\item 8\n",
       "\\end{enumerate*}\n"
      ],
      "text/markdown": [
       "1. 3000\n",
       "2. 8\n",
       "\n",
       "\n"
      ],
      "text/plain": [
       "[1] 3000    8"
      ]
     },
     "metadata": {},
     "output_type": "display_data"
    }
   ],
   "source": [
    "load (\"AML_datasets.RData\")\n",
    "rm (data.1, data.3, info.1, info.3)\n",
    " # data.2 <- read.table('data.2.csv')\n",
    " # info.2 <- read.table('info.2.csv')\n",
    "data2.sub <- data.2[,1:3000]\n",
    "info2.sub <- info.2[1:3000,]\n",
    "# data2.sub <- read.table('data.2.sub.csv')\n",
    "# info2.sub <- read.table('info.2.sub.csv')\n",
    "dim(data2.sub)\n",
    "dim(info2.sub)"
   ]
  },
  {
   "cell_type": "markdown",
   "id": "fb709287-ca49-4803-b90b-c0edaa406f5e",
   "metadata": {},
   "source": [
    "#### Load dataset 2, subset of first 3000 patients\n",
    "(my kernel kept dying so I wanted less data)"
   ]
  },
  {
   "cell_type": "markdown",
   "id": "631f56fb-c62d-4d6e-830e-0c02677ca21e",
   "metadata": {},
   "source": [
    "#### proportion AML DataSet2: 0.31"
   ]
  },
  {
   "cell_type": "code",
   "execution_count": 3,
   "id": "bcc295b6-b467-43e5-8958-b2fc99b85c5f",
   "metadata": {},
   "outputs": [
    {
     "data": {
      "text/html": [
       "2588"
      ],
      "text/latex": [
       "2588"
      ],
      "text/markdown": [
       "2588"
      ],
      "text/plain": [
       "[1] 2588"
      ]
     },
     "metadata": {},
     "output_type": "display_data"
    },
    {
     "data": {
      "text/html": [
       "8348"
      ],
      "text/latex": [
       "8348"
      ],
      "text/markdown": [
       "8348"
      ],
      "text/plain": [
       "[1] 8348"
      ]
     },
     "metadata": {},
     "output_type": "display_data"
    },
    {
     "data": {
      "text/html": [
       "0.310014374700527"
      ],
      "text/latex": [
       "0.310014374700527"
      ],
      "text/markdown": [
       "0.310014374700527"
      ],
      "text/plain": [
       "[1] 0.3100144"
      ]
     },
     "metadata": {},
     "output_type": "display_data"
    },
    {
     "data": {
      "text/html": [
       "<style>\n",
       ".list-inline {list-style: none; margin:0; padding: 0}\n",
       ".list-inline>li {display: inline-block}\n",
       ".list-inline>li:not(:last-child)::after {content: \"\\00b7\"; padding: 0 .5ex}\n",
       "</style>\n",
       "<ol class=list-inline><li>'aml.overall'</li><li>'data2.sub'</li><li>'info2.sub'</li><li>'len'</li><li>'sm'</li></ol>\n"
      ],
      "text/latex": [
       "\\begin{enumerate*}\n",
       "\\item 'aml.overall'\n",
       "\\item 'data2.sub'\n",
       "\\item 'info2.sub'\n",
       "\\item 'len'\n",
       "\\item 'sm'\n",
       "\\end{enumerate*}\n"
      ],
      "text/markdown": [
       "1. 'aml.overall'\n",
       "2. 'data2.sub'\n",
       "3. 'info2.sub'\n",
       "4. 'len'\n",
       "5. 'sm'\n",
       "\n",
       "\n"
      ],
      "text/plain": [
       "[1] \"aml.overall\" \"data2.sub\"   \"info2.sub\"   \"len\"         \"sm\"         "
      ]
     },
     "metadata": {},
     "output_type": "display_data"
    }
   ],
   "source": [
    "### proportion AML in dataset 2\n",
    "aml.overall <- rep(0, length(info.2$Disease))\n",
    "aml.overall[which (info.2$Disease == \"AML\")] <- 1\n",
    "len <- length(aml.overall)\n",
    "sm <- sum(aml.overall)\n",
    "sm\n",
    "len\n",
    "sm / len\n",
    "rm(data.2,info.2)\n",
    "ls()"
   ]
  },
  {
   "cell_type": "markdown",
   "id": "f1690243-c5d2-4754-a5d1-4e4f66dc1f44",
   "metadata": {},
   "source": [
    "#### proportion AML in first 3000 patients of DataSet 2"
   ]
  },
  {
   "cell_type": "code",
   "execution_count": 4,
   "id": "2550e088-a3a9-47b6-b57f-cff20fc63cb2",
   "metadata": {},
   "outputs": [
    {
     "data": {
      "text/html": [
       "985"
      ],
      "text/latex": [
       "985"
      ],
      "text/markdown": [
       "985"
      ],
      "text/plain": [
       "[1] 985"
      ]
     },
     "metadata": {},
     "output_type": "display_data"
    },
    {
     "data": {
      "text/html": [
       "3000"
      ],
      "text/latex": [
       "3000"
      ],
      "text/markdown": [
       "3000"
      ],
      "text/plain": [
       "[1] 3000"
      ]
     },
     "metadata": {},
     "output_type": "display_data"
    },
    {
     "data": {
      "text/html": [
       "0.328333333333333"
      ],
      "text/latex": [
       "0.328333333333333"
      ],
      "text/markdown": [
       "0.328333333333333"
      ],
      "text/plain": [
       "[1] 0.3283333"
      ]
     },
     "metadata": {},
     "output_type": "display_data"
    }
   ],
   "source": [
    "#create AML / nonAML label\n",
    "#look at balance of AML / nonAML\n",
    "aml.prognosis <- rep(0, length(info2.sub$Disease))\n",
    "aml.prognosis[which (info2.sub$Disease == \"AML\")] <- 1\n",
    "len <- length(aml.prognosis)\n",
    "sm <- sum(aml.prognosis)\n",
    "sm\n",
    "len\n",
    "sm / len"
   ]
  },
  {
   "cell_type": "markdown",
   "id": "a8ec581b-2d01-4735-899e-134d2f8dfee0",
   "metadata": {},
   "source": [
    "#### Read Gene lists used to train models in dataset 1"
   ]
  },
  {
   "cell_type": "code",
   "execution_count": 5,
   "id": "2f793d3b-2902-433c-98c5-b1c10a89561e",
   "metadata": {},
   "outputs": [
    {
     "data": {
      "text/html": [
       "100"
      ],
      "text/latex": [
       "100"
      ],
      "text/markdown": [
       "100"
      ],
      "text/plain": [
       "[1] 100"
      ]
     },
     "metadata": {},
     "output_type": "display_data"
    },
    {
     "data": {
      "text/html": [
       "<style>\n",
       ".list-inline {list-style: none; margin:0; padding: 0}\n",
       ".list-inline>li {display: inline-block}\n",
       ".list-inline>li:not(:last-child)::after {content: \"\\00b7\"; padding: 0 .5ex}\n",
       "</style>\n",
       "<ol class=list-inline><li>'CREG1'</li><li>'ERLIN1'</li><li>'CD79A'</li><li>'POU2AF1'</li><li>'LEF1'</li><li>'PAX5'</li><li>'CFD'</li><li>'FAM46A'</li><li>'ATP8B4'</li><li>'PLAGL1'</li></ol>\n"
      ],
      "text/latex": [
       "\\begin{enumerate*}\n",
       "\\item 'CREG1'\n",
       "\\item 'ERLIN1'\n",
       "\\item 'CD79A'\n",
       "\\item 'POU2AF1'\n",
       "\\item 'LEF1'\n",
       "\\item 'PAX5'\n",
       "\\item 'CFD'\n",
       "\\item 'FAM46A'\n",
       "\\item 'ATP8B4'\n",
       "\\item 'PLAGL1'\n",
       "\\end{enumerate*}\n"
      ],
      "text/markdown": [
       "1. 'CREG1'\n",
       "2. 'ERLIN1'\n",
       "3. 'CD79A'\n",
       "4. 'POU2AF1'\n",
       "5. 'LEF1'\n",
       "6. 'PAX5'\n",
       "7. 'CFD'\n",
       "8. 'FAM46A'\n",
       "9. 'ATP8B4'\n",
       "10. 'PLAGL1'\n",
       "\n",
       "\n"
      ],
      "text/plain": [
       " [1] \"CREG1\"   \"ERLIN1\"  \"CD79A\"   \"POU2AF1\" \"LEF1\"    \"PAX5\"    \"CFD\"    \n",
       " [8] \"FAM46A\"  \"ATP8B4\"  \"PLAGL1\" "
      ]
     },
     "metadata": {},
     "output_type": "display_data"
    }
   ],
   "source": [
    "#100 genes used by SVM radial and SVM linear\n",
    "genes100 <- read.table('fold1.100.ttest.csv')\n",
    "genes100 <- genes100$V1[-1]\n",
    "length(genes100)\n",
    "genes100[1:10]"
   ]
  },
  {
   "cell_type": "code",
   "execution_count": 6,
   "id": "0bc9f6e9-8843-4c1b-a501-58442f7a2eaa",
   "metadata": {},
   "outputs": [
    {
     "data": {
      "text/html": [
       "50"
      ],
      "text/latex": [
       "50"
      ],
      "text/markdown": [
       "50"
      ],
      "text/plain": [
       "[1] 50"
      ]
     },
     "metadata": {},
     "output_type": "display_data"
    },
    {
     "data": {
      "text/html": [
       "<style>\n",
       ".list-inline {list-style: none; margin:0; padding: 0}\n",
       ".list-inline>li {display: inline-block}\n",
       ".list-inline>li:not(:last-child)::after {content: \"\\00b7\"; padding: 0 .5ex}\n",
       "</style>\n",
       "<ol class=list-inline><li>'WARS'</li><li>'PTPRF'</li><li>'AP2M1'</li><li>'PFN1'</li><li>'JTB'</li><li>'SPAG7'</li><li>'HNRNPA1P35'</li><li>'ZNF146'</li><li>'RPL11'</li><li>'ZPR1'</li></ol>\n"
      ],
      "text/latex": [
       "\\begin{enumerate*}\n",
       "\\item 'WARS'\n",
       "\\item 'PTPRF'\n",
       "\\item 'AP2M1'\n",
       "\\item 'PFN1'\n",
       "\\item 'JTB'\n",
       "\\item 'SPAG7'\n",
       "\\item 'HNRNPA1P35'\n",
       "\\item 'ZNF146'\n",
       "\\item 'RPL11'\n",
       "\\item 'ZPR1'\n",
       "\\end{enumerate*}\n"
      ],
      "text/markdown": [
       "1. 'WARS'\n",
       "2. 'PTPRF'\n",
       "3. 'AP2M1'\n",
       "4. 'PFN1'\n",
       "5. 'JTB'\n",
       "6. 'SPAG7'\n",
       "7. 'HNRNPA1P35'\n",
       "8. 'ZNF146'\n",
       "9. 'RPL11'\n",
       "10. 'ZPR1'\n",
       "\n",
       "\n"
      ],
      "text/plain": [
       " [1] \"WARS\"       \"PTPRF\"      \"AP2M1\"      \"PFN1\"       \"JTB\"       \n",
       " [6] \"SPAG7\"      \"HNRNPA1P35\" \"ZNF146\"     \"RPL11\"      \"ZPR1\"      "
      ]
     },
     "metadata": {},
     "output_type": "display_data"
    }
   ],
   "source": [
    "#50 genes used by Random Forest\n",
    "genes50 <- read.table('rand50.of100.best.genes.csv')\n",
    "genes50  <- genes50$x\n",
    "length(genes50)\n",
    "genes50[1:10]"
   ]
  },
  {
   "cell_type": "markdown",
   "id": "61cb31fe-ef05-400e-99f1-c07eb7b8eda1",
   "metadata": {},
   "source": [
    "#### Model 1: Random Forest\n",
    "#### Error rate 24%"
   ]
  },
  {
   "cell_type": "code",
   "execution_count": 7,
   "id": "00c95879-0cf1-4021-aae0-787b9c752303",
   "metadata": {},
   "outputs": [
    {
     "data": {
      "text/plain": [
       "             pred.rf\n",
       "aml.prognosis    0    1\n",
       "            0 1962   53\n",
       "            1  669  316"
      ]
     },
     "metadata": {},
     "output_type": "display_data"
    },
    {
     "data": {
      "text/html": [
       "0.240666666666667"
      ],
      "text/latex": [
       "0.240666666666667"
      ],
      "text/markdown": [
       "0.240666666666667"
      ],
      "text/plain": [
       "[1] 0.2406667"
      ]
     },
     "metadata": {},
     "output_type": "display_data"
    }
   ],
   "source": [
    "rf <- readRDS('model.rF.1.RData')\n",
    "pred.rf <- predict(rf,t(data2.sub[genes50,]))\n",
    "# str(pred.rf)\n",
    "#pred.rf[1:10]\n",
    "t3 <- table(aml.prognosis,pred.rf)\n",
    "t3\n",
    "error_rate <- (sum(t3) - sum(diag(t3)))  /  sum(t3)\n",
    "error_rate"
   ]
  },
  {
   "cell_type": "code",
   "execution_count": null,
   "id": "dc63e2c7-f9f0-4de1-9c7d-639bfd1c9c68",
   "metadata": {},
   "outputs": [],
   "source": []
  },
  {
   "cell_type": "markdown",
   "id": "006f5e9f-e788-4e1f-8124-2f2e30b24d71",
   "metadata": {},
   "source": [
    "#### Model 2: SVM Radial\n",
    "#### Error rate 6.6%"
   ]
  },
  {
   "cell_type": "code",
   "execution_count": 8,
   "id": "aec568df-d18d-41ba-8abe-c92ce813809a",
   "metadata": {},
   "outputs": [],
   "source": [
    "m2 <- readRDS('model.svm.rad.1.RData')"
   ]
  },
  {
   "cell_type": "code",
   "execution_count": 9,
   "id": "abfeaca6-736f-45b5-9e3a-263cd257276e",
   "metadata": {},
   "outputs": [],
   "source": [
    "pred.svm.2 <- predict(m2,t(data2.sub[genes100,]))\n",
    "# str(pred.svm.2)\n",
    "# pred.svm.2[1:10]"
   ]
  },
  {
   "cell_type": "code",
   "execution_count": 10,
   "id": "d4ca6c8b-f4ea-487d-aa1a-3180c641ffcc",
   "metadata": {},
   "outputs": [
    {
     "data": {
      "text/html": [
       "3000"
      ],
      "text/latex": [
       "3000"
      ],
      "text/markdown": [
       "3000"
      ],
      "text/plain": [
       "[1] 3000"
      ]
     },
     "metadata": {},
     "output_type": "display_data"
    },
    {
     "data": {
      "text/html": [
       "0.293666666666667"
      ],
      "text/latex": [
       "0.293666666666667"
      ],
      "text/markdown": [
       "0.293666666666667"
      ],
      "text/plain": [
       "[1] 0.2936667"
      ]
     },
     "metadata": {},
     "output_type": "display_data"
    }
   ],
   "source": [
    "svm.out.vec <- rep(0, length(pred.svm.2))\n",
    "length(svm.out.vec)\n",
    "svm.out.vec[which(pred.svm.2 == \"AML\")] <- 1\n",
    "sum(svm.out.vec) / length(svm.out.vec)"
   ]
  },
  {
   "cell_type": "code",
   "execution_count": 11,
   "id": "10fc8330-6b3b-4898-97fc-eb175147653e",
   "metadata": {},
   "outputs": [
    {
     "data": {
      "text/plain": [
       "             svm.out.vec\n",
       "aml.prognosis    0    1\n",
       "            0 1968   47\n",
       "            1  151  834"
      ]
     },
     "metadata": {},
     "output_type": "display_data"
    },
    {
     "data": {
      "text/html": [
       "0.066"
      ],
      "text/latex": [
       "0.066"
      ],
      "text/markdown": [
       "0.066"
      ],
      "text/plain": [
       "[1] 0.066"
      ]
     },
     "metadata": {},
     "output_type": "display_data"
    }
   ],
   "source": [
    "t2 <- table(aml.prognosis,svm.out.vec)\n",
    "t2\n",
    "error_rate <- (sum(t2) - sum(diag(t2)))  /  sum(t2)\n",
    "error_rate"
   ]
  },
  {
   "cell_type": "markdown",
   "id": "ff187e9b-54e9-4b8c-b96f-6d772c7da99d",
   "metadata": {},
   "source": [
    "#### Model 3: SVM Linear\n",
    "#### Error rate 28%"
   ]
  },
  {
   "cell_type": "code",
   "execution_count": 12,
   "id": "8e9fcd79-b4bd-41db-9bac-3c266c950817",
   "metadata": {},
   "outputs": [],
   "source": [
    "svm1 <- readRDS('model.svm.lin.1.RData')\n",
    "pred.svm4 <- predict(svm1,t(data2.sub[genes100,]))"
   ]
  },
  {
   "cell_type": "code",
   "execution_count": 13,
   "id": "f54623d8-1b33-4dbe-9486-46917b720557",
   "metadata": {},
   "outputs": [
    {
     "data": {
      "text/html": [
       "3000"
      ],
      "text/latex": [
       "3000"
      ],
      "text/markdown": [
       "3000"
      ],
      "text/plain": [
       "[1] 3000"
      ]
     },
     "metadata": {},
     "output_type": "display_data"
    },
    {
     "data": {
      "text/html": [
       "0.610666666666667"
      ],
      "text/latex": [
       "0.610666666666667"
      ],
      "text/markdown": [
       "0.610666666666667"
      ],
      "text/plain": [
       "[1] 0.6106667"
      ]
     },
     "metadata": {},
     "output_type": "display_data"
    }
   ],
   "source": [
    "svm4.out.vec <- rep(0, length(pred.svm4))\n",
    "length(svm4.out.vec)\n",
    "svm4.out.vec[which(pred.svm4 == \"AML\")] <- 1\n",
    "#Proportion of AML predicted\n",
    "sum(svm4.out.vec) / length(svm4.out.vec)"
   ]
  },
  {
   "cell_type": "code",
   "execution_count": 14,
   "id": "bd0fc429-a236-4936-b2d6-2fd7c7bb3929",
   "metadata": {},
   "outputs": [
    {
     "data": {
      "text/plain": [
       "             svm4.out.vec\n",
       "aml.prognosis    0    1\n",
       "            0 1165  850\n",
       "            1    3  982"
      ]
     },
     "metadata": {},
     "output_type": "display_data"
    },
    {
     "data": {
      "text/html": [
       "0.284333333333333"
      ],
      "text/latex": [
       "0.284333333333333"
      ],
      "text/markdown": [
       "0.284333333333333"
      ],
      "text/plain": [
       "[1] 0.2843333"
      ]
     },
     "metadata": {},
     "output_type": "display_data"
    }
   ],
   "source": [
    "t4 <- table(aml.prognosis,svm4.out.vec)\n",
    "t4\n",
    "error_rate <- (sum(t4) - sum(diag(t4)))  /  sum(t4)\n",
    "error_rate"
   ]
  },
  {
   "cell_type": "code",
   "execution_count": null,
   "id": "264b849c-520a-4768-8689-91fd5138163a",
   "metadata": {},
   "outputs": [],
   "source": []
  },
  {
   "cell_type": "markdown",
   "id": "a9f751a9-0e98-4042-81cc-959836c80fe4",
   "metadata": {},
   "source": [
    "#### Ensemble method, takes binary prediction vectors, takes majority count for each patient prediction"
   ]
  },
  {
   "cell_type": "code",
   "execution_count": 15,
   "id": "c3d3c31a-f23c-496a-83ef-4701bce8a8d9",
   "metadata": {},
   "outputs": [],
   "source": [
    "#Ensemble of 3, majority count for binary classification (0,1)\n",
    "maj.count <- function(a,b,c){\n",
    "  vec <- NULL\n",
    "  for (i in 1:length(a)) {\n",
    "    temp <- a[i] + b[i] + c[i]\n",
    "    vote <- 0\n",
    "    if(temp >= 2){\n",
    "      vote <- 1\n",
    "    }\n",
    "    vec <- c(vec,vote)\n",
    "  }\n",
    "  return(vec)\n",
    "}"
   ]
  },
  {
   "cell_type": "markdown",
   "id": "daba01ca-9615-4726-9c9e-a6d313bab2e5",
   "metadata": {},
   "source": [
    "#### Calling ensemble on Random Forest, SVM 1, and SVM 2 model predictions"
   ]
  },
  {
   "cell_type": "code",
   "execution_count": 16,
   "id": "4b1f9f97-8b92-431e-bc1e-8b90ce71e72b",
   "metadata": {},
   "outputs": [
    {
     "data": {
      "text/html": [
       "3000"
      ],
      "text/latex": [
       "3000"
      ],
      "text/markdown": [
       "3000"
      ],
      "text/plain": [
       "[1] 3000"
      ]
     },
     "metadata": {},
     "output_type": "display_data"
    },
    {
     "data": {
      "text/html": [
       "<style>\n",
       ".list-inline {list-style: none; margin:0; padding: 0}\n",
       ".list-inline>li {display: inline-block}\n",
       ".list-inline>li:not(:last-child)::after {content: \"\\00b7\"; padding: 0 .5ex}\n",
       "</style>\n",
       "<ol class=list-inline><li>0</li><li>0</li><li>0</li><li>0</li><li>0</li><li>0</li><li>0</li><li>0</li><li>0</li><li>0</li><li>0</li></ol>\n"
      ],
      "text/latex": [
       "\\begin{enumerate*}\n",
       "\\item 0\n",
       "\\item 0\n",
       "\\item 0\n",
       "\\item 0\n",
       "\\item 0\n",
       "\\item 0\n",
       "\\item 0\n",
       "\\item 0\n",
       "\\item 0\n",
       "\\item 0\n",
       "\\item 0\n",
       "\\end{enumerate*}\n"
      ],
      "text/markdown": [
       "1. 0\n",
       "2. 0\n",
       "3. 0\n",
       "4. 0\n",
       "5. 0\n",
       "6. 0\n",
       "7. 0\n",
       "8. 0\n",
       "9. 0\n",
       "10. 0\n",
       "11. 0\n",
       "\n",
       "\n"
      ],
      "text/plain": [
       " [1] 0 0 0 0 0 0 0 0 0 0 0"
      ]
     },
     "metadata": {},
     "output_type": "display_data"
    },
    {
     "data": {
      "text/html": [
       "<style>\n",
       ".list-inline {list-style: none; margin:0; padding: 0}\n",
       ".list-inline>li {display: inline-block}\n",
       ".list-inline>li:not(:last-child)::after {content: \"\\00b7\"; padding: 0 .5ex}\n",
       "</style>\n",
       "<ol class=list-inline><li>0</li><li>0</li><li>0</li><li>0</li><li>0</li><li>0</li><li>0</li><li>0</li><li>0</li><li>0</li><li>0</li></ol>\n"
      ],
      "text/latex": [
       "\\begin{enumerate*}\n",
       "\\item 0\n",
       "\\item 0\n",
       "\\item 0\n",
       "\\item 0\n",
       "\\item 0\n",
       "\\item 0\n",
       "\\item 0\n",
       "\\item 0\n",
       "\\item 0\n",
       "\\item 0\n",
       "\\item 0\n",
       "\\end{enumerate*}\n"
      ],
      "text/markdown": [
       "1. 0\n",
       "2. 0\n",
       "3. 0\n",
       "4. 0\n",
       "5. 0\n",
       "6. 0\n",
       "7. 0\n",
       "8. 0\n",
       "9. 0\n",
       "10. 0\n",
       "11. 0\n",
       "\n",
       "\n"
      ],
      "text/plain": [
       " [1] 0 0 0 0 0 0 0 0 0 0 0"
      ]
     },
     "metadata": {},
     "output_type": "display_data"
    },
    {
     "data": {
      "text/html": [
       "<style>\n",
       ".list-inline {list-style: none; margin:0; padding: 0}\n",
       ".list-inline>li {display: inline-block}\n",
       ".list-inline>li:not(:last-child)::after {content: \"\\00b7\"; padding: 0 .5ex}\n",
       "</style>\n",
       "<ol class=list-inline><li>1</li><li>1</li><li>1</li><li>0</li><li>1</li><li>1</li><li>1</li><li>1</li><li>1</li><li>1</li><li>0</li></ol>\n"
      ],
      "text/latex": [
       "\\begin{enumerate*}\n",
       "\\item 1\n",
       "\\item 1\n",
       "\\item 1\n",
       "\\item 0\n",
       "\\item 1\n",
       "\\item 1\n",
       "\\item 1\n",
       "\\item 1\n",
       "\\item 1\n",
       "\\item 1\n",
       "\\item 0\n",
       "\\end{enumerate*}\n"
      ],
      "text/markdown": [
       "1. 1\n",
       "2. 1\n",
       "3. 1\n",
       "4. 0\n",
       "5. 1\n",
       "6. 1\n",
       "7. 1\n",
       "8. 1\n",
       "9. 1\n",
       "10. 1\n",
       "11. 0\n",
       "\n",
       "\n"
      ],
      "text/plain": [
       " [1] 1 1 1 0 1 1 1 1 1 1 0"
      ]
     },
     "metadata": {},
     "output_type": "display_data"
    },
    {
     "data": {
      "text/html": [
       "<style>\n",
       ".list-inline {list-style: none; margin:0; padding: 0}\n",
       ".list-inline>li {display: inline-block}\n",
       ".list-inline>li:not(:last-child)::after {content: \"\\00b7\"; padding: 0 .5ex}\n",
       "</style>\n",
       "<ol class=list-inline><li>0</li><li>0</li><li>0</li><li>0</li><li>0</li><li>0</li><li>0</li><li>0</li><li>0</li><li>0</li><li>0</li></ol>\n"
      ],
      "text/latex": [
       "\\begin{enumerate*}\n",
       "\\item 0\n",
       "\\item 0\n",
       "\\item 0\n",
       "\\item 0\n",
       "\\item 0\n",
       "\\item 0\n",
       "\\item 0\n",
       "\\item 0\n",
       "\\item 0\n",
       "\\item 0\n",
       "\\item 0\n",
       "\\end{enumerate*}\n"
      ],
      "text/markdown": [
       "1. 0\n",
       "2. 0\n",
       "3. 0\n",
       "4. 0\n",
       "5. 0\n",
       "6. 0\n",
       "7. 0\n",
       "8. 0\n",
       "9. 0\n",
       "10. 0\n",
       "11. 0\n",
       "\n",
       "\n"
      ],
      "text/plain": [
       " [1] 0 0 0 0 0 0 0 0 0 0 0"
      ]
     },
     "metadata": {},
     "output_type": "display_data"
    }
   ],
   "source": [
    "\n",
    " rf.results <- round(as.numeric(as.character(pred.rf)))\n",
    "# results2 <- round(as.numeric(as.character(pred.svm.2)))\n",
    "# results3 <- round(as.numeric(as.character(pred.svm4)))\n",
    "\n",
    "ret.ensemble <- maj.count(rf.results, svm.out.vec, svm4.out.vec)\n",
    "\n",
    "length(ret.ensemble)\n",
    "sample.indexes = 55:65\n",
    "rf.results[sample.indexes]\n",
    "svm.out.vec[sample.indexes]\n",
    "svm4.out.vec[sample.indexes]\n",
    "ret.ensemble[sample.indexes]"
   ]
  },
  {
   "cell_type": "markdown",
   "id": "808d09bd-4d6c-4734-b7f5-7f7915101c44",
   "metadata": {},
   "source": [
    "##### Above, first 3 rows are individual model predictions, last row is ensemble prediction\n",
    "## Ensemble error rate 7%"
   ]
  },
  {
   "cell_type": "code",
   "execution_count": 17,
   "id": "6275e342-7109-493e-90e0-546c9d524c93",
   "metadata": {},
   "outputs": [
    {
     "data": {
      "text/html": [
       "0.0716666666666667"
      ],
      "text/latex": [
       "0.0716666666666667"
      ],
      "text/markdown": [
       "0.0716666666666667"
      ],
      "text/plain": [
       "[1] 0.07166667"
      ]
     },
     "metadata": {},
     "output_type": "display_data"
    }
   ],
   "source": [
    "t5 <- table(ret.ensemble, aml.prognosis)\n",
    "error_rate <- (sum(t5) - sum(diag(t5)))  /  sum(t5)\n",
    "error_rate"
   ]
  },
  {
   "cell_type": "code",
   "execution_count": null,
   "id": "bafbe3a9-2545-40b4-b83a-c47594bcb610",
   "metadata": {},
   "outputs": [],
   "source": []
  }
 ],
 "metadata": {
  "kernelspec": {
   "display_name": "R",
   "language": "R",
   "name": "ir"
  },
  "language_info": {
   "codemirror_mode": "r",
   "file_extension": ".r",
   "mimetype": "text/x-r-source",
   "name": "R",
   "pygments_lexer": "r",
   "version": "4.1.1"
  }
 },
 "nbformat": 4,
 "nbformat_minor": 5
}
