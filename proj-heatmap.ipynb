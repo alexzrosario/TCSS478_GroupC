{
 "cells": [
  {
   "cell_type": "code",
   "execution_count": 1,
   "id": "07d13be2-f681-4452-9d55-07c3d5eec915",
   "metadata": {},
   "outputs": [
    {
     "name": "stderr",
     "output_type": "stream",
     "text": [
      "Updating HTML index of packages in '.Library'\n",
      "\n",
      "Making 'packages.html' ...\n",
      " done\n",
      "\n",
      "'getOption(\"repos\")' replaces Bioconductor standard repositories, see\n",
      "'help(\"repositories\", package = \"BiocManager\")' for details.\n",
      "Replacement repositories:\n",
      "    CRAN: https://cran.r-project.org\n",
      "\n",
      "Bioconductor version 3.14 (BiocManager 1.30.20), R 4.1.1 (2021-08-10)\n",
      "\n",
      "Installing package(s) 'BiocVersion', 'gplots', 'cluster'\n",
      "\n",
      "also installing the dependency ‘caTools’\n",
      "\n",
      "\n",
      "Updating HTML index of packages in '.Library'\n",
      "\n",
      "Making 'packages.html' ...\n",
      " done\n",
      "\n",
      "Old packages: 'arkhe', 'brew', 'broom', 'cachem', 'caret', 'class', 'classInt',\n",
      "  'cli', 'codetools', 'colorspace', 'conflicted', 'covr', 'credentials',\n",
      "  'curl', 'data.table', 'dbplyr', 'devtools', 'dplyr', 'DT', 'dtplyr', 'e1071',\n",
      "  'evaluate', 'expm', 'fansi', 'fastmap', 'FNN', 'fontawesome', 'forcats',\n",
      "  'forecast', 'fracdiff', 'fs', 'future', 'gargle', 'gert', 'ggplot2',\n",
      "  'ggrepel', 'gh', 'git2r', 'gitcreds', 'gower', 'gstat', 'gtools', 'haven',\n",
      "  'highr', 'htmlwidgets', 'httpuv', 'httr', 'ipred', 'IRdisplay', 'IRkernel',\n",
      "  'isoband', 'janitor', 'keras', 'knitr', 'lava', 'lhs', 'lmtest', 'lubridate',\n",
      "  'markdown', 'MASS', 'Matrix', 'mgcv', 'modeldata', 'modelenv', 'nlme',\n",
      "  'nloptr', 'nnet', 'openssl', 'parallelly', 'parsnip', 'pbdZMQ', 'pkgbuild',\n",
      "  'plyr', 'png', 'progressr', 'proxy', 'purrr', 'quantmod', 'randomForest',\n",
      "  'raster', 'Rcpp', 'RcppArmadillo', 'RcppTOML', 'RCurl', 'readr', 'readxl',\n",
      "  'recipes', 'remotes', 'renv', 'repr', 'reticulate', 'rex', 'rmarkdown',\n",
      "  'RODBC', 'roxygen2', 'rpart', 'RSQLite', 'rversions', 's2', 'sass',\n",
      "  'sessioninfo', 'sf', 'skimr', 'sourcetools', 'sp', 'spatial', 'spatialreg',\n",
      "  'spData', 'spdep', 'spiderbar', 'stringi', 'survival', 'tensorflow', 'terra',\n",
      "  'testthat', 'tibble', 'tidyr', 'tidyverse', 'timechange', 'timeDate',\n",
      "  'tinytex', 'tseries', 'TTR', 'units', 'urca', 'usethis', 'utf8', 'vctrs',\n",
      "  'visdat', 'vroom', 'whisker', 'wk', 'workflows', 'xfun', 'xts', 'yaml',\n",
      "  'zip', 'zoo'\n",
      "\n"
     ]
    }
   ],
   "source": [
    "if (!require(\"BiocManager\", quietly = TRUE))\n",
    "    install.packages(\"BiocManager\")\n",
    "BiocManager::install(version = \"3.14\",c(\"gplots\", \"cluster\"))"
   ]
  },
  {
   "cell_type": "code",
   "execution_count": 2,
   "id": "43196f75-820b-4f0d-b2d5-3794423e0065",
   "metadata": {},
   "outputs": [
    {
     "name": "stderr",
     "output_type": "stream",
     "text": [
      "Loading required package: fossil\n",
      "\n",
      "Warning message in library(package, lib.loc = lib.loc, character.only = TRUE, logical.return = TRUE, :\n",
      "“there is no package called ‘fossil’”\n",
      "also installing the dependencies ‘maps’, ‘shapefiles’\n",
      "\n",
      "\n",
      "Updating HTML index of packages in '.Library'\n",
      "\n",
      "Making 'packages.html' ...\n",
      " done\n",
      "\n",
      "Loading required package: sp\n",
      "\n",
      "Warning message:\n",
      "“package ‘sp’ was built under R version 4.1.3”\n",
      "Loading required package: maps\n",
      "\n",
      "Loading required package: shapefiles\n",
      "\n",
      "Loading required package: foreign\n",
      "\n",
      "\n",
      "Attaching package: ‘shapefiles’\n",
      "\n",
      "\n",
      "The following objects are masked from ‘package:foreign’:\n",
      "\n",
      "    read.dbf, write.dbf\n",
      "\n",
      "\n"
     ]
    }
   ],
   "source": [
    "if(!require('fossil')) {\n",
    "    install.packages('fossil')\n",
    "    library('fossil')\n",
    "}"
   ]
  },
  {
   "cell_type": "code",
   "execution_count": 3,
   "id": "8ec3956d-26f0-4ac3-8629-baf605220fab",
   "metadata": {},
   "outputs": [
    {
     "ename": "ERROR",
     "evalue": "Error: all '...' arguments to 'install()' must be named\n",
     "output_type": "error",
     "traceback": [
      "Error: all '...' arguments to 'install()' must be named\nTraceback:\n",
      "1. BiocManager::install(\"GEOquery\", \"e1071\")",
      "2. stopifnot(is.character(pkgs), !anyNA(pkgs), .install_validate_dots(...), \n .     length(site_repository) <= 1L, is.character(site_repository), \n .     !any(is.na(site_repository)), is.logical(update), length(update) == \n .         1L, !is.na(update), is.logical(ask), length(ask) == 1L, \n .     !is.na(ask), is.logical(checkBuilt), length(checkBuilt) == \n .         1L, !is.na(checkBuilt), length(version) == 1L || inherits(version, \n .         \"version_sentinel\"))",
      "3. .install_validate_dots(...)",
      "4. .stop(\"all '...' arguments to 'install()' must be named\")",
      "5. stop(.msg(...), call. = call.)"
     ]
    }
   ],
   "source": [
    "BiocManager::install(\"GEOquery\",\"e1071\")\n",
    "library(GEOquery)"
   ]
  },
  {
   "cell_type": "markdown",
   "id": "32868271-3e8a-497c-826a-658f8a6e0b5b",
   "metadata": {},
   "source": [
    "#geoD1 <- getGEO('GSE122505')"
   ]
  },
  {
   "cell_type": "code",
   "execution_count": 4,
   "id": "f7a31cff-a898-4252-af99-24d1a2ddb7d8",
   "metadata": {},
   "outputs": [],
   "source": [
    "load (\"AML_datasets.RData\")"
   ]
  },
  {
   "cell_type": "code",
   "execution_count": 5,
   "id": "1468b9a5-cddf-4be0-8645-ae8305b186c2",
   "metadata": {},
   "outputs": [
    {
     "data": {
      "text/html": [
       "<style>\n",
       ".list-inline {list-style: none; margin:0; padding: 0}\n",
       ".list-inline>li {display: inline-block}\n",
       ".list-inline>li:not(:last-child)::after {content: \"\\00b7\"; padding: 0 .5ex}\n",
       "</style>\n",
       "<ol class=list-inline><li>'data.1'</li><li>'data.2'</li><li>'data.3'</li><li>'info.1'</li><li>'info.2'</li><li>'info.3'</li></ol>\n"
      ],
      "text/latex": [
       "\\begin{enumerate*}\n",
       "\\item 'data.1'\n",
       "\\item 'data.2'\n",
       "\\item 'data.3'\n",
       "\\item 'info.1'\n",
       "\\item 'info.2'\n",
       "\\item 'info.3'\n",
       "\\end{enumerate*}\n"
      ],
      "text/markdown": [
       "1. 'data.1'\n",
       "2. 'data.2'\n",
       "3. 'data.3'\n",
       "4. 'info.1'\n",
       "5. 'info.2'\n",
       "6. 'info.3'\n",
       "\n",
       "\n"
      ],
      "text/plain": [
       "[1] \"data.1\" \"data.2\" \"data.3\" \"info.1\" \"info.2\" \"info.3\""
      ]
     },
     "metadata": {},
     "output_type": "display_data"
    }
   ],
   "source": [
    "ls()"
   ]
  },
  {
   "cell_type": "code",
   "execution_count": 6,
   "id": "bf3046da-c6e2-4061-bd79-616020aceab3",
   "metadata": {},
   "outputs": [],
   "source": [
    "rm (data.2, data.3, info.2, info.3)"
   ]
  },
  {
   "cell_type": "code",
   "execution_count": 7,
   "id": "c03b2d6a-cba8-408d-901e-cf148c5f9a54",
   "metadata": {},
   "outputs": [
    {
     "data": {
      "text/html": [
       "<style>\n",
       ".list-inline {list-style: none; margin:0; padding: 0}\n",
       ".list-inline>li {display: inline-block}\n",
       ".list-inline>li:not(:last-child)::after {content: \"\\00b7\"; padding: 0 .5ex}\n",
       "</style>\n",
       "<ol class=list-inline><li>'data.1'</li><li>'info.1'</li></ol>\n"
      ],
      "text/latex": [
       "\\begin{enumerate*}\n",
       "\\item 'data.1'\n",
       "\\item 'info.1'\n",
       "\\end{enumerate*}\n"
      ],
      "text/markdown": [
       "1. 'data.1'\n",
       "2. 'info.1'\n",
       "\n",
       "\n"
      ],
      "text/plain": [
       "[1] \"data.1\" \"info.1\""
      ]
     },
     "metadata": {},
     "output_type": "display_data"
    }
   ],
   "source": [
    "ls()"
   ]
  },
  {
   "cell_type": "code",
   "execution_count": 8,
   "id": "a28ea1fc-1c9e-4191-8976-8534ab92a3c3",
   "metadata": {},
   "outputs": [
    {
     "data": {
      "text/html": [
       "'double'"
      ],
      "text/latex": [
       "'double'"
      ],
      "text/markdown": [
       "'double'"
      ],
      "text/plain": [
       "[1] \"double\""
      ]
     },
     "metadata": {},
     "output_type": "display_data"
    },
    {
     "data": {
      "text/html": [
       "'list'"
      ],
      "text/latex": [
       "'list'"
      ],
      "text/markdown": [
       "'list'"
      ],
      "text/plain": [
       "[1] \"list\""
      ]
     },
     "metadata": {},
     "output_type": "display_data"
    }
   ],
   "source": [
    "typeof(data.1)\n",
    "typeof(info.1)"
   ]
  },
  {
   "cell_type": "code",
   "execution_count": 9,
   "id": "77e459df-79e6-492e-9097-1be5825a764a",
   "metadata": {},
   "outputs": [
    {
     "data": {
      "text/html": [
       "<style>\n",
       ".list-inline {list-style: none; margin:0; padding: 0}\n",
       ".list-inline>li {display: inline-block}\n",
       ".list-inline>li:not(:last-child)::after {content: \"\\00b7\"; padding: 0 .5ex}\n",
       "</style>\n",
       "<ol class=list-inline><li>12708</li><li>2500</li></ol>\n"
      ],
      "text/latex": [
       "\\begin{enumerate*}\n",
       "\\item 12708\n",
       "\\item 2500\n",
       "\\end{enumerate*}\n"
      ],
      "text/markdown": [
       "1. 12708\n",
       "2. 2500\n",
       "\n",
       "\n"
      ],
      "text/plain": [
       "[1] 12708  2500"
      ]
     },
     "metadata": {},
     "output_type": "display_data"
    },
    {
     "data": {
      "text/html": [
       "<table class=\"dataframe\">\n",
       "<caption>A matrix: 5 × 8 of type dbl</caption>\n",
       "<thead>\n",
       "\t<tr><th></th><th scope=col>AHW_ALL_BA_025919_13_A_PZ.CEL</th><th scope=col>AHW_ALL_BA_032751_71_A_PZ.CEL</th><th scope=col>AHW_ALL_BN_022495_7_A_PZ.CEL</th><th scope=col>AHW_ALL_MLL_031351_13_A_PZ.CEL</th><th scope=col>AHW_ALL_MLL_036187_80_A_PZ.CEL</th><th scope=col>AHW_ALL_Ph_030031_32_A_PZ.CEL</th><th scope=col>AHW_ALL_Ph_032683_15_A_PZ.CEL</th><th scope=col>AHW_ALL_Ph_035655_63_A_PZ.CEL</th></tr>\n",
       "</thead>\n",
       "<tbody>\n",
       "\t<tr><th scope=row>PAX8</th><td>9.221573</td><td>8.524435</td><td>8.606060</td><td>8.841501</td><td>8.882826</td><td>9.011544</td><td>8.975590</td><td>8.940409</td></tr>\n",
       "\t<tr><th scope=row>CCL5</th><td>7.990144</td><td>6.648112</td><td>6.382602</td><td>6.469583</td><td>8.332415</td><td>6.830385</td><td>8.753525</td><td>6.370298</td></tr>\n",
       "\t<tr><th scope=row>MMP14</th><td>8.391732</td><td>8.183514</td><td>7.909023</td><td>8.105744</td><td>7.820992</td><td>7.859977</td><td>8.128827</td><td>7.956449</td></tr>\n",
       "\t<tr><th scope=row>DTX2P1-UPK3BP1-PMS2P11</th><td>9.280415</td><td>8.798847</td><td>8.948909</td><td>8.941517</td><td>8.725958</td><td>8.975915</td><td>9.130401</td><td>8.997386</td></tr>\n",
       "\t<tr><th scope=row>BAD</th><td>5.579486</td><td>5.934621</td><td>5.646312</td><td>5.899868</td><td>5.651731</td><td>5.798776</td><td>5.849792</td><td>6.002240</td></tr>\n",
       "</tbody>\n",
       "</table>\n"
      ],
      "text/latex": [
       "A matrix: 5 × 8 of type dbl\n",
       "\\begin{tabular}{r|llllllll}\n",
       "  & AHW\\_ALL\\_BA\\_025919\\_13\\_A\\_PZ.CEL & AHW\\_ALL\\_BA\\_032751\\_71\\_A\\_PZ.CEL & AHW\\_ALL\\_BN\\_022495\\_7\\_A\\_PZ.CEL & AHW\\_ALL\\_MLL\\_031351\\_13\\_A\\_PZ.CEL & AHW\\_ALL\\_MLL\\_036187\\_80\\_A\\_PZ.CEL & AHW\\_ALL\\_Ph\\_030031\\_32\\_A\\_PZ.CEL & AHW\\_ALL\\_Ph\\_032683\\_15\\_A\\_PZ.CEL & AHW\\_ALL\\_Ph\\_035655\\_63\\_A\\_PZ.CEL\\\\\n",
       "\\hline\n",
       "\tPAX8 & 9.221573 & 8.524435 & 8.606060 & 8.841501 & 8.882826 & 9.011544 & 8.975590 & 8.940409\\\\\n",
       "\tCCL5 & 7.990144 & 6.648112 & 6.382602 & 6.469583 & 8.332415 & 6.830385 & 8.753525 & 6.370298\\\\\n",
       "\tMMP14 & 8.391732 & 8.183514 & 7.909023 & 8.105744 & 7.820992 & 7.859977 & 8.128827 & 7.956449\\\\\n",
       "\tDTX2P1-UPK3BP1-PMS2P11 & 9.280415 & 8.798847 & 8.948909 & 8.941517 & 8.725958 & 8.975915 & 9.130401 & 8.997386\\\\\n",
       "\tBAD & 5.579486 & 5.934621 & 5.646312 & 5.899868 & 5.651731 & 5.798776 & 5.849792 & 6.002240\\\\\n",
       "\\end{tabular}\n"
      ],
      "text/markdown": [
       "\n",
       "A matrix: 5 × 8 of type dbl\n",
       "\n",
       "| <!--/--> | AHW_ALL_BA_025919_13_A_PZ.CEL | AHW_ALL_BA_032751_71_A_PZ.CEL | AHW_ALL_BN_022495_7_A_PZ.CEL | AHW_ALL_MLL_031351_13_A_PZ.CEL | AHW_ALL_MLL_036187_80_A_PZ.CEL | AHW_ALL_Ph_030031_32_A_PZ.CEL | AHW_ALL_Ph_032683_15_A_PZ.CEL | AHW_ALL_Ph_035655_63_A_PZ.CEL |\n",
       "|---|---|---|---|---|---|---|---|---|\n",
       "| PAX8 | 9.221573 | 8.524435 | 8.606060 | 8.841501 | 8.882826 | 9.011544 | 8.975590 | 8.940409 |\n",
       "| CCL5 | 7.990144 | 6.648112 | 6.382602 | 6.469583 | 8.332415 | 6.830385 | 8.753525 | 6.370298 |\n",
       "| MMP14 | 8.391732 | 8.183514 | 7.909023 | 8.105744 | 7.820992 | 7.859977 | 8.128827 | 7.956449 |\n",
       "| DTX2P1-UPK3BP1-PMS2P11 | 9.280415 | 8.798847 | 8.948909 | 8.941517 | 8.725958 | 8.975915 | 9.130401 | 8.997386 |\n",
       "| BAD | 5.579486 | 5.934621 | 5.646312 | 5.899868 | 5.651731 | 5.798776 | 5.849792 | 6.002240 |\n",
       "\n"
      ],
      "text/plain": [
       "                       AHW_ALL_BA_025919_13_A_PZ.CEL\n",
       "PAX8                   9.221573                     \n",
       "CCL5                   7.990144                     \n",
       "MMP14                  8.391732                     \n",
       "DTX2P1-UPK3BP1-PMS2P11 9.280415                     \n",
       "BAD                    5.579486                     \n",
       "                       AHW_ALL_BA_032751_71_A_PZ.CEL\n",
       "PAX8                   8.524435                     \n",
       "CCL5                   6.648112                     \n",
       "MMP14                  8.183514                     \n",
       "DTX2P1-UPK3BP1-PMS2P11 8.798847                     \n",
       "BAD                    5.934621                     \n",
       "                       AHW_ALL_BN_022495_7_A_PZ.CEL\n",
       "PAX8                   8.606060                    \n",
       "CCL5                   6.382602                    \n",
       "MMP14                  7.909023                    \n",
       "DTX2P1-UPK3BP1-PMS2P11 8.948909                    \n",
       "BAD                    5.646312                    \n",
       "                       AHW_ALL_MLL_031351_13_A_PZ.CEL\n",
       "PAX8                   8.841501                      \n",
       "CCL5                   6.469583                      \n",
       "MMP14                  8.105744                      \n",
       "DTX2P1-UPK3BP1-PMS2P11 8.941517                      \n",
       "BAD                    5.899868                      \n",
       "                       AHW_ALL_MLL_036187_80_A_PZ.CEL\n",
       "PAX8                   8.882826                      \n",
       "CCL5                   8.332415                      \n",
       "MMP14                  7.820992                      \n",
       "DTX2P1-UPK3BP1-PMS2P11 8.725958                      \n",
       "BAD                    5.651731                      \n",
       "                       AHW_ALL_Ph_030031_32_A_PZ.CEL\n",
       "PAX8                   9.011544                     \n",
       "CCL5                   6.830385                     \n",
       "MMP14                  7.859977                     \n",
       "DTX2P1-UPK3BP1-PMS2P11 8.975915                     \n",
       "BAD                    5.798776                     \n",
       "                       AHW_ALL_Ph_032683_15_A_PZ.CEL\n",
       "PAX8                   8.975590                     \n",
       "CCL5                   8.753525                     \n",
       "MMP14                  8.128827                     \n",
       "DTX2P1-UPK3BP1-PMS2P11 9.130401                     \n",
       "BAD                    5.849792                     \n",
       "                       AHW_ALL_Ph_035655_63_A_PZ.CEL\n",
       "PAX8                   8.940409                     \n",
       "CCL5                   6.370298                     \n",
       "MMP14                  7.956449                     \n",
       "DTX2P1-UPK3BP1-PMS2P11 8.997386                     \n",
       "BAD                    6.002240                     "
      ]
     },
     "metadata": {},
     "output_type": "display_data"
    }
   ],
   "source": [
    "dim(data.1)\n",
    "data.1[1:5, 1:8]"
   ]
  },
  {
   "cell_type": "code",
   "execution_count": 10,
   "id": "9f5d75be-7ab8-4533-ab67-5f6abfaebc64",
   "metadata": {},
   "outputs": [
    {
     "data": {
      "text/html": [
       "<style>\n",
       ".list-inline {list-style: none; margin:0; padding: 0}\n",
       ".list-inline>li {display: inline-block}\n",
       ".list-inline>li:not(:last-child)::after {content: \"\\00b7\"; padding: 0 .5ex}\n",
       "</style>\n",
       "<ol class=list-inline><li>2500</li><li>8</li></ol>\n"
      ],
      "text/latex": [
       "\\begin{enumerate*}\n",
       "\\item 2500\n",
       "\\item 8\n",
       "\\end{enumerate*}\n"
      ],
      "text/markdown": [
       "1. 2500\n",
       "2. 8\n",
       "\n",
       "\n"
      ],
      "text/plain": [
       "[1] 2500    8"
      ]
     },
     "metadata": {},
     "output_type": "display_data"
    },
    {
     "data": {
      "text/html": [
       "<table class=\"dataframe\">\n",
       "<caption>A data.frame: 15 × 8</caption>\n",
       "<thead>\n",
       "\t<tr><th></th><th scope=col>Dataset</th><th scope=col>GSE</th><th scope=col>Condition</th><th scope=col>Disease</th><th scope=col>Tissue</th><th scope=col>FAB</th><th scope=col>Filename</th><th scope=col>FAB_all</th></tr>\n",
       "\t<tr><th></th><th scope=col>&lt;dbl&gt;</th><th scope=col>&lt;fct&gt;</th><th scope=col>&lt;fct&gt;</th><th scope=col>&lt;fct&gt;</th><th scope=col>&lt;fct&gt;</th><th scope=col>&lt;chr&gt;</th><th scope=col>&lt;chr&gt;</th><th scope=col>&lt;chr&gt;</th></tr>\n",
       "</thead>\n",
       "<tbody>\n",
       "\t<tr><th scope=row>AHW_ALL_BA_025919_13_A_PZ.CEL</th><td>1</td><td>Haferlach</td><td>CONTROL</td><td>ALL</td><td>BM or PBMC</td><td>unknown</td><td>AHW_ALL_BA_025919_13_A_PZ.CEL </td><td>unknown</td></tr>\n",
       "\t<tr><th scope=row>AHW_ALL_BA_032751_71_A_PZ.CEL</th><td>1</td><td>Haferlach</td><td>CONTROL</td><td>ALL</td><td>BM or PBMC</td><td>unknown</td><td>AHW_ALL_BA_032751_71_A_PZ.CEL </td><td>unknown</td></tr>\n",
       "\t<tr><th scope=row>AHW_ALL_BN_022495_7_A_PZ.CEL</th><td>1</td><td>Haferlach</td><td>CONTROL</td><td>ALL</td><td>BM or PBMC</td><td>unknown</td><td>AHW_ALL_BN_022495_7_A_PZ.CEL  </td><td>unknown</td></tr>\n",
       "\t<tr><th scope=row>AHW_ALL_MLL_031351_13_A_PZ.CEL</th><td>1</td><td>Haferlach</td><td>CONTROL</td><td>ALL</td><td>BM or PBMC</td><td>unknown</td><td>AHW_ALL_MLL_031351_13_A_PZ.CEL</td><td>unknown</td></tr>\n",
       "\t<tr><th scope=row>AHW_ALL_MLL_036187_80_A_PZ.CEL</th><td>1</td><td>Haferlach</td><td>CONTROL</td><td>ALL</td><td>BM or PBMC</td><td>unknown</td><td>AHW_ALL_MLL_036187_80_A_PZ.CEL</td><td>unknown</td></tr>\n",
       "\t<tr><th scope=row>AHW_ALL_Ph_030031_32_A_PZ.CEL</th><td>1</td><td>Haferlach</td><td>CONTROL</td><td>ALL</td><td>BM or PBMC</td><td>unknown</td><td>AHW_ALL_Ph_030031_32_A_PZ.CEL </td><td>unknown</td></tr>\n",
       "\t<tr><th scope=row>AHW_ALL_Ph_032683_15_A_PZ.CEL</th><td>1</td><td>Haferlach</td><td>CONTROL</td><td>ALL</td><td>BM or PBMC</td><td>unknown</td><td>AHW_ALL_Ph_032683_15_A_PZ.CEL </td><td>unknown</td></tr>\n",
       "\t<tr><th scope=row>AHW_ALL_Ph_035655_63_A_PZ.CEL</th><td>1</td><td>Haferlach</td><td>CONTROL</td><td>ALL</td><td>BM or PBMC</td><td>unknown</td><td>AHW_ALL_Ph_035655_63_A_PZ.CEL </td><td>unknown</td></tr>\n",
       "\t<tr><th scope=row>AHW_ALL_TA_025336_26_A_PZ.CEL</th><td>1</td><td>Haferlach</td><td>CONTROL</td><td>ALL</td><td>BM or PBMC</td><td>unknown</td><td>AHW_ALL_TA_025336_26_A_PZ.CEL </td><td>unknown</td></tr>\n",
       "\t<tr><th scope=row>AHW_ALL_TA_032725_16_A_PZ.CEL</th><td>1</td><td>Haferlach</td><td>CONTROL</td><td>ALL</td><td>BM or PBMC</td><td>unknown</td><td>AHW_ALL_TA_032725_16_A_PZ.CEL </td><td>unknown</td></tr>\n",
       "\t<tr><th scope=row>AHW_ALL_TA_035238_44_A_PZ.CEL</th><td>1</td><td>Haferlach</td><td>CONTROL</td><td>ALL</td><td>BM or PBMC</td><td>unknown</td><td>AHW_ALL_TA_035238_44_A_PZ.CEL </td><td>unknown</td></tr>\n",
       "\t<tr><th scope=row>AHW_CLL_nk_035244_47_A_PZ.CEL</th><td>1</td><td>Haferlach</td><td>CONTROL</td><td>CLL</td><td>BM or PBMC</td><td>unknown</td><td>AHW_CLL_nk_035244_47_A_PZ.CEL </td><td>unknown</td></tr>\n",
       "\t<tr><th scope=row>ALK_ALL_411_002127_15_A_PZ.CEL</th><td>1</td><td>Haferlach</td><td>CONTROL</td><td>ALL</td><td>BM or PBMC</td><td>unknown</td><td>ALK_ALL_411_002127_15_A_PZ.CEL</td><td>unknown</td></tr>\n",
       "\t<tr><th scope=row>ALK_ALL_411_013713_3_A_PZ.CEL</th><td>1</td><td>Haferlach</td><td>CONTROL</td><td>ALL</td><td>BM or PBMC</td><td>unknown</td><td>ALK_ALL_411_013713_3_A_PZ.CEL </td><td>unknown</td></tr>\n",
       "\t<tr><th scope=row>ALK_ALL_411_023231_3_A_PZ.CEL</th><td>1</td><td>Haferlach</td><td>CONTROL</td><td>ALL</td><td>BM or PBMC</td><td>unknown</td><td>ALK_ALL_411_023231_3_A_PZ.CEL </td><td>unknown</td></tr>\n",
       "</tbody>\n",
       "</table>\n"
      ],
      "text/latex": [
       "A data.frame: 15 × 8\n",
       "\\begin{tabular}{r|llllllll}\n",
       "  & Dataset & GSE & Condition & Disease & Tissue & FAB & Filename & FAB\\_all\\\\\n",
       "  & <dbl> & <fct> & <fct> & <fct> & <fct> & <chr> & <chr> & <chr>\\\\\n",
       "\\hline\n",
       "\tAHW\\_ALL\\_BA\\_025919\\_13\\_A\\_PZ.CEL & 1 & Haferlach & CONTROL & ALL & BM or PBMC & unknown & AHW\\_ALL\\_BA\\_025919\\_13\\_A\\_PZ.CEL  & unknown\\\\\n",
       "\tAHW\\_ALL\\_BA\\_032751\\_71\\_A\\_PZ.CEL & 1 & Haferlach & CONTROL & ALL & BM or PBMC & unknown & AHW\\_ALL\\_BA\\_032751\\_71\\_A\\_PZ.CEL  & unknown\\\\\n",
       "\tAHW\\_ALL\\_BN\\_022495\\_7\\_A\\_PZ.CEL & 1 & Haferlach & CONTROL & ALL & BM or PBMC & unknown & AHW\\_ALL\\_BN\\_022495\\_7\\_A\\_PZ.CEL   & unknown\\\\\n",
       "\tAHW\\_ALL\\_MLL\\_031351\\_13\\_A\\_PZ.CEL & 1 & Haferlach & CONTROL & ALL & BM or PBMC & unknown & AHW\\_ALL\\_MLL\\_031351\\_13\\_A\\_PZ.CEL & unknown\\\\\n",
       "\tAHW\\_ALL\\_MLL\\_036187\\_80\\_A\\_PZ.CEL & 1 & Haferlach & CONTROL & ALL & BM or PBMC & unknown & AHW\\_ALL\\_MLL\\_036187\\_80\\_A\\_PZ.CEL & unknown\\\\\n",
       "\tAHW\\_ALL\\_Ph\\_030031\\_32\\_A\\_PZ.CEL & 1 & Haferlach & CONTROL & ALL & BM or PBMC & unknown & AHW\\_ALL\\_Ph\\_030031\\_32\\_A\\_PZ.CEL  & unknown\\\\\n",
       "\tAHW\\_ALL\\_Ph\\_032683\\_15\\_A\\_PZ.CEL & 1 & Haferlach & CONTROL & ALL & BM or PBMC & unknown & AHW\\_ALL\\_Ph\\_032683\\_15\\_A\\_PZ.CEL  & unknown\\\\\n",
       "\tAHW\\_ALL\\_Ph\\_035655\\_63\\_A\\_PZ.CEL & 1 & Haferlach & CONTROL & ALL & BM or PBMC & unknown & AHW\\_ALL\\_Ph\\_035655\\_63\\_A\\_PZ.CEL  & unknown\\\\\n",
       "\tAHW\\_ALL\\_TA\\_025336\\_26\\_A\\_PZ.CEL & 1 & Haferlach & CONTROL & ALL & BM or PBMC & unknown & AHW\\_ALL\\_TA\\_025336\\_26\\_A\\_PZ.CEL  & unknown\\\\\n",
       "\tAHW\\_ALL\\_TA\\_032725\\_16\\_A\\_PZ.CEL & 1 & Haferlach & CONTROL & ALL & BM or PBMC & unknown & AHW\\_ALL\\_TA\\_032725\\_16\\_A\\_PZ.CEL  & unknown\\\\\n",
       "\tAHW\\_ALL\\_TA\\_035238\\_44\\_A\\_PZ.CEL & 1 & Haferlach & CONTROL & ALL & BM or PBMC & unknown & AHW\\_ALL\\_TA\\_035238\\_44\\_A\\_PZ.CEL  & unknown\\\\\n",
       "\tAHW\\_CLL\\_nk\\_035244\\_47\\_A\\_PZ.CEL & 1 & Haferlach & CONTROL & CLL & BM or PBMC & unknown & AHW\\_CLL\\_nk\\_035244\\_47\\_A\\_PZ.CEL  & unknown\\\\\n",
       "\tALK\\_ALL\\_411\\_002127\\_15\\_A\\_PZ.CEL & 1 & Haferlach & CONTROL & ALL & BM or PBMC & unknown & ALK\\_ALL\\_411\\_002127\\_15\\_A\\_PZ.CEL & unknown\\\\\n",
       "\tALK\\_ALL\\_411\\_013713\\_3\\_A\\_PZ.CEL & 1 & Haferlach & CONTROL & ALL & BM or PBMC & unknown & ALK\\_ALL\\_411\\_013713\\_3\\_A\\_PZ.CEL  & unknown\\\\\n",
       "\tALK\\_ALL\\_411\\_023231\\_3\\_A\\_PZ.CEL & 1 & Haferlach & CONTROL & ALL & BM or PBMC & unknown & ALK\\_ALL\\_411\\_023231\\_3\\_A\\_PZ.CEL  & unknown\\\\\n",
       "\\end{tabular}\n"
      ],
      "text/markdown": [
       "\n",
       "A data.frame: 15 × 8\n",
       "\n",
       "| <!--/--> | Dataset &lt;dbl&gt; | GSE &lt;fct&gt; | Condition &lt;fct&gt; | Disease &lt;fct&gt; | Tissue &lt;fct&gt; | FAB &lt;chr&gt; | Filename &lt;chr&gt; | FAB_all &lt;chr&gt; |\n",
       "|---|---|---|---|---|---|---|---|---|\n",
       "| AHW_ALL_BA_025919_13_A_PZ.CEL | 1 | Haferlach | CONTROL | ALL | BM or PBMC | unknown | AHW_ALL_BA_025919_13_A_PZ.CEL  | unknown |\n",
       "| AHW_ALL_BA_032751_71_A_PZ.CEL | 1 | Haferlach | CONTROL | ALL | BM or PBMC | unknown | AHW_ALL_BA_032751_71_A_PZ.CEL  | unknown |\n",
       "| AHW_ALL_BN_022495_7_A_PZ.CEL | 1 | Haferlach | CONTROL | ALL | BM or PBMC | unknown | AHW_ALL_BN_022495_7_A_PZ.CEL   | unknown |\n",
       "| AHW_ALL_MLL_031351_13_A_PZ.CEL | 1 | Haferlach | CONTROL | ALL | BM or PBMC | unknown | AHW_ALL_MLL_031351_13_A_PZ.CEL | unknown |\n",
       "| AHW_ALL_MLL_036187_80_A_PZ.CEL | 1 | Haferlach | CONTROL | ALL | BM or PBMC | unknown | AHW_ALL_MLL_036187_80_A_PZ.CEL | unknown |\n",
       "| AHW_ALL_Ph_030031_32_A_PZ.CEL | 1 | Haferlach | CONTROL | ALL | BM or PBMC | unknown | AHW_ALL_Ph_030031_32_A_PZ.CEL  | unknown |\n",
       "| AHW_ALL_Ph_032683_15_A_PZ.CEL | 1 | Haferlach | CONTROL | ALL | BM or PBMC | unknown | AHW_ALL_Ph_032683_15_A_PZ.CEL  | unknown |\n",
       "| AHW_ALL_Ph_035655_63_A_PZ.CEL | 1 | Haferlach | CONTROL | ALL | BM or PBMC | unknown | AHW_ALL_Ph_035655_63_A_PZ.CEL  | unknown |\n",
       "| AHW_ALL_TA_025336_26_A_PZ.CEL | 1 | Haferlach | CONTROL | ALL | BM or PBMC | unknown | AHW_ALL_TA_025336_26_A_PZ.CEL  | unknown |\n",
       "| AHW_ALL_TA_032725_16_A_PZ.CEL | 1 | Haferlach | CONTROL | ALL | BM or PBMC | unknown | AHW_ALL_TA_032725_16_A_PZ.CEL  | unknown |\n",
       "| AHW_ALL_TA_035238_44_A_PZ.CEL | 1 | Haferlach | CONTROL | ALL | BM or PBMC | unknown | AHW_ALL_TA_035238_44_A_PZ.CEL  | unknown |\n",
       "| AHW_CLL_nk_035244_47_A_PZ.CEL | 1 | Haferlach | CONTROL | CLL | BM or PBMC | unknown | AHW_CLL_nk_035244_47_A_PZ.CEL  | unknown |\n",
       "| ALK_ALL_411_002127_15_A_PZ.CEL | 1 | Haferlach | CONTROL | ALL | BM or PBMC | unknown | ALK_ALL_411_002127_15_A_PZ.CEL | unknown |\n",
       "| ALK_ALL_411_013713_3_A_PZ.CEL | 1 | Haferlach | CONTROL | ALL | BM or PBMC | unknown | ALK_ALL_411_013713_3_A_PZ.CEL  | unknown |\n",
       "| ALK_ALL_411_023231_3_A_PZ.CEL | 1 | Haferlach | CONTROL | ALL | BM or PBMC | unknown | ALK_ALL_411_023231_3_A_PZ.CEL  | unknown |\n",
       "\n"
      ],
      "text/plain": [
       "                               Dataset GSE       Condition Disease Tissue    \n",
       "AHW_ALL_BA_025919_13_A_PZ.CEL  1       Haferlach CONTROL   ALL     BM or PBMC\n",
       "AHW_ALL_BA_032751_71_A_PZ.CEL  1       Haferlach CONTROL   ALL     BM or PBMC\n",
       "AHW_ALL_BN_022495_7_A_PZ.CEL   1       Haferlach CONTROL   ALL     BM or PBMC\n",
       "AHW_ALL_MLL_031351_13_A_PZ.CEL 1       Haferlach CONTROL   ALL     BM or PBMC\n",
       "AHW_ALL_MLL_036187_80_A_PZ.CEL 1       Haferlach CONTROL   ALL     BM or PBMC\n",
       "AHW_ALL_Ph_030031_32_A_PZ.CEL  1       Haferlach CONTROL   ALL     BM or PBMC\n",
       "AHW_ALL_Ph_032683_15_A_PZ.CEL  1       Haferlach CONTROL   ALL     BM or PBMC\n",
       "AHW_ALL_Ph_035655_63_A_PZ.CEL  1       Haferlach CONTROL   ALL     BM or PBMC\n",
       "AHW_ALL_TA_025336_26_A_PZ.CEL  1       Haferlach CONTROL   ALL     BM or PBMC\n",
       "AHW_ALL_TA_032725_16_A_PZ.CEL  1       Haferlach CONTROL   ALL     BM or PBMC\n",
       "AHW_ALL_TA_035238_44_A_PZ.CEL  1       Haferlach CONTROL   ALL     BM or PBMC\n",
       "AHW_CLL_nk_035244_47_A_PZ.CEL  1       Haferlach CONTROL   CLL     BM or PBMC\n",
       "ALK_ALL_411_002127_15_A_PZ.CEL 1       Haferlach CONTROL   ALL     BM or PBMC\n",
       "ALK_ALL_411_013713_3_A_PZ.CEL  1       Haferlach CONTROL   ALL     BM or PBMC\n",
       "ALK_ALL_411_023231_3_A_PZ.CEL  1       Haferlach CONTROL   ALL     BM or PBMC\n",
       "                               FAB     Filename                       FAB_all\n",
       "AHW_ALL_BA_025919_13_A_PZ.CEL  unknown AHW_ALL_BA_025919_13_A_PZ.CEL  unknown\n",
       "AHW_ALL_BA_032751_71_A_PZ.CEL  unknown AHW_ALL_BA_032751_71_A_PZ.CEL  unknown\n",
       "AHW_ALL_BN_022495_7_A_PZ.CEL   unknown AHW_ALL_BN_022495_7_A_PZ.CEL   unknown\n",
       "AHW_ALL_MLL_031351_13_A_PZ.CEL unknown AHW_ALL_MLL_031351_13_A_PZ.CEL unknown\n",
       "AHW_ALL_MLL_036187_80_A_PZ.CEL unknown AHW_ALL_MLL_036187_80_A_PZ.CEL unknown\n",
       "AHW_ALL_Ph_030031_32_A_PZ.CEL  unknown AHW_ALL_Ph_030031_32_A_PZ.CEL  unknown\n",
       "AHW_ALL_Ph_032683_15_A_PZ.CEL  unknown AHW_ALL_Ph_032683_15_A_PZ.CEL  unknown\n",
       "AHW_ALL_Ph_035655_63_A_PZ.CEL  unknown AHW_ALL_Ph_035655_63_A_PZ.CEL  unknown\n",
       "AHW_ALL_TA_025336_26_A_PZ.CEL  unknown AHW_ALL_TA_025336_26_A_PZ.CEL  unknown\n",
       "AHW_ALL_TA_032725_16_A_PZ.CEL  unknown AHW_ALL_TA_032725_16_A_PZ.CEL  unknown\n",
       "AHW_ALL_TA_035238_44_A_PZ.CEL  unknown AHW_ALL_TA_035238_44_A_PZ.CEL  unknown\n",
       "AHW_CLL_nk_035244_47_A_PZ.CEL  unknown AHW_CLL_nk_035244_47_A_PZ.CEL  unknown\n",
       "ALK_ALL_411_002127_15_A_PZ.CEL unknown ALK_ALL_411_002127_15_A_PZ.CEL unknown\n",
       "ALK_ALL_411_013713_3_A_PZ.CEL  unknown ALK_ALL_411_013713_3_A_PZ.CEL  unknown\n",
       "ALK_ALL_411_023231_3_A_PZ.CEL  unknown ALK_ALL_411_023231_3_A_PZ.CEL  unknown"
      ]
     },
     "metadata": {},
     "output_type": "display_data"
    }
   ],
   "source": [
    "dim(info.1)\n",
    "info.1[1:15, ]"
   ]
  },
  {
   "cell_type": "code",
   "execution_count": 11,
   "id": "586b6e6b-24df-4869-88b4-c2fd1b37bf71",
   "metadata": {},
   "outputs": [
    {
     "data": {
      "text/html": [
       "<style>\n",
       ".list-inline {list-style: none; margin:0; padding: 0}\n",
       ".list-inline>li {display: inline-block}\n",
       ".list-inline>li:not(:last-child)::after {content: \"\\00b7\"; padding: 0 .5ex}\n",
       "</style>\n",
       "<ol class=list-inline><li>ALL</li><li>CLL</li><li>AML</li><li>CML</li><li>healthy</li><li>MDS</li><li>Infection</li><li>AMKL</li><li>DS transient myeloproliferative disorder</li><li>Diabetes Type I</li><li>Diabetes Type II</li><li>clinically isolated syndrome</li></ol>\n",
       "\n",
       "<details>\n",
       "\t<summary style=display:list-item;cursor:pointer>\n",
       "\t\t<strong>Levels</strong>:\n",
       "\t</summary>\n",
       "\t<style>\n",
       "\t.list-inline {list-style: none; margin:0; padding: 0}\n",
       "\t.list-inline>li {display: inline-block}\n",
       "\t.list-inline>li:not(:last-child)::after {content: \"\\00b7\"; padding: 0 .5ex}\n",
       "\t</style>\n",
       "\t<ol class=list-inline><li>'ALL'</li><li>'AMKL'</li><li>'AML'</li><li>'clinically isolated syndrome'</li><li>'CLL'</li><li>'CML'</li><li>'Diabetes Type I'</li><li>'Diabetes Type II'</li><li>'DS transient myeloproliferative disorder'</li><li>'healthy'</li><li>'Infection'</li><li>'MDS'</li><li>'Breast cancer'</li><li>'Chronic Allograft Nephropathy'</li><li>'COPD'</li><li>'Dengue fever'</li><li>'endarterectomy operation'</li><li>'Hypersensitivity Pnemonitis'</li><li>'immunosuppression'</li><li>'JDM'</li><li>'JIA'</li><li>'MS'</li><li>'periodontitis'</li><li>'RSV Infection'</li><li>'Sarcoidosis'</li><li>'schizophrenia'</li><li>'Sepsis'</li><li>'SLE'</li><li>'transplant rejection'</li><li>'unknown cancer'</li><li>'Alport\\'s/Famil Hered neph'</li><li>'Cystinosis'</li><li>'Diabetes Type 1'</li><li>'Diabetes Type 2'</li><li>'FSGS-Focal sclerosing GN'</li><li>'Glom-sclerosis,chr&amp;unspecified'</li><li>'GN-membranous glom.nephritis'</li><li>'GN-other chronicGlom.nephritis'</li><li>'HRV infection'</li><li>'Hypertension, nephrosclerosis'</li><li>'influenca vaccination'</li><li>'Lupus (SLE)'</li><li>'Lyme disease'</li><li>'MPGN-membranoproliferative?typ'</li><li>'Nephritis'</li><li>'Nephropathy, IgA (Bergers)'</li><li>'Plasmodium vivax challenge'</li><li>'Polycystic'</li><li>'RSV infection'</li><li>'T.ALL'</li><li>'TB.vaccination'</li><li>'Thin basement membrane dz'</li><li>'Unknown'</li><li>'Wegener\\'s Granulomatosis'</li></ol>\n",
       "</details>"
      ],
      "text/latex": [
       "\\begin{enumerate*}\n",
       "\\item ALL\n",
       "\\item CLL\n",
       "\\item AML\n",
       "\\item CML\n",
       "\\item healthy\n",
       "\\item MDS\n",
       "\\item Infection\n",
       "\\item AMKL\n",
       "\\item DS transient myeloproliferative disorder\n",
       "\\item Diabetes Type I\n",
       "\\item Diabetes Type II\n",
       "\\item clinically isolated syndrome\n",
       "\\end{enumerate*}\n",
       "\n",
       "\\emph{Levels}: \\begin{enumerate*}\n",
       "\\item 'ALL'\n",
       "\\item 'AMKL'\n",
       "\\item 'AML'\n",
       "\\item 'clinically isolated syndrome'\n",
       "\\item 'CLL'\n",
       "\\item 'CML'\n",
       "\\item 'Diabetes Type I'\n",
       "\\item 'Diabetes Type II'\n",
       "\\item 'DS transient myeloproliferative disorder'\n",
       "\\item 'healthy'\n",
       "\\item 'Infection'\n",
       "\\item 'MDS'\n",
       "\\item 'Breast cancer'\n",
       "\\item 'Chronic Allograft Nephropathy'\n",
       "\\item 'COPD'\n",
       "\\item 'Dengue fever'\n",
       "\\item 'endarterectomy operation'\n",
       "\\item 'Hypersensitivity Pnemonitis'\n",
       "\\item 'immunosuppression'\n",
       "\\item 'JDM'\n",
       "\\item 'JIA'\n",
       "\\item 'MS'\n",
       "\\item 'periodontitis'\n",
       "\\item 'RSV Infection'\n",
       "\\item 'Sarcoidosis'\n",
       "\\item 'schizophrenia'\n",
       "\\item 'Sepsis'\n",
       "\\item 'SLE'\n",
       "\\item 'transplant rejection'\n",
       "\\item 'unknown cancer'\n",
       "\\item 'Alport\\textbackslash{}'s/Famil Hered neph'\n",
       "\\item 'Cystinosis'\n",
       "\\item 'Diabetes Type 1'\n",
       "\\item 'Diabetes Type 2'\n",
       "\\item 'FSGS-Focal sclerosing GN'\n",
       "\\item 'Glom-sclerosis,chr\\&unspecified'\n",
       "\\item 'GN-membranous glom.nephritis'\n",
       "\\item 'GN-other chronicGlom.nephritis'\n",
       "\\item 'HRV infection'\n",
       "\\item 'Hypertension, nephrosclerosis'\n",
       "\\item 'influenca vaccination'\n",
       "\\item 'Lupus (SLE)'\n",
       "\\item 'Lyme disease'\n",
       "\\item 'MPGN-membranoproliferative?typ'\n",
       "\\item 'Nephritis'\n",
       "\\item 'Nephropathy, IgA (Bergers)'\n",
       "\\item 'Plasmodium vivax challenge'\n",
       "\\item 'Polycystic'\n",
       "\\item 'RSV infection'\n",
       "\\item 'T.ALL'\n",
       "\\item 'TB.vaccination'\n",
       "\\item 'Thin basement membrane dz'\n",
       "\\item 'Unknown'\n",
       "\\item 'Wegener\\textbackslash{}'s Granulomatosis'\n",
       "\\end{enumerate*}\n"
      ],
      "text/markdown": [
       "1. ALL\n",
       "2. CLL\n",
       "3. AML\n",
       "4. CML\n",
       "5. healthy\n",
       "6. MDS\n",
       "7. Infection\n",
       "8. AMKL\n",
       "9. DS transient myeloproliferative disorder\n",
       "10. Diabetes Type I\n",
       "11. Diabetes Type II\n",
       "12. clinically isolated syndrome\n",
       "\n",
       "\n",
       "\n",
       "**Levels**: 1. 'ALL'\n",
       "2. 'AMKL'\n",
       "3. 'AML'\n",
       "4. 'clinically isolated syndrome'\n",
       "5. 'CLL'\n",
       "6. 'CML'\n",
       "7. 'Diabetes Type I'\n",
       "8. 'Diabetes Type II'\n",
       "9. 'DS transient myeloproliferative disorder'\n",
       "10. 'healthy'\n",
       "11. 'Infection'\n",
       "12. 'MDS'\n",
       "13. 'Breast cancer'\n",
       "14. 'Chronic Allograft Nephropathy'\n",
       "15. 'COPD'\n",
       "16. 'Dengue fever'\n",
       "17. 'endarterectomy operation'\n",
       "18. 'Hypersensitivity Pnemonitis'\n",
       "19. 'immunosuppression'\n",
       "20. 'JDM'\n",
       "21. 'JIA'\n",
       "22. 'MS'\n",
       "23. 'periodontitis'\n",
       "24. 'RSV Infection'\n",
       "25. 'Sarcoidosis'\n",
       "26. 'schizophrenia'\n",
       "27. 'Sepsis'\n",
       "28. 'SLE'\n",
       "29. 'transplant rejection'\n",
       "30. 'unknown cancer'\n",
       "31. 'Alport\\'s/Famil Hered neph'\n",
       "32. 'Cystinosis'\n",
       "33. 'Diabetes Type 1'\n",
       "34. 'Diabetes Type 2'\n",
       "35. 'FSGS-Focal sclerosing GN'\n",
       "36. 'Glom-sclerosis,chr&amp;unspecified'\n",
       "37. 'GN-membranous glom.nephritis'\n",
       "38. 'GN-other chronicGlom.nephritis'\n",
       "39. 'HRV infection'\n",
       "40. 'Hypertension, nephrosclerosis'\n",
       "41. 'influenca vaccination'\n",
       "42. 'Lupus (SLE)'\n",
       "43. 'Lyme disease'\n",
       "44. 'MPGN-membranoproliferative?typ'\n",
       "45. 'Nephritis'\n",
       "46. 'Nephropathy, IgA (Bergers)'\n",
       "47. 'Plasmodium vivax challenge'\n",
       "48. 'Polycystic'\n",
       "49. 'RSV infection'\n",
       "50. 'T.ALL'\n",
       "51. 'TB.vaccination'\n",
       "52. 'Thin basement membrane dz'\n",
       "53. 'Unknown'\n",
       "54. 'Wegener\\'s Granulomatosis'\n",
       "\n",
       "\n"
      ],
      "text/plain": [
       " [1] ALL                                     \n",
       " [2] CLL                                     \n",
       " [3] AML                                     \n",
       " [4] CML                                     \n",
       " [5] healthy                                 \n",
       " [6] MDS                                     \n",
       " [7] Infection                               \n",
       " [8] AMKL                                    \n",
       " [9] DS transient myeloproliferative disorder\n",
       "[10] Diabetes Type I                         \n",
       "[11] Diabetes Type II                        \n",
       "[12] clinically isolated syndrome            \n",
       "54 Levels: ALL AMKL AML clinically isolated syndrome CLL ... Wegener's Granulomatosis"
      ]
     },
     "metadata": {},
     "output_type": "display_data"
    },
    {
     "data": {
      "text/html": [
       "12"
      ],
      "text/latex": [
       "12"
      ],
      "text/markdown": [
       "12"
      ],
      "text/plain": [
       "[1] 12"
      ]
     },
     "metadata": {},
     "output_type": "display_data"
    }
   ],
   "source": [
    "un.diseases <- unique(info.1$Disease)\n",
    "un.diseases\n",
    "length(un.diseases)"
   ]
  },
  {
   "cell_type": "code",
   "execution_count": 12,
   "id": "33f8f52b-8199-41de-8deb-f23384b17005",
   "metadata": {},
   "outputs": [
    {
     "name": "stdout",
     "output_type": "stream",
     "text": [
      " Factor w/ 54 levels \"ALL\",\"AMKL\",\"AML\",..: 1 5 3 6 10 12 11 2 9 7 ...\n"
     ]
    }
   ],
   "source": [
    "str(un.diseases)"
   ]
  },
  {
   "cell_type": "markdown",
   "id": "b17e188d-8d50-43f0-b3b4-e642d9d5a967",
   "metadata": {},
   "source": [
    "info.1.diseases is equivalent to nki.t.os"
   ]
  },
  {
   "cell_type": "code",
   "execution_count": 13,
   "id": "7aef86d6-8b78-4571-92ec-e20f30f1482b",
   "metadata": {},
   "outputs": [
    {
     "data": {
      "text/html": [
       "2500"
      ],
      "text/latex": [
       "2500"
      ],
      "text/markdown": [
       "2500"
      ],
      "text/plain": [
       "[1] 2500"
      ]
     },
     "metadata": {},
     "output_type": "display_data"
    }
   ],
   "source": [
    "length(info.1$Disease)\n",
    "#info.1.diseases"
   ]
  },
  {
   "cell_type": "markdown",
   "id": "615091c1-4170-433a-ad36-6aee524cfba8",
   "metadata": {},
   "source": [
    "These are our labels. 1 = patient has AML. 0 = patient does not have AML.\n",
    "We will use these labels in the training set,\n",
    "and predict these labels in the test set."
   ]
  },
  {
   "cell_type": "code",
   "execution_count": 14,
   "id": "3e8b6c5b-2268-44f2-89ce-f01df52c6a1f",
   "metadata": {},
   "outputs": [
    {
     "data": {
      "text/html": [
       "986"
      ],
      "text/latex": [
       "986"
      ],
      "text/markdown": [
       "986"
      ],
      "text/plain": [
       "[1] 986"
      ]
     },
     "metadata": {},
     "output_type": "display_data"
    }
   ],
   "source": [
    "aml.ind <- which (info.1$Disease == \"AML\")\n",
    "length(aml.ind)"
   ]
  },
  {
   "cell_type": "code",
   "execution_count": 15,
   "id": "5ef01b62-eb95-491e-b43b-b23fbd13ec96",
   "metadata": {},
   "outputs": [
    {
     "data": {
      "text/html": [
       "1514"
      ],
      "text/latex": [
       "1514"
      ],
      "text/markdown": [
       "1514"
      ],
      "text/plain": [
       "[1] 1514"
      ]
     },
     "metadata": {},
     "output_type": "display_data"
    },
    {
     "data": {
      "text/html": [
       "2500"
      ],
      "text/latex": [
       "2500"
      ],
      "text/markdown": [
       "2500"
      ],
      "text/plain": [
       "[1] 2500"
      ]
     },
     "metadata": {},
     "output_type": "display_data"
    }
   ],
   "source": [
    "non.aml.ind <- which(info.1$Disease != \"AML\")\n",
    "length(non.aml.ind)\n",
    "length(non.aml.ind) + length(aml.ind) #this should add to 2500"
   ]
  },
  {
   "cell_type": "code",
   "execution_count": 16,
   "id": "3f4f0996-9040-4225-9441-d05b08633847",
   "metadata": {
    "tags": []
   },
   "outputs": [],
   "source": [
    "aml.prognosis <- rep(0, length(info.1$Disease))\n",
    "aml.prognosis[aml.ind] <- 1"
   ]
  },
  {
   "cell_type": "markdown",
   "id": "b6d04145-58c0-4bba-af2a-2e58ac062bf3",
   "metadata": {},
   "source": [
    "## Manual K-fold k = 5"
   ]
  },
  {
   "cell_type": "code",
   "execution_count": 17,
   "id": "0f1aa619-06d7-41ae-9277-70e4cd65c98e",
   "metadata": {},
   "outputs": [
    {
     "data": {
      "text/html": [
       "<style>\n",
       ".list-inline {list-style: none; margin:0; padding: 0}\n",
       ".list-inline>li {display: inline-block}\n",
       ".list-inline>li:not(:last-child)::after {content: \"\\00b7\"; padding: 0 .5ex}\n",
       "</style>\n",
       "<ol class=list-inline><li>2079</li><li>1314</li><li>1710</li><li>290</li><li>1298</li><li>1976</li><li>2244</li><li>1334</li><li>1343</li><li>79</li><li>238</li><li>43</li><li>874</li><li>1512</li><li>1089</li><li>601</li><li>277</li><li>1732</li><li>493</li><li>152</li></ol>\n"
      ],
      "text/latex": [
       "\\begin{enumerate*}\n",
       "\\item 2079\n",
       "\\item 1314\n",
       "\\item 1710\n",
       "\\item 290\n",
       "\\item 1298\n",
       "\\item 1976\n",
       "\\item 2244\n",
       "\\item 1334\n",
       "\\item 1343\n",
       "\\item 79\n",
       "\\item 238\n",
       "\\item 43\n",
       "\\item 874\n",
       "\\item 1512\n",
       "\\item 1089\n",
       "\\item 601\n",
       "\\item 277\n",
       "\\item 1732\n",
       "\\item 493\n",
       "\\item 152\n",
       "\\end{enumerate*}\n"
      ],
      "text/markdown": [
       "1. 2079\n",
       "2. 1314\n",
       "3. 1710\n",
       "4. 290\n",
       "5. 1298\n",
       "6. 1976\n",
       "7. 2244\n",
       "8. 1334\n",
       "9. 1343\n",
       "10. 79\n",
       "11. 238\n",
       "12. 43\n",
       "13. 874\n",
       "14. 1512\n",
       "15. 1089\n",
       "16. 601\n",
       "17. 277\n",
       "18. 1732\n",
       "19. 493\n",
       "20. 152\n",
       "\n",
       "\n"
      ],
      "text/plain": [
       " [1] 2079 1314 1710  290 1298 1976 2244 1334 1343   79  238   43  874 1512 1089\n",
       "[16]  601  277 1732  493  152"
      ]
     },
     "metadata": {},
     "output_type": "display_data"
    }
   ],
   "source": [
    "set.seed(234)\n",
    "data.inds <- 1:2500\n",
    "shuffled.inds <- sample(data.inds)\n",
    "shuffled.inds[1:20]"
   ]
  },
  {
   "cell_type": "code",
   "execution_count": 18,
   "id": "726d403b-9352-473d-a99d-54cd34e00511",
   "metadata": {},
   "outputs": [],
   "source": [
    "fold1.ind <- shuffled.inds[1:500]\n",
    "fold2.ind <- shuffled.inds[501:1000]\n",
    "fold3.ind <- shuffled.inds[1001:1500]\n",
    "fold4.ind <- shuffled.inds[1501:2000]\n",
    "fold5.ind <- shuffled.inds[2001:2500]"
   ]
  },
  {
   "cell_type": "markdown",
   "id": "1ad53926-ed0f-485b-8a66-1413f501cce8",
   "metadata": {},
   "source": [
    "## Fold 1"
   ]
  },
  {
   "cell_type": "code",
   "execution_count": 19,
   "id": "67b20873-c829-438d-8acf-b88789c62582",
   "metadata": {
    "tags": []
   },
   "outputs": [
    {
     "data": {
      "text/html": [
       "<style>\n",
       ".list-inline {list-style: none; margin:0; padding: 0}\n",
       ".list-inline>li {display: inline-block}\n",
       ".list-inline>li:not(:last-child)::after {content: \"\\00b7\"; padding: 0 .5ex}\n",
       "</style>\n",
       "<ol class=list-inline><li>12708</li><li>2500</li></ol>\n"
      ],
      "text/latex": [
       "\\begin{enumerate*}\n",
       "\\item 12708\n",
       "\\item 2500\n",
       "\\end{enumerate*}\n"
      ],
      "text/markdown": [
       "1. 12708\n",
       "2. 2500\n",
       "\n",
       "\n"
      ],
      "text/plain": [
       "[1] 12708  2500"
      ]
     },
     "metadata": {},
     "output_type": "display_data"
    },
    {
     "data": {
      "text/html": [
       "<style>\n",
       ".list-inline {list-style: none; margin:0; padding: 0}\n",
       ".list-inline>li {display: inline-block}\n",
       ".list-inline>li:not(:last-child)::after {content: \"\\00b7\"; padding: 0 .5ex}\n",
       "</style>\n",
       "<ol class=list-inline><li>2500</li><li>8</li></ol>\n"
      ],
      "text/latex": [
       "\\begin{enumerate*}\n",
       "\\item 2500\n",
       "\\item 8\n",
       "\\end{enumerate*}\n"
      ],
      "text/markdown": [
       "1. 2500\n",
       "2. 8\n",
       "\n",
       "\n"
      ],
      "text/plain": [
       "[1] 2500    8"
      ]
     },
     "metadata": {},
     "output_type": "display_data"
    }
   ],
   "source": [
    "rm.fold <- fold1.ind\n",
    "my.data <- cbind(data.1[,-rm.fold],data.1[,rm.fold])\n",
    "dim(my.data)\n",
    "my.info <- rbind(info.1[-rm.fold,],info.1[rm.fold,])\n",
    "dim(my.info)"
   ]
  },
  {
   "cell_type": "code",
   "execution_count": 20,
   "id": "b3197979-db32-4a04-b999-c68f379c929d",
   "metadata": {},
   "outputs": [],
   "source": [
    "#my.data[ ,1:2000] is training\n",
    "#my.data[ ,2001:2500] is test"
   ]
  },
  {
   "cell_type": "code",
   "execution_count": 21,
   "id": "d0c093c9-31d3-44e0-abe2-41e9a0f88623",
   "metadata": {},
   "outputs": [
    {
     "data": {
      "text/html": [
       "986"
      ],
      "text/latex": [
       "986"
      ],
      "text/markdown": [
       "986"
      ],
      "text/plain": [
       "[1] 986"
      ]
     },
     "metadata": {},
     "output_type": "display_data"
    },
    {
     "data": {
      "text/html": [
       "2500"
      ],
      "text/latex": [
       "2500"
      ],
      "text/markdown": [
       "2500"
      ],
      "text/plain": [
       "[1] 2500"
      ]
     },
     "metadata": {},
     "output_type": "display_data"
    }
   ],
   "source": [
    "aml.prognosis <- rep(0, length(my.info$Disease))\n",
    "aml.prognosis[which (my.info$Disease == \"AML\")] <- 1\n",
    "sum(aml.prognosis)\n",
    "length(aml.prognosis)"
   ]
  },
  {
   "cell_type": "code",
   "execution_count": 22,
   "id": "7651c40d-b5b1-4430-877a-bec4e5d77f58",
   "metadata": {},
   "outputs": [],
   "source": [
    "# so aml.prognosis[1:2000] is ground truth for training (nki.prognosis)\n",
    "# aml.prognosis[2001:2500] is ground truth for test (nki2.prognosis)"
   ]
  },
  {
   "cell_type": "code",
   "execution_count": null,
   "id": "3384532e-721b-487d-a101-9f6c1e25ff57",
   "metadata": {},
   "outputs": [],
   "source": []
  },
  {
   "cell_type": "markdown",
   "id": "44316bd9-69a4-4a45-ae0b-a85527e242bc",
   "metadata": {},
   "source": [
    "### Feature Selection with Correlation, Fold 1"
   ]
  },
  {
   "cell_type": "code",
   "execution_count": 23,
   "id": "d9c8c9d8-c1df-47f8-a2a1-69f40332bc95",
   "metadata": {},
   "outputs": [
    {
     "data": {
      "image/png": "[encoded data removed]",
      "text/plain": [
       "Plot with title “Histogram of cor.vec”"
      ]
     },
     "metadata": {
      "image/png": {
       "height": 420,
       "width": 420
      }
     },
     "output_type": "display_data"
    }
   ],
   "source": [
    "cor.vec <- apply (my.data[,1:2000], 1, function (x){cor(x, aml.prognosis[1:2000])})\n",
    "hist (cor.vec)"
   ]
  },
  {
   "cell_type": "code",
   "execution_count": 24,
   "id": "fe9e0a82-a002-469b-9577-8cf0ee11282c",
   "metadata": {},
   "outputs": [
    {
     "data": {
      "text/html": [
       "<style>\n",
       ".dl-inline {width: auto; margin:0; padding: 0}\n",
       ".dl-inline>dt, .dl-inline>dd {float: none; width: auto; display: inline-block}\n",
       ".dl-inline>dt::after {content: \":\\0020\"; padding-right: .5ex}\n",
       ".dl-inline>dt:not(:first-of-type) {padding-left: .5ex}\n",
       "</style><dl class=dl-inline><dt>0%</dt><dd>-0.784753835238906</dd><dt>10%</dt><dd>-0.280795451742236</dd><dt>25%</dt><dd>-0.196402448653759</dd><dt>50%</dt><dd>-0.0640469973950075</dd><dt>75%</dt><dd>0.148841272123968</dd><dt>90%</dt><dd>0.320709216232615</dd><dt>100%</dt><dd>0.742648493836033</dd></dl>\n"
      ],
      "text/latex": [
       "\\begin{description*}\n",
       "\\item[0\\textbackslash{}\\%] -0.784753835238906\n",
       "\\item[10\\textbackslash{}\\%] -0.280795451742236\n",
       "\\item[25\\textbackslash{}\\%] -0.196402448653759\n",
       "\\item[50\\textbackslash{}\\%] -0.0640469973950075\n",
       "\\item[75\\textbackslash{}\\%] 0.148841272123968\n",
       "\\item[90\\textbackslash{}\\%] 0.320709216232615\n",
       "\\item[100\\textbackslash{}\\%] 0.742648493836033\n",
       "\\end{description*}\n"
      ],
      "text/markdown": [
       "0%\n",
       ":   -0.78475383523890610%\n",
       ":   -0.28079545174223625%\n",
       ":   -0.19640244865375950%\n",
       ":   -0.064046997395007575%\n",
       ":   0.14884127212396890%\n",
       ":   0.320709216232615100%\n",
       ":   0.742648493836033\n",
       "\n"
      ],
      "text/plain": [
       "        0%        10%        25%        50%        75%        90%       100% \n",
       "-0.7847538 -0.2807955 -0.1964024 -0.0640470  0.1488413  0.3207092  0.7426485 "
      ]
     },
     "metadata": {},
     "output_type": "display_data"
    }
   ],
   "source": [
    "quantile (cor.vec, probs=c(0, 0.1, 0.25, 0.5, 0.75, 0.9, 1))"
   ]
  },
  {
   "cell_type": "code",
   "execution_count": 25,
   "id": "357a72b0-0c7e-491a-8455-6b55d04551db",
   "metadata": {
    "jupyter": {
     "source_hidden": true
    },
    "tags": []
   },
   "outputs": [
    {
     "data": {
      "text/html": [
       "1469"
      ],
      "text/latex": [
       "1469"
      ],
      "text/markdown": [
       "1469"
      ],
      "text/plain": [
       "[1] 1469"
      ]
     },
     "metadata": {},
     "output_type": "display_data"
    },
    {
     "data": {
      "text/html": [
       "980"
      ],
      "text/latex": [
       "980"
      ],
      "text/markdown": [
       "980"
      ],
      "text/plain": [
       "[1] 980"
      ]
     },
     "metadata": {},
     "output_type": "display_data"
    },
    {
     "data": {
      "text/html": [
       "2449"
      ],
      "text/latex": [
       "2449"
      ],
      "text/markdown": [
       "2449"
      ],
      "text/plain": [
       "[1] 2449"
      ]
     },
     "metadata": {},
     "output_type": "display_data"
    }
   ],
   "source": [
    "#from nki_02_25\n",
    "sum (cor.vec > 0.3)\n",
    "sum (cor.vec < -0.3)\n",
    "gene.ind <- c(which(cor.vec > 0.3), which(cor.vec < -0.3))\n",
    "length (gene.ind)"
   ]
  },
  {
   "cell_type": "code",
   "execution_count": null,
   "id": "7b500581-cef5-4c69-acdf-716af0a03b8a",
   "metadata": {},
   "outputs": [],
   "source": []
  },
  {
   "cell_type": "code",
   "execution_count": 26,
   "id": "ceb3e2a7-bcc9-40fc-b9bc-db371053f2a6",
   "metadata": {},
   "outputs": [],
   "source": [
    "#put knn, random forest model here??"
   ]
  },
  {
   "cell_type": "code",
   "execution_count": 27,
   "id": "c7904d5c-4af7-4da9-bcc4-30c50346b6eb",
   "metadata": {},
   "outputs": [],
   "source": [
    "# repeat knn using the subset of genes with high or low correlation with the class label\n",
    "# ret.knn2 <- knn (train=t(nki.impute$data[gene.ind, ]), test=t(nki2.impute$data[gene.ind, ]), cl=nki.prognosis, k=5)\n",
    "# ret.knn2"
   ]
  },
  {
   "cell_type": "code",
   "execution_count": 28,
   "id": "b201d959-361f-41d1-ace5-c336db49bd39",
   "metadata": {},
   "outputs": [],
   "source": [
    "# ret.knn <- knn (train =t(my.data[gene.ind,1:2000]), test=t(my.data[gene.ind,2001:2500]),cl=aml.prognosis[1:2000], k=5)"
   ]
  },
  {
   "cell_type": "code",
   "execution_count": 29,
   "id": "b1f6fc99-3bd0-4719-bf2f-b96046070d72",
   "metadata": {},
   "outputs": [],
   "source": [
    "#table (ret.knn, aml.prognosis[2001:2500])"
   ]
  },
  {
   "cell_type": "code",
   "execution_count": null,
   "id": "ac2522cf-ce06-4d4d-b4e0-f9f95404078c",
   "metadata": {},
   "outputs": [],
   "source": []
  },
  {
   "cell_type": "code",
   "execution_count": null,
   "id": "fa348f79-806e-44f7-b9e3-5810cd8971ea",
   "metadata": {},
   "outputs": [],
   "source": []
  },
  {
   "cell_type": "code",
   "execution_count": null,
   "id": "129ed619-08c9-4bc4-b512-fa141bdb4dbd",
   "metadata": {},
   "outputs": [],
   "source": []
  },
  {
   "cell_type": "markdown",
   "id": "df90cb90-80c4-46ac-9662-2f8951f6e897",
   "metadata": {},
   "source": [
    "### Feature Selection with T-test, Fold 1"
   ]
  },
  {
   "cell_type": "code",
   "execution_count": 30,
   "id": "f83ea03b-d22a-42d5-a99a-b256673945d6",
   "metadata": {},
   "outputs": [],
   "source": [
    "zero.ind <- which(aml.prognosis[1:2000] == 0)\n",
    "one.ind <- which(aml.prognosis[1:2000] == 1)\n",
    "ttest.vec <- apply (my.data, 1, function (x){(t.test(x[one.ind] , x[zero.ind]))$p.value})"
   ]
  },
  {
   "cell_type": "code",
   "execution_count": 31,
   "id": "aa0d805c-635e-4601-bec5-04d4b8fa773d",
   "metadata": {},
   "outputs": [
    {
     "data": {
      "text/html": [
       "11378"
      ],
      "text/latex": [
       "11378"
      ],
      "text/markdown": [
       "11378"
      ],
      "text/plain": [
       "[1] 11378"
      ]
     },
     "metadata": {},
     "output_type": "display_data"
    },
    {
     "data": {
      "text/html": [
       "10936"
      ],
      "text/latex": [
       "10936"
      ],
      "text/markdown": [
       "10936"
      ],
      "text/plain": [
       "[1] 10936"
      ]
     },
     "metadata": {},
     "output_type": "display_data"
    },
    {
     "data": {
      "text/html": [
       "10020"
      ],
      "text/latex": [
       "10020"
      ],
      "text/markdown": [
       "10020"
      ],
      "text/plain": [
       "[1] 10020"
      ]
     },
     "metadata": {},
     "output_type": "display_data"
    },
    {
     "data": {
      "text/html": [
       "9456"
      ],
      "text/latex": [
       "9456"
      ],
      "text/markdown": [
       "9456"
      ],
      "text/plain": [
       "[1] 9456"
      ]
     },
     "metadata": {},
     "output_type": "display_data"
    },
    {
     "data": {
      "text/html": [
       "9220"
      ],
      "text/latex": [
       "9220"
      ],
      "text/markdown": [
       "9220"
      ],
      "text/plain": [
       "[1] 9220"
      ]
     },
     "metadata": {},
     "output_type": "display_data"
    },
    {
     "data": {
      "text/html": [
       "8575"
      ],
      "text/latex": [
       "8575"
      ],
      "text/markdown": [
       "8575"
      ],
      "text/plain": [
       "[1] 8575"
      ]
     },
     "metadata": {},
     "output_type": "display_data"
    }
   ],
   "source": [
    "sum (ttest.vec < 0.05)\n",
    "sum (ttest.vec < 0.01)\n",
    "sum (ttest.vec < 0.0001)\n",
    "adj.ttest.vec <- p.adjust (ttest.vec, method=\"bonferroni\")\n",
    "sum (adj.ttest.vec < 0.05)\n",
    "sum (adj.ttest.vec < 0.01)\n",
    "sum (adj.ttest.vec < 0.0001)"
   ]
  },
  {
   "cell_type": "code",
   "execution_count": 32,
   "id": "64755a96-a37b-41d9-8830-e065ead1a124",
   "metadata": {},
   "outputs": [],
   "source": [
    "ret.order <- order (ttest.vec)\n",
    "#100 genes with lowest pvalues\n",
    "gene.ind2 <- ret.order[1:100]\n"
   ]
  },
  {
   "cell_type": "code",
   "execution_count": 33,
   "id": "f82d978b-012d-4e42-850a-cf19c96a0ba5",
   "metadata": {},
   "outputs": [],
   "source": [
    "# ret.knn <- knn (train =t(my.data[gene.ind2,1:2000]), test=t(my.data[gene.ind2,2001:2500]),cl=aml.prognosis[1:2000], k=5)"
   ]
  },
  {
   "cell_type": "code",
   "execution_count": 34,
   "id": "2dafc788-5008-4793-829d-45dc949cbe79",
   "metadata": {
    "jupyter": {
     "source_hidden": true
    },
    "tags": []
   },
   "outputs": [],
   "source": [
    "#table (ret.knn, aml.prognosis[2001:2500])"
   ]
  },
  {
   "cell_type": "code",
   "execution_count": null,
   "id": "4e5faed9-dea7-4392-b5ff-4d93f9725c20",
   "metadata": {},
   "outputs": [],
   "source": []
  },
  {
   "cell_type": "code",
   "execution_count": null,
   "id": "8041d8b0-02b7-478e-8ed8-366ffdd597b2",
   "metadata": {},
   "outputs": [],
   "source": []
  },
  {
   "cell_type": "code",
   "execution_count": null,
   "id": "56679aee-a3de-4d2d-94f1-b25601d4f852",
   "metadata": {},
   "outputs": [],
   "source": []
  },
  {
   "cell_type": "markdown",
   "id": "eb873216-f5d3-4b86-89e2-cd0011f4911b",
   "metadata": {
    "tags": []
   },
   "source": [
    "### Fold 2"
   ]
  },
  {
   "cell_type": "code",
   "execution_count": 35,
   "id": "b7ebeef2-5b49-46bc-b641-a9bbca978edf",
   "metadata": {
    "tags": []
   },
   "outputs": [
    {
     "data": {
      "text/html": [
       "<style>\n",
       ".list-inline {list-style: none; margin:0; padding: 0}\n",
       ".list-inline>li {display: inline-block}\n",
       ".list-inline>li:not(:last-child)::after {content: \"\\00b7\"; padding: 0 .5ex}\n",
       "</style>\n",
       "<ol class=list-inline><li>12708</li><li>2500</li></ol>\n"
      ],
      "text/latex": [
       "\\begin{enumerate*}\n",
       "\\item 12708\n",
       "\\item 2500\n",
       "\\end{enumerate*}\n"
      ],
      "text/markdown": [
       "1. 12708\n",
       "2. 2500\n",
       "\n",
       "\n"
      ],
      "text/plain": [
       "[1] 12708  2500"
      ]
     },
     "metadata": {},
     "output_type": "display_data"
    },
    {
     "data": {
      "text/html": [
       "<style>\n",
       ".list-inline {list-style: none; margin:0; padding: 0}\n",
       ".list-inline>li {display: inline-block}\n",
       ".list-inline>li:not(:last-child)::after {content: \"\\00b7\"; padding: 0 .5ex}\n",
       "</style>\n",
       "<ol class=list-inline><li>2500</li><li>8</li></ol>\n"
      ],
      "text/latex": [
       "\\begin{enumerate*}\n",
       "\\item 2500\n",
       "\\item 8\n",
       "\\end{enumerate*}\n"
      ],
      "text/markdown": [
       "1. 2500\n",
       "2. 8\n",
       "\n",
       "\n"
      ],
      "text/plain": [
       "[1] 2500    8"
      ]
     },
     "metadata": {},
     "output_type": "display_data"
    }
   ],
   "source": [
    "rm.fold <- fold2.ind\n",
    "my.data <- cbind(data.1[,-rm.fold],data.1[,rm.fold])\n",
    "dim(my.data)\n",
    "my.info <- rbind(info.1[-rm.fold,],info.1[rm.fold,])\n",
    "dim(my.info)"
   ]
  },
  {
   "cell_type": "code",
   "execution_count": 36,
   "id": "13f6697f-0c74-418d-91f0-ede83c89626e",
   "metadata": {},
   "outputs": [],
   "source": [
    "#my.data[ ,1:2000] is training\n",
    "#my.data[ ,2001:2500] is test"
   ]
  },
  {
   "cell_type": "code",
   "execution_count": 37,
   "id": "8b816ef9-7565-42b7-a433-845bb15626c3",
   "metadata": {},
   "outputs": [
    {
     "data": {
      "text/html": [
       "986"
      ],
      "text/latex": [
       "986"
      ],
      "text/markdown": [
       "986"
      ],
      "text/plain": [
       "[1] 986"
      ]
     },
     "metadata": {},
     "output_type": "display_data"
    },
    {
     "data": {
      "text/html": [
       "2500"
      ],
      "text/latex": [
       "2500"
      ],
      "text/markdown": [
       "2500"
      ],
      "text/plain": [
       "[1] 2500"
      ]
     },
     "metadata": {},
     "output_type": "display_data"
    }
   ],
   "source": [
    "aml.prognosis <- rep(0, length(my.info$Disease))\n",
    "aml.prognosis[which (my.info$Disease == \"AML\")] <- 1\n",
    "sum(aml.prognosis)\n",
    "length(aml.prognosis)"
   ]
  },
  {
   "cell_type": "code",
   "execution_count": 38,
   "id": "b94d522b-a152-4602-bde1-62c58bb35ad9",
   "metadata": {},
   "outputs": [],
   "source": [
    "# so aml.prognosis[1:2000] is ground truth for training (nki.prognosis)\n",
    "# aml.prognosis[2001:2500] is ground truth for test (nki2.prognosis)"
   ]
  },
  {
   "cell_type": "code",
   "execution_count": null,
   "id": "9d01d5e0-32cc-4708-90fd-2340b692ec32",
   "metadata": {},
   "outputs": [],
   "source": []
  },
  {
   "cell_type": "markdown",
   "id": "4b8d79d8-913f-4162-8876-a0547edb2e45",
   "metadata": {},
   "source": [
    "### Feature Selection with Correlation, Fold 2"
   ]
  },
  {
   "cell_type": "code",
   "execution_count": 39,
   "id": "29402c90-0d78-4457-9ebd-05d00777702d",
   "metadata": {},
   "outputs": [
    {
     "data": {
      "image/png": "[encoded data removed]",
      "text/plain": [
       "Plot with title “Histogram of cor.vec”"
      ]
     },
     "metadata": {
      "image/png": {
       "height": 420,
       "width": 420
      }
     },
     "output_type": "display_data"
    }
   ],
   "source": [
    "cor.vec <- apply (my.data[,1:2000], 1, function (x){cor(x, aml.prognosis[1:2000])})\n",
    "hist (cor.vec)"
   ]
  },
  {
   "cell_type": "code",
   "execution_count": 40,
   "id": "d149807a-a8ca-4789-8b78-63a073364f4b",
   "metadata": {},
   "outputs": [
    {
     "data": {
      "text/html": [
       "<style>\n",
       ".dl-inline {width: auto; margin:0; padding: 0}\n",
       ".dl-inline>dt, .dl-inline>dd {float: none; width: auto; display: inline-block}\n",
       ".dl-inline>dt::after {content: \":\\0020\"; padding-right: .5ex}\n",
       ".dl-inline>dt:not(:first-of-type) {padding-left: .5ex}\n",
       "</style><dl class=dl-inline><dt>0%</dt><dd>-0.777077865051546</dd><dt>10%</dt><dd>-0.279836547179594</dd><dt>25%</dt><dd>-0.196082165300548</dd><dt>50%</dt><dd>-0.0643676359949342</dd><dt>75%</dt><dd>0.150324015486889</dd><dt>90%</dt><dd>0.319650934451393</dd><dt>100%</dt><dd>0.737648840590825</dd></dl>\n"
      ],
      "text/latex": [
       "\\begin{description*}\n",
       "\\item[0\\textbackslash{}\\%] -0.777077865051546\n",
       "\\item[10\\textbackslash{}\\%] -0.279836547179594\n",
       "\\item[25\\textbackslash{}\\%] -0.196082165300548\n",
       "\\item[50\\textbackslash{}\\%] -0.0643676359949342\n",
       "\\item[75\\textbackslash{}\\%] 0.150324015486889\n",
       "\\item[90\\textbackslash{}\\%] 0.319650934451393\n",
       "\\item[100\\textbackslash{}\\%] 0.737648840590825\n",
       "\\end{description*}\n"
      ],
      "text/markdown": [
       "0%\n",
       ":   -0.77707786505154610%\n",
       ":   -0.27983654717959425%\n",
       ":   -0.19608216530054850%\n",
       ":   -0.064367635994934275%\n",
       ":   0.15032401548688990%\n",
       ":   0.319650934451393100%\n",
       ":   0.737648840590825\n",
       "\n"
      ],
      "text/plain": [
       "         0%         10%         25%         50%         75%         90% \n",
       "-0.77707787 -0.27983655 -0.19608217 -0.06436764  0.15032402  0.31965093 \n",
       "       100% \n",
       " 0.73764884 "
      ]
     },
     "metadata": {},
     "output_type": "display_data"
    }
   ],
   "source": [
    "quantile (cor.vec, probs=c(0, 0.1, 0.25, 0.5, 0.75, 0.9, 1))"
   ]
  },
  {
   "cell_type": "code",
   "execution_count": 41,
   "id": "8e77ad9e-4371-4e6c-b1de-2e67813aa691",
   "metadata": {
    "jupyter": {
     "source_hidden": true
    },
    "tags": []
   },
   "outputs": [
    {
     "data": {
      "text/html": [
       "1459"
      ],
      "text/latex": [
       "1459"
      ],
      "text/markdown": [
       "1459"
      ],
      "text/plain": [
       "[1] 1459"
      ]
     },
     "metadata": {},
     "output_type": "display_data"
    },
    {
     "data": {
      "text/html": [
       "976"
      ],
      "text/latex": [
       "976"
      ],
      "text/markdown": [
       "976"
      ],
      "text/plain": [
       "[1] 976"
      ]
     },
     "metadata": {},
     "output_type": "display_data"
    },
    {
     "data": {
      "text/html": [
       "2435"
      ],
      "text/latex": [
       "2435"
      ],
      "text/markdown": [
       "2435"
      ],
      "text/plain": [
       "[1] 2435"
      ]
     },
     "metadata": {},
     "output_type": "display_data"
    }
   ],
   "source": [
    "#from nki_02_25\n",
    "sum (cor.vec > 0.3)\n",
    "sum (cor.vec < -0.3)\n",
    "gene.ind <- c(which(cor.vec > 0.3), which(cor.vec < -0.3))\n",
    "length (gene.ind)"
   ]
  },
  {
   "cell_type": "code",
   "execution_count": null,
   "id": "08f46bd0-ee52-4aa9-b5df-3332aea95b70",
   "metadata": {},
   "outputs": [],
   "source": []
  },
  {
   "cell_type": "code",
   "execution_count": 42,
   "id": "e29af864-0d55-456e-8e68-9b843fb7ec9f",
   "metadata": {},
   "outputs": [],
   "source": [
    "#put knn, random forest model here??"
   ]
  },
  {
   "cell_type": "code",
   "execution_count": 43,
   "id": "9e9b8a61-da84-4128-a7be-442b557aca77",
   "metadata": {},
   "outputs": [],
   "source": [
    "# repeat knn using the subset of genes with high or low correlation with the class label\n",
    "# ret.knn2 <- knn (train=t(nki.impute$data[gene.ind, ]), test=t(nki2.impute$data[gene.ind, ]), cl=nki.prognosis, k=5)\n",
    "# ret.knn2"
   ]
  },
  {
   "cell_type": "code",
   "execution_count": 44,
   "id": "4e955933-91be-40e7-aadf-f20b8b8d685f",
   "metadata": {},
   "outputs": [],
   "source": [
    "# ret.knn <- knn (train =t(my.data[gene.ind,1:2000]), test=t(my.data[gene.ind,2001:2500]),cl=aml.prognosis[1:2000], k=5)"
   ]
  },
  {
   "cell_type": "code",
   "execution_count": 45,
   "id": "8db62cbd-307e-492d-a9d4-9f85128103f2",
   "metadata": {},
   "outputs": [],
   "source": [
    "#table (ret.knn, aml.prognosis[2001:2500])"
   ]
  },
  {
   "cell_type": "code",
   "execution_count": null,
   "id": "4ae0bdc3-c294-46fe-9cc2-ab8a1e64858c",
   "metadata": {},
   "outputs": [],
   "source": []
  },
  {
   "cell_type": "code",
   "execution_count": null,
   "id": "06afe86b-1626-41e1-8bdf-81fa155187ac",
   "metadata": {},
   "outputs": [],
   "source": []
  },
  {
   "cell_type": "code",
   "execution_count": null,
   "id": "c1c12a12-1f87-4156-9689-df72ef8e0e13",
   "metadata": {},
   "outputs": [],
   "source": []
  },
  {
   "cell_type": "markdown",
   "id": "ae1336b6-8533-4627-8b4b-b0ae592c85ee",
   "metadata": {},
   "source": [
    "### Feature Selection with T-test, Fold 2"
   ]
  },
  {
   "cell_type": "code",
   "execution_count": 46,
   "id": "df0147e1-2edf-4fc4-ba53-22d1e8dd8c10",
   "metadata": {},
   "outputs": [],
   "source": [
    "zero.ind <- which(aml.prognosis[1:2000] == 0)\n",
    "one.ind <- which(aml.prognosis[1:2000] == 1)\n",
    "ttest.vec <- apply (my.data, 1, function (x){(t.test(x[one.ind] , x[zero.ind]))$p.value})"
   ]
  },
  {
   "cell_type": "code",
   "execution_count": 47,
   "id": "31ff7ddf-3662-47eb-8574-62da4d8354f9",
   "metadata": {},
   "outputs": [
    {
     "data": {
      "text/html": [
       "11385"
      ],
      "text/latex": [
       "11385"
      ],
      "text/markdown": [
       "11385"
      ],
      "text/plain": [
       "[1] 11385"
      ]
     },
     "metadata": {},
     "output_type": "display_data"
    },
    {
     "data": {
      "text/html": [
       "10950"
      ],
      "text/latex": [
       "10950"
      ],
      "text/markdown": [
       "10950"
      ],
      "text/plain": [
       "[1] 10950"
      ]
     },
     "metadata": {},
     "output_type": "display_data"
    },
    {
     "data": {
      "text/html": [
       "10021"
      ],
      "text/latex": [
       "10021"
      ],
      "text/markdown": [
       "10021"
      ],
      "text/plain": [
       "[1] 10021"
      ]
     },
     "metadata": {},
     "output_type": "display_data"
    },
    {
     "data": {
      "text/html": [
       "9527"
      ],
      "text/latex": [
       "9527"
      ],
      "text/markdown": [
       "9527"
      ],
      "text/plain": [
       "[1] 9527"
      ]
     },
     "metadata": {},
     "output_type": "display_data"
    },
    {
     "data": {
      "text/html": [
       "9280"
      ],
      "text/latex": [
       "9280"
      ],
      "text/markdown": [
       "9280"
      ],
      "text/plain": [
       "[1] 9280"
      ]
     },
     "metadata": {},
     "output_type": "display_data"
    },
    {
     "data": {
      "text/html": [
       "8586"
      ],
      "text/latex": [
       "8586"
      ],
      "text/markdown": [
       "8586"
      ],
      "text/plain": [
       "[1] 8586"
      ]
     },
     "metadata": {},
     "output_type": "display_data"
    }
   ],
   "source": [
    "sum (ttest.vec < 0.05)\n",
    "sum (ttest.vec < 0.01)\n",
    "sum (ttest.vec < 0.0001)\n",
    "adj.ttest.vec <- p.adjust (ttest.vec, method=\"bonferroni\")\n",
    "sum (adj.ttest.vec < 0.05)\n",
    "sum (adj.ttest.vec < 0.01)\n",
    "sum (adj.ttest.vec < 0.0001)"
   ]
  },
  {
   "cell_type": "code",
   "execution_count": 48,
   "id": "7dd2060f-1e58-40a0-a731-2444f6dfe425",
   "metadata": {},
   "outputs": [],
   "source": [
    "ret.order <- order (ttest.vec)\n",
    "#100 genes with lowest pvalues\n",
    "gene.ind2 <- ret.order[1:100]\n"
   ]
  },
  {
   "cell_type": "code",
   "execution_count": 49,
   "id": "9b54393e-7ead-4052-a6a2-89219e209b92",
   "metadata": {},
   "outputs": [],
   "source": [
    "# ret.knn <- knn (train =t(my.data[gene.ind2,1:2000]), test=t(my.data[gene.ind2,2001:2500]),cl=aml.prognosis[1:2000], k=5)"
   ]
  },
  {
   "cell_type": "code",
   "execution_count": 50,
   "id": "5225200c-9d69-4781-9774-4af0fc4f5866",
   "metadata": {
    "tags": []
   },
   "outputs": [],
   "source": [
    "#table (ret.knn, aml.prognosis[2001:2500])"
   ]
  },
  {
   "cell_type": "code",
   "execution_count": null,
   "id": "f52958a1-df2f-4858-a999-8b59c409eac5",
   "metadata": {},
   "outputs": [],
   "source": []
  },
  {
   "cell_type": "code",
   "execution_count": null,
   "id": "79a7237e-e878-4c96-a5a3-96bbcac91e91",
   "metadata": {},
   "outputs": [],
   "source": []
  },
  {
   "cell_type": "code",
   "execution_count": null,
   "id": "70b25e49-94c9-4e23-8598-3b2ea049c0aa",
   "metadata": {},
   "outputs": [],
   "source": []
  },
  {
   "cell_type": "markdown",
   "id": "0a8f57a0-6913-47f0-8d30-36af06307cc1",
   "metadata": {
    "tags": []
   },
   "source": [
    "### Fold 3"
   ]
  },
  {
   "cell_type": "code",
   "execution_count": 51,
   "id": "cccd0e46-b8b7-4287-a788-6fa2eb718a3c",
   "metadata": {
    "tags": []
   },
   "outputs": [
    {
     "data": {
      "text/html": [
       "<style>\n",
       ".list-inline {list-style: none; margin:0; padding: 0}\n",
       ".list-inline>li {display: inline-block}\n",
       ".list-inline>li:not(:last-child)::after {content: \"\\00b7\"; padding: 0 .5ex}\n",
       "</style>\n",
       "<ol class=list-inline><li>12708</li><li>2500</li></ol>\n"
      ],
      "text/latex": [
       "\\begin{enumerate*}\n",
       "\\item 12708\n",
       "\\item 2500\n",
       "\\end{enumerate*}\n"
      ],
      "text/markdown": [
       "1. 12708\n",
       "2. 2500\n",
       "\n",
       "\n"
      ],
      "text/plain": [
       "[1] 12708  2500"
      ]
     },
     "metadata": {},
     "output_type": "display_data"
    },
    {
     "data": {
      "text/html": [
       "<style>\n",
       ".list-inline {list-style: none; margin:0; padding: 0}\n",
       ".list-inline>li {display: inline-block}\n",
       ".list-inline>li:not(:last-child)::after {content: \"\\00b7\"; padding: 0 .5ex}\n",
       "</style>\n",
       "<ol class=list-inline><li>2500</li><li>8</li></ol>\n"
      ],
      "text/latex": [
       "\\begin{enumerate*}\n",
       "\\item 2500\n",
       "\\item 8\n",
       "\\end{enumerate*}\n"
      ],
      "text/markdown": [
       "1. 2500\n",
       "2. 8\n",
       "\n",
       "\n"
      ],
      "text/plain": [
       "[1] 2500    8"
      ]
     },
     "metadata": {},
     "output_type": "display_data"
    }
   ],
   "source": [
    "rm.fold <- fold3.ind\n",
    "my.data <- cbind(data.1[,-rm.fold],data.1[,rm.fold])\n",
    "dim(my.data)\n",
    "my.info <- rbind(info.1[-rm.fold,],info.1[rm.fold,])\n",
    "dim(my.info)"
   ]
  },
  {
   "cell_type": "code",
   "execution_count": 52,
   "id": "1ac713b4-af86-4900-8fd8-a23735b6c920",
   "metadata": {},
   "outputs": [],
   "source": [
    "#my.data[ ,1:2000] is training\n",
    "#my.data[ ,2001:2500] is test"
   ]
  },
  {
   "cell_type": "code",
   "execution_count": 53,
   "id": "c503ab5c-c978-4b44-8d31-0ecec07f7733",
   "metadata": {},
   "outputs": [
    {
     "data": {
      "text/html": [
       "986"
      ],
      "text/latex": [
       "986"
      ],
      "text/markdown": [
       "986"
      ],
      "text/plain": [
       "[1] 986"
      ]
     },
     "metadata": {},
     "output_type": "display_data"
    },
    {
     "data": {
      "text/html": [
       "2500"
      ],
      "text/latex": [
       "2500"
      ],
      "text/markdown": [
       "2500"
      ],
      "text/plain": [
       "[1] 2500"
      ]
     },
     "metadata": {},
     "output_type": "display_data"
    }
   ],
   "source": [
    "aml.prognosis <- rep(0, length(my.info$Disease))\n",
    "aml.prognosis[which (my.info$Disease == \"AML\")] <- 1\n",
    "sum(aml.prognosis)\n",
    "length(aml.prognosis)"
   ]
  },
  {
   "cell_type": "code",
   "execution_count": 54,
   "id": "6bbc1c1c-ae98-4e98-97f3-cbe62de55d48",
   "metadata": {},
   "outputs": [],
   "source": [
    "# so aml.prognosis[1:2000] is ground truth for training (nki.prognosis)\n",
    "# aml.prognosis[2001:2500] is ground truth for test (nki2.prognosis)"
   ]
  },
  {
   "cell_type": "code",
   "execution_count": null,
   "id": "999692d7-18e0-45a6-892f-ee61ba90edef",
   "metadata": {},
   "outputs": [],
   "source": []
  },
  {
   "cell_type": "markdown",
   "id": "0faf5aa3-115c-4ddb-bf34-d3908d8d9464",
   "metadata": {},
   "source": [
    "### Feature Selection with Correlation, Fold 3"
   ]
  },
  {
   "cell_type": "code",
   "execution_count": 55,
   "id": "8827b961-2db4-4bcd-9c92-3485d0dd1aa4",
   "metadata": {},
   "outputs": [
    {
     "data": {
      "image/png": "[encoded data removed]",
      "text/plain": [
       "Plot with title “Histogram of cor.vec”"
      ]
     },
     "metadata": {
      "image/png": {
       "height": 420,
       "width": 420
      }
     },
     "output_type": "display_data"
    }
   ],
   "source": [
    "cor.vec <- apply (my.data[,1:2000], 1, function (x){cor(x, aml.prognosis[1:2000])})\n",
    "hist (cor.vec)"
   ]
  },
  {
   "cell_type": "code",
   "execution_count": 56,
   "id": "b0df099f-7777-4398-af08-f727a4e5cd67",
   "metadata": {},
   "outputs": [
    {
     "data": {
      "text/html": [
       "<style>\n",
       ".dl-inline {width: auto; margin:0; padding: 0}\n",
       ".dl-inline>dt, .dl-inline>dd {float: none; width: auto; display: inline-block}\n",
       ".dl-inline>dt::after {content: \":\\0020\"; padding-right: .5ex}\n",
       ".dl-inline>dt:not(:first-of-type) {padding-left: .5ex}\n",
       "</style><dl class=dl-inline><dt>0%</dt><dd>-0.775708315335778</dd><dt>10%</dt><dd>-0.290430692062862</dd><dt>25%</dt><dd>-0.208051753716577</dd><dt>50%</dt><dd>-0.0659704665167109</dd><dt>75%</dt><dd>0.154703339961006</dd><dt>90%</dt><dd>0.32481922456415</dd><dt>100%</dt><dd>0.737263534811324</dd></dl>\n"
      ],
      "text/latex": [
       "\\begin{description*}\n",
       "\\item[0\\textbackslash{}\\%] -0.775708315335778\n",
       "\\item[10\\textbackslash{}\\%] -0.290430692062862\n",
       "\\item[25\\textbackslash{}\\%] -0.208051753716577\n",
       "\\item[50\\textbackslash{}\\%] -0.0659704665167109\n",
       "\\item[75\\textbackslash{}\\%] 0.154703339961006\n",
       "\\item[90\\textbackslash{}\\%] 0.32481922456415\n",
       "\\item[100\\textbackslash{}\\%] 0.737263534811324\n",
       "\\end{description*}\n"
      ],
      "text/markdown": [
       "0%\n",
       ":   -0.77570831533577810%\n",
       ":   -0.29043069206286225%\n",
       ":   -0.20805175371657750%\n",
       ":   -0.065970466516710975%\n",
       ":   0.15470333996100690%\n",
       ":   0.32481922456415100%\n",
       ":   0.737263534811324\n",
       "\n"
      ],
      "text/plain": [
       "         0%         10%         25%         50%         75%         90% \n",
       "-0.77570832 -0.29043069 -0.20805175 -0.06597047  0.15470334  0.32481922 \n",
       "       100% \n",
       " 0.73726353 "
      ]
     },
     "metadata": {},
     "output_type": "display_data"
    }
   ],
   "source": [
    "quantile (cor.vec, probs=c(0, 0.1, 0.25, 0.5, 0.75, 0.9, 1))"
   ]
  },
  {
   "cell_type": "code",
   "execution_count": 57,
   "id": "d97358f7-3dad-4011-ac06-0b82d6ca9604",
   "metadata": {
    "jupyter": {
     "source_hidden": true
    },
    "tags": []
   },
   "outputs": [
    {
     "data": {
      "text/html": [
       "1510"
      ],
      "text/latex": [
       "1510"
      ],
      "text/markdown": [
       "1510"
      ],
      "text/plain": [
       "[1] 1510"
      ]
     },
     "metadata": {},
     "output_type": "display_data"
    },
    {
     "data": {
      "text/html": [
       "1124"
      ],
      "text/latex": [
       "1124"
      ],
      "text/markdown": [
       "1124"
      ],
      "text/plain": [
       "[1] 1124"
      ]
     },
     "metadata": {},
     "output_type": "display_data"
    },
    {
     "data": {
      "text/html": [
       "2634"
      ],
      "text/latex": [
       "2634"
      ],
      "text/markdown": [
       "2634"
      ],
      "text/plain": [
       "[1] 2634"
      ]
     },
     "metadata": {},
     "output_type": "display_data"
    }
   ],
   "source": [
    "#from nki_02_25\n",
    "sum (cor.vec > 0.3)\n",
    "sum (cor.vec < -0.3)\n",
    "gene.ind <- c(which(cor.vec > 0.3), which(cor.vec < -0.3))\n",
    "length (gene.ind)"
   ]
  },
  {
   "cell_type": "code",
   "execution_count": null,
   "id": "8b7d9e27-cf57-4b02-90cc-5fd84ac8f19c",
   "metadata": {},
   "outputs": [],
   "source": []
  },
  {
   "cell_type": "code",
   "execution_count": 58,
   "id": "a8f53094-fa45-4c97-b33d-3c634640d96e",
   "metadata": {},
   "outputs": [],
   "source": [
    "#put knn, random forest model here??"
   ]
  },
  {
   "cell_type": "code",
   "execution_count": 59,
   "id": "fc1ead4e-6544-4c46-bd89-f20660920883",
   "metadata": {},
   "outputs": [],
   "source": [
    "# repeat knn using the subset of genes with high or low correlation with the class label\n",
    "# ret.knn2 <- knn (train=t(nki.impute$data[gene.ind, ]), test=t(nki2.impute$data[gene.ind, ]), cl=nki.prognosis, k=5)\n",
    "# ret.knn2"
   ]
  },
  {
   "cell_type": "code",
   "execution_count": 60,
   "id": "b20b4f12-ef2e-45c6-8e09-efaf137fa6bd",
   "metadata": {},
   "outputs": [],
   "source": [
    "# ret.knn <- knn (train =t(my.data[gene.ind,1:2000]), test=t(my.data[gene.ind,2001:2500]),cl=aml.prognosis[1:2000], k=5)"
   ]
  },
  {
   "cell_type": "code",
   "execution_count": 61,
   "id": "26134caa-66f5-4247-bced-c9b39d640465",
   "metadata": {},
   "outputs": [],
   "source": [
    "#table (ret.knn, aml.prognosis[2001:2500])"
   ]
  },
  {
   "cell_type": "code",
   "execution_count": null,
   "id": "e449f2a5-b04b-40b4-ac39-23e759320aca",
   "metadata": {},
   "outputs": [],
   "source": []
  },
  {
   "cell_type": "code",
   "execution_count": null,
   "id": "5da5661e-405b-4d32-b41a-2f523402a40e",
   "metadata": {},
   "outputs": [],
   "source": []
  },
  {
   "cell_type": "code",
   "execution_count": null,
   "id": "56c6eeed-472a-45ae-af1c-9c9101b19686",
   "metadata": {},
   "outputs": [],
   "source": []
  },
  {
   "cell_type": "markdown",
   "id": "64a26469-31ed-4235-b87a-86380b4925a7",
   "metadata": {},
   "source": [
    "### Feature Selection with T-test, Fold 3"
   ]
  },
  {
   "cell_type": "code",
   "execution_count": 62,
   "id": "2f9b4025-0a3e-4566-927a-d51a5e72b2af",
   "metadata": {},
   "outputs": [],
   "source": [
    "zero.ind <- which(aml.prognosis[1:2000] == 0)\n",
    "one.ind <- which(aml.prognosis[1:2000] == 1)\n",
    "ttest.vec <- apply (my.data, 1, function (x){(t.test(x[one.ind] , x[zero.ind]))$p.value})"
   ]
  },
  {
   "cell_type": "code",
   "execution_count": 63,
   "id": "892e70ed-da10-49eb-b0d3-bdc9b533b424",
   "metadata": {},
   "outputs": [
    {
     "data": {
      "text/html": [
       "11435"
      ],
      "text/latex": [
       "11435"
      ],
      "text/markdown": [
       "11435"
      ],
      "text/plain": [
       "[1] 11435"
      ]
     },
     "metadata": {},
     "output_type": "display_data"
    },
    {
     "data": {
      "text/html": [
       "10993"
      ],
      "text/latex": [
       "10993"
      ],
      "text/markdown": [
       "10993"
      ],
      "text/plain": [
       "[1] 10993"
      ]
     },
     "metadata": {},
     "output_type": "display_data"
    },
    {
     "data": {
      "text/html": [
       "10126"
      ],
      "text/latex": [
       "10126"
      ],
      "text/markdown": [
       "10126"
      ],
      "text/plain": [
       "[1] 10126"
      ]
     },
     "metadata": {},
     "output_type": "display_data"
    },
    {
     "data": {
      "text/html": [
       "9656"
      ],
      "text/latex": [
       "9656"
      ],
      "text/markdown": [
       "9656"
      ],
      "text/plain": [
       "[1] 9656"
      ]
     },
     "metadata": {},
     "output_type": "display_data"
    },
    {
     "data": {
      "text/html": [
       "9428"
      ],
      "text/latex": [
       "9428"
      ],
      "text/markdown": [
       "9428"
      ],
      "text/plain": [
       "[1] 9428"
      ]
     },
     "metadata": {},
     "output_type": "display_data"
    },
    {
     "data": {
      "text/html": [
       "8765"
      ],
      "text/latex": [
       "8765"
      ],
      "text/markdown": [
       "8765"
      ],
      "text/plain": [
       "[1] 8765"
      ]
     },
     "metadata": {},
     "output_type": "display_data"
    }
   ],
   "source": [
    "sum (ttest.vec < 0.05)\n",
    "sum (ttest.vec < 0.01)\n",
    "sum (ttest.vec < 0.0001)\n",
    "adj.ttest.vec <- p.adjust (ttest.vec, method=\"bonferroni\")\n",
    "sum (adj.ttest.vec < 0.05)\n",
    "sum (adj.ttest.vec < 0.01)\n",
    "sum (adj.ttest.vec < 0.0001)"
   ]
  },
  {
   "cell_type": "code",
   "execution_count": 64,
   "id": "0f84d829-e0ed-4857-835e-d02881f199bf",
   "metadata": {},
   "outputs": [],
   "source": [
    "ret.order <- order (ttest.vec)\n",
    "#100 genes with lowest pvalues\n",
    "gene.ind2 <- ret.order[1:100]\n"
   ]
  },
  {
   "cell_type": "code",
   "execution_count": 65,
   "id": "293b51e8-ad64-403e-93eb-b28052fe46d1",
   "metadata": {},
   "outputs": [],
   "source": [
    "# ret.knn <- knn (train =t(my.data[gene.ind2,1:2000]), test=t(my.data[gene.ind2,2001:2500]),cl=aml.prognosis[1:2000], k=5)"
   ]
  },
  {
   "cell_type": "code",
   "execution_count": 66,
   "id": "b64a73a8-2e37-4d71-92ba-4ed6a5d2305e",
   "metadata": {
    "tags": []
   },
   "outputs": [],
   "source": [
    "#table (ret.knn, aml.prognosis[2001:2500])"
   ]
  },
  {
   "cell_type": "code",
   "execution_count": null,
   "id": "e7d3310f-d2b4-46ee-b78a-4cde04e08a4f",
   "metadata": {},
   "outputs": [],
   "source": []
  },
  {
   "cell_type": "code",
   "execution_count": null,
   "id": "6d8bd381-1b23-4d21-ad84-0d211bffab21",
   "metadata": {},
   "outputs": [],
   "source": []
  },
  {
   "cell_type": "code",
   "execution_count": null,
   "id": "dab72fa4-bc27-46be-9083-75192fa1803b",
   "metadata": {},
   "outputs": [],
   "source": []
  },
  {
   "cell_type": "markdown",
   "id": "0e9648e6-d90e-46d7-a78b-39cddd190c26",
   "metadata": {
    "tags": []
   },
   "source": [
    "### Fold 4"
   ]
  },
  {
   "cell_type": "code",
   "execution_count": 67,
   "id": "733ced4b-de7e-4182-a1d5-8a3cb6f5e3b8",
   "metadata": {
    "tags": []
   },
   "outputs": [
    {
     "data": {
      "text/html": [
       "<style>\n",
       ".list-inline {list-style: none; margin:0; padding: 0}\n",
       ".list-inline>li {display: inline-block}\n",
       ".list-inline>li:not(:last-child)::after {content: \"\\00b7\"; padding: 0 .5ex}\n",
       "</style>\n",
       "<ol class=list-inline><li>12708</li><li>2500</li></ol>\n"
      ],
      "text/latex": [
       "\\begin{enumerate*}\n",
       "\\item 12708\n",
       "\\item 2500\n",
       "\\end{enumerate*}\n"
      ],
      "text/markdown": [
       "1. 12708\n",
       "2. 2500\n",
       "\n",
       "\n"
      ],
      "text/plain": [
       "[1] 12708  2500"
      ]
     },
     "metadata": {},
     "output_type": "display_data"
    },
    {
     "data": {
      "text/html": [
       "<style>\n",
       ".list-inline {list-style: none; margin:0; padding: 0}\n",
       ".list-inline>li {display: inline-block}\n",
       ".list-inline>li:not(:last-child)::after {content: \"\\00b7\"; padding: 0 .5ex}\n",
       "</style>\n",
       "<ol class=list-inline><li>2500</li><li>8</li></ol>\n"
      ],
      "text/latex": [
       "\\begin{enumerate*}\n",
       "\\item 2500\n",
       "\\item 8\n",
       "\\end{enumerate*}\n"
      ],
      "text/markdown": [
       "1. 2500\n",
       "2. 8\n",
       "\n",
       "\n"
      ],
      "text/plain": [
       "[1] 2500    8"
      ]
     },
     "metadata": {},
     "output_type": "display_data"
    }
   ],
   "source": [
    "rm.fold <- fold4.ind\n",
    "my.data <- cbind(data.1[,-rm.fold],data.1[,rm.fold])\n",
    "dim(my.data)\n",
    "my.info <- rbind(info.1[-rm.fold,],info.1[rm.fold,])\n",
    "dim(my.info)"
   ]
  },
  {
   "cell_type": "code",
   "execution_count": 68,
   "id": "d4e00bed-7024-4d68-b501-afa5f7fb37a2",
   "metadata": {},
   "outputs": [],
   "source": [
    "#my.data[ ,1:2000] is training\n",
    "#my.data[ ,2001:2500] is test"
   ]
  },
  {
   "cell_type": "code",
   "execution_count": 69,
   "id": "c0b74f67-c7c1-4f69-a696-2cdabb03c08e",
   "metadata": {},
   "outputs": [
    {
     "data": {
      "text/html": [
       "986"
      ],
      "text/latex": [
       "986"
      ],
      "text/markdown": [
       "986"
      ],
      "text/plain": [
       "[1] 986"
      ]
     },
     "metadata": {},
     "output_type": "display_data"
    },
    {
     "data": {
      "text/html": [
       "2500"
      ],
      "text/latex": [
       "2500"
      ],
      "text/markdown": [
       "2500"
      ],
      "text/plain": [
       "[1] 2500"
      ]
     },
     "metadata": {},
     "output_type": "display_data"
    }
   ],
   "source": [
    "aml.prognosis <- rep(0, length(my.info$Disease))\n",
    "aml.prognosis[which (my.info$Disease == \"AML\")] <- 1\n",
    "sum(aml.prognosis)\n",
    "length(aml.prognosis)"
   ]
  },
  {
   "cell_type": "code",
   "execution_count": 70,
   "id": "df969144-18db-4205-87ad-fb0850cf49e6",
   "metadata": {},
   "outputs": [],
   "source": [
    "# so aml.prognosis[1:2000] is ground truth for training (nki.prognosis)\n",
    "# aml.prognosis[2001:2500] is ground truth for test (nki2.prognosis)"
   ]
  },
  {
   "cell_type": "code",
   "execution_count": null,
   "id": "b7a2f391-de4e-4334-892a-90e137dba63a",
   "metadata": {},
   "outputs": [],
   "source": []
  },
  {
   "cell_type": "markdown",
   "id": "34143962-6b1a-43a2-b8f7-37d2b979217a",
   "metadata": {},
   "source": [
    "### Feature Selection with Correlation, Fold 4"
   ]
  },
  {
   "cell_type": "code",
   "execution_count": 71,
   "id": "ae36033f-88be-4c2f-9f55-7781da39b014",
   "metadata": {},
   "outputs": [
    {
     "data": {
      "image/png": "[encoded data removed]",
      "text/plain": [
       "Plot with title “Histogram of cor.vec”"
      ]
     },
     "metadata": {
      "image/png": {
       "height": 420,
       "width": 420
      }
     },
     "output_type": "display_data"
    }
   ],
   "source": [
    "cor.vec <- apply (my.data[,1:2000], 1, function (x){cor(x, aml.prognosis[1:2000])})\n",
    "hist (cor.vec)"
   ]
  },
  {
   "cell_type": "code",
   "execution_count": 72,
   "id": "f025db25-7d80-4b77-99cc-54a13d1062ff",
   "metadata": {},
   "outputs": [
    {
     "data": {
      "text/html": [
       "<style>\n",
       ".dl-inline {width: auto; margin:0; padding: 0}\n",
       ".dl-inline>dt, .dl-inline>dd {float: none; width: auto; display: inline-block}\n",
       ".dl-inline>dt::after {content: \":\\0020\"; padding-right: .5ex}\n",
       ".dl-inline>dt:not(:first-of-type) {padding-left: .5ex}\n",
       "</style><dl class=dl-inline><dt>0%</dt><dd>-0.77385609328608</dd><dt>10%</dt><dd>-0.284362206207521</dd><dt>25%</dt><dd>-0.201966548484921</dd><dt>50%</dt><dd>-0.0634306391028483</dd><dt>75%</dt><dd>0.150534242741758</dd><dt>90%</dt><dd>0.320442478123972</dd><dt>100%</dt><dd>0.735423710691677</dd></dl>\n"
      ],
      "text/latex": [
       "\\begin{description*}\n",
       "\\item[0\\textbackslash{}\\%] -0.77385609328608\n",
       "\\item[10\\textbackslash{}\\%] -0.284362206207521\n",
       "\\item[25\\textbackslash{}\\%] -0.201966548484921\n",
       "\\item[50\\textbackslash{}\\%] -0.0634306391028483\n",
       "\\item[75\\textbackslash{}\\%] 0.150534242741758\n",
       "\\item[90\\textbackslash{}\\%] 0.320442478123972\n",
       "\\item[100\\textbackslash{}\\%] 0.735423710691677\n",
       "\\end{description*}\n"
      ],
      "text/markdown": [
       "0%\n",
       ":   -0.7738560932860810%\n",
       ":   -0.28436220620752125%\n",
       ":   -0.20196654848492150%\n",
       ":   -0.063430639102848375%\n",
       ":   0.15053424274175890%\n",
       ":   0.320442478123972100%\n",
       ":   0.735423710691677\n",
       "\n"
      ],
      "text/plain": [
       "         0%         10%         25%         50%         75%         90% \n",
       "-0.77385609 -0.28436221 -0.20196655 -0.06343064  0.15053424  0.32044248 \n",
       "       100% \n",
       " 0.73542371 "
      ]
     },
     "metadata": {},
     "output_type": "display_data"
    }
   ],
   "source": [
    "quantile (cor.vec, probs=c(0, 0.1, 0.25, 0.5, 0.75, 0.9, 1))"
   ]
  },
  {
   "cell_type": "code",
   "execution_count": 73,
   "id": "04f48b21-ae08-4477-ba9d-789a3d2f4cb2",
   "metadata": {
    "jupyter": {
     "source_hidden": true
    },
    "tags": []
   },
   "outputs": [
    {
     "data": {
      "text/html": [
       "1464"
      ],
      "text/latex": [
       "1464"
      ],
      "text/markdown": [
       "1464"
      ],
      "text/plain": [
       "[1] 1464"
      ]
     },
     "metadata": {},
     "output_type": "display_data"
    },
    {
     "data": {
      "text/html": [
       "1044"
      ],
      "text/latex": [
       "1044"
      ],
      "text/markdown": [
       "1044"
      ],
      "text/plain": [
       "[1] 1044"
      ]
     },
     "metadata": {},
     "output_type": "display_data"
    },
    {
     "data": {
      "text/html": [
       "2508"
      ],
      "text/latex": [
       "2508"
      ],
      "text/markdown": [
       "2508"
      ],
      "text/plain": [
       "[1] 2508"
      ]
     },
     "metadata": {},
     "output_type": "display_data"
    }
   ],
   "source": [
    "#from nki_02_25\n",
    "sum (cor.vec > 0.3)\n",
    "sum (cor.vec < -0.3)\n",
    "gene.ind <- c(which(cor.vec > 0.3), which(cor.vec < -0.3))\n",
    "length (gene.ind)"
   ]
  },
  {
   "cell_type": "code",
   "execution_count": null,
   "id": "539030a6-d37f-4659-bb82-a805c8821ce5",
   "metadata": {},
   "outputs": [],
   "source": []
  },
  {
   "cell_type": "code",
   "execution_count": 74,
   "id": "728e720b-8575-4132-afea-5924c340e8f8",
   "metadata": {},
   "outputs": [],
   "source": [
    "#put knn, random forest model here??"
   ]
  },
  {
   "cell_type": "code",
   "execution_count": 75,
   "id": "e3b73753-0629-472e-a418-84520909206d",
   "metadata": {},
   "outputs": [],
   "source": [
    "# repeat knn using the subset of genes with high or low correlation with the class label\n",
    "# ret.knn2 <- knn (train=t(nki.impute$data[gene.ind, ]), test=t(nki2.impute$data[gene.ind, ]), cl=nki.prognosis, k=5)\n",
    "# ret.knn2"
   ]
  },
  {
   "cell_type": "code",
   "execution_count": 76,
   "id": "27716cf1-c381-4d15-b175-371fefcd7f3a",
   "metadata": {},
   "outputs": [],
   "source": [
    "# ret.knn <- knn (train =t(my.data[gene.ind,1:2000]), test=t(my.data[gene.ind,2001:2500]),cl=aml.prognosis[1:2000], k=5)"
   ]
  },
  {
   "cell_type": "code",
   "execution_count": 77,
   "id": "a83659fe-a11a-4c49-ade8-4c8adec6675c",
   "metadata": {},
   "outputs": [],
   "source": [
    "#table (ret.knn, aml.prognosis[2001:2500])"
   ]
  },
  {
   "cell_type": "code",
   "execution_count": null,
   "id": "5c5c81b1-c76e-43c4-b724-8ec263426752",
   "metadata": {},
   "outputs": [],
   "source": []
  },
  {
   "cell_type": "code",
   "execution_count": null,
   "id": "f4cb4e8b-d6dd-4627-8c4d-8c5de13e80b6",
   "metadata": {},
   "outputs": [],
   "source": []
  },
  {
   "cell_type": "code",
   "execution_count": null,
   "id": "ff4ef2a6-a0bc-46f9-accf-469592c72e70",
   "metadata": {},
   "outputs": [],
   "source": []
  },
  {
   "cell_type": "markdown",
   "id": "1ce93e73-406c-428b-b811-d82b1887beb1",
   "metadata": {},
   "source": [
    "### Feature Selection with T-test, Fold 4"
   ]
  },
  {
   "cell_type": "code",
   "execution_count": 78,
   "id": "b663ce7e-ef5f-4ab6-8060-8e1f4f909334",
   "metadata": {},
   "outputs": [],
   "source": [
    "zero.ind <- which(aml.prognosis[1:2000] == 0)\n",
    "one.ind <- which(aml.prognosis[1:2000] == 1)\n",
    "ttest.vec <- apply (my.data, 1, function (x){(t.test(x[one.ind] , x[zero.ind]))$p.value})"
   ]
  },
  {
   "cell_type": "code",
   "execution_count": 79,
   "id": "e73d9b7a-4321-4d16-9674-05e9f0642b3e",
   "metadata": {},
   "outputs": [
    {
     "data": {
      "text/html": [
       "11396"
      ],
      "text/latex": [
       "11396"
      ],
      "text/markdown": [
       "11396"
      ],
      "text/plain": [
       "[1] 11396"
      ]
     },
     "metadata": {},
     "output_type": "display_data"
    },
    {
     "data": {
      "text/html": [
       "10977"
      ],
      "text/latex": [
       "10977"
      ],
      "text/markdown": [
       "10977"
      ],
      "text/plain": [
       "[1] 10977"
      ]
     },
     "metadata": {},
     "output_type": "display_data"
    },
    {
     "data": {
      "text/html": [
       "10063"
      ],
      "text/latex": [
       "10063"
      ],
      "text/markdown": [
       "10063"
      ],
      "text/plain": [
       "[1] 10063"
      ]
     },
     "metadata": {},
     "output_type": "display_data"
    },
    {
     "data": {
      "text/html": [
       "9546"
      ],
      "text/latex": [
       "9546"
      ],
      "text/markdown": [
       "9546"
      ],
      "text/plain": [
       "[1] 9546"
      ]
     },
     "metadata": {},
     "output_type": "display_data"
    },
    {
     "data": {
      "text/html": [
       "9300"
      ],
      "text/latex": [
       "9300"
      ],
      "text/markdown": [
       "9300"
      ],
      "text/plain": [
       "[1] 9300"
      ]
     },
     "metadata": {},
     "output_type": "display_data"
    },
    {
     "data": {
      "text/html": [
       "8656"
      ],
      "text/latex": [
       "8656"
      ],
      "text/markdown": [
       "8656"
      ],
      "text/plain": [
       "[1] 8656"
      ]
     },
     "metadata": {},
     "output_type": "display_data"
    }
   ],
   "source": [
    "sum (ttest.vec < 0.05)\n",
    "sum (ttest.vec < 0.01)\n",
    "sum (ttest.vec < 0.0001)\n",
    "adj.ttest.vec <- p.adjust (ttest.vec, method=\"bonferroni\")\n",
    "sum (adj.ttest.vec < 0.05)\n",
    "sum (adj.ttest.vec < 0.01)\n",
    "sum (adj.ttest.vec < 0.0001)"
   ]
  },
  {
   "cell_type": "code",
   "execution_count": 80,
   "id": "fa2c080f-be53-4b92-8093-8132c49c113b",
   "metadata": {},
   "outputs": [],
   "source": [
    "ret.order <- order (ttest.vec)\n",
    "#100 genes with lowest pvalues\n",
    "gene.ind2 <- ret.order[1:100]\n"
   ]
  },
  {
   "cell_type": "code",
   "execution_count": 81,
   "id": "bbef6bd3-6383-4967-90c9-4e29b73204cb",
   "metadata": {},
   "outputs": [],
   "source": [
    "# ret.knn <- knn (train =t(my.data[gene.ind2,1:2000]), test=t(my.data[gene.ind2,2001:2500]),cl=aml.prognosis[1:2000], k=5)"
   ]
  },
  {
   "cell_type": "code",
   "execution_count": 82,
   "id": "538c6e97-3db7-49ef-ad58-17945d5c5123",
   "metadata": {
    "tags": []
   },
   "outputs": [],
   "source": [
    "#table (ret.knn, aml.prognosis[2001:2500])"
   ]
  },
  {
   "cell_type": "code",
   "execution_count": null,
   "id": "1a0595ea-7810-434c-9a36-36fa5a16747c",
   "metadata": {},
   "outputs": [],
   "source": []
  },
  {
   "cell_type": "code",
   "execution_count": null,
   "id": "9309f603-f1f6-4629-b208-22bf4655a122",
   "metadata": {},
   "outputs": [],
   "source": []
  },
  {
   "cell_type": "code",
   "execution_count": null,
   "id": "4736c028-4c17-4744-860b-3ae8bfe93376",
   "metadata": {},
   "outputs": [],
   "source": []
  },
  {
   "cell_type": "markdown",
   "id": "209354e8-209a-4985-aabc-774ace80fbdf",
   "metadata": {
    "tags": []
   },
   "source": [
    "### Fold 5"
   ]
  },
  {
   "cell_type": "code",
   "execution_count": 83,
   "id": "401b8837-a326-4ce1-a0a3-a58f9ea02ee2",
   "metadata": {
    "tags": []
   },
   "outputs": [
    {
     "data": {
      "text/html": [
       "<style>\n",
       ".list-inline {list-style: none; margin:0; padding: 0}\n",
       ".list-inline>li {display: inline-block}\n",
       ".list-inline>li:not(:last-child)::after {content: \"\\00b7\"; padding: 0 .5ex}\n",
       "</style>\n",
       "<ol class=list-inline><li>12708</li><li>2500</li></ol>\n"
      ],
      "text/latex": [
       "\\begin{enumerate*}\n",
       "\\item 12708\n",
       "\\item 2500\n",
       "\\end{enumerate*}\n"
      ],
      "text/markdown": [
       "1. 12708\n",
       "2. 2500\n",
       "\n",
       "\n"
      ],
      "text/plain": [
       "[1] 12708  2500"
      ]
     },
     "metadata": {},
     "output_type": "display_data"
    },
    {
     "data": {
      "text/html": [
       "<style>\n",
       ".list-inline {list-style: none; margin:0; padding: 0}\n",
       ".list-inline>li {display: inline-block}\n",
       ".list-inline>li:not(:last-child)::after {content: \"\\00b7\"; padding: 0 .5ex}\n",
       "</style>\n",
       "<ol class=list-inline><li>2500</li><li>8</li></ol>\n"
      ],
      "text/latex": [
       "\\begin{enumerate*}\n",
       "\\item 2500\n",
       "\\item 8\n",
       "\\end{enumerate*}\n"
      ],
      "text/markdown": [
       "1. 2500\n",
       "2. 8\n",
       "\n",
       "\n"
      ],
      "text/plain": [
       "[1] 2500    8"
      ]
     },
     "metadata": {},
     "output_type": "display_data"
    }
   ],
   "source": [
    "rm.fold <- fold2.ind\n",
    "my.data <- cbind(data.1[,-rm.fold],data.1[,rm.fold])\n",
    "dim(my.data)\n",
    "my.info <- rbind(info.1[-rm.fold,],info.1[rm.fold,])\n",
    "dim(my.info)"
   ]
  },
  {
   "cell_type": "code",
   "execution_count": 84,
   "id": "b49b0178-4a33-453c-8dd4-a986b193aa51",
   "metadata": {},
   "outputs": [],
   "source": [
    "#my.data[ ,1:2000] is training\n",
    "#my.data[ ,2001:2500] is test"
   ]
  },
  {
   "cell_type": "code",
   "execution_count": 85,
   "id": "246c3d63-6820-48c1-a16f-8e3813b12dd2",
   "metadata": {},
   "outputs": [
    {
     "data": {
      "text/html": [
       "986"
      ],
      "text/latex": [
       "986"
      ],
      "text/markdown": [
       "986"
      ],
      "text/plain": [
       "[1] 986"
      ]
     },
     "metadata": {},
     "output_type": "display_data"
    },
    {
     "data": {
      "text/html": [
       "2500"
      ],
      "text/latex": [
       "2500"
      ],
      "text/markdown": [
       "2500"
      ],
      "text/plain": [
       "[1] 2500"
      ]
     },
     "metadata": {},
     "output_type": "display_data"
    }
   ],
   "source": [
    "aml.prognosis <- rep(0, length(my.info$Disease))\n",
    "aml.prognosis[which (my.info$Disease == \"AML\")] <- 1\n",
    "sum(aml.prognosis)\n",
    "length(aml.prognosis)"
   ]
  },
  {
   "cell_type": "code",
   "execution_count": 86,
   "id": "b313bd05-8e17-4c2c-8d9d-03d9a1cd6bcb",
   "metadata": {},
   "outputs": [],
   "source": [
    "# so aml.prognosis[1:2000] is ground truth for training (nki.prognosis)\n",
    "# aml.prognosis[2001:2500] is ground truth for test (nki2.prognosis)"
   ]
  },
  {
   "cell_type": "code",
   "execution_count": null,
   "id": "8b9061d2-eff7-4b16-bb14-97282c29a62d",
   "metadata": {},
   "outputs": [],
   "source": []
  },
  {
   "cell_type": "markdown",
   "id": "49ef73c7-d0e7-4b8e-9716-0f494ad59228",
   "metadata": {},
   "source": [
    "### Feature Selection with Correlation, Fold 5"
   ]
  },
  {
   "cell_type": "code",
   "execution_count": 87,
   "id": "337b37f6-4866-41f8-b2b9-c23859246a31",
   "metadata": {},
   "outputs": [
    {
     "data": {
      "image/png": "[encoded data removed]",
      "text/plain": [
       "Plot with title “Histogram of cor.vec”"
      ]
     },
     "metadata": {
      "image/png": {
       "height": 420,
       "width": 420
      }
     },
     "output_type": "display_data"
    }
   ],
   "source": [
    "cor.vec <- apply (my.data[,1:2000], 1, function (x){cor(x, aml.prognosis[1:2000])})\n",
    "hist (cor.vec)"
   ]
  },
  {
   "cell_type": "code",
   "execution_count": 88,
   "id": "2b37e0ed-9ff6-4491-855c-39bb8f885909",
   "metadata": {},
   "outputs": [
    {
     "data": {
      "text/html": [
       "<style>\n",
       ".dl-inline {width: auto; margin:0; padding: 0}\n",
       ".dl-inline>dt, .dl-inline>dd {float: none; width: auto; display: inline-block}\n",
       ".dl-inline>dt::after {content: \":\\0020\"; padding-right: .5ex}\n",
       ".dl-inline>dt:not(:first-of-type) {padding-left: .5ex}\n",
       "</style><dl class=dl-inline><dt>0%</dt><dd>-0.777077865051546</dd><dt>10%</dt><dd>-0.279836547179594</dd><dt>25%</dt><dd>-0.196082165300548</dd><dt>50%</dt><dd>-0.0643676359949342</dd><dt>75%</dt><dd>0.150324015486889</dd><dt>90%</dt><dd>0.319650934451393</dd><dt>100%</dt><dd>0.737648840590825</dd></dl>\n"
      ],
      "text/latex": [
       "\\begin{description*}\n",
       "\\item[0\\textbackslash{}\\%] -0.777077865051546\n",
       "\\item[10\\textbackslash{}\\%] -0.279836547179594\n",
       "\\item[25\\textbackslash{}\\%] -0.196082165300548\n",
       "\\item[50\\textbackslash{}\\%] -0.0643676359949342\n",
       "\\item[75\\textbackslash{}\\%] 0.150324015486889\n",
       "\\item[90\\textbackslash{}\\%] 0.319650934451393\n",
       "\\item[100\\textbackslash{}\\%] 0.737648840590825\n",
       "\\end{description*}\n"
      ],
      "text/markdown": [
       "0%\n",
       ":   -0.77707786505154610%\n",
       ":   -0.27983654717959425%\n",
       ":   -0.19608216530054850%\n",
       ":   -0.064367635994934275%\n",
       ":   0.15032401548688990%\n",
       ":   0.319650934451393100%\n",
       ":   0.737648840590825\n",
       "\n"
      ],
      "text/plain": [
       "         0%         10%         25%         50%         75%         90% \n",
       "-0.77707787 -0.27983655 -0.19608217 -0.06436764  0.15032402  0.31965093 \n",
       "       100% \n",
       " 0.73764884 "
      ]
     },
     "metadata": {},
     "output_type": "display_data"
    }
   ],
   "source": [
    "quantile (cor.vec, probs=c(0, 0.1, 0.25, 0.5, 0.75, 0.9, 1))"
   ]
  },
  {
   "cell_type": "code",
   "execution_count": 89,
   "id": "3f86e502-6967-4b1b-ac35-ac2cd303cee9",
   "metadata": {
    "jupyter": {
     "source_hidden": true
    },
    "tags": []
   },
   "outputs": [
    {
     "data": {
      "text/html": [
       "1459"
      ],
      "text/latex": [
       "1459"
      ],
      "text/markdown": [
       "1459"
      ],
      "text/plain": [
       "[1] 1459"
      ]
     },
     "metadata": {},
     "output_type": "display_data"
    },
    {
     "data": {
      "text/html": [
       "976"
      ],
      "text/latex": [
       "976"
      ],
      "text/markdown": [
       "976"
      ],
      "text/plain": [
       "[1] 976"
      ]
     },
     "metadata": {},
     "output_type": "display_data"
    },
    {
     "data": {
      "text/html": [
       "2435"
      ],
      "text/latex": [
       "2435"
      ],
      "text/markdown": [
       "2435"
      ],
      "text/plain": [
       "[1] 2435"
      ]
     },
     "metadata": {},
     "output_type": "display_data"
    }
   ],
   "source": [
    "#from nki_02_25\n",
    "sum (cor.vec > 0.3)\n",
    "sum (cor.vec < -0.3)\n",
    "gene.ind <- c(which(cor.vec > 0.3), which(cor.vec < -0.3))\n",
    "length (gene.ind)"
   ]
  },
  {
   "cell_type": "code",
   "execution_count": null,
   "id": "0b3a97f1-62ec-4540-9c49-7de5010cf56d",
   "metadata": {},
   "outputs": [],
   "source": []
  },
  {
   "cell_type": "code",
   "execution_count": 90,
   "id": "f43fab90-5bf3-46c7-9901-36e79aa39f62",
   "metadata": {},
   "outputs": [],
   "source": [
    "#put knn, random forest model here??"
   ]
  },
  {
   "cell_type": "code",
   "execution_count": 91,
   "id": "c8aca411-c153-456e-9c2e-753bd2245657",
   "metadata": {},
   "outputs": [],
   "source": [
    "# repeat knn using the subset of genes with high or low correlation with the class label\n",
    "# ret.knn2 <- knn (train=t(nki.impute$data[gene.ind, ]), test=t(nki2.impute$data[gene.ind, ]), cl=nki.prognosis, k=5)\n",
    "# ret.knn2"
   ]
  },
  {
   "cell_type": "code",
   "execution_count": 92,
   "id": "b4f05270-d857-427d-8172-d023959763e8",
   "metadata": {},
   "outputs": [],
   "source": [
    "# ret.knn <- knn (train =t(my.data[gene.ind,1:2000]), test=t(my.data[gene.ind,2001:2500]),cl=aml.prognosis[1:2000], k=5)"
   ]
  },
  {
   "cell_type": "code",
   "execution_count": 93,
   "id": "56d78b72-d15e-4275-993a-6b98fe72a080",
   "metadata": {},
   "outputs": [],
   "source": [
    "#table (ret.knn, aml.prognosis[2001:2500])"
   ]
  },
  {
   "cell_type": "code",
   "execution_count": null,
   "id": "5ce905f5-ea5f-4b25-b7e7-76151f16ad9b",
   "metadata": {},
   "outputs": [],
   "source": []
  },
  {
   "cell_type": "code",
   "execution_count": null,
   "id": "2e4bd54b-96cf-4b65-b9ad-c20b7d4835de",
   "metadata": {},
   "outputs": [],
   "source": []
  },
  {
   "cell_type": "code",
   "execution_count": null,
   "id": "99505b17-add0-4563-b935-249bd29c3e96",
   "metadata": {},
   "outputs": [],
   "source": []
  },
  {
   "cell_type": "markdown",
   "id": "bf998f1b-7868-4a3e-8ee5-6c1139bb5015",
   "metadata": {},
   "source": [
    "### Feature Selection with T-test, Fold 5"
   ]
  },
  {
   "cell_type": "code",
   "execution_count": 94,
   "id": "3c860058-ee6a-4ff7-a6b2-d367dfde0520",
   "metadata": {},
   "outputs": [],
   "source": [
    "zero.ind <- which(aml.prognosis[1:2000] == 0)\n",
    "one.ind <- which(aml.prognosis[1:2000] == 1)\n",
    "ttest.vec <- apply (my.data, 1, function (x){(t.test(x[one.ind] , x[zero.ind]))$p.value})"
   ]
  },
  {
   "cell_type": "code",
   "execution_count": 95,
   "id": "38325575-538d-4688-ae6e-0c7e848c82cb",
   "metadata": {},
   "outputs": [
    {
     "data": {
      "text/html": [
       "11385"
      ],
      "text/latex": [
       "11385"
      ],
      "text/markdown": [
       "11385"
      ],
      "text/plain": [
       "[1] 11385"
      ]
     },
     "metadata": {},
     "output_type": "display_data"
    },
    {
     "data": {
      "text/html": [
       "10950"
      ],
      "text/latex": [
       "10950"
      ],
      "text/markdown": [
       "10950"
      ],
      "text/plain": [
       "[1] 10950"
      ]
     },
     "metadata": {},
     "output_type": "display_data"
    },
    {
     "data": {
      "text/html": [
       "10021"
      ],
      "text/latex": [
       "10021"
      ],
      "text/markdown": [
       "10021"
      ],
      "text/plain": [
       "[1] 10021"
      ]
     },
     "metadata": {},
     "output_type": "display_data"
    },
    {
     "data": {
      "text/html": [
       "9527"
      ],
      "text/latex": [
       "9527"
      ],
      "text/markdown": [
       "9527"
      ],
      "text/plain": [
       "[1] 9527"
      ]
     },
     "metadata": {},
     "output_type": "display_data"
    },
    {
     "data": {
      "text/html": [
       "9280"
      ],
      "text/latex": [
       "9280"
      ],
      "text/markdown": [
       "9280"
      ],
      "text/plain": [
       "[1] 9280"
      ]
     },
     "metadata": {},
     "output_type": "display_data"
    },
    {
     "data": {
      "text/html": [
       "8586"
      ],
      "text/latex": [
       "8586"
      ],
      "text/markdown": [
       "8586"
      ],
      "text/plain": [
       "[1] 8586"
      ]
     },
     "metadata": {},
     "output_type": "display_data"
    }
   ],
   "source": [
    "sum (ttest.vec < 0.05)\n",
    "sum (ttest.vec < 0.01)\n",
    "sum (ttest.vec < 0.0001)\n",
    "adj.ttest.vec <- p.adjust (ttest.vec, method=\"bonferroni\")\n",
    "sum (adj.ttest.vec < 0.05)\n",
    "sum (adj.ttest.vec < 0.01)\n",
    "sum (adj.ttest.vec < 0.0001)"
   ]
  },
  {
   "cell_type": "code",
   "execution_count": 96,
   "id": "e95d2f53-7a71-4644-806c-2f639929b18c",
   "metadata": {},
   "outputs": [
    {
     "data": {
      "text/html": [
       "<style>\n",
       ".list-inline {list-style: none; margin:0; padding: 0}\n",
       ".list-inline>li {display: inline-block}\n",
       ".list-inline>li:not(:last-child)::after {content: \"\\00b7\"; padding: 0 .5ex}\n",
       "</style>\n",
       "<ol class=list-inline><li>407</li><li>1143</li><li>2853</li><li>3017</li><li>12146</li><li>12390</li><li>5604</li><li>12269</li><li>11334</li><li>7634</li><li>3098</li><li>2544</li><li>12624</li><li>3844</li><li>7012</li><li>9988</li><li>565</li><li>1360</li><li>3034</li><li>11900</li><li>9338</li><li>2027</li><li>3416</li><li>3047</li><li>2855</li><li>113</li><li>3621</li><li>11054</li><li>5945</li><li>2177</li><li>1578</li><li>9239</li><li>305</li><li>1497</li><li>4066</li><li>1522</li><li>5530</li><li>1413</li><li>8517</li><li>1106</li><li>2614</li><li>3733</li><li>6606</li><li>7587</li><li>7103</li><li>9129</li><li>8029</li><li>1488</li><li>4806</li><li>193</li><li>1804</li><li>2835</li><li>9639</li><li>389</li><li>5277</li><li>568</li><li>9387</li><li>10476</li><li>12169</li><li>1856</li><li>10837</li><li>7545</li><li>400</li><li>4895</li><li>4512</li><li>539</li><li>11460</li><li>3628</li><li>6958</li><li>9789</li><li>3764</li><li>4249</li><li>2304</li><li>302</li><li>7171</li><li>3035</li><li>1342</li><li>2303</li><li>553</li><li>5354</li><li>10774</li><li>11941</li><li>735</li><li>1780</li><li>283</li><li>9877</li><li>7078</li><li>2123</li><li>6207</li><li>2586</li><li>7194</li><li>399</li><li>3257</li><li>846</li><li>279</li><li>9626</li><li>4397</li><li>5586</li><li>10511</li><li>11390</li></ol>\n"
      ],
      "text/latex": [
       "\\begin{enumerate*}\n",
       "\\item 407\n",
       "\\item 1143\n",
       "\\item 2853\n",
       "\\item 3017\n",
       "\\item 12146\n",
       "\\item 12390\n",
       "\\item 5604\n",
       "\\item 12269\n",
       "\\item 11334\n",
       "\\item 7634\n",
       "\\item 3098\n",
       "\\item 2544\n",
       "\\item 12624\n",
       "\\item 3844\n",
       "\\item 7012\n",
       "\\item 9988\n",
       "\\item 565\n",
       "\\item 1360\n",
       "\\item 3034\n",
       "\\item 11900\n",
       "\\item 9338\n",
       "\\item 2027\n",
       "\\item 3416\n",
       "\\item 3047\n",
       "\\item 2855\n",
       "\\item 113\n",
       "\\item 3621\n",
       "\\item 11054\n",
       "\\item 5945\n",
       "\\item 2177\n",
       "\\item 1578\n",
       "\\item 9239\n",
       "\\item 305\n",
       "\\item 1497\n",
       "\\item 4066\n",
       "\\item 1522\n",
       "\\item 5530\n",
       "\\item 1413\n",
       "\\item 8517\n",
       "\\item 1106\n",
       "\\item 2614\n",
       "\\item 3733\n",
       "\\item 6606\n",
       "\\item 7587\n",
       "\\item 7103\n",
       "\\item 9129\n",
       "\\item 8029\n",
       "\\item 1488\n",
       "\\item 4806\n",
       "\\item 193\n",
       "\\item 1804\n",
       "\\item 2835\n",
       "\\item 9639\n",
       "\\item 389\n",
       "\\item 5277\n",
       "\\item 568\n",
       "\\item 9387\n",
       "\\item 10476\n",
       "\\item 12169\n",
       "\\item 1856\n",
       "\\item 10837\n",
       "\\item 7545\n",
       "\\item 400\n",
       "\\item 4895\n",
       "\\item 4512\n",
       "\\item 539\n",
       "\\item 11460\n",
       "\\item 3628\n",
       "\\item 6958\n",
       "\\item 9789\n",
       "\\item 3764\n",
       "\\item 4249\n",
       "\\item 2304\n",
       "\\item 302\n",
       "\\item 7171\n",
       "\\item 3035\n",
       "\\item 1342\n",
       "\\item 2303\n",
       "\\item 553\n",
       "\\item 5354\n",
       "\\item 10774\n",
       "\\item 11941\n",
       "\\item 735\n",
       "\\item 1780\n",
       "\\item 283\n",
       "\\item 9877\n",
       "\\item 7078\n",
       "\\item 2123\n",
       "\\item 6207\n",
       "\\item 2586\n",
       "\\item 7194\n",
       "\\item 399\n",
       "\\item 3257\n",
       "\\item 846\n",
       "\\item 279\n",
       "\\item 9626\n",
       "\\item 4397\n",
       "\\item 5586\n",
       "\\item 10511\n",
       "\\item 11390\n",
       "\\end{enumerate*}\n"
      ],
      "text/markdown": [
       "1. 407\n",
       "2. 1143\n",
       "3. 2853\n",
       "4. 3017\n",
       "5. 12146\n",
       "6. 12390\n",
       "7. 5604\n",
       "8. 12269\n",
       "9. 11334\n",
       "10. 7634\n",
       "11. 3098\n",
       "12. 2544\n",
       "13. 12624\n",
       "14. 3844\n",
       "15. 7012\n",
       "16. 9988\n",
       "17. 565\n",
       "18. 1360\n",
       "19. 3034\n",
       "20. 11900\n",
       "21. 9338\n",
       "22. 2027\n",
       "23. 3416\n",
       "24. 3047\n",
       "25. 2855\n",
       "26. 113\n",
       "27. 3621\n",
       "28. 11054\n",
       "29. 5945\n",
       "30. 2177\n",
       "31. 1578\n",
       "32. 9239\n",
       "33. 305\n",
       "34. 1497\n",
       "35. 4066\n",
       "36. 1522\n",
       "37. 5530\n",
       "38. 1413\n",
       "39. 8517\n",
       "40. 1106\n",
       "41. 2614\n",
       "42. 3733\n",
       "43. 6606\n",
       "44. 7587\n",
       "45. 7103\n",
       "46. 9129\n",
       "47. 8029\n",
       "48. 1488\n",
       "49. 4806\n",
       "50. 193\n",
       "51. 1804\n",
       "52. 2835\n",
       "53. 9639\n",
       "54. 389\n",
       "55. 5277\n",
       "56. 568\n",
       "57. 9387\n",
       "58. 10476\n",
       "59. 12169\n",
       "60. 1856\n",
       "61. 10837\n",
       "62. 7545\n",
       "63. 400\n",
       "64. 4895\n",
       "65. 4512\n",
       "66. 539\n",
       "67. 11460\n",
       "68. 3628\n",
       "69. 6958\n",
       "70. 9789\n",
       "71. 3764\n",
       "72. 4249\n",
       "73. 2304\n",
       "74. 302\n",
       "75. 7171\n",
       "76. 3035\n",
       "77. 1342\n",
       "78. 2303\n",
       "79. 553\n",
       "80. 5354\n",
       "81. 10774\n",
       "82. 11941\n",
       "83. 735\n",
       "84. 1780\n",
       "85. 283\n",
       "86. 9877\n",
       "87. 7078\n",
       "88. 2123\n",
       "89. 6207\n",
       "90. 2586\n",
       "91. 7194\n",
       "92. 399\n",
       "93. 3257\n",
       "94. 846\n",
       "95. 279\n",
       "96. 9626\n",
       "97. 4397\n",
       "98. 5586\n",
       "99. 10511\n",
       "100. 11390\n",
       "\n",
       "\n"
      ],
      "text/plain": [
       "  [1]   407  1143  2853  3017 12146 12390  5604 12269 11334  7634  3098  2544\n",
       " [13] 12624  3844  7012  9988   565  1360  3034 11900  9338  2027  3416  3047\n",
       " [25]  2855   113  3621 11054  5945  2177  1578  9239   305  1497  4066  1522\n",
       " [37]  5530  1413  8517  1106  2614  3733  6606  7587  7103  9129  8029  1488\n",
       " [49]  4806   193  1804  2835  9639   389  5277   568  9387 10476 12169  1856\n",
       " [61] 10837  7545   400  4895  4512   539 11460  3628  6958  9789  3764  4249\n",
       " [73]  2304   302  7171  3035  1342  2303   553  5354 10774 11941   735  1780\n",
       " [85]   283  9877  7078  2123  6207  2586  7194   399  3257   846   279  9626\n",
       " [97]  4397  5586 10511 11390"
      ]
     },
     "metadata": {},
     "output_type": "display_data"
    }
   ],
   "source": [
    "ret.order <- order (ttest.vec)\n",
    "#100 genes with lowest pvalues\n",
    "gene.ind2 <- ret.order[1:100]\n",
    "gene.ind2"
   ]
  },
  {
   "cell_type": "code",
   "execution_count": 97,
   "id": "afd76138-c8a9-462b-bdac-711c741f43cc",
   "metadata": {},
   "outputs": [],
   "source": [
    "# ret.knn <- knn (train =t(my.data[gene.ind2,1:2000]), test=t(my.data[gene.ind2,2001:2500]),cl=aml.prognosis[1:2000], k=5)"
   ]
  },
  {
   "cell_type": "code",
   "execution_count": 98,
   "id": "4dafdddf-92f1-427d-9d87-078021e7ab48",
   "metadata": {
    "tags": []
   },
   "outputs": [],
   "source": [
    "#table (ret.knn, aml.prognosis[2001:2500])"
   ]
  },
  {
   "cell_type": "code",
   "execution_count": 99,
   "id": "e808179f-a0c9-4789-90a4-e25086663c09",
   "metadata": {},
   "outputs": [],
   "source": [
    "top.genes <- rownames(data.1)[gene.ind2]"
   ]
  },
  {
   "cell_type": "code",
   "execution_count": 100,
   "id": "3d3efbef-1520-41b2-803d-b6c86e06eaf9",
   "metadata": {},
   "outputs": [
    {
     "data": {
      "text/html": [
       "<style>\n",
       ".list-inline {list-style: none; margin:0; padding: 0}\n",
       ".list-inline>li {display: inline-block}\n",
       ".list-inline>li:not(:last-child)::after {content: \"\\00b7\"; padding: 0 .5ex}\n",
       "</style>\n",
       "<ol class=list-inline><li>'CREG1'</li><li>'ERLIN1'</li><li>'CD79A'</li><li>'POU2AF1'</li><li>'LEF1'</li><li>'PAX5'</li><li>'PLAGL1'</li><li>'FAM46A'</li><li>'ATP8B4'</li><li>'SERPINB1'</li><li>'CFD'</li><li>'CD22'</li><li>'TCL1A'</li><li>'CD19'</li><li>'SPART'</li><li>'IGF2BP2'</li><li>'QSOX1'</li><li>'MAPKAPK3'</li><li>'CD79B'</li><li>'BACH2'</li><li>'MFSD1'</li><li>'LY75-CD302'</li><li>'TMED9'</li><li>'SNTB2'</li><li>'KIT'</li><li>'CTSA'</li><li>'RNASE2'</li><li>'VPREB3'</li><li>'FUT4'</li><li>'CEBPA'</li><li>'IMPA2'</li><li>'HSD17B11'</li><li>'ANXA1'</li><li>'LTBR'</li><li>'TFEC'</li><li>'LAMP2'</li><li>'MBOAT7'</li><li>'FAH'</li><li>'CD72'</li><li>'LEPROT'</li><li>'ISG20'</li><li>'BLK'</li><li>'LRIG1'</li><li>'KCTD7'</li><li>'PIK3CB'</li><li>'ARL8B'</li><li>'AZU1'</li><li>'PYGL'</li><li>'ID3'</li><li>'ZYX'</li><li>'PLEK'</li><li>'ARL4A'</li><li>'HEBP1'</li><li>'IGFBP7'</li><li>'DDOST'</li><li>'CTSC'</li><li>'COQ8A'</li><li>'NEIL1'</li><li>'FCMR'</li><li>'ZHX2'</li><li>'GAL3ST4'</li><li>'RPN2'</li><li>'ITPR3'</li><li>'CITED2'</li><li>'LTB'</li><li>'PTDSS1'</li><li>'BCAS4'</li><li>'CD33'</li><li>'KIAA0368'</li><li>'FNDC3B'</li><li>'IL18'</li><li>'KLF12'</li><li>'TMEM243'</li><li>'HADHB'</li><li>'C1orf216'</li><li>'BTN2A2'</li><li>'SYNE2'</li><li>'RAB32'</li><li>'TALDO1'</li><li>'TMED3'</li><li>'PCDH9'</li><li>'MZB1'</li><li>'HEXA'</li><li>'MME'</li><li>'ACTA2'</li><li>'PDGFC'</li><li>'HIVEP2'</li><li>'MPO'</li><li>'LY9'</li><li>'HOMER3'</li><li>'IGHM'</li><li>'LRPAP1'</li><li>'DIAPH2'</li><li>'ALCAM'</li><li>'ALDOA'</li><li>'SIL1'</li><li>'DDR1'</li><li>'PRKD2'</li><li>'CTC1'</li><li>'TMEM164'</li></ol>\n"
      ],
      "text/latex": [
       "\\begin{enumerate*}\n",
       "\\item 'CREG1'\n",
       "\\item 'ERLIN1'\n",
       "\\item 'CD79A'\n",
       "\\item 'POU2AF1'\n",
       "\\item 'LEF1'\n",
       "\\item 'PAX5'\n",
       "\\item 'PLAGL1'\n",
       "\\item 'FAM46A'\n",
       "\\item 'ATP8B4'\n",
       "\\item 'SERPINB1'\n",
       "\\item 'CFD'\n",
       "\\item 'CD22'\n",
       "\\item 'TCL1A'\n",
       "\\item 'CD19'\n",
       "\\item 'SPART'\n",
       "\\item 'IGF2BP2'\n",
       "\\item 'QSOX1'\n",
       "\\item 'MAPKAPK3'\n",
       "\\item 'CD79B'\n",
       "\\item 'BACH2'\n",
       "\\item 'MFSD1'\n",
       "\\item 'LY75-CD302'\n",
       "\\item 'TMED9'\n",
       "\\item 'SNTB2'\n",
       "\\item 'KIT'\n",
       "\\item 'CTSA'\n",
       "\\item 'RNASE2'\n",
       "\\item 'VPREB3'\n",
       "\\item 'FUT4'\n",
       "\\item 'CEBPA'\n",
       "\\item 'IMPA2'\n",
       "\\item 'HSD17B11'\n",
       "\\item 'ANXA1'\n",
       "\\item 'LTBR'\n",
       "\\item 'TFEC'\n",
       "\\item 'LAMP2'\n",
       "\\item 'MBOAT7'\n",
       "\\item 'FAH'\n",
       "\\item 'CD72'\n",
       "\\item 'LEPROT'\n",
       "\\item 'ISG20'\n",
       "\\item 'BLK'\n",
       "\\item 'LRIG1'\n",
       "\\item 'KCTD7'\n",
       "\\item 'PIK3CB'\n",
       "\\item 'ARL8B'\n",
       "\\item 'AZU1'\n",
       "\\item 'PYGL'\n",
       "\\item 'ID3'\n",
       "\\item 'ZYX'\n",
       "\\item 'PLEK'\n",
       "\\item 'ARL4A'\n",
       "\\item 'HEBP1'\n",
       "\\item 'IGFBP7'\n",
       "\\item 'DDOST'\n",
       "\\item 'CTSC'\n",
       "\\item 'COQ8A'\n",
       "\\item 'NEIL1'\n",
       "\\item 'FCMR'\n",
       "\\item 'ZHX2'\n",
       "\\item 'GAL3ST4'\n",
       "\\item 'RPN2'\n",
       "\\item 'ITPR3'\n",
       "\\item 'CITED2'\n",
       "\\item 'LTB'\n",
       "\\item 'PTDSS1'\n",
       "\\item 'BCAS4'\n",
       "\\item 'CD33'\n",
       "\\item 'KIAA0368'\n",
       "\\item 'FNDC3B'\n",
       "\\item 'IL18'\n",
       "\\item 'KLF12'\n",
       "\\item 'TMEM243'\n",
       "\\item 'HADHB'\n",
       "\\item 'C1orf216'\n",
       "\\item 'BTN2A2'\n",
       "\\item 'SYNE2'\n",
       "\\item 'RAB32'\n",
       "\\item 'TALDO1'\n",
       "\\item 'TMED3'\n",
       "\\item 'PCDH9'\n",
       "\\item 'MZB1'\n",
       "\\item 'HEXA'\n",
       "\\item 'MME'\n",
       "\\item 'ACTA2'\n",
       "\\item 'PDGFC'\n",
       "\\item 'HIVEP2'\n",
       "\\item 'MPO'\n",
       "\\item 'LY9'\n",
       "\\item 'HOMER3'\n",
       "\\item 'IGHM'\n",
       "\\item 'LRPAP1'\n",
       "\\item 'DIAPH2'\n",
       "\\item 'ALCAM'\n",
       "\\item 'ALDOA'\n",
       "\\item 'SIL1'\n",
       "\\item 'DDR1'\n",
       "\\item 'PRKD2'\n",
       "\\item 'CTC1'\n",
       "\\item 'TMEM164'\n",
       "\\end{enumerate*}\n"
      ],
      "text/markdown": [
       "1. 'CREG1'\n",
       "2. 'ERLIN1'\n",
       "3. 'CD79A'\n",
       "4. 'POU2AF1'\n",
       "5. 'LEF1'\n",
       "6. 'PAX5'\n",
       "7. 'PLAGL1'\n",
       "8. 'FAM46A'\n",
       "9. 'ATP8B4'\n",
       "10. 'SERPINB1'\n",
       "11. 'CFD'\n",
       "12. 'CD22'\n",
       "13. 'TCL1A'\n",
       "14. 'CD19'\n",
       "15. 'SPART'\n",
       "16. 'IGF2BP2'\n",
       "17. 'QSOX1'\n",
       "18. 'MAPKAPK3'\n",
       "19. 'CD79B'\n",
       "20. 'BACH2'\n",
       "21. 'MFSD1'\n",
       "22. 'LY75-CD302'\n",
       "23. 'TMED9'\n",
       "24. 'SNTB2'\n",
       "25. 'KIT'\n",
       "26. 'CTSA'\n",
       "27. 'RNASE2'\n",
       "28. 'VPREB3'\n",
       "29. 'FUT4'\n",
       "30. 'CEBPA'\n",
       "31. 'IMPA2'\n",
       "32. 'HSD17B11'\n",
       "33. 'ANXA1'\n",
       "34. 'LTBR'\n",
       "35. 'TFEC'\n",
       "36. 'LAMP2'\n",
       "37. 'MBOAT7'\n",
       "38. 'FAH'\n",
       "39. 'CD72'\n",
       "40. 'LEPROT'\n",
       "41. 'ISG20'\n",
       "42. 'BLK'\n",
       "43. 'LRIG1'\n",
       "44. 'KCTD7'\n",
       "45. 'PIK3CB'\n",
       "46. 'ARL8B'\n",
       "47. 'AZU1'\n",
       "48. 'PYGL'\n",
       "49. 'ID3'\n",
       "50. 'ZYX'\n",
       "51. 'PLEK'\n",
       "52. 'ARL4A'\n",
       "53. 'HEBP1'\n",
       "54. 'IGFBP7'\n",
       "55. 'DDOST'\n",
       "56. 'CTSC'\n",
       "57. 'COQ8A'\n",
       "58. 'NEIL1'\n",
       "59. 'FCMR'\n",
       "60. 'ZHX2'\n",
       "61. 'GAL3ST4'\n",
       "62. 'RPN2'\n",
       "63. 'ITPR3'\n",
       "64. 'CITED2'\n",
       "65. 'LTB'\n",
       "66. 'PTDSS1'\n",
       "67. 'BCAS4'\n",
       "68. 'CD33'\n",
       "69. 'KIAA0368'\n",
       "70. 'FNDC3B'\n",
       "71. 'IL18'\n",
       "72. 'KLF12'\n",
       "73. 'TMEM243'\n",
       "74. 'HADHB'\n",
       "75. 'C1orf216'\n",
       "76. 'BTN2A2'\n",
       "77. 'SYNE2'\n",
       "78. 'RAB32'\n",
       "79. 'TALDO1'\n",
       "80. 'TMED3'\n",
       "81. 'PCDH9'\n",
       "82. 'MZB1'\n",
       "83. 'HEXA'\n",
       "84. 'MME'\n",
       "85. 'ACTA2'\n",
       "86. 'PDGFC'\n",
       "87. 'HIVEP2'\n",
       "88. 'MPO'\n",
       "89. 'LY9'\n",
       "90. 'HOMER3'\n",
       "91. 'IGHM'\n",
       "92. 'LRPAP1'\n",
       "93. 'DIAPH2'\n",
       "94. 'ALCAM'\n",
       "95. 'ALDOA'\n",
       "96. 'SIL1'\n",
       "97. 'DDR1'\n",
       "98. 'PRKD2'\n",
       "99. 'CTC1'\n",
       "100. 'TMEM164'\n",
       "\n",
       "\n"
      ],
      "text/plain": [
       "  [1] \"CREG1\"      \"ERLIN1\"     \"CD79A\"      \"POU2AF1\"    \"LEF1\"      \n",
       "  [6] \"PAX5\"       \"PLAGL1\"     \"FAM46A\"     \"ATP8B4\"     \"SERPINB1\"  \n",
       " [11] \"CFD\"        \"CD22\"       \"TCL1A\"      \"CD19\"       \"SPART\"     \n",
       " [16] \"IGF2BP2\"    \"QSOX1\"      \"MAPKAPK3\"   \"CD79B\"      \"BACH2\"     \n",
       " [21] \"MFSD1\"      \"LY75-CD302\" \"TMED9\"      \"SNTB2\"      \"KIT\"       \n",
       " [26] \"CTSA\"       \"RNASE2\"     \"VPREB3\"     \"FUT4\"       \"CEBPA\"     \n",
       " [31] \"IMPA2\"      \"HSD17B11\"   \"ANXA1\"      \"LTBR\"       \"TFEC\"      \n",
       " [36] \"LAMP2\"      \"MBOAT7\"     \"FAH\"        \"CD72\"       \"LEPROT\"    \n",
       " [41] \"ISG20\"      \"BLK\"        \"LRIG1\"      \"KCTD7\"      \"PIK3CB\"    \n",
       " [46] \"ARL8B\"      \"AZU1\"       \"PYGL\"       \"ID3\"        \"ZYX\"       \n",
       " [51] \"PLEK\"       \"ARL4A\"      \"HEBP1\"      \"IGFBP7\"     \"DDOST\"     \n",
       " [56] \"CTSC\"       \"COQ8A\"      \"NEIL1\"      \"FCMR\"       \"ZHX2\"      \n",
       " [61] \"GAL3ST4\"    \"RPN2\"       \"ITPR3\"      \"CITED2\"     \"LTB\"       \n",
       " [66] \"PTDSS1\"     \"BCAS4\"      \"CD33\"       \"KIAA0368\"   \"FNDC3B\"    \n",
       " [71] \"IL18\"       \"KLF12\"      \"TMEM243\"    \"HADHB\"      \"C1orf216\"  \n",
       " [76] \"BTN2A2\"     \"SYNE2\"      \"RAB32\"      \"TALDO1\"     \"TMED3\"     \n",
       " [81] \"PCDH9\"      \"MZB1\"       \"HEXA\"       \"MME\"        \"ACTA2\"     \n",
       " [86] \"PDGFC\"      \"HIVEP2\"     \"MPO\"        \"LY9\"        \"HOMER3\"    \n",
       " [91] \"IGHM\"       \"LRPAP1\"     \"DIAPH2\"     \"ALCAM\"      \"ALDOA\"     \n",
       " [96] \"SIL1\"       \"DDR1\"       \"PRKD2\"      \"CTC1\"       \"TMEM164\"   "
      ]
     },
     "metadata": {},
     "output_type": "display_data"
    }
   ],
   "source": [
    "top.genes"
   ]
  },
  {
   "cell_type": "markdown",
   "id": "d6e19198-03d6-41da-9f85-11a922af2460",
   "metadata": {},
   "source": [
    "# Clustering Patients - Columns"
   ]
  },
  {
   "cell_type": "code",
   "execution_count": 101,
   "id": "45b55fb8-83ff-493d-9f03-1cdcce33915b",
   "metadata": {},
   "outputs": [
    {
     "data": {
      "text/html": [
       "<style>\n",
       ".list-inline {list-style: none; margin:0; padding: 0}\n",
       ".list-inline>li {display: inline-block}\n",
       ".list-inline>li:not(:last-child)::after {content: \"\\00b7\"; padding: 0 .5ex}\n",
       "</style>\n",
       "<ol class=list-inline><li>100</li><li>986</li></ol>\n"
      ],
      "text/latex": [
       "\\begin{enumerate*}\n",
       "\\item 100\n",
       "\\item 986\n",
       "\\end{enumerate*}\n"
      ],
      "text/markdown": [
       "1. 100\n",
       "2. 986\n",
       "\n",
       "\n"
      ],
      "text/plain": [
       "[1] 100 986"
      ]
     },
     "metadata": {},
     "output_type": "display_data"
    },
    {
     "data": {
      "text/html": [
       "<style>\n",
       ".list-inline {list-style: none; margin:0; padding: 0}\n",
       ".list-inline>li {display: inline-block}\n",
       ".list-inline>li:not(:last-child)::after {content: \"\\00b7\"; padding: 0 .5ex}\n",
       "</style>\n",
       "<ol class=list-inline><li>100</li><li>1514</li></ol>\n"
      ],
      "text/latex": [
       "\\begin{enumerate*}\n",
       "\\item 100\n",
       "\\item 1514\n",
       "\\end{enumerate*}\n"
      ],
      "text/markdown": [
       "1. 100\n",
       "2. 1514\n",
       "\n",
       "\n"
      ],
      "text/plain": [
       "[1]  100 1514"
      ]
     },
     "metadata": {},
     "output_type": "display_data"
    }
   ],
   "source": [
    "aml.mat <- data.1[gene.ind2,aml.ind]\n",
    "non.aml.mat <- data.1[gene.ind2,non.aml.ind]\n",
    "mat <- data.1[gene.ind2,]\n",
    "dim(aml.mat)\n",
    "dim(non.aml.mat)"
   ]
  },
  {
   "cell_type": "code",
   "execution_count": 138,
   "id": "cf156851-15d0-4276-ab08-18292db716d8",
   "metadata": {},
   "outputs": [],
   "source": [
    "new.mat <- mat[,c(aml.ind,non.aml.ind)]"
   ]
  },
  {
   "cell_type": "markdown",
   "id": "b8f67e54-84dd-4cc8-9fa2-6a6183d45c96",
   "metadata": {},
   "source": [
    "## Clustering using euclidean distance"
   ]
  },
  {
   "cell_type": "code",
   "execution_count": 116,
   "id": "8779873e-119c-40c1-8275-be337905bf14",
   "metadata": {},
   "outputs": [],
   "source": [
    "# compute the pairwise Euclidean distance between all pairs of genes\n",
    "d <- dist (mat, method=\"euclidean\")"
   ]
  },
  {
   "cell_type": "code",
   "execution_count": 135,
   "id": "4f5507e2-79c3-4bbb-8615-38b516789a98",
   "metadata": {},
   "outputs": [
    {
     "data": {
      "text/html": [
       "<style>\n",
       ".list-inline {list-style: none; margin:0; padding: 0}\n",
       ".list-inline>li {display: inline-block}\n",
       ".list-inline>li:not(:last-child)::after {content: \"\\00b7\"; padding: 0 .5ex}\n",
       "</style>\n",
       "<ol class=list-inline><li>1</li><li>1</li><li>2</li><li>2</li><li>2</li><li>2</li><li>2</li><li>1</li><li>2</li><li>1</li><li>1</li><li>2</li><li>2</li><li>2</li><li>2</li><li>2</li><li>1</li><li>1</li><li>2</li><li>2</li><li>1</li><li>1</li><li>1</li><li>2</li><li>1</li><li>1</li><li>1</li><li>2</li><li>1</li><li>1</li><li>1</li><li>1</li><li>1</li><li>2</li><li>2</li><li>1</li><li>1</li><li>2</li><li>2</li><li>1</li><li>2</li><li>2</li><li>2</li><li>2</li><li>2</li><li>1</li><li>1</li><li>2</li><li>2</li><li>1</li><li>1</li><li>1</li><li>1</li><li>1</li><li>1</li><li>1</li><li>1</li><li>2</li><li>1</li><li>2</li><li>2</li><li>1</li><li>2</li><li>1</li><li>1</li><li>1</li><li>2</li><li>1</li><li>2</li><li>2</li><li>2</li><li>2</li><li>2</li><li>1</li><li>2</li><li>2</li><li>2</li><li>1</li><li>1</li><li>2</li><li>2</li><li>2</li><li>1</li><li>2</li><li>2</li><li>2</li><li>2</li><li>1</li><li>2</li><li>2</li><li>1</li><li>1</li><li>2</li><li>1</li><li>1</li><li>2</li><li>2</li><li>2</li><li>2</li><li>1</li></ol>\n"
      ],
      "text/latex": [
       "\\begin{enumerate*}\n",
       "\\item 1\n",
       "\\item 1\n",
       "\\item 2\n",
       "\\item 2\n",
       "\\item 2\n",
       "\\item 2\n",
       "\\item 2\n",
       "\\item 1\n",
       "\\item 2\n",
       "\\item 1\n",
       "\\item 1\n",
       "\\item 2\n",
       "\\item 2\n",
       "\\item 2\n",
       "\\item 2\n",
       "\\item 2\n",
       "\\item 1\n",
       "\\item 1\n",
       "\\item 2\n",
       "\\item 2\n",
       "\\item 1\n",
       "\\item 1\n",
       "\\item 1\n",
       "\\item 2\n",
       "\\item 1\n",
       "\\item 1\n",
       "\\item 1\n",
       "\\item 2\n",
       "\\item 1\n",
       "\\item 1\n",
       "\\item 1\n",
       "\\item 1\n",
       "\\item 1\n",
       "\\item 2\n",
       "\\item 2\n",
       "\\item 1\n",
       "\\item 1\n",
       "\\item 2\n",
       "\\item 2\n",
       "\\item 1\n",
       "\\item 2\n",
       "\\item 2\n",
       "\\item 2\n",
       "\\item 2\n",
       "\\item 2\n",
       "\\item 1\n",
       "\\item 1\n",
       "\\item 2\n",
       "\\item 2\n",
       "\\item 1\n",
       "\\item 1\n",
       "\\item 1\n",
       "\\item 1\n",
       "\\item 1\n",
       "\\item 1\n",
       "\\item 1\n",
       "\\item 1\n",
       "\\item 2\n",
       "\\item 1\n",
       "\\item 2\n",
       "\\item 2\n",
       "\\item 1\n",
       "\\item 2\n",
       "\\item 1\n",
       "\\item 1\n",
       "\\item 1\n",
       "\\item 2\n",
       "\\item 1\n",
       "\\item 2\n",
       "\\item 2\n",
       "\\item 2\n",
       "\\item 2\n",
       "\\item 2\n",
       "\\item 1\n",
       "\\item 2\n",
       "\\item 2\n",
       "\\item 2\n",
       "\\item 1\n",
       "\\item 1\n",
       "\\item 2\n",
       "\\item 2\n",
       "\\item 2\n",
       "\\item 1\n",
       "\\item 2\n",
       "\\item 2\n",
       "\\item 2\n",
       "\\item 2\n",
       "\\item 1\n",
       "\\item 2\n",
       "\\item 2\n",
       "\\item 1\n",
       "\\item 1\n",
       "\\item 2\n",
       "\\item 1\n",
       "\\item 1\n",
       "\\item 2\n",
       "\\item 2\n",
       "\\item 2\n",
       "\\item 2\n",
       "\\item 1\n",
       "\\end{enumerate*}\n"
      ],
      "text/markdown": [
       "1. 1\n",
       "2. 1\n",
       "3. 2\n",
       "4. 2\n",
       "5. 2\n",
       "6. 2\n",
       "7. 2\n",
       "8. 1\n",
       "9. 2\n",
       "10. 1\n",
       "11. 1\n",
       "12. 2\n",
       "13. 2\n",
       "14. 2\n",
       "15. 2\n",
       "16. 2\n",
       "17. 1\n",
       "18. 1\n",
       "19. 2\n",
       "20. 2\n",
       "21. 1\n",
       "22. 1\n",
       "23. 1\n",
       "24. 2\n",
       "25. 1\n",
       "26. 1\n",
       "27. 1\n",
       "28. 2\n",
       "29. 1\n",
       "30. 1\n",
       "31. 1\n",
       "32. 1\n",
       "33. 1\n",
       "34. 2\n",
       "35. 2\n",
       "36. 1\n",
       "37. 1\n",
       "38. 2\n",
       "39. 2\n",
       "40. 1\n",
       "41. 2\n",
       "42. 2\n",
       "43. 2\n",
       "44. 2\n",
       "45. 2\n",
       "46. 1\n",
       "47. 1\n",
       "48. 2\n",
       "49. 2\n",
       "50. 1\n",
       "51. 1\n",
       "52. 1\n",
       "53. 1\n",
       "54. 1\n",
       "55. 1\n",
       "56. 1\n",
       "57. 1\n",
       "58. 2\n",
       "59. 1\n",
       "60. 2\n",
       "61. 2\n",
       "62. 1\n",
       "63. 2\n",
       "64. 1\n",
       "65. 1\n",
       "66. 1\n",
       "67. 2\n",
       "68. 1\n",
       "69. 2\n",
       "70. 2\n",
       "71. 2\n",
       "72. 2\n",
       "73. 2\n",
       "74. 1\n",
       "75. 2\n",
       "76. 2\n",
       "77. 2\n",
       "78. 1\n",
       "79. 1\n",
       "80. 2\n",
       "81. 2\n",
       "82. 2\n",
       "83. 1\n",
       "84. 2\n",
       "85. 2\n",
       "86. 2\n",
       "87. 2\n",
       "88. 1\n",
       "89. 2\n",
       "90. 2\n",
       "91. 1\n",
       "92. 1\n",
       "93. 2\n",
       "94. 1\n",
       "95. 1\n",
       "96. 2\n",
       "97. 2\n",
       "98. 2\n",
       "99. 2\n",
       "100. 1\n",
       "\n",
       "\n"
      ],
      "text/plain": [
       "  [1] 1 1 2 2 2 2 2 1 2 1 1 2 2 2 2 2 1 1 2 2 1 1 1 2 1 1 1 2 1 1 1 1 1 2 2 1 1\n",
       " [38] 2 2 1 2 2 2 2 2 1 1 2 2 1 1 1 1 1 1 1 1 2 1 2 2 1 2 1 1 1 2 1 2 2 2 2 2 1\n",
       " [75] 2 2 2 1 1 2 2 2 1 2 2 2 2 1 2 2 1 1 2 1 1 2 2 2 2 1"
      ]
     },
     "metadata": {},
     "output_type": "display_data"
    }
   ],
   "source": [
    "# using rclust for rand.index later\n",
    "ret.hclust1 <- rclust (d, clusters=2, runs=10)\n",
    "ret.hclust1"
   ]
  },
  {
   "cell_type": "markdown",
   "id": "436ad595-05cf-4b3d-9644-f067eb7fc69d",
   "metadata": {},
   "source": [
    "### AML vs NON AML Heatmap Euclidean Distance"
   ]
  },
  {
   "cell_type": "code",
   "execution_count": 141,
   "id": "93a917d7-0c0a-4c81-8217-ce88c805561a",
   "metadata": {},
   "outputs": [
    {
     "data": {
      "image/png": "[encoded data removed]",
      "text/plain": [
       "plot without title"
      ]
     },
     "metadata": {
      "image/png": {
       "height": 420,
       "width": 420
      }
     },
     "output_type": "display_data"
    }
   ],
   "source": [
    "heatmap (as.matrix(mat),Rowv=NA)"
   ]
  },
  {
   "cell_type": "markdown",
   "id": "d2be45cb-5049-4a2d-86c8-8eb03044f84b",
   "metadata": {},
   "source": [
    "### AML vs NON AML Heatmap Euclidean Distance w/ cols in AML vs NON AML"
   ]
  },
  {
   "cell_type": "code",
   "execution_count": 142,
   "id": "e0cff1ba-a7c0-4924-90b5-0139cf1fa0d3",
   "metadata": {},
   "outputs": [
    {
     "data": {
      "image/png": "[encoded data removed]",
      "text/plain": [
       "plot without title"
      ]
     },
     "metadata": {
      "image/png": {
       "height": 420,
       "width": 420
      }
     },
     "output_type": "display_data"
    }
   ],
   "source": [
    "heatmap (as.matrix(new.mat),Rowv=NA,Colv=NA)"
   ]
  },
  {
   "cell_type": "markdown",
   "id": "7586cd17-3e85-41d8-abec-32a4ff6f055c",
   "metadata": {},
   "source": [
    "## Clustering using correlation"
   ]
  },
  {
   "cell_type": "code",
   "execution_count": 110,
   "id": "11d1e582-7b32-4f2c-9741-f9f21342293b",
   "metadata": {},
   "outputs": [],
   "source": [
    "newdist <- function (x) {as.dist ((1 - cor(t(x)))/2)}"
   ]
  },
  {
   "cell_type": "code",
   "execution_count": 118,
   "id": "48a70835-3908-4210-bcb1-200b19dad301",
   "metadata": {},
   "outputs": [],
   "source": [
    "# use correlations as distances\n",
    "dd <- as.dist ((1 - cor(t(mat)))/2)"
   ]
  },
  {
   "cell_type": "code",
   "execution_count": 134,
   "id": "8460f008-b30d-48eb-9c13-5bb5d14a8936",
   "metadata": {},
   "outputs": [
    {
     "data": {
      "text/html": [
       "<style>\n",
       ".list-inline {list-style: none; margin:0; padding: 0}\n",
       ".list-inline>li {display: inline-block}\n",
       ".list-inline>li:not(:last-child)::after {content: \"\\00b7\"; padding: 0 .5ex}\n",
       "</style>\n",
       "<ol class=list-inline><li>1</li><li>1</li><li>2</li><li>2</li><li>2</li><li>2</li><li>1</li><li>1</li><li>1</li><li>1</li><li>1</li><li>2</li><li>2</li><li>2</li><li>1</li><li>1</li><li>1</li><li>1</li><li>2</li><li>2</li><li>1</li><li>1</li><li>1</li><li>2</li><li>1</li><li>1</li><li>1</li><li>2</li><li>1</li><li>1</li><li>1</li><li>1</li><li>1</li><li>1</li><li>1</li><li>1</li><li>1</li><li>1</li><li>2</li><li>1</li><li>2</li><li>2</li><li>2</li><li>2</li><li>1</li><li>1</li><li>1</li><li>1</li><li>2</li><li>1</li><li>1</li><li>1</li><li>1</li><li>1</li><li>1</li><li>1</li><li>1</li><li>2</li><li>2</li><li>2</li><li>2</li><li>1</li><li>2</li><li>1</li><li>2</li><li>1</li><li>2</li><li>1</li><li>1</li><li>1</li><li>1</li><li>2</li><li>2</li><li>1</li><li>1</li><li>2</li><li>2</li><li>1</li><li>1</li><li>1</li><li>2</li><li>2</li><li>1</li><li>2</li><li>1</li><li>1</li><li>2</li><li>1</li><li>2</li><li>1</li><li>2</li><li>1</li><li>1</li><li>1</li><li>1</li><li>1</li><li>2</li><li>2</li><li>2</li><li>1</li></ol>\n"
      ],
      "text/latex": [
       "\\begin{enumerate*}\n",
       "\\item 1\n",
       "\\item 1\n",
       "\\item 2\n",
       "\\item 2\n",
       "\\item 2\n",
       "\\item 2\n",
       "\\item 1\n",
       "\\item 1\n",
       "\\item 1\n",
       "\\item 1\n",
       "\\item 1\n",
       "\\item 2\n",
       "\\item 2\n",
       "\\item 2\n",
       "\\item 1\n",
       "\\item 1\n",
       "\\item 1\n",
       "\\item 1\n",
       "\\item 2\n",
       "\\item 2\n",
       "\\item 1\n",
       "\\item 1\n",
       "\\item 1\n",
       "\\item 2\n",
       "\\item 1\n",
       "\\item 1\n",
       "\\item 1\n",
       "\\item 2\n",
       "\\item 1\n",
       "\\item 1\n",
       "\\item 1\n",
       "\\item 1\n",
       "\\item 1\n",
       "\\item 1\n",
       "\\item 1\n",
       "\\item 1\n",
       "\\item 1\n",
       "\\item 1\n",
       "\\item 2\n",
       "\\item 1\n",
       "\\item 2\n",
       "\\item 2\n",
       "\\item 2\n",
       "\\item 2\n",
       "\\item 1\n",
       "\\item 1\n",
       "\\item 1\n",
       "\\item 1\n",
       "\\item 2\n",
       "\\item 1\n",
       "\\item 1\n",
       "\\item 1\n",
       "\\item 1\n",
       "\\item 1\n",
       "\\item 1\n",
       "\\item 1\n",
       "\\item 1\n",
       "\\item 2\n",
       "\\item 2\n",
       "\\item 2\n",
       "\\item 2\n",
       "\\item 1\n",
       "\\item 2\n",
       "\\item 1\n",
       "\\item 2\n",
       "\\item 1\n",
       "\\item 2\n",
       "\\item 1\n",
       "\\item 1\n",
       "\\item 1\n",
       "\\item 1\n",
       "\\item 2\n",
       "\\item 2\n",
       "\\item 1\n",
       "\\item 1\n",
       "\\item 2\n",
       "\\item 2\n",
       "\\item 1\n",
       "\\item 1\n",
       "\\item 1\n",
       "\\item 2\n",
       "\\item 2\n",
       "\\item 1\n",
       "\\item 2\n",
       "\\item 1\n",
       "\\item 1\n",
       "\\item 2\n",
       "\\item 1\n",
       "\\item 2\n",
       "\\item 1\n",
       "\\item 2\n",
       "\\item 1\n",
       "\\item 1\n",
       "\\item 1\n",
       "\\item 1\n",
       "\\item 1\n",
       "\\item 2\n",
       "\\item 2\n",
       "\\item 2\n",
       "\\item 1\n",
       "\\end{enumerate*}\n"
      ],
      "text/markdown": [
       "1. 1\n",
       "2. 1\n",
       "3. 2\n",
       "4. 2\n",
       "5. 2\n",
       "6. 2\n",
       "7. 1\n",
       "8. 1\n",
       "9. 1\n",
       "10. 1\n",
       "11. 1\n",
       "12. 2\n",
       "13. 2\n",
       "14. 2\n",
       "15. 1\n",
       "16. 1\n",
       "17. 1\n",
       "18. 1\n",
       "19. 2\n",
       "20. 2\n",
       "21. 1\n",
       "22. 1\n",
       "23. 1\n",
       "24. 2\n",
       "25. 1\n",
       "26. 1\n",
       "27. 1\n",
       "28. 2\n",
       "29. 1\n",
       "30. 1\n",
       "31. 1\n",
       "32. 1\n",
       "33. 1\n",
       "34. 1\n",
       "35. 1\n",
       "36. 1\n",
       "37. 1\n",
       "38. 1\n",
       "39. 2\n",
       "40. 1\n",
       "41. 2\n",
       "42. 2\n",
       "43. 2\n",
       "44. 2\n",
       "45. 1\n",
       "46. 1\n",
       "47. 1\n",
       "48. 1\n",
       "49. 2\n",
       "50. 1\n",
       "51. 1\n",
       "52. 1\n",
       "53. 1\n",
       "54. 1\n",
       "55. 1\n",
       "56. 1\n",
       "57. 1\n",
       "58. 2\n",
       "59. 2\n",
       "60. 2\n",
       "61. 2\n",
       "62. 1\n",
       "63. 2\n",
       "64. 1\n",
       "65. 2\n",
       "66. 1\n",
       "67. 2\n",
       "68. 1\n",
       "69. 1\n",
       "70. 1\n",
       "71. 1\n",
       "72. 2\n",
       "73. 2\n",
       "74. 1\n",
       "75. 1\n",
       "76. 2\n",
       "77. 2\n",
       "78. 1\n",
       "79. 1\n",
       "80. 1\n",
       "81. 2\n",
       "82. 2\n",
       "83. 1\n",
       "84. 2\n",
       "85. 1\n",
       "86. 1\n",
       "87. 2\n",
       "88. 1\n",
       "89. 2\n",
       "90. 1\n",
       "91. 2\n",
       "92. 1\n",
       "93. 1\n",
       "94. 1\n",
       "95. 1\n",
       "96. 1\n",
       "97. 2\n",
       "98. 2\n",
       "99. 2\n",
       "100. 1\n",
       "\n",
       "\n"
      ],
      "text/plain": [
       "  [1] 1 1 2 2 2 2 1 1 1 1 1 2 2 2 1 1 1 1 2 2 1 1 1 2 1 1 1 2 1 1 1 1 1 1 1 1 1\n",
       " [38] 1 2 1 2 2 2 2 1 1 1 1 2 1 1 1 1 1 1 1 1 2 2 2 2 1 2 1 2 1 2 1 1 1 1 2 2 1\n",
       " [75] 1 2 2 1 1 1 2 2 1 2 1 1 2 1 2 1 2 1 1 1 1 1 2 2 2 1"
      ]
     },
     "metadata": {},
     "output_type": "display_data"
    }
   ],
   "source": [
    "# using rclust for rand.index later\n",
    "ret.hclust2 <- rclust (dd,clusters=2, runs=10)\n",
    "ret.hclust2"
   ]
  },
  {
   "cell_type": "markdown",
   "id": "315d66f3-1cbb-4f22-b6d0-175bc259ae2d",
   "metadata": {},
   "source": [
    "### AML vs NON AML Heatmap Correlation"
   ]
  },
  {
   "cell_type": "code",
   "execution_count": 111,
   "id": "a38451fc-07ef-4d78-8914-e66e01646c06",
   "metadata": {},
   "outputs": [
    {
     "data": {
      "image/png": "[encoded data removed]",
      "text/plain": [
       "plot without title"
      ]
     },
     "metadata": {
      "image/png": {
       "height": 420,
       "width": 420
      }
     },
     "output_type": "display_data"
    }
   ],
   "source": [
    "heatmap (as.matrix(mat), distfun=newdist,Rowv=NA)"
   ]
  },
  {
   "cell_type": "markdown",
   "id": "c1c082d2-e376-490d-9e2c-1f852ed2c02a",
   "metadata": {},
   "source": [
    "### AML vs NON AML Heatmap Correlation w/ cols in AML vs NON AML"
   ]
  },
  {
   "cell_type": "code",
   "execution_count": 143,
   "id": "25a0537f-5841-4803-8937-ae3e7196b428",
   "metadata": {},
   "outputs": [
    {
     "data": {
      "image/png": "[encoded data removed]",
      "text/plain": [
       "plot without title"
      ]
     },
     "metadata": {
      "image/png": {
       "height": 420,
       "width": 420
      }
     },
     "output_type": "display_data"
    }
   ],
   "source": [
    "heatmap (as.matrix(new.mat), distfun=newdist,Rowv=NA,Colv=NA)"
   ]
  },
  {
   "cell_type": "markdown",
   "id": "1fb13cba-d5ef-43f1-a693-52a51daf5169",
   "metadata": {},
   "source": [
    "## Rand Index"
   ]
  },
  {
   "cell_type": "code",
   "execution_count": 136,
   "id": "bcee87ab-bada-4dfb-9ea0-059a8e539054",
   "metadata": {},
   "outputs": [
    {
     "data": {
      "text/html": [
       "0.653333333333333"
      ],
      "text/latex": [
       "0.653333333333333"
      ],
      "text/markdown": [
       "0.653333333333333"
      ],
      "text/plain": [
       "[1] 0.6533333"
      ]
     },
     "metadata": {},
     "output_type": "display_data"
    }
   ],
   "source": [
    "rand.index(ret.hclust1,ret.hclust2)"
   ]
  },
  {
   "cell_type": "markdown",
   "id": "c62e7a38-642e-485d-b3c0-a2b482b37f88",
   "metadata": {},
   "source": [
    "## K-Means"
   ]
  },
  {
   "cell_type": "markdown",
   "id": "fa6f4a22-be5a-492a-8384-f4478dde8eba",
   "metadata": {},
   "source": [
    "### Silhouette Avg."
   ]
  },
  {
   "cell_type": "code",
   "execution_count": 193,
   "id": "04b745b9-ad70-4fa3-bc37-3ff5258c4c6b",
   "metadata": {},
   "outputs": [],
   "source": [
    "library (cluster)"
   ]
  },
  {
   "cell_type": "code",
   "execution_count": 1,
   "id": "00211122-87ba-4dac-8c30-d1667cd72eb6",
   "metadata": {},
   "outputs": [
    {
     "ename": "ERROR",
     "evalue": "Error in t(mat): object 'mat' not found\n",
     "output_type": "error",
     "traceback": [
      "Error in t(mat): object 'mat' not found\nTraceback:\n",
      "1. kmeans(t(mat), k)",
      "2. as.matrix(x)",
      "3. t(mat)"
     ]
    }
   ],
   "source": [
    "out.vec <- NULL\n",
    "for (k in seq(2, 10, by=1)) {\n",
    "    curr.kmeans <- kmeans (t(mat), k)\n",
    "    curr.sil <- silhouette (curr.kmeans$cluster, dist(mat, method=\"euclidean\"))\n",
    "    out.vec <- c(out.vec, mean(curr.sil[, \"sil_width\"]))\n",
    "    }"
   ]
  },
  {
   "cell_type": "code",
   "execution_count": 211,
   "id": "6766ff4d-6833-46aa-bc01-1e6e9a28b320",
   "metadata": {},
   "outputs": [
    {
     "data": {
      "image/png": "[encoded data removed]",
      "text/plain": [
       "Plot with title “kmeans”"
      ]
     },
     "metadata": {
      "image/png": {
       "height": 420,
       "width": 420
      }
     },
     "output_type": "display_data"
    }
   ],
   "source": [
    "plot (seq(2, 10, by=1), out.vec, type=\"l\", main=\"kmeans\", xlab=\"k=number of clusters\", ylab=\"average silhouette\")"
   ]
  },
  {
   "cell_type": "code",
   "execution_count": 186,
   "id": "6ea5637f-622f-4653-9ab1-227f4458d329",
   "metadata": {},
   "outputs": [],
   "source": [
    "ret.kmeans <- kmeans (mat, 2)"
   ]
  },
  {
   "cell_type": "code",
   "execution_count": 191,
   "id": "0b6aab2d-a183-48f1-aec6-685c75eb5e4b",
   "metadata": {},
   "outputs": [
    {
     "data": {
      "text/html": [
       "<style>\n",
       ".dl-inline {width: auto; margin:0; padding: 0}\n",
       ".dl-inline>dt, .dl-inline>dd {float: none; width: auto; display: inline-block}\n",
       ".dl-inline>dt::after {content: \":\\0020\"; padding-right: .5ex}\n",
       ".dl-inline>dt:not(:first-of-type) {padding-left: .5ex}\n",
       "</style><dl class=dl-inline><dt>CREG1</dt><dd>1</dd><dt>ERLIN1</dt><dd>1</dd><dt>CD79A</dt><dd>2</dd><dt>POU2AF1</dt><dd>2</dd><dt>LEF1</dt><dd>2</dd><dt>PAX5</dt><dd>2</dd><dt>PLAGL1</dt><dd>2</dd><dt>FAM46A</dt><dd>1</dd><dt>ATP8B4</dt><dd>2</dd><dt>SERPINB1</dt><dd>1</dd><dt>CFD</dt><dd>1</dd><dt>CD22</dt><dd>2</dd><dt>TCL1A</dt><dd>2</dd><dt>CD19</dt><dd>2</dd><dt>SPART</dt><dd>2</dd><dt>IGF2BP2</dt><dd>2</dd><dt>QSOX1</dt><dd>1</dd><dt>MAPKAPK3</dt><dd>1</dd><dt>CD79B</dt><dd>2</dd><dt>BACH2</dt><dd>2</dd><dt>MFSD1</dt><dd>1</dd><dt>LY75-CD302</dt><dd>1</dd><dt>TMED9</dt><dd>1</dd><dt>SNTB2</dt><dd>2</dd><dt>KIT</dt><dd>1</dd><dt>CTSA</dt><dd>1</dd><dt>RNASE2</dt><dd>1</dd><dt>VPREB3</dt><dd>2</dd><dt>FUT4</dt><dd>1</dd><dt>CEBPA</dt><dd>1</dd><dt>IMPA2</dt><dd>1</dd><dt>HSD17B11</dt><dd>1</dd><dt>ANXA1</dt><dd>1</dd><dt>LTBR</dt><dd>2</dd><dt>TFEC</dt><dd>2</dd><dt>LAMP2</dt><dd>1</dd><dt>MBOAT7</dt><dd>1</dd><dt>FAH</dt><dd>2</dd><dt>CD72</dt><dd>2</dd><dt>LEPROT</dt><dd>1</dd><dt>ISG20</dt><dd>2</dd><dt>BLK</dt><dd>2</dd><dt>LRIG1</dt><dd>2</dd><dt>KCTD7</dt><dd>2</dd><dt>PIK3CB</dt><dd>2</dd><dt>ARL8B</dt><dd>1</dd><dt>AZU1</dt><dd>1</dd><dt>PYGL</dt><dd>2</dd><dt>ID3</dt><dd>2</dd><dt>ZYX</dt><dd>1</dd><dt>PLEK</dt><dd>1</dd><dt>ARL4A</dt><dd>1</dd><dt>HEBP1</dt><dd>1</dd><dt>IGFBP7</dt><dd>1</dd><dt>DDOST</dt><dd>1</dd><dt>CTSC</dt><dd>1</dd><dt>COQ8A</dt><dd>1</dd><dt>NEIL1</dt><dd>2</dd><dt>FCMR</dt><dd>1</dd><dt>ZHX2</dt><dd>2</dd><dt>GAL3ST4</dt><dd>2</dd><dt>RPN2</dt><dd>1</dd><dt>ITPR3</dt><dd>2</dd><dt>CITED2</dt><dd>1</dd><dt>LTB</dt><dd>1</dd><dt>PTDSS1</dt><dd>1</dd><dt>BCAS4</dt><dd>2</dd><dt>CD33</dt><dd>1</dd><dt>KIAA0368</dt><dd>2</dd><dt>FNDC3B</dt><dd>2</dd><dt>IL18</dt><dd>2</dd><dt>KLF12</dt><dd>2</dd><dt>TMEM243</dt><dd>2</dd><dt>HADHB</dt><dd>1</dd><dt>C1orf216</dt><dd>2</dd><dt>BTN2A2</dt><dd>2</dd><dt>SYNE2</dt><dd>2</dd><dt>RAB32</dt><dd>1</dd><dt>TALDO1</dt><dd>1</dd><dt>TMED3</dt><dd>2</dd><dt>PCDH9</dt><dd>2</dd><dt>MZB1</dt><dd>2</dd><dt>HEXA</dt><dd>1</dd><dt>MME</dt><dd>2</dd><dt>ACTA2</dt><dd>2</dd><dt>PDGFC</dt><dd>2</dd><dt>HIVEP2</dt><dd>2</dd><dt>MPO</dt><dd>1</dd><dt>LY9</dt><dd>2</dd><dt>HOMER3</dt><dd>2</dd><dt>IGHM</dt><dd>1</dd><dt>LRPAP1</dt><dd>1</dd><dt>DIAPH2</dt><dd>2</dd><dt>ALCAM</dt><dd>1</dd><dt>ALDOA</dt><dd>1</dd><dt>SIL1</dt><dd>2</dd><dt>DDR1</dt><dd>2</dd><dt>PRKD2</dt><dd>2</dd><dt>CTC1</dt><dd>2</dd><dt>TMEM164</dt><dd>1</dd></dl>\n"
      ],
      "text/latex": [
       "\\begin{description*}\n",
       "\\item[CREG1] 1\n",
       "\\item[ERLIN1] 1\n",
       "\\item[CD79A] 2\n",
       "\\item[POU2AF1] 2\n",
       "\\item[LEF1] 2\n",
       "\\item[PAX5] 2\n",
       "\\item[PLAGL1] 2\n",
       "\\item[FAM46A] 1\n",
       "\\item[ATP8B4] 2\n",
       "\\item[SERPINB1] 1\n",
       "\\item[CFD] 1\n",
       "\\item[CD22] 2\n",
       "\\item[TCL1A] 2\n",
       "\\item[CD19] 2\n",
       "\\item[SPART] 2\n",
       "\\item[IGF2BP2] 2\n",
       "\\item[QSOX1] 1\n",
       "\\item[MAPKAPK3] 1\n",
       "\\item[CD79B] 2\n",
       "\\item[BACH2] 2\n",
       "\\item[MFSD1] 1\n",
       "\\item[LY75-CD302] 1\n",
       "\\item[TMED9] 1\n",
       "\\item[SNTB2] 2\n",
       "\\item[KIT] 1\n",
       "\\item[CTSA] 1\n",
       "\\item[RNASE2] 1\n",
       "\\item[VPREB3] 2\n",
       "\\item[FUT4] 1\n",
       "\\item[CEBPA] 1\n",
       "\\item[IMPA2] 1\n",
       "\\item[HSD17B11] 1\n",
       "\\item[ANXA1] 1\n",
       "\\item[LTBR] 2\n",
       "\\item[TFEC] 2\n",
       "\\item[LAMP2] 1\n",
       "\\item[MBOAT7] 1\n",
       "\\item[FAH] 2\n",
       "\\item[CD72] 2\n",
       "\\item[LEPROT] 1\n",
       "\\item[ISG20] 2\n",
       "\\item[BLK] 2\n",
       "\\item[LRIG1] 2\n",
       "\\item[KCTD7] 2\n",
       "\\item[PIK3CB] 2\n",
       "\\item[ARL8B] 1\n",
       "\\item[AZU1] 1\n",
       "\\item[PYGL] 2\n",
       "\\item[ID3] 2\n",
       "\\item[ZYX] 1\n",
       "\\item[PLEK] 1\n",
       "\\item[ARL4A] 1\n",
       "\\item[HEBP1] 1\n",
       "\\item[IGFBP7] 1\n",
       "\\item[DDOST] 1\n",
       "\\item[CTSC] 1\n",
       "\\item[COQ8A] 1\n",
       "\\item[NEIL1] 2\n",
       "\\item[FCMR] 1\n",
       "\\item[ZHX2] 2\n",
       "\\item[GAL3ST4] 2\n",
       "\\item[RPN2] 1\n",
       "\\item[ITPR3] 2\n",
       "\\item[CITED2] 1\n",
       "\\item[LTB] 1\n",
       "\\item[PTDSS1] 1\n",
       "\\item[BCAS4] 2\n",
       "\\item[CD33] 1\n",
       "\\item[KIAA0368] 2\n",
       "\\item[FNDC3B] 2\n",
       "\\item[IL18] 2\n",
       "\\item[KLF12] 2\n",
       "\\item[TMEM243] 2\n",
       "\\item[HADHB] 1\n",
       "\\item[C1orf216] 2\n",
       "\\item[BTN2A2] 2\n",
       "\\item[SYNE2] 2\n",
       "\\item[RAB32] 1\n",
       "\\item[TALDO1] 1\n",
       "\\item[TMED3] 2\n",
       "\\item[PCDH9] 2\n",
       "\\item[MZB1] 2\n",
       "\\item[HEXA] 1\n",
       "\\item[MME] 2\n",
       "\\item[ACTA2] 2\n",
       "\\item[PDGFC] 2\n",
       "\\item[HIVEP2] 2\n",
       "\\item[MPO] 1\n",
       "\\item[LY9] 2\n",
       "\\item[HOMER3] 2\n",
       "\\item[IGHM] 1\n",
       "\\item[LRPAP1] 1\n",
       "\\item[DIAPH2] 2\n",
       "\\item[ALCAM] 1\n",
       "\\item[ALDOA] 1\n",
       "\\item[SIL1] 2\n",
       "\\item[DDR1] 2\n",
       "\\item[PRKD2] 2\n",
       "\\item[CTC1] 2\n",
       "\\item[TMEM164] 1\n",
       "\\end{description*}\n"
      ],
      "text/markdown": [
       "CREG1\n",
       ":   1ERLIN1\n",
       ":   1CD79A\n",
       ":   2POU2AF1\n",
       ":   2LEF1\n",
       ":   2PAX5\n",
       ":   2PLAGL1\n",
       ":   2FAM46A\n",
       ":   1ATP8B4\n",
       ":   2SERPINB1\n",
       ":   1CFD\n",
       ":   1CD22\n",
       ":   2TCL1A\n",
       ":   2CD19\n",
       ":   2SPART\n",
       ":   2IGF2BP2\n",
       ":   2QSOX1\n",
       ":   1MAPKAPK3\n",
       ":   1CD79B\n",
       ":   2BACH2\n",
       ":   2MFSD1\n",
       ":   1LY75-CD302\n",
       ":   1TMED9\n",
       ":   1SNTB2\n",
       ":   2KIT\n",
       ":   1CTSA\n",
       ":   1RNASE2\n",
       ":   1VPREB3\n",
       ":   2FUT4\n",
       ":   1CEBPA\n",
       ":   1IMPA2\n",
       ":   1HSD17B11\n",
       ":   1ANXA1\n",
       ":   1LTBR\n",
       ":   2TFEC\n",
       ":   2LAMP2\n",
       ":   1MBOAT7\n",
       ":   1FAH\n",
       ":   2CD72\n",
       ":   2LEPROT\n",
       ":   1ISG20\n",
       ":   2BLK\n",
       ":   2LRIG1\n",
       ":   2KCTD7\n",
       ":   2PIK3CB\n",
       ":   2ARL8B\n",
       ":   1AZU1\n",
       ":   1PYGL\n",
       ":   2ID3\n",
       ":   2ZYX\n",
       ":   1PLEK\n",
       ":   1ARL4A\n",
       ":   1HEBP1\n",
       ":   1IGFBP7\n",
       ":   1DDOST\n",
       ":   1CTSC\n",
       ":   1COQ8A\n",
       ":   1NEIL1\n",
       ":   2FCMR\n",
       ":   1ZHX2\n",
       ":   2GAL3ST4\n",
       ":   2RPN2\n",
       ":   1ITPR3\n",
       ":   2CITED2\n",
       ":   1LTB\n",
       ":   1PTDSS1\n",
       ":   1BCAS4\n",
       ":   2CD33\n",
       ":   1KIAA0368\n",
       ":   2FNDC3B\n",
       ":   2IL18\n",
       ":   2KLF12\n",
       ":   2TMEM243\n",
       ":   2HADHB\n",
       ":   1C1orf216\n",
       ":   2BTN2A2\n",
       ":   2SYNE2\n",
       ":   2RAB32\n",
       ":   1TALDO1\n",
       ":   1TMED3\n",
       ":   2PCDH9\n",
       ":   2MZB1\n",
       ":   2HEXA\n",
       ":   1MME\n",
       ":   2ACTA2\n",
       ":   2PDGFC\n",
       ":   2HIVEP2\n",
       ":   2MPO\n",
       ":   1LY9\n",
       ":   2HOMER3\n",
       ":   2IGHM\n",
       ":   1LRPAP1\n",
       ":   1DIAPH2\n",
       ":   2ALCAM\n",
       ":   1ALDOA\n",
       ":   1SIL1\n",
       ":   2DDR1\n",
       ":   2PRKD2\n",
       ":   2CTC1\n",
       ":   2TMEM164\n",
       ":   1\n",
       "\n"
      ],
      "text/plain": [
       "     CREG1     ERLIN1      CD79A    POU2AF1       LEF1       PAX5     PLAGL1 \n",
       "         1          1          2          2          2          2          2 \n",
       "    FAM46A     ATP8B4   SERPINB1        CFD       CD22      TCL1A       CD19 \n",
       "         1          2          1          1          2          2          2 \n",
       "     SPART    IGF2BP2      QSOX1   MAPKAPK3      CD79B      BACH2      MFSD1 \n",
       "         2          2          1          1          2          2          1 \n",
       "LY75-CD302      TMED9      SNTB2        KIT       CTSA     RNASE2     VPREB3 \n",
       "         1          1          2          1          1          1          2 \n",
       "      FUT4      CEBPA      IMPA2   HSD17B11      ANXA1       LTBR       TFEC \n",
       "         1          1          1          1          1          2          2 \n",
       "     LAMP2     MBOAT7        FAH       CD72     LEPROT      ISG20        BLK \n",
       "         1          1          2          2          1          2          2 \n",
       "     LRIG1      KCTD7     PIK3CB      ARL8B       AZU1       PYGL        ID3 \n",
       "         2          2          2          1          1          2          2 \n",
       "       ZYX       PLEK      ARL4A      HEBP1     IGFBP7      DDOST       CTSC \n",
       "         1          1          1          1          1          1          1 \n",
       "     COQ8A      NEIL1       FCMR       ZHX2    GAL3ST4       RPN2      ITPR3 \n",
       "         1          2          1          2          2          1          2 \n",
       "    CITED2        LTB     PTDSS1      BCAS4       CD33   KIAA0368     FNDC3B \n",
       "         1          1          1          2          1          2          2 \n",
       "      IL18      KLF12    TMEM243      HADHB   C1orf216     BTN2A2      SYNE2 \n",
       "         2          2          2          1          2          2          2 \n",
       "     RAB32     TALDO1      TMED3      PCDH9       MZB1       HEXA        MME \n",
       "         1          1          2          2          2          1          2 \n",
       "     ACTA2      PDGFC     HIVEP2        MPO        LY9     HOMER3       IGHM \n",
       "         2          2          2          1          2          2          1 \n",
       "    LRPAP1     DIAPH2      ALCAM      ALDOA       SIL1       DDR1      PRKD2 \n",
       "         1          2          1          1          2          2          2 \n",
       "      CTC1    TMEM164 \n",
       "         2          1 "
      ]
     },
     "metadata": {},
     "output_type": "display_data"
    }
   ],
   "source": [
    "#ret.kmeans\n",
    "ret.kmeans$cluster"
   ]
  },
  {
   "cell_type": "code",
   "execution_count": 212,
   "id": "94641625-5e44-4a98-b3ce-8df22327ed85",
   "metadata": {},
   "outputs": [],
   "source": [
    "sf <- silhouette (ret.kmeans$cluster, dist(mat, method=\"euclidean\"))"
   ]
  },
  {
   "cell_type": "code",
   "execution_count": 213,
   "id": "bd99c7ef-3978-4970-bbcb-aa4972871987",
   "metadata": {},
   "outputs": [
    {
     "data": {
      "text/plain": [
       "Silhouette of 100 units in 2 clusters from silhouette.default(x = ret.kmeans$cluster, dist = dist(mat, method = \"euclidean\")) :\n",
       " Cluster sizes and average silhouette widths:\n",
       "       47        53 \n",
       "0.3566730 0.2877954 \n",
       "Individual silhouette widths:\n",
       "   Min. 1st Qu.  Median    Mean 3rd Qu.    Max. \n",
       "0.01558 0.21992 0.33833 0.32017 0.44131 0.51707 "
      ]
     },
     "metadata": {},
     "output_type": "display_data"
    }
   ],
   "source": [
    "summary (sf)"
   ]
  },
  {
   "cell_type": "code",
   "execution_count": 214,
   "id": "25805d68-3666-4b79-a404-8f9d9e8d34fe",
   "metadata": {},
   "outputs": [
    {
     "data": {
      "image/png": "[encoded data removed]",
      "text/plain": [
       "Plot with title “Silhouette plot of (x = ret.kmeans$cluster, dist = dist(mat, method = \"euclidean\"))”"
      ]
     },
     "metadata": {
      "image/png": {
       "height": 420,
       "width": 420
      }
     },
     "output_type": "display_data"
    }
   ],
   "source": [
    "plot (sf)"
   ]
  }
 ],
 "metadata": {
  "kernelspec": {
   "display_name": "R",
   "language": "R",
   "name": "ir"
  },
  "language_info": {
   "codemirror_mode": "r",
   "file_extension": ".r",
   "mimetype": "text/x-r-source",
   "name": "R",
   "pygments_lexer": "r",
   "version": "4.1.1"
  }
 },
 "nbformat": 4,
 "nbformat_minor": 5
}
